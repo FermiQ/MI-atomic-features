{
 "cells": [
  {
   "cell_type": "markdown",
   "metadata": {},
   "source": [
    "# Atomic-features-package usage demonstration\n",
    "In this tutorial, we show how the atomic-features-package can be accessed and used to explore the atomic features form various sources and to prepare the input features for machine-learning studies.\n"
   ]
  },
  {
   "cell_type": "markdown",
   "metadata": {},
   "source": [
    "The atomic-features-package gives access to atomic-features from various sources, e.g., ```PYMATGEN, MATMINER, LDA2015, WEBELEMENTS and FHI_dft```. These can be imported into Jupyter notebooks for performing various machine-learning studies\n",
    "\n",
    "In this demonstration, we will show how one can use this package to access material features in a Jupyter notebook"
   ]
  },
  {
   "cell_type": "markdown",
   "metadata": {},
   "source": [
    "<div id=\"teaser\" style=' background-position:  right center; background-size: 00px; background-repeat: no-repeat; \n",
    "      border-top: 2px solid #333;' >\n",
    "      \n",
    "# Importing this package modules in Jupyter notebook"
   ]
  },
  {
   "cell_type": "code",
   "execution_count": null,
   "metadata": {
    "ExecuteTime": {
     "end_time": "2021-12-07T00:32:34.653852Z",
     "start_time": "2021-12-07T00:32:34.651436Z"
    },
    "scrolled": true
   },
   "outputs": [],
   "source": [
    "from atomicfeaturespackage.atomicproperties import periodictable"
   ]
  },
  {
   "cell_type": "markdown",
   "metadata": {},
   "source": [
    "#### This module is a visualization tool that allows us to visualize and browse atomic properites of all elements accross periodic table as a heatmap"
   ]
  },
  {
   "cell_type": "markdown",
   "metadata": {},
   "source": [
    "\n",
    "After importing the periodictable module, one must call heatmap method to get an interactive heatmaps. One must first select the wished ```Spin``` and ```method``` keywords agruments.\n",
    "\n",
    "**Spin** arg value can be :\n",
    "\n",
    "* \"True\"\n",
    "\n",
    "* \"False\"\n",
    "\n",
    "**method** arg value can be :\n",
    "\n",
    "* \"hse06\"\n",
    "\n",
    "* \"pbe\"\n",
    "\n",
    "* \"pbe0\"\n",
    "\n",
    "* \"pbesol\"\n",
    "\n",
    "* \"pw-lda\"\n",
    "\n",
    "* \"revpbe\"\n",
    "\n",
    "* \"matmin\"\n",
    "\n",
    "* \"lda2015\"\n",
    "\n",
    "* \"pymat\"\n",
    "\n",
    "* \"webele\"\n",
    "\n",
    "\n",
    "**<font color='red'>Note</font>**: for **method** “matmin”/“lda2015”/“pymat” , **Spin** arg value has to be set to **\"False\"**\n",
    "\n",
    "For different combinations of the keyword, specific element features will be loaded in heatmap plots."
   ]
  },
  {
   "cell_type": "markdown",
   "metadata": {},
   "source": [
    "Below is an example line of code you need to run to visualize data calculated via the HSE06 functional and spinless settings."
   ]
  },
  {
   "cell_type": "code",
   "execution_count": null,
   "metadata": {
    "ExecuteTime": {
     "end_time": "2021-12-07T00:32:38.370140Z",
     "start_time": "2021-12-07T00:32:37.168850Z"
    }
   },
   "outputs": [],
   "source": [
    "periodictable.heatmap(Spin = 'False',method = 'hse06')"
   ]
  },
  {
   "cell_type": "markdown",
   "metadata": {},
   "source": [
    "After running the above line of code, one gets a plot of a complete periodic table of elements. From the dropdown menu, one can select which property one is interested to check and the table is updated automatically to show the corresponding heatmap."
   ]
  },
  {
   "cell_type": "markdown",
   "metadata": {},
   "source": [
    "<div id=\"teaser\" style=' background-position:  right center; background-size: 00px; background-repeat: no-repeat; \n",
    "      border-top: 2px solid #333;' >"
   ]
  },
  {
   "cell_type": "markdown",
   "metadata": {},
   "source": [
    "Besides ```periodictable module```, this package has four other modules that give access to atomic features from sources corresponding to the module's name. \n",
    "\n",
    "We will breifly depict each of these module and the functions that are available with it.\n",
    "\n",
    "```atomic_properties_dft``` module : This module contains several atomic features accessible from FHI-AIMS dft calculations\n",
    "\n",
    "#### Import this module using following code shown in next cell block"
   ]
  },
  {
   "cell_type": "code",
   "execution_count": null,
   "metadata": {
    "ExecuteTime": {
     "end_time": "2021-12-07T00:32:38.382467Z",
     "start_time": "2021-12-07T00:32:38.374182Z"
    }
   },
   "outputs": [],
   "source": [
    "from atomicfeaturespackage.atomicproperties import atomic_properties_dft as dft"
   ]
  },
  {
   "cell_type": "markdown",
   "metadata": {},
   "source": [
    "\n",
    "After importing the ``atomic_properties_dft`` module, one must call **method** function to instantiate element objects. One must supply Spin and method appropirate keywords agruments as per one's interest. \n",
    "\n",
    "\n",
    "Spin arg value could be :\n",
    "\n",
    "* \"True\"\n",
    "\n",
    "* \"False\"\n",
    "\n",
    "method arg value could be :\n",
    "\n",
    "* \"hse06\"\n",
    "\n",
    "* \"pbe\"\n",
    "\n",
    "* \"pbe0\"\n",
    "\n",
    "* \"pbesol\"\n",
    "\n",
    "* \"pw-lda\"\n",
    "\n",
    "* \"revpbe\"\n",
    "\n",
    "As per different combinations specific datafiles will be read and element features could be accessed. This can be done as follows :"
   ]
  },
  {
   "cell_type": "code",
   "execution_count": null,
   "metadata": {
    "ExecuteTime": {
     "end_time": "2021-12-07T00:32:38.635399Z",
     "start_time": "2021-12-07T00:32:38.518925Z"
    }
   },
   "outputs": [],
   "source": [
    "dft.method(method = 'pw-lda', Spin = 'False')"
   ]
  },
  {
   "cell_type": "markdown",
   "metadata": {},
   "source": [
    "For instance, if interested in accessing a specific property of carbon, e.g., the ionization potential, simply type as shown in next line of code:"
   ]
  },
  {
   "cell_type": "code",
   "execution_count": null,
   "metadata": {
    "ExecuteTime": {
     "end_time": "2021-12-07T00:32:39.547260Z",
     "start_time": "2021-12-07T00:32:39.541467Z"
    }
   },
   "outputs": [],
   "source": [
    "dft.C.atomic_ip"
   ]
  },
  {
   "cell_type": "markdown",
   "metadata": {},
   "source": [
    "To view a dropdown list of properties accessible, one can just press **Tab** after typing in dft.C."
   ]
  },
  {
   "cell_type": "markdown",
   "metadata": {},
   "source": [
    "Use **symbol** method from ```atomic_properties_dft module``` to access properties of interest of elements at once.\n",
    "\n",
    "If for example we have a python list ```element = ['Sc','Ti', 'V', 'Cr']``` and we wish to get atomic number of these elements, we can do the following."
   ]
  },
  {
   "cell_type": "code",
   "execution_count": null,
   "metadata": {
    "ExecuteTime": {
     "end_time": "2021-12-07T00:32:40.820633Z",
     "start_time": "2021-12-07T00:32:40.812540Z"
    }
   },
   "outputs": [],
   "source": [
    "element = ['Sc','Ti', 'V', 'Cr']\n",
    "atomic_number = []\n",
    "for ele in element:\n",
    "        atomic_number.append(dft.symbol(ele).atomic_number)"
   ]
  },
  {
   "cell_type": "markdown",
   "metadata": {},
   "source": [
    "Another example is demonstrated further at the end where this symbol method would be useful.\n",
    "\n",
    "You can also get a python list of all feature names accessible from ```atomic_properties_dft``` module. For getting this one can use following command"
   ]
  },
  {
   "cell_type": "code",
   "execution_count": null,
   "metadata": {
    "ExecuteTime": {
     "end_time": "2021-12-07T00:32:41.927507Z",
     "start_time": "2021-12-07T00:32:41.922730Z"
    },
    "scrolled": false
   },
   "outputs": [],
   "source": [
    "dft.method_list"
   ]
  },
  {
   "cell_type": "markdown",
   "metadata": {},
   "source": [
    "<div id=\"teaser\" style=' background-position:  right center; background-size: 00px; background-repeat: no-repeat; \n",
    "      border-top: 2px solid #333;' >"
   ]
  },
  {
   "cell_type": "markdown",
   "metadata": {},
   "source": [
    "``atomic_properties_pymat`` module contains several atomic features accessible from pymatgen\n",
    "\n",
    "One can import this module using the following code:"
   ]
  },
  {
   "cell_type": "code",
   "execution_count": null,
   "metadata": {
    "ExecuteTime": {
     "end_time": "2021-12-07T00:32:44.062797Z",
     "start_time": "2021-12-07T00:32:44.054799Z"
    }
   },
   "outputs": [],
   "source": [
    "from atomicfeaturespackage.atomicproperties import atomic_properties_pymat as pymat"
   ]
  },
  {
   "cell_type": "markdown",
   "metadata": {},
   "source": [
    "If one is interested to access specific propery of carbon, for example boiling point. Simply type as shown in the next line of code"
   ]
  },
  {
   "cell_type": "code",
   "execution_count": null,
   "metadata": {
    "ExecuteTime": {
     "end_time": "2021-12-07T00:32:45.181879Z",
     "start_time": "2021-12-07T00:32:45.172089Z"
    },
    "scrolled": true
   },
   "outputs": [],
   "source": [
    "pymat.C.boiling_point"
   ]
  },
  {
   "cell_type": "markdown",
   "metadata": {},
   "source": [
    "To get a list of available properties, one can just press **Tab** after typing in pymat.C.\n",
    "\n",
    "Use **symbol** method from ``atomic_properties_pymat`` module to acess property of interest of elements at once in similar manner as described for ``atomic_properties_dft`` module above.\n",
    "\n",
    "Similarly, you can also get a python list of all feature names accessible from ```atomic_properties_pymat``` module. "
   ]
  },
  {
   "cell_type": "markdown",
   "metadata": {},
   "source": [
    "<div id=\"teaser\" style=' background-position:  right center; background-size: 00px; background-repeat: no-repeat; \n",
    "      border-top: 2px solid #333;' >"
   ]
  },
  {
   "cell_type": "markdown",
   "metadata": {},
   "source": [
    "The remaining three modules ```atomic_properties_pymat```,```atomic_properties_matminer```, ```atomic_properties_webele``` can be imported and atomic features can be accessed. Use the following commands for importing the modules respectively"
   ]
  },
  {
   "cell_type": "code",
   "execution_count": null,
   "metadata": {
    "ExecuteTime": {
     "end_time": "2021-12-07T00:32:47.465132Z",
     "start_time": "2021-12-07T00:32:47.456605Z"
    }
   },
   "outputs": [],
   "source": [
    "from atomicfeaturespackage.atomicproperties import atomic_properties_lda2015 as lda\n",
    "from atomicfeaturespackage.atomicproperties import atomic_properties_matminer as mp\n",
    "from atomicfeaturespackage.atomicproperties import atomic_properties_webele as we"
   ]
  },
  {
   "cell_type": "markdown",
   "metadata": {},
   "source": [
    "<div id=\"teaser\" style=' background-position:  right center; background-size: 00px; background-repeat: no-repeat; \n",
    "      border-top: 2px solid #333;' >"
   ]
  },
  {
   "cell_type": "markdown",
   "metadata": {},
   "source": [
    "Now that we have seen in previous examples how one can import various modules and access different elements atomic features, we end this tutorial by depicting one simple example of fetching atomic features of simple binary compounds and storing it in pandas dataframe\n",
    "\n",
    "We start by importing the necessary pandas library to create a pandas dataframe object"
   ]
  },
  {
   "cell_type": "code",
   "execution_count": null,
   "metadata": {
    "ExecuteTime": {
     "end_time": "2021-12-07T00:32:49.082648Z",
     "start_time": "2021-12-07T00:32:49.076950Z"
    }
   },
   "outputs": [],
   "source": [
    "import pandas as pd"
   ]
  },
  {
   "cell_type": "markdown",
   "metadata": {},
   "source": [
    "Here, first we read the csv file containing a list of compounds of which we aim to fetch atomic features of its constituent elements. \n",
    "\n",
    "We add new empty columns where we will store atomic features of interest. \n",
    "\n",
    "For this example, we will assimilate `Pauling electronegativity` and `1st Ionization energies`"
   ]
  },
  {
   "cell_type": "code",
   "execution_count": null,
   "metadata": {
    "ExecuteTime": {
     "end_time": "2021-12-07T00:32:50.221383Z",
     "start_time": "2021-12-07T00:32:50.208361Z"
    }
   },
   "outputs": [],
   "source": [
    "df = pd.read_csv('data/atomic_features/data.csv')\n",
    "df= df.set_index('Compound')"
   ]
  },
  {
   "cell_type": "code",
   "execution_count": null,
   "metadata": {
    "ExecuteTime": {
     "end_time": "2021-12-07T00:32:51.056700Z",
     "start_time": "2021-12-07T00:32:50.976032Z"
    }
   },
   "outputs": [],
   "source": [
    "for index,row in df.iterrows():\n",
    "    df.loc[index,'EN$_A$']=we.symbol(df.loc[index,'A']).atomic_en_paul\n",
    "    df.loc[index,'EN$_B$']=we.symbol(df.loc[index,'B']).atomic_en_paul\n",
    "    df.loc[index,'IE$_A$ (eV)']=float(we.symbol(df.loc[index,'A']).atomic_ie['1st'])/96.4869 # convert Enthalpy/KJ mol-1 to eV\n",
    "    df.loc[index,'IE$_B$ (eV)']=float(we.symbol(df.loc[index,'B']).atomic_ie['1st'])/96.4869 # convert Enthalpy/KJ mol-1 to eV"
   ]
  },
  {
   "cell_type": "code",
   "execution_count": null,
   "metadata": {
    "ExecuteTime": {
     "end_time": "2021-12-07T00:32:51.510715Z",
     "start_time": "2021-12-07T00:32:51.497766Z"
    },
    "scrolled": false
   },
   "outputs": [],
   "source": [
    "df"
   ]
  },
  {
   "cell_type": "markdown",
   "metadata": {},
   "source": [
    "<div id=\"teaser\" style=' background-position:  right center; background-size: 00px; background-repeat: no-repeat; \n",
    "      border-top: 2px solid #333;' >"
   ]
  },
  {
   "cell_type": "markdown",
   "metadata": {},
   "source": []
  }
 ],
 "metadata": {
  "hide_input": false,
  "kernelspec": {
   "display_name": "Python 3",
   "language": "python",
   "name": "python3"
  },
  "language_info": {
   "codemirror_mode": {
    "name": "ipython",
    "version": 3
   },
   "file_extension": ".py",
   "mimetype": "text/x-python",
   "name": "python",
   "nbconvert_exporter": "python",
   "pygments_lexer": "ipython3",
   "version": "3.8.10"
  }
 },
 "nbformat": 4,
 "nbformat_minor": 2
}
