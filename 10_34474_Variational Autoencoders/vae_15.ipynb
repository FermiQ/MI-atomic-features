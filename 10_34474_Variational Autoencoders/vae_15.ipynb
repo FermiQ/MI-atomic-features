{
 "cells": [
  {
   "cell_type": "markdown",
   "metadata": {},
   "source": [
    "# VAE Deep learning to estimate mobility for organic molecules*\n",
    "\n",
    "#### Load, view, and preprocess dataset\n",
    "- Load mobility dataset containing many organic molecules and their associated mobility\n",
    "- Pre-process data and split to test/train sets\n",
    "[QM9](http://moleculenet.ai/datasets-1)\n",
    "QM9 (structure): Geometric,  energetic, electronic and thermodynamic properties of DFT-modelled small molecules dataset to train our models. \n",
    "The QM9 dataset contains the mobility of various small organic molecules.\n",
    "We'll also preprocess the dataset and create train/test splits for the Convolutional Neural Network (CNN) and Variational AutoEncoder (VAE) models.\n",
    "QM9 is a comprehensive dataset that provides geometric, energetic, electronic and thermodynamic properties for a subset of GDB-17 database, comprising 134 thousand stable organic molecules with up to 9 heavy atoms.  All molecules are modeled using density functional theory (B3LYP/6-31G(2df,p) based DFT).\n",
    "\n",
    "    - \"mol_id\" - Molecule ID (gdb9 index) mapping to the .sdf file\n",
    "    - \"A\" - Rotational constant (unit: GHz)\n",
    "    - \"B\" - Rotational constant (unit: GHz)\n",
    "    - \"C\" - Rotational constant (unit: GHz)\n",
    "    - \"mu\" - Dipole moment (unit: D)\n",
    "    - \"alpha\" - Isotropic polarizability (unit: Bohr^3)\n",
    "    - \"homo\" - Highest occupied molecular orbital energy (unit: Hartree)\n",
    "    - \"lumo\" - Lowest unoccupied molecular orbital energy (unit: Hartree)\n",
    "    - \"gap\" - Gap between HOMO and LUMO (unit: Hartree)\n",
    "    - \"r2\" - Electronic spatial extent (unit: Bohr^2)\n",
    "    - \"zpve\" - Zero point vibrational energy (unit: Hartree)\n",
    "    - \"u0\" - Internal energy at 0K (unit: Hartree)\n",
    "    - \"u298\" - Internal energy at 298.15K (unit: Hartree)\n",
    "    - \"h298\" - Enthalpy at 298.15K (unit: Hartree)\n",
    "    - \"g298\" - Free energy at 298.15K (unit: Hartree)\n",
    "    - \"cv\" - Heat capavity at 298.15K (unit: cal/(mol*K))\n",
    "    - \"u0_atom\" - Atomization energy at 0K (unit: kcal/mol)\n",
    "    - \"u298_atom\" - Atomization energy at 298.15K (unit: kcal/mol)\n",
    "    - \"h298_atom\" - Atomization enthalpy at 298.15K (unit: kcal/mol)\n",
    "    - \"g298_atom\" - Atomization free energy at 298.15K (unit: kcal/mol)\n",
    "  \"u0_atom\" ~ \"g298_atom\" (used in MoleculeNet) are calculated from the\n",
    "  differences between \"u0\" ~ \"g298\" and sum of reference energies of all\n",
    "  atoms in the molecules, as given in\n",
    " [here](https://figshare.com/articles/Atomref%3A_Reference_thermochemical_energies_of_H%2C_C%2C_N%2C_O%2C_F_atoms./1057643).\n",
    " [here](https://github.com/deepchem/deepchem/blob/master/deepchem/molnet/load_function/qm9_datasets.py)\n",
    "\n",
    "\n",
    "we will plot a histogram of SMILES string lengths from dataset. These lengths will be used to determine the length of the inputs for our CNN and VAE models. \n",
    "Below are examples of the SMILES representation: \n",
    "1. Methane: 'C'\n",
    "2. Pentane: 'CCCCC'\n",
    "3. Methanol and Ethanol: 'CO' and 'CCO'\n",
    "4. Pyridine: 'C1:C:C:N:C:C:1'\n",
    "\n",
    "To learn more about the SMILES representation, click [here](https://chem.libretexts.org/Courses/University_of_Arkansas_Little_Rock/ChemInformatics_(2017)%3A_Chem_4399%2F%2F5399/2.3%3A_Chemical_Representations_on_Computer%3A_Part_III).\n",
    "\n",
    "#### Data preparation\n",
    "\n",
    "First, we'll get the unique character set from all SMILES strings in the dataset. \n",
    "Then we will use the unique character set to convert our SMILES strings to a one-hot representation, which is a representation that converts raw strings of text to numerical inputs for our models.\n",
    "\n",
    "In a one-hot representation, each character of our SMILES string is encoded as a vector of zeros, except for one non-zero value. For instance, the character 'C' in the SMILES string is converted to a vector of length 31, consisting of 30 zeros and one non-zero entry of one. The length of this vector (31 in our case) is the total number of unique characters in the dataset.\n",
    "\n",
    "Given a string of 5 characters (say Pentane, which is represented as 'CCCCC'), we would thus get 5 vectors each of length 31. Since different molecules have different SMILES string lengths, we can pre-define the length of each string to be the maximum length from the database, with smaller molecules represented with additional characters. In our case, this maximum length is 40 and we represent the extra characters for smaller molecules with pre-defined one-hot vectors. This means that each molecule is now represented as a set of 40 vectors, each of length 31. We can represent this as a 40x31 matrix.\n",
    "\n",
    "One-hot encoding is commonly used in natural language processing, and you can learn more about one-hot encoding [here](https://en.wikipedia.org/wiki/One-hot). \n",
    "\n",
    "Let's briefly visualize what our input data looks like using a heatmap that shows the position of each character in the SMILES string, you can change the index to see various molecules. Each molecule is represented by a 40x31 sparse matrix, the bright spots in the heatmap indicate the position at which a one is found in the matrix. For instance, the first row has a bright spot at index 18, indicating that the first character is 'C'. The second row has a bright spot at index 23, which indicates that the second character is 'O'. For the compound Dimethoxymethane with a SMILES string 'COCOC', we expect the matrix to have alternating bright spots at index 18 and index 23 for the first five rows. Beyond that, the rows all have a bright spot at index 1, which stands for the extra characters padded on to our string to make all SMILES strings the same length. The heatmap below is plotted using the [Seaborn](https://seaborn.pydata.org/) library.\n",
    "\n",
    "Finally, we will define our input and output and create test/train splits in the dataset.\n",
    "\n",
    "#### Train a Convolutional neural network (CNN) \n",
    "- Train a CNN to predict Mobility\n",
    "- Predict mobility from any given SMILES representation of a molecule \n",
    "\n",
    "#### Train a Variational autoencoder (VAE)\n",
    "- Train a VAE to take an encoded SMILES as input and learn a mapping from encoded SMILES to latent space and back to the input\n",
    "- Use a portion of the VAE to generate SMILES by sampling from a unit gaussian\n",
    "\n",
    "[Keras](https://keras.io/) \n",
    "[Tensorflow](https://www.tensorflow.org/)\n",
    "[Pandas](https://pandas.pydata.org/) \n",
    "[Numpy](https://numpy.org/)"
   ]
  },
  {
   "cell_type": "code",
   "execution_count": 201,
   "metadata": {},
   "outputs": [
    {
     "name": "stdout",
     "output_type": "stream",
     "text": [
      "Requirement already satisfied: pymatgen in /home/nanohub/bbishnoi/.local/lib/python3.8/site-packages (2022.0.14)\n",
      "Requirement already satisfied: ruamel.yaml>=0.15.6 in /home/nanohub/bbishnoi/.local/lib/python3.8/site-packages (from pymatgen) (0.17.16)\n",
      "Requirement already satisfied: matplotlib>=1.5 in /apps/share64/debian10/anaconda/anaconda-7/lib/python3.8/site-packages (from pymatgen) (3.4.2)\n",
      "Requirement already satisfied: uncertainties>=3.1.4 in /home/nanohub/bbishnoi/.local/lib/python3.8/site-packages (from pymatgen) (3.1.6)\n",
      "Requirement already satisfied: requests in /apps/share64/debian10/anaconda/anaconda-7/lib/python3.8/site-packages (from pymatgen) (2.25.1)\n",
      "Requirement already satisfied: scipy>=1.5.0 in /apps/share64/debian10/anaconda/anaconda-7/lib/python3.8/site-packages (from pymatgen) (1.6.2)\n",
      "Requirement already satisfied: sympy in /apps/share64/debian10/anaconda/anaconda-7/lib/python3.8/site-packages (from pymatgen) (1.8)\n",
      "Requirement already satisfied: tabulate in /home/nanohub/bbishnoi/.local/lib/python3.8/site-packages (from pymatgen) (0.8.9)\n",
      "Requirement already satisfied: monty>=3.0.2 in /home/nanohub/bbishnoi/.local/lib/python3.8/site-packages (from pymatgen) (2021.8.17)\n",
      "Requirement already satisfied: numpy>=1.20.1 in /home/nanohub/bbishnoi/.local/lib/python3.8/site-packages (from pymatgen) (1.21.2)\n",
      "Requirement already satisfied: networkx>=2.2 in /apps/share64/debian10/anaconda/anaconda-7/lib/python3.8/site-packages (from pymatgen) (2.5.1)\n",
      "Requirement already satisfied: palettable>=3.1.1 in /home/nanohub/bbishnoi/.local/lib/python3.8/site-packages (from pymatgen) (3.3.0)\n",
      "Requirement already satisfied: plotly>=4.5.0 in /apps/share64/debian10/anaconda/anaconda-7/lib/python3.8/site-packages (from pymatgen) (4.14.3)\n",
      "Requirement already satisfied: spglib>=1.9.9.44 in /home/nanohub/bbishnoi/.local/lib/python3.8/site-packages (from pymatgen) (1.16.2)\n",
      "Requirement already satisfied: pandas in /apps/share64/debian10/anaconda/anaconda-7/lib/python3.8/site-packages (from pymatgen) (1.2.4)\n",
      "Requirement already satisfied: pillow>=6.2.0 in /apps/share64/debian10/anaconda/anaconda-7/lib/python3.8/site-packages (from matplotlib>=1.5->pymatgen) (8.2.0)\n",
      "Requirement already satisfied: cycler>=0.10 in /apps/share64/debian10/anaconda/anaconda-7/lib/python3.8/site-packages (from matplotlib>=1.5->pymatgen) (0.10.0)\n",
      "Requirement already satisfied: python-dateutil>=2.7 in /apps/share64/debian10/anaconda/anaconda-7/lib/python3.8/site-packages (from matplotlib>=1.5->pymatgen) (2.8.1)\n",
      "Requirement already satisfied: kiwisolver>=1.0.1 in /apps/share64/debian10/anaconda/anaconda-7/lib/python3.8/site-packages (from matplotlib>=1.5->pymatgen) (1.3.1)\n",
      "Requirement already satisfied: pyparsing>=2.2.1 in /apps/share64/debian10/anaconda/anaconda-7/lib/python3.8/site-packages (from matplotlib>=1.5->pymatgen) (2.4.7)\n",
      "Requirement already satisfied: six in /apps/share64/debian10/anaconda/anaconda-7/lib/python3.8/site-packages (from cycler>=0.10->matplotlib>=1.5->pymatgen) (1.16.0)\n",
      "Requirement already satisfied: decorator<5,>=4.3 in /apps/share64/debian10/anaconda/anaconda-7/lib/python3.8/site-packages (from networkx>=2.2->pymatgen) (4.4.2)\n",
      "Requirement already satisfied: retrying>=1.3.3 in /apps/share64/debian10/anaconda/anaconda-7/lib/python3.8/site-packages (from plotly>=4.5.0->pymatgen) (1.3.3)\n",
      "Requirement already satisfied: ruamel.yaml.clib>=0.1.2 in /home/nanohub/bbishnoi/.local/lib/python3.8/site-packages (from ruamel.yaml>=0.15.6->pymatgen) (0.2.6)\n",
      "Requirement already satisfied: future in /apps/share64/debian10/anaconda/anaconda-7/lib/python3.8/site-packages (from uncertainties>=3.1.4->pymatgen) (0.18.2)\n",
      "Requirement already satisfied: pytz>=2017.3 in /apps/share64/debian10/anaconda/anaconda-7/lib/python3.8/site-packages (from pandas->pymatgen) (2021.1)\n",
      "Requirement already satisfied: certifi>=2017.4.17 in /apps/share64/debian10/anaconda/anaconda-7/lib/python3.8/site-packages (from requests->pymatgen) (2021.5.30)\n",
      "Requirement already satisfied: idna<3,>=2.5 in /apps/share64/debian10/anaconda/anaconda-7/lib/python3.8/site-packages (from requests->pymatgen) (2.10)\n",
      "Requirement already satisfied: urllib3<1.27,>=1.21.1 in /apps/share64/debian10/anaconda/anaconda-7/lib/python3.8/site-packages (from requests->pymatgen) (1.26.5)\n",
      "Requirement already satisfied: chardet<5,>=3.0.2 in /apps/share64/debian10/anaconda/anaconda-7/lib/python3.8/site-packages (from requests->pymatgen) (4.0.0)\n",
      "Requirement already satisfied: mpmath>=0.19 in /apps/share64/debian10/anaconda/anaconda-7/lib/python3.8/site-packages (from sympy->pymatgen) (1.2.1)\n",
      "/apps/citrinednn/r15/bin/utils.py\n"
     ]
    }
   ],
   "source": [
    "#!conda env list\n",
    "#!conda update -n base conda \n",
    "#!conda create -n py37 python=3.7\n",
    "#!conda create -n yaml24 yaml=0.2.4 -c conda-forge -y\n",
    "#!conda info --envs\n",
    "#!conda remove -n <envs_name> --all\n",
    "#!source debian10/anaconda/anaconda-7/bin/activate\n",
    "#!python -V\n",
    "#!conda activate py37\n",
    "#!python -V\n",
    "#!conda deactivate \n",
    "#!python -V\n",
    "#!python -m pip install --user <pacakge>\n",
    "#!pip3 show <pacakge>\n",
    "#!pip3 list\n",
    "#!pip3 install pipreqs\n",
    "#!pipreqs .\n",
    "#!\n",
    "#!\n",
    "!python -m pip install --user pymatgen\n",
    "#!python -m pip install --user mendeleev\n",
    "#!python -m pip install --user keras_sequential_ascii\n",
    "#!python -m pip install --user -U kaleido\n",
    "#!python -m pip install --user plotly\n",
    "#!conda install -c plotly plotly-orca\n",
    "# import sys\n",
    "#print(sys.path)\n",
    "#!python -m pip install --user <pacakge>\n",
    "#!python -m pip install --user  python-utils \n",
    "#!conda install -c conda-forge python-utils -y\n",
    "#conda install -c conda-forge/label/gcc7 python-utils\n",
    "#!python -m pip install --user livelossplot\n",
    "\n",
    "#from google.colab import drive\n",
    "#drive.mount('/content/gdrive')\n",
    "#!ls gdrive/MyDrive/'Colab Notebooks'/data/qm9.csv\n",
    "#!ls /home/nanohub/bbishnoi/data/results/vae/qm9.csv \n",
    "#!ls /home/nanohub/bbishnoi/data/results/1909584/citrinednn/bin/utils.py\n",
    "#!python -m pip install --user numpy scipy matplotlib ipython jupyter pandas sympy nose\n",
    "!ls /apps/citrinednn/r15/bin/utils.py"
   ]
  },
  {
   "cell_type": "markdown",
   "metadata": {},
   "source": [
    "import os, stat\n",
    "from IPython.display import clear_output\n",
    "\n",
    "try:\n",
    "    user = str(input())\n",
    "    clear_output()\n",
    "    if user == None:\n",
    "        raise TypeError('Empty')\n",
    "    with open(os.path.expanduser('~/.wolframkey.txt'), 'w') as keyfile:\n",
    "        keyfile.write(user)\n",
    "    os.chmod(os.path.expanduser('~/.wolframkey.txt'), stat.S_IREAD | stat.S_IWRITE)\n",
    "    del user\n",
    "    print(\"Success\")\n",
    "except:\n",
    "    print(\"Something seems wrong with your key\")"
   ]
  },
  {
   "cell_type": "code",
   "execution_count": 202,
   "metadata": {},
   "outputs": [
    {
     "name": "stdout",
     "output_type": "stream",
     "text": [
      "Success\n"
     ]
    }
   ],
   "source": [
    "import os, stat\n",
    "from IPython.display import clear_output\n",
    "\n",
    "try:\n",
    "    user = str(input())\n",
    "    clear_output()\n",
    "    if user == None:\n",
    "        raise TypeError('Empty')\n",
    "    with open(os.path.expanduser('~/.citrinekey.txt'), 'w') as keyfile:\n",
    "        keyfile.write(user)\n",
    "    os.chmod(os.path.expanduser('~/.citrinekey.txt'), stat.S_IREAD | stat.S_IWRITE)\n",
    "    del user\n",
    "    print(\"Success\")\n",
    "except:\n",
    "    print(\"Something seems wrong with your key\")"
   ]
  },
  {
   "cell_type": "code",
   "execution_count": 204,
   "metadata": {},
   "outputs": [
    {
     "ename": "ModuleNotFoundError",
     "evalue": "No module named 'citrination_client'",
     "output_type": "error",
     "traceback": [
      "\u001b[0;31m---------------------------------------------------------------------------\u001b[0m",
      "\u001b[0;31mModuleNotFoundError\u001b[0m                       Traceback (most recent call last)",
      "\u001b[0;32m<ipython-input-204-3bbb0b929334>\u001b[0m in \u001b[0;36m<module>\u001b[0;34m\u001b[0m\n\u001b[1;32m      2\u001b[0m \u001b[0;34m\u001b[0m\u001b[0m\n\u001b[1;32m      3\u001b[0m \u001b[0;31m#Citrination\u001b[0m\u001b[0;34m\u001b[0m\u001b[0;34m\u001b[0m\u001b[0;34m\u001b[0m\u001b[0m\n\u001b[0;32m----> 4\u001b[0;31m \u001b[0;32mfrom\u001b[0m \u001b[0mcitrination_client\u001b[0m \u001b[0;32mimport\u001b[0m \u001b[0;34m*\u001b[0m\u001b[0;34m\u001b[0m\u001b[0;34m\u001b[0m\u001b[0m\n\u001b[0m\u001b[1;32m      5\u001b[0m \u001b[0;32mfrom\u001b[0m \u001b[0mmatminer\u001b[0m\u001b[0;34m.\u001b[0m\u001b[0mdata_retrieval\u001b[0m\u001b[0;34m.\u001b[0m\u001b[0mretrieve_Citrine\u001b[0m \u001b[0;32mimport\u001b[0m \u001b[0mCitrineDataRetrieval\u001b[0m\u001b[0;34m\u001b[0m\u001b[0;34m\u001b[0m\u001b[0m\n\u001b[1;32m      6\u001b[0m \u001b[0;31m#Wolframalpha\u001b[0m\u001b[0;34m\u001b[0m\u001b[0;34m\u001b[0m\u001b[0;34m\u001b[0m\u001b[0m\n",
      "\u001b[0;31mModuleNotFoundError\u001b[0m: No module named 'citrination_client'"
     ]
    }
   ],
   "source": [
    "# These lines import both libraries and then define an array with elements to be used below\n",
    "\n",
    "#Citrination\n",
    "from citrination_client import *\n",
    "from matminer.data_retrieval.retrieve_Citrine import CitrineDataRetrieval\n",
    "#Wolframalpha\n",
    "import wolframalpha\n",
    "\n",
    "#Misc. Tools\n",
    "import matplotlib.pyplot as plt\n",
    "import pandas as pd\n",
    "\n",
    "#Import WolframAlpha API Key\n",
    "file = open(os.path.expanduser('~/.wolframkey.txt'),\"r+\")\n",
    "apikey_wolfram = file.readline()\n",
    "file.close()\n",
    "\n",
    "#Import Citrine API Key\n",
    "file = open(os.path.expanduser('~/.citrinekey.txt'),\"r+\")\n",
    "apikey_citrine = file.readline()\n",
    "file.close()"
   ]
  },
  {
   "cell_type": "code",
   "execution_count": 208,
   "metadata": {},
   "outputs": [
    {
     "name": "stdout",
     "output_type": "stream",
     "text": [
      "Success\n"
     ]
    }
   ],
   "source": [
    "import os, stat\n",
    "from IPython.display import clear_output\n",
    "\n",
    "try:\n",
    "    user = str(input())\n",
    "    clear_output()\n",
    "    if not user.isalnum():\n",
    "        raise TypeError('Wrong Key')\n",
    "    if user == None:\n",
    "        raise TypeError('Empty')\n",
    "    with open(os.path.expanduser('~/.mpkey.txt'), 'w') as keyfile:\n",
    "        keyfile.write(user)\n",
    "    os.chmod(os.path.expanduser('~/.mpkey.txt'), stat.S_IREAD | stat.S_IWRITE)\n",
    "    del user\n",
    "    print(\"Success\")\n",
    "except:\n",
    "    print(\"Something seems wrong with your key\")"
   ]
  },
  {
   "cell_type": "code",
   "execution_count": 217,
   "metadata": {},
   "outputs": [],
   "source": [
    "# These lines import both libraries and then define an array with elements to be used below\n",
    "\n",
    "#Pymatgen and sub-libraries\n",
    "\n",
    "#import pymatgen as pymat\n",
    "#import mendeleev as mendel\n",
    "import pymatgen\n",
    "#from pymatgen import MPRester, Composition, Element, Structure\n",
    "from pymatgen.ext.matproj import MPRester, Composition, Element, Structure\n",
    "\n",
    "#Misc. Tools\n",
    "import matplotlib.pyplot as plt\n",
    "import pandas as pd\n",
    "import numpy as np\n",
    "#Import API Key\n",
    "file = open(os.path.expanduser('~/.mpkey.txt'),\"r+\")\n",
    "apikey = file.readline()\n",
    "file.close()\n",
    "rester = MPRester(apikey)"
   ]
  },
  {
   "cell_type": "code",
   "execution_count": 272,
   "metadata": {},
   "outputs": [],
   "source": [
    "# These lines import both libraries and then define an array with elements to be used below\n",
    "\n",
    "#Pymatgen and sub-libraries\n",
    "import pymatgen\n",
    "from pymatgen.ext.matproj import MPRester, Composition, Element, Structure\n",
    "from pymatgen.io.vasp import Vasprun\n",
    "from pymatgen.entries.computed_entries import ComputedEntry\n",
    "from pymatgen.entries.compatibility import MaterialsProjectCompatibility\n",
    "from pymatgen.util.plotting import *\n",
    "from pymatgen.analysis.phase_diagram import *\n",
    "#import pymatgen.core.composition\n",
    "from pymatgen.apps.borg.hive import VaspToComputedEntryDrone\n",
    "from pymatgen.entries.compatibility import MaterialsProjectCompatibility\n",
    "import json\n",
    "\n",
    "#Misc. Tools\n",
    "import matplotlib.pyplot as plt\n",
    "import random\n",
    "import os\n",
    "from itertools import combinations\n",
    "\n",
    "#Import API Key\n",
    "file = open(os.path.expanduser('~/.mpkey.txt'),\"r+\")\n",
    "apikey = file.readline()\n",
    "file.close()\n",
    "#Define MP API rester key\n",
    "rester = MPRester(apikey)"
   ]
  },
  {
   "cell_type": "code",
   "execution_count": 218,
   "metadata": {},
   "outputs": [
    {
     "data": {
      "application/vnd.jupyter.widget-view+json": {
       "model_id": "5bcdbc480f094243a7f545f723475883",
       "version_major": 2,
       "version_minor": 0
      },
      "text/plain": [
       "  0%|          | 0/69532 [00:00<?, ?it/s]"
      ]
     },
     "metadata": {},
     "output_type": "display_data"
    }
   ],
   "source": [
    "data = rester.query({\"elements\": \"O\", \"nelements\": {\"$gte\": 2}},\n",
    "                    [\"task_id\",\"pretty_formula\",\"formula\",\"volume\",\"density\",\"elements\",\n",
    "                     \"e_above_hull\",\"elasticity\",\"unit_cell_formula\"])"
   ]
  },
  {
   "cell_type": "code",
   "execution_count": null,
   "metadata": {},
   "outputs": [],
   "source": [
    "rester.query('mp-230',['pretty_formula','band_gap','final_structure'])"
   ]
  },
  {
   "cell_type": "code",
   "execution_count": 219,
   "metadata": {},
   "outputs": [
    {
     "name": "stdout",
     "output_type": "stream",
     "text": [
      "Number of oxide structures available on the MP database: 69532\n",
      "Example output: {'task_id': 'mp-1008785', 'pretty_formula': 'RuO2', 'formula': {'Ru': 1.0, 'O': 2.0}, 'volume': 28.647745973939394, 'density': 7.713205120800527, 'elements': ['Ru', 'O'], 'e_above_hull': 0.18805830166666748, 'elasticity': {'G_Reuss': 183.0, 'G_VRH': 184.0, 'G_Voigt': 186.0, 'G_Voigt_Reuss_Hill': 184.0, 'K_Reuss': 281.0, 'K_VRH': 281.0, 'K_Voigt': 281.0, 'K_Voigt_Reuss_Hill': 281.0, 'elastic_anisotropy': 0.1, 'elastic_tensor': [[573.0, 136.0, 136.0, 0.0, 0.0, 0.0], [136.0, 573.0, 136.0, 0.0, 0.0, 0.0], [136.0, 136.0, 573.0, 0.0, 0.0, 0.0], [0.0, 0.0, 0.0, 165.0, 0.0, 0.0], [0.0, 0.0, 0.0, 0.0, 165.0, 0.0], [0.0, 0.0, 0.0, 0.0, 0.0, 165.0]], 'homogeneous_poisson': 0.23, 'poisson_ratio': 0.23, 'universal_anisotropy': 0.1, 'elastic_tensor_original': [[573.025031132464, 135.55125038178963, 135.55125038178963, 0.0, 0.0, 0.0], [135.57119913962916, 573.0474134996017, 135.57119913962916, 0.0, 0.0, 0.0], [135.56410576413552, 135.56410576413552, 573.0397612856121, 0.0, 0.0, 0.0], [-0.008054884398798784, -0.23537841637427323, -0.13501950859071682, 164.5973228142817, 0.0, 0.0], [-1.3984196764789707e-06, -7.21484583303158e-05, -1.973343073978838e-05, 0.0, 164.64495753393882, 0.0], [4.8815056869422656e-05, 3.2070048776135504e-05, 6.858378534569394e-06, 0.0, 0.0, 164.64500650905808]], 'compliance_tensor': [[1.91876487008732, -0.3670789021332688, -0.36707890213326794, 4.8349623943427224e-21, -1.0298893633082927e-20, -8.389125037880379e-21], [-0.3670789021332688, 1.9187648700873203, -0.3670789021332683, -9.215383057567127e-21, 4.375345691830487e-21, -1.029879985045337e-20], [-0.3670789021332679, -0.36707890213326827, 1.9187648700873194, -1.1222575264982812e-20, -8.389142252203685e-21, 4.37517914221878e-21], [4.8349623943427224e-21, -9.215383057567128e-21, -1.122257526498281e-20, 6.074260423040459, 3.2037994062609414e-41, 3.2568757629552193e-41], [-1.0298893633082927e-20, 4.375345691830487e-21, -8.389142252203687e-21, 3.203799406260943e-41, 6.07426042304046, 2.9797656679010834e-41], [-8.389125037880379e-21, -1.029879985045337e-20, 4.375179142218779e-21, 3.2568757629552193e-41, 2.9797656679010844e-41, 6.074260423040459]], 'warnings': [], 'nsites': 3}, 'unit_cell_formula': {'Ru': 1.0, 'O': 2.0}}\n"
     ]
    }
   ],
   "source": [
    "print('Number of oxide structures available on the MP database: %s' % len(data))\n",
    "print('Example output: %s' % data[0])"
   ]
  },
  {
   "cell_type": "code",
   "execution_count": 220,
   "metadata": {},
   "outputs": [
    {
     "data": {
      "text/html": [
       "<div>\n",
       "<style scoped>\n",
       "    .dataframe tbody tr th:only-of-type {\n",
       "        vertical-align: middle;\n",
       "    }\n",
       "\n",
       "    .dataframe tbody tr th {\n",
       "        vertical-align: top;\n",
       "    }\n",
       "\n",
       "    .dataframe thead th {\n",
       "        text-align: right;\n",
       "    }\n",
       "</style>\n",
       "<table border=\"1\" class=\"dataframe\">\n",
       "  <thead>\n",
       "    <tr style=\"text-align: right;\">\n",
       "      <th></th>\n",
       "      <th>task_id</th>\n",
       "      <th>pretty_formula</th>\n",
       "      <th>formula</th>\n",
       "      <th>volume</th>\n",
       "      <th>density</th>\n",
       "      <th>elements</th>\n",
       "      <th>e_above_hull</th>\n",
       "      <th>elasticity</th>\n",
       "      <th>unit_cell_formula</th>\n",
       "    </tr>\n",
       "  </thead>\n",
       "  <tbody>\n",
       "    <tr>\n",
       "      <th>0</th>\n",
       "      <td>mp-1008785</td>\n",
       "      <td>RuO2</td>\n",
       "      <td>{'Ru': 1.0, 'O': 2.0}</td>\n",
       "      <td>28.647746</td>\n",
       "      <td>7.713205</td>\n",
       "      <td>[Ru, O]</td>\n",
       "      <td>0.188058</td>\n",
       "      <td>{'G_Reuss': 183.0, 'G_VRH': 184.0, 'G_Voigt': ...</td>\n",
       "      <td>{'Ru': 1.0, 'O': 2.0}</td>\n",
       "    </tr>\n",
       "    <tr>\n",
       "      <th>1</th>\n",
       "      <td>mp-1019593</td>\n",
       "      <td>Ce(PO3)4</td>\n",
       "      <td>{'Ce': 1.0, 'P': 4.0, 'O': 12.0}</td>\n",
       "      <td>1932.672582</td>\n",
       "      <td>3.134363</td>\n",
       "      <td>[Ce, O, P]</td>\n",
       "      <td>0.000000</td>\n",
       "      <td>None</td>\n",
       "      <td>{'Ce': 8.0, 'P': 32.0, 'O': 96.0}</td>\n",
       "    </tr>\n",
       "    <tr>\n",
       "      <th>2</th>\n",
       "      <td>mp-1019787</td>\n",
       "      <td>K2NaZn(BO2)5</td>\n",
       "      <td>{'K': 2.0, 'Na': 1.0, 'Zn': 1.0, 'B': 5.0, 'O'...</td>\n",
       "      <td>1021.922072</td>\n",
       "      <td>2.474063</td>\n",
       "      <td>[B, K, Na, O, Zn]</td>\n",
       "      <td>0.000000</td>\n",
       "      <td>None</td>\n",
       "      <td>{'K': 8.0, 'Na': 4.0, 'Zn': 4.0, 'B': 20.0, 'O...</td>\n",
       "    </tr>\n",
       "    <tr>\n",
       "      <th>3</th>\n",
       "      <td>mp-1020626</td>\n",
       "      <td>Zr2Ga(PO4)3</td>\n",
       "      <td>{'Zr': 2.0, 'Ga': 1.0, 'P': 3.0, 'O': 12.0}</td>\n",
       "      <td>549.658421</td>\n",
       "      <td>3.245109</td>\n",
       "      <td>[Ga, O, P, Zr]</td>\n",
       "      <td>0.010919</td>\n",
       "      <td>None</td>\n",
       "      <td>{'Zr': 4.0, 'Ga': 2.0, 'P': 6.0, 'O': 24.0}</td>\n",
       "    </tr>\n",
       "    <tr>\n",
       "      <th>4</th>\n",
       "      <td>mp-1030964</td>\n",
       "      <td>KMg6CO8</td>\n",
       "      <td>{'K': 1.0, 'Mg': 6.0, 'C': 1.0, 'O': 8.0}</td>\n",
       "      <td>181.999128</td>\n",
       "      <td>2.964662</td>\n",
       "      <td>[C, K, Mg, O]</td>\n",
       "      <td>0.683313</td>\n",
       "      <td>None</td>\n",
       "      <td>{'K': 1.0, 'Mg': 6.0, 'C': 1.0, 'O': 8.0}</td>\n",
       "    </tr>\n",
       "    <tr>\n",
       "      <th>...</th>\n",
       "      <td>...</td>\n",
       "      <td>...</td>\n",
       "      <td>...</td>\n",
       "      <td>...</td>\n",
       "      <td>...</td>\n",
       "      <td>...</td>\n",
       "      <td>...</td>\n",
       "      <td>...</td>\n",
       "      <td>...</td>\n",
       "    </tr>\n",
       "    <tr>\n",
       "      <th>69527</th>\n",
       "      <td>mvc-2438</td>\n",
       "      <td>MgCuO2</td>\n",
       "      <td>{'Mg': 1.0, 'Cu': 1.0, 'O': 2.0}</td>\n",
       "      <td>187.045526</td>\n",
       "      <td>4.255975</td>\n",
       "      <td>[Cu, Mg, O]</td>\n",
       "      <td>0.173693</td>\n",
       "      <td>None</td>\n",
       "      <td>{'Mg': 4.0, 'Cu': 4.0, 'O': 8.0}</td>\n",
       "    </tr>\n",
       "    <tr>\n",
       "      <th>69528</th>\n",
       "      <td>mvc-2470</td>\n",
       "      <td>Mg2Fe9O13</td>\n",
       "      <td>{'Mg': 2.0, 'Fe': 9.0, 'O': 13.0}</td>\n",
       "      <td>255.922828</td>\n",
       "      <td>4.926068</td>\n",
       "      <td>[Fe, Mg, O]</td>\n",
       "      <td>0.091346</td>\n",
       "      <td>None</td>\n",
       "      <td>{'Mg': 2.0, 'Fe': 9.0, 'O': 13.0}</td>\n",
       "    </tr>\n",
       "    <tr>\n",
       "      <th>69529</th>\n",
       "      <td>mvc-4429</td>\n",
       "      <td>CaBi2O5</td>\n",
       "      <td>{'Ca': 1.0, 'Bi': 2.0, 'O': 5.0}</td>\n",
       "      <td>291.621343</td>\n",
       "      <td>6.127326</td>\n",
       "      <td>[Bi, Ca, O]</td>\n",
       "      <td>0.195755</td>\n",
       "      <td>None</td>\n",
       "      <td>{'Ca': 2.0, 'Bi': 4.0, 'O': 10.0}</td>\n",
       "    </tr>\n",
       "    <tr>\n",
       "      <th>69530</th>\n",
       "      <td>mvc-7986</td>\n",
       "      <td>MoAs2O7</td>\n",
       "      <td>{'Mo': 1.0, 'As': 2.0, 'O': 7.0}</td>\n",
       "      <td>720.449156</td>\n",
       "      <td>3.298531</td>\n",
       "      <td>[As, Mo, O]</td>\n",
       "      <td>0.013690</td>\n",
       "      <td>None</td>\n",
       "      <td>{'Mo': 4.0, 'As': 8.0, 'O': 28.0}</td>\n",
       "    </tr>\n",
       "    <tr>\n",
       "      <th>69531</th>\n",
       "      <td>mvc-9723</td>\n",
       "      <td>Sn2P2O9</td>\n",
       "      <td>{'Sn': 2.0, 'P': 2.0, 'O': 9.0}</td>\n",
       "      <td>762.439459</td>\n",
       "      <td>3.862445</td>\n",
       "      <td>[O, P, Sn]</td>\n",
       "      <td>0.058972</td>\n",
       "      <td>None</td>\n",
       "      <td>{'Sn': 8.0, 'P': 8.0, 'O': 36.0}</td>\n",
       "    </tr>\n",
       "  </tbody>\n",
       "</table>\n",
       "<p>69532 rows × 9 columns</p>\n",
       "</div>"
      ],
      "text/plain": [
       "          task_id pretty_formula  \\\n",
       "0      mp-1008785           RuO2   \n",
       "1      mp-1019593       Ce(PO3)4   \n",
       "2      mp-1019787   K2NaZn(BO2)5   \n",
       "3      mp-1020626    Zr2Ga(PO4)3   \n",
       "4      mp-1030964        KMg6CO8   \n",
       "...           ...            ...   \n",
       "69527    mvc-2438         MgCuO2   \n",
       "69528    mvc-2470      Mg2Fe9O13   \n",
       "69529    mvc-4429        CaBi2O5   \n",
       "69530    mvc-7986        MoAs2O7   \n",
       "69531    mvc-9723        Sn2P2O9   \n",
       "\n",
       "                                                 formula       volume  \\\n",
       "0                                  {'Ru': 1.0, 'O': 2.0}    28.647746   \n",
       "1                       {'Ce': 1.0, 'P': 4.0, 'O': 12.0}  1932.672582   \n",
       "2      {'K': 2.0, 'Na': 1.0, 'Zn': 1.0, 'B': 5.0, 'O'...  1021.922072   \n",
       "3            {'Zr': 2.0, 'Ga': 1.0, 'P': 3.0, 'O': 12.0}   549.658421   \n",
       "4              {'K': 1.0, 'Mg': 6.0, 'C': 1.0, 'O': 8.0}   181.999128   \n",
       "...                                                  ...          ...   \n",
       "69527                   {'Mg': 1.0, 'Cu': 1.0, 'O': 2.0}   187.045526   \n",
       "69528                  {'Mg': 2.0, 'Fe': 9.0, 'O': 13.0}   255.922828   \n",
       "69529                   {'Ca': 1.0, 'Bi': 2.0, 'O': 5.0}   291.621343   \n",
       "69530                   {'Mo': 1.0, 'As': 2.0, 'O': 7.0}   720.449156   \n",
       "69531                    {'Sn': 2.0, 'P': 2.0, 'O': 9.0}   762.439459   \n",
       "\n",
       "        density           elements  e_above_hull  \\\n",
       "0      7.713205            [Ru, O]      0.188058   \n",
       "1      3.134363         [Ce, O, P]      0.000000   \n",
       "2      2.474063  [B, K, Na, O, Zn]      0.000000   \n",
       "3      3.245109     [Ga, O, P, Zr]      0.010919   \n",
       "4      2.964662      [C, K, Mg, O]      0.683313   \n",
       "...         ...                ...           ...   \n",
       "69527  4.255975        [Cu, Mg, O]      0.173693   \n",
       "69528  4.926068        [Fe, Mg, O]      0.091346   \n",
       "69529  6.127326        [Bi, Ca, O]      0.195755   \n",
       "69530  3.298531        [As, Mo, O]      0.013690   \n",
       "69531  3.862445         [O, P, Sn]      0.058972   \n",
       "\n",
       "                                              elasticity  \\\n",
       "0      {'G_Reuss': 183.0, 'G_VRH': 184.0, 'G_Voigt': ...   \n",
       "1                                                   None   \n",
       "2                                                   None   \n",
       "3                                                   None   \n",
       "4                                                   None   \n",
       "...                                                  ...   \n",
       "69527                                               None   \n",
       "69528                                               None   \n",
       "69529                                               None   \n",
       "69530                                               None   \n",
       "69531                                               None   \n",
       "\n",
       "                                       unit_cell_formula  \n",
       "0                                  {'Ru': 1.0, 'O': 2.0}  \n",
       "1                      {'Ce': 8.0, 'P': 32.0, 'O': 96.0}  \n",
       "2      {'K': 8.0, 'Na': 4.0, 'Zn': 4.0, 'B': 20.0, 'O...  \n",
       "3            {'Zr': 4.0, 'Ga': 2.0, 'P': 6.0, 'O': 24.0}  \n",
       "4              {'K': 1.0, 'Mg': 6.0, 'C': 1.0, 'O': 8.0}  \n",
       "...                                                  ...  \n",
       "69527                   {'Mg': 4.0, 'Cu': 4.0, 'O': 8.0}  \n",
       "69528                  {'Mg': 2.0, 'Fe': 9.0, 'O': 13.0}  \n",
       "69529                  {'Ca': 2.0, 'Bi': 4.0, 'O': 10.0}  \n",
       "69530                  {'Mo': 4.0, 'As': 8.0, 'O': 28.0}  \n",
       "69531                   {'Sn': 8.0, 'P': 8.0, 'O': 36.0}  \n",
       "\n",
       "[69532 rows x 9 columns]"
      ]
     },
     "metadata": {},
     "output_type": "display_data"
    }
   ],
   "source": [
    "df_oxide = pd.DataFrame.from_dict(data)\n",
    "display(df_oxide)"
   ]
  },
  {
   "cell_type": "code",
   "execution_count": 221,
   "metadata": {},
   "outputs": [],
   "source": [
    "energy_cutoff_value = 1 #energy above convex hull cutoff [meV]\n",
    "df_oxide = df_oxide[df_oxide['e_above_hull'] <= (energy_cutoff_value/1000)]  "
   ]
  },
  {
   "cell_type": "code",
   "execution_count": 222,
   "metadata": {},
   "outputs": [
    {
     "data": {
      "text/html": [
       "<div>\n",
       "<style scoped>\n",
       "    .dataframe tbody tr th:only-of-type {\n",
       "        vertical-align: middle;\n",
       "    }\n",
       "\n",
       "    .dataframe tbody tr th {\n",
       "        vertical-align: top;\n",
       "    }\n",
       "\n",
       "    .dataframe thead th {\n",
       "        text-align: right;\n",
       "    }\n",
       "</style>\n",
       "<table border=\"1\" class=\"dataframe\">\n",
       "  <thead>\n",
       "    <tr style=\"text-align: right;\">\n",
       "      <th></th>\n",
       "      <th>task_id</th>\n",
       "      <th>pretty_formula</th>\n",
       "      <th>formula</th>\n",
       "      <th>volume</th>\n",
       "      <th>density</th>\n",
       "      <th>elements</th>\n",
       "      <th>e_above_hull</th>\n",
       "      <th>elasticity</th>\n",
       "      <th>unit_cell_formula</th>\n",
       "    </tr>\n",
       "  </thead>\n",
       "  <tbody>\n",
       "    <tr>\n",
       "      <th>1</th>\n",
       "      <td>mp-1019593</td>\n",
       "      <td>Ce(PO3)4</td>\n",
       "      <td>{'Ce': 1.0, 'P': 4.0, 'O': 12.0}</td>\n",
       "      <td>1932.672582</td>\n",
       "      <td>3.134363</td>\n",
       "      <td>[Ce, O, P]</td>\n",
       "      <td>0.0</td>\n",
       "      <td>None</td>\n",
       "      <td>{'Ce': 8.0, 'P': 32.0, 'O': 96.0}</td>\n",
       "    </tr>\n",
       "    <tr>\n",
       "      <th>2</th>\n",
       "      <td>mp-1019787</td>\n",
       "      <td>K2NaZn(BO2)5</td>\n",
       "      <td>{'K': 2.0, 'Na': 1.0, 'Zn': 1.0, 'B': 5.0, 'O'...</td>\n",
       "      <td>1021.922072</td>\n",
       "      <td>2.474063</td>\n",
       "      <td>[B, K, Na, O, Zn]</td>\n",
       "      <td>0.0</td>\n",
       "      <td>None</td>\n",
       "      <td>{'K': 8.0, 'Na': 4.0, 'Zn': 4.0, 'B': 20.0, 'O...</td>\n",
       "    </tr>\n",
       "    <tr>\n",
       "      <th>14</th>\n",
       "      <td>mp-10448</td>\n",
       "      <td>Tl2TeMo2(PO7)2</td>\n",
       "      <td>{'Tl': 2.0, 'Te': 1.0, 'Mo': 2.0, 'P': 2.0, 'O...</td>\n",
       "      <td>1343.803586</td>\n",
       "      <td>5.012920</td>\n",
       "      <td>[Mo, O, P, Te, Tl]</td>\n",
       "      <td>0.0</td>\n",
       "      <td>None</td>\n",
       "      <td>{'Tl': 8.0, 'Te': 4.0, 'Mo': 8.0, 'P': 8.0, 'O...</td>\n",
       "    </tr>\n",
       "    <tr>\n",
       "      <th>22</th>\n",
       "      <td>mp-1078659</td>\n",
       "      <td>CaRhO3</td>\n",
       "      <td>{'Ca': 1.0, 'Rh': 1.0, 'O': 3.0}</td>\n",
       "      <td>115.778037</td>\n",
       "      <td>5.478286</td>\n",
       "      <td>[Ca, O, Rh]</td>\n",
       "      <td>0.0</td>\n",
       "      <td>None</td>\n",
       "      <td>{'Ca': 2.0, 'Rh': 2.0, 'O': 6.0}</td>\n",
       "    </tr>\n",
       "    <tr>\n",
       "      <th>24</th>\n",
       "      <td>mp-1080460</td>\n",
       "      <td>Mo(BrO)2</td>\n",
       "      <td>{'Mo': 1.0, 'Br': 2.0, 'O': 2.0}</td>\n",
       "      <td>243.408363</td>\n",
       "      <td>3.926034</td>\n",
       "      <td>[Br, Mo, O]</td>\n",
       "      <td>0.0</td>\n",
       "      <td>None</td>\n",
       "      <td>{'Mo': 2.0, 'Br': 4.0, 'O': 4.0}</td>\n",
       "    </tr>\n",
       "    <tr>\n",
       "      <th>...</th>\n",
       "      <td>...</td>\n",
       "      <td>...</td>\n",
       "      <td>...</td>\n",
       "      <td>...</td>\n",
       "      <td>...</td>\n",
       "      <td>...</td>\n",
       "      <td>...</td>\n",
       "      <td>...</td>\n",
       "      <td>...</td>\n",
       "    </tr>\n",
       "    <tr>\n",
       "      <th>69461</th>\n",
       "      <td>mp-8187</td>\n",
       "      <td>K2ZnO2</td>\n",
       "      <td>{'K': 2.0, 'Zn': 1.0, 'O': 2.0}</td>\n",
       "      <td>176.468814</td>\n",
       "      <td>3.304810</td>\n",
       "      <td>[K, Zn, O]</td>\n",
       "      <td>0.0</td>\n",
       "      <td>{'G_Reuss': 9.0, 'G_VRH': 11.0, 'G_Voigt': 14....</td>\n",
       "      <td>{'K': 4.0, 'Zn': 2.0, 'O': 4.0}</td>\n",
       "    </tr>\n",
       "    <tr>\n",
       "      <th>69468</th>\n",
       "      <td>mp-8796</td>\n",
       "      <td>Sr2LiSc(B2O5)2</td>\n",
       "      <td>{'Sr': 2.0, 'Li': 1.0, 'Sc': 1.0, 'B': 4.0, 'O...</td>\n",
       "      <td>831.033008</td>\n",
       "      <td>3.439836</td>\n",
       "      <td>[B, Li, O, Sc, Sr]</td>\n",
       "      <td>0.0</td>\n",
       "      <td>None</td>\n",
       "      <td>{'Sr': 8.0, 'Li': 4.0, 'Sc': 4.0, 'B': 16.0, '...</td>\n",
       "    </tr>\n",
       "    <tr>\n",
       "      <th>69512</th>\n",
       "      <td>mp-774432</td>\n",
       "      <td>K2Li3NiO4</td>\n",
       "      <td>{'K': 2.0, 'Li': 3.0, 'Ni': 1.0, 'O': 4.0}</td>\n",
       "      <td>497.716166</td>\n",
       "      <td>2.958788</td>\n",
       "      <td>[K, Li, Ni, O]</td>\n",
       "      <td>0.0</td>\n",
       "      <td>None</td>\n",
       "      <td>{'K': 8.0, 'Li': 12.0, 'Ni': 4.0, 'O': 16.0}</td>\n",
       "    </tr>\n",
       "    <tr>\n",
       "      <th>69521</th>\n",
       "      <td>mp-849384</td>\n",
       "      <td>Li11V8(PO4)12</td>\n",
       "      <td>{'Li': 11.0, 'V': 8.0, 'P': 12.0, 'O': 48.0}</td>\n",
       "      <td>938.691135</td>\n",
       "      <td>2.872031</td>\n",
       "      <td>[Li, O, P, V]</td>\n",
       "      <td>0.0</td>\n",
       "      <td>None</td>\n",
       "      <td>{'Li': 11.0, 'V': 8.0, 'P': 12.0, 'O': 48.0}</td>\n",
       "    </tr>\n",
       "    <tr>\n",
       "      <th>69525</th>\n",
       "      <td>mp-867673</td>\n",
       "      <td>Na3(Pt3O4)4</td>\n",
       "      <td>{'Na': 3.0, 'Pt': 12.0, 'O': 16.0}</td>\n",
       "      <td>379.219420</td>\n",
       "      <td>11.673831</td>\n",
       "      <td>[Na, O, Pt]</td>\n",
       "      <td>0.0</td>\n",
       "      <td>None</td>\n",
       "      <td>{'Na': 3.0, 'Pt': 12.0, 'O': 16.0}</td>\n",
       "    </tr>\n",
       "  </tbody>\n",
       "</table>\n",
       "<p>11795 rows × 9 columns</p>\n",
       "</div>"
      ],
      "text/plain": [
       "          task_id  pretty_formula  \\\n",
       "1      mp-1019593        Ce(PO3)4   \n",
       "2      mp-1019787    K2NaZn(BO2)5   \n",
       "14       mp-10448  Tl2TeMo2(PO7)2   \n",
       "22     mp-1078659          CaRhO3   \n",
       "24     mp-1080460        Mo(BrO)2   \n",
       "...           ...             ...   \n",
       "69461     mp-8187          K2ZnO2   \n",
       "69468     mp-8796  Sr2LiSc(B2O5)2   \n",
       "69512   mp-774432       K2Li3NiO4   \n",
       "69521   mp-849384   Li11V8(PO4)12   \n",
       "69525   mp-867673     Na3(Pt3O4)4   \n",
       "\n",
       "                                                 formula       volume  \\\n",
       "1                       {'Ce': 1.0, 'P': 4.0, 'O': 12.0}  1932.672582   \n",
       "2      {'K': 2.0, 'Na': 1.0, 'Zn': 1.0, 'B': 5.0, 'O'...  1021.922072   \n",
       "14     {'Tl': 2.0, 'Te': 1.0, 'Mo': 2.0, 'P': 2.0, 'O...  1343.803586   \n",
       "22                      {'Ca': 1.0, 'Rh': 1.0, 'O': 3.0}   115.778037   \n",
       "24                      {'Mo': 1.0, 'Br': 2.0, 'O': 2.0}   243.408363   \n",
       "...                                                  ...          ...   \n",
       "69461                    {'K': 2.0, 'Zn': 1.0, 'O': 2.0}   176.468814   \n",
       "69468  {'Sr': 2.0, 'Li': 1.0, 'Sc': 1.0, 'B': 4.0, 'O...   831.033008   \n",
       "69512         {'K': 2.0, 'Li': 3.0, 'Ni': 1.0, 'O': 4.0}   497.716166   \n",
       "69521       {'Li': 11.0, 'V': 8.0, 'P': 12.0, 'O': 48.0}   938.691135   \n",
       "69525                 {'Na': 3.0, 'Pt': 12.0, 'O': 16.0}   379.219420   \n",
       "\n",
       "         density            elements  e_above_hull  \\\n",
       "1       3.134363          [Ce, O, P]           0.0   \n",
       "2       2.474063   [B, K, Na, O, Zn]           0.0   \n",
       "14      5.012920  [Mo, O, P, Te, Tl]           0.0   \n",
       "22      5.478286         [Ca, O, Rh]           0.0   \n",
       "24      3.926034         [Br, Mo, O]           0.0   \n",
       "...          ...                 ...           ...   \n",
       "69461   3.304810          [K, Zn, O]           0.0   \n",
       "69468   3.439836  [B, Li, O, Sc, Sr]           0.0   \n",
       "69512   2.958788      [K, Li, Ni, O]           0.0   \n",
       "69521   2.872031       [Li, O, P, V]           0.0   \n",
       "69525  11.673831         [Na, O, Pt]           0.0   \n",
       "\n",
       "                                              elasticity  \\\n",
       "1                                                   None   \n",
       "2                                                   None   \n",
       "14                                                  None   \n",
       "22                                                  None   \n",
       "24                                                  None   \n",
       "...                                                  ...   \n",
       "69461  {'G_Reuss': 9.0, 'G_VRH': 11.0, 'G_Voigt': 14....   \n",
       "69468                                               None   \n",
       "69512                                               None   \n",
       "69521                                               None   \n",
       "69525                                               None   \n",
       "\n",
       "                                       unit_cell_formula  \n",
       "1                      {'Ce': 8.0, 'P': 32.0, 'O': 96.0}  \n",
       "2      {'K': 8.0, 'Na': 4.0, 'Zn': 4.0, 'B': 20.0, 'O...  \n",
       "14     {'Tl': 8.0, 'Te': 4.0, 'Mo': 8.0, 'P': 8.0, 'O...  \n",
       "22                      {'Ca': 2.0, 'Rh': 2.0, 'O': 6.0}  \n",
       "24                      {'Mo': 2.0, 'Br': 4.0, 'O': 4.0}  \n",
       "...                                                  ...  \n",
       "69461                    {'K': 4.0, 'Zn': 2.0, 'O': 4.0}  \n",
       "69468  {'Sr': 8.0, 'Li': 4.0, 'Sc': 4.0, 'B': 16.0, '...  \n",
       "69512       {'K': 8.0, 'Li': 12.0, 'Ni': 4.0, 'O': 16.0}  \n",
       "69521       {'Li': 11.0, 'V': 8.0, 'P': 12.0, 'O': 48.0}  \n",
       "69525                 {'Na': 3.0, 'Pt': 12.0, 'O': 16.0}  \n",
       "\n",
       "[11795 rows x 9 columns]"
      ]
     },
     "metadata": {},
     "output_type": "display_data"
    }
   ],
   "source": [
    "display(df_oxide)"
   ]
  },
  {
   "cell_type": "code",
   "execution_count": 133,
   "metadata": {},
   "outputs": [
    {
     "name": "stdout",
     "output_type": "stream",
     "text": [
      "1.20.2\n",
      "Defaulting to user installation because normal site-packages is not writeable\n",
      "Requirement already satisfied: numpy==1.19.5 in /home/nanohub/bbishnoi/.local/lib/python3.8/site-packages (1.19.5)\n"
     ]
    }
   ],
   "source": [
    "import numpy as np\n",
    "print(np.__version__)\n",
    "\n",
    "!pip install -U numpy==1.19.5"
   ]
  },
  {
   "cell_type": "code",
   "execution_count": 134,
   "metadata": {},
   "outputs": [
    {
     "name": "stdout",
     "output_type": "stream",
     "text": [
      "2.2.0\n"
     ]
    }
   ],
   "source": [
    "import tensorflow as tf\n",
    "print(tf.__version__)"
   ]
  },
  {
   "cell_type": "code",
   "execution_count": 135,
   "metadata": {},
   "outputs": [
    {
     "name": "stdout",
     "output_type": "stream",
     "text": [
      "The tensorboard extension is already loaded. To reload it, use:\n",
      "  %reload_ext tensorboard\n",
      "TensorFlow version:  2.2.0\n",
      "rm: cannot remove './logs/fit/20211015-065521/train/.nfs0000000481de7270000010b3': Device or resource busy\n",
      "rm: cannot remove './logs/fit/20211015-065521/validation/.nfs00000001917afad2000010b4': Device or resource busy\n"
     ]
    }
   ],
   "source": [
    "%load_ext tensorboard\n",
    "from datetime import datetime\n",
    "from packaging import version\n",
    "\n",
    "import tensorflow as tf\n",
    "from tensorflow import keras\n",
    "\n",
    "print(\"TensorFlow version: \", tf.__version__)\n",
    "assert version.parse(tf.__version__).release[0] >= 2, \\\n",
    "    \"This notebook requires TensorFlow 2.0 or above.\"\n",
    "import tensorboard\n",
    "tensorboard.__version__\n",
    "!rm -rf ./logs/ "
   ]
  },
  {
   "cell_type": "code",
   "execution_count": 230,
   "metadata": {},
   "outputs": [],
   "source": [
    "# general imports\n",
    "import pandas as pd\n",
    "import seaborn as sns\n",
    "import matplotlib.pyplot as plt\n",
    "import plotly.express as px\n",
    "import numpy as np\n",
    "#import pymatgen as pymat\n",
    "#import mendeleev as mendel\n",
    "\n",
    "# keras imports\n",
    "from keras.layers import (Input, Dense, Conv1D, MaxPool1D, Dropout, GRU, LSTM, TimeDistributed, Add, Flatten, RepeatVector, Lambda, Concatenate)\n",
    "from keras.models import Model, load_model\n",
    "from keras.metrics import binary_crossentropy\n",
    "from keras import initializers\n",
    "import keras.backend as K\n",
    "\n",
    "# Visualization\n",
    "from keras_sequential_ascii import keras2ascii\n",
    "\n",
    "# from utils import label_map_util\n",
    "# from utils import visualization_utils as vis_util\n",
    "\n",
    "#from object_detection.utils import label_map_util\n",
    "#from object_detection.utils import visualization_utils as vis_util\n",
    "\n",
    "# utils functions\n",
    "from python_utils import *\n",
    "#from utils import *\n",
    "\n",
    "# Hacky MacOS fix for Tensorflow runtimes... (You won't need this unless you are on MacOS)\n",
    "# This fixes a display bug with progress bars that can pop up on MacOS sometimes.\n",
    "import os\n",
    "os.environ['KMP_DUPLICATE_LIB_OK']='True'\n",
    "\n",
    "# Remove warnings from output\n",
    "import warnings\n",
    "warnings.filterwarnings('ignore')"
   ]
  },
  {
   "cell_type": "markdown",
   "metadata": {},
   "source": [
    " "
   ]
  },
  {
   "cell_type": "code",
   "execution_count": 287,
   "metadata": {},
   "outputs": [
    {
     "name": "stdout",
     "output_type": "stream",
     "text": [
      "Columns in dataset: ['mol_id', 'smiles', 'A', 'B', 'C', 'mu', 'alpha', 'homo', 'lumo', 'gap', 'r2', 'zpve', 'u0', 'u298', 'h298', 'g298', 'cv', 'u0_atom', 'u298_atom', 'h298_atom', 'g298_atom']\n",
      "\n",
      "Length of dataset: 133885\n"
     ]
    },
    {
     "data": {
      "text/html": [
       "<div>\n",
       "<style scoped>\n",
       "    .dataframe tbody tr th:only-of-type {\n",
       "        vertical-align: middle;\n",
       "    }\n",
       "\n",
       "    .dataframe tbody tr th {\n",
       "        vertical-align: top;\n",
       "    }\n",
       "\n",
       "    .dataframe thead th {\n",
       "        text-align: right;\n",
       "    }\n",
       "</style>\n",
       "<table border=\"1\" class=\"dataframe\">\n",
       "  <thead>\n",
       "    <tr style=\"text-align: right;\">\n",
       "      <th></th>\n",
       "      <th>mol_id</th>\n",
       "      <th>smiles</th>\n",
       "      <th>A</th>\n",
       "      <th>B</th>\n",
       "      <th>C</th>\n",
       "      <th>mu</th>\n",
       "      <th>alpha</th>\n",
       "      <th>homo</th>\n",
       "      <th>lumo</th>\n",
       "      <th>gap</th>\n",
       "      <th>...</th>\n",
       "      <th>zpve</th>\n",
       "      <th>u0</th>\n",
       "      <th>u298</th>\n",
       "      <th>h298</th>\n",
       "      <th>g298</th>\n",
       "      <th>cv</th>\n",
       "      <th>u0_atom</th>\n",
       "      <th>u298_atom</th>\n",
       "      <th>h298_atom</th>\n",
       "      <th>g298_atom</th>\n",
       "    </tr>\n",
       "  </thead>\n",
       "  <tbody>\n",
       "    <tr>\n",
       "      <th>43225</th>\n",
       "      <td>gdb_43226</td>\n",
       "      <td>O=C1C2CCCC1C=C2</td>\n",
       "      <td>2.19575</td>\n",
       "      <td>1.83375</td>\n",
       "      <td>1.78978</td>\n",
       "      <td>2.8898</td>\n",
       "      <td>78.73</td>\n",
       "      <td>-0.2330</td>\n",
       "      <td>-0.0029</td>\n",
       "      <td>0.2301</td>\n",
       "      <td>...</td>\n",
       "      <td>0.162755</td>\n",
       "      <td>-385.930699</td>\n",
       "      <td>-385.923667</td>\n",
       "      <td>-385.922723</td>\n",
       "      <td>-385.961801</td>\n",
       "      <td>29.000</td>\n",
       "      <td>-1938.509588</td>\n",
       "      <td>-1950.984467</td>\n",
       "      <td>-1961.653375</td>\n",
       "      <td>-1808.771475</td>\n",
       "    </tr>\n",
       "    <tr>\n",
       "      <th>18949</th>\n",
       "      <td>gdb_18950</td>\n",
       "      <td>O=CC1C2C3CC2N13</td>\n",
       "      <td>5.76254</td>\n",
       "      <td>1.67862</td>\n",
       "      <td>1.56959</td>\n",
       "      <td>2.2243</td>\n",
       "      <td>65.83</td>\n",
       "      <td>-0.2456</td>\n",
       "      <td>-0.0355</td>\n",
       "      <td>0.2101</td>\n",
       "      <td>...</td>\n",
       "      <td>0.118824</td>\n",
       "      <td>-362.561835</td>\n",
       "      <td>-362.555470</td>\n",
       "      <td>-362.554526</td>\n",
       "      <td>-362.592646</td>\n",
       "      <td>24.065</td>\n",
       "      <td>-1462.630608</td>\n",
       "      <td>-1471.968569</td>\n",
       "      <td>-1480.266121</td>\n",
       "      <td>-1361.585343</td>\n",
       "    </tr>\n",
       "    <tr>\n",
       "      <th>65056</th>\n",
       "      <td>gdb_65057</td>\n",
       "      <td>CC1(CO1)C1(CO1)C#C</td>\n",
       "      <td>2.33460</td>\n",
       "      <td>1.50396</td>\n",
       "      <td>1.24794</td>\n",
       "      <td>2.5230</td>\n",
       "      <td>73.97</td>\n",
       "      <td>-0.2620</td>\n",
       "      <td>0.0181</td>\n",
       "      <td>0.2801</td>\n",
       "      <td>...</td>\n",
       "      <td>0.132144</td>\n",
       "      <td>-421.745993</td>\n",
       "      <td>-421.736936</td>\n",
       "      <td>-421.735992</td>\n",
       "      <td>-421.779716</td>\n",
       "      <td>33.773</td>\n",
       "      <td>-1686.271678</td>\n",
       "      <td>-1695.698118</td>\n",
       "      <td>-1705.181034</td>\n",
       "      <td>-1571.293204</td>\n",
       "    </tr>\n",
       "    <tr>\n",
       "      <th>27392</th>\n",
       "      <td>gdb_27393</td>\n",
       "      <td>c1c([nH]c(nc1=O)N)O</td>\n",
       "      <td>2.01530</td>\n",
       "      <td>1.87826</td>\n",
       "      <td>0.97339</td>\n",
       "      <td>7.1395</td>\n",
       "      <td>67.95</td>\n",
       "      <td>-0.2213</td>\n",
       "      <td>0.0039</td>\n",
       "      <td>0.2252</td>\n",
       "      <td>...</td>\n",
       "      <td>0.102825</td>\n",
       "      <td>-470.075554</td>\n",
       "      <td>-470.067765</td>\n",
       "      <td>-470.066821</td>\n",
       "      <td>-470.107671</td>\n",
       "      <td>29.926</td>\n",
       "      <td>-1447.261657</td>\n",
       "      <td>-1454.816238</td>\n",
       "      <td>-1462.520166</td>\n",
       "      <td>-1350.407526</td>\n",
       "    </tr>\n",
       "    <tr>\n",
       "      <th>51740</th>\n",
       "      <td>gdb_51741</td>\n",
       "      <td>O=COC1CCC11CN1</td>\n",
       "      <td>2.95255</td>\n",
       "      <td>1.08628</td>\n",
       "      <td>0.88017</td>\n",
       "      <td>2.6332</td>\n",
       "      <td>74.49</td>\n",
       "      <td>-0.2540</td>\n",
       "      <td>0.0016</td>\n",
       "      <td>0.2555</td>\n",
       "      <td>...</td>\n",
       "      <td>0.147164</td>\n",
       "      <td>-439.065902</td>\n",
       "      <td>-439.057354</td>\n",
       "      <td>-439.056409</td>\n",
       "      <td>-439.100076</td>\n",
       "      <td>31.201</td>\n",
       "      <td>-1738.070663</td>\n",
       "      <td>-1748.704431</td>\n",
       "      <td>-1758.779715</td>\n",
       "      <td>-1616.381608</td>\n",
       "    </tr>\n",
       "  </tbody>\n",
       "</table>\n",
       "<p>5 rows × 21 columns</p>\n",
       "</div>"
      ],
      "text/plain": [
       "          mol_id               smiles        A        B        C      mu  \\\n",
       "43225  gdb_43226      O=C1C2CCCC1C=C2  2.19575  1.83375  1.78978  2.8898   \n",
       "18949  gdb_18950      O=CC1C2C3CC2N13  5.76254  1.67862  1.56959  2.2243   \n",
       "65056  gdb_65057   CC1(CO1)C1(CO1)C#C  2.33460  1.50396  1.24794  2.5230   \n",
       "27392  gdb_27393  c1c([nH]c(nc1=O)N)O  2.01530  1.87826  0.97339  7.1395   \n",
       "51740  gdb_51741       O=COC1CCC11CN1  2.95255  1.08628  0.88017  2.6332   \n",
       "\n",
       "       alpha    homo    lumo     gap  ...      zpve          u0        u298  \\\n",
       "43225  78.73 -0.2330 -0.0029  0.2301  ...  0.162755 -385.930699 -385.923667   \n",
       "18949  65.83 -0.2456 -0.0355  0.2101  ...  0.118824 -362.561835 -362.555470   \n",
       "65056  73.97 -0.2620  0.0181  0.2801  ...  0.132144 -421.745993 -421.736936   \n",
       "27392  67.95 -0.2213  0.0039  0.2252  ...  0.102825 -470.075554 -470.067765   \n",
       "51740  74.49 -0.2540  0.0016  0.2555  ...  0.147164 -439.065902 -439.057354   \n",
       "\n",
       "             h298        g298      cv      u0_atom    u298_atom    h298_atom  \\\n",
       "43225 -385.922723 -385.961801  29.000 -1938.509588 -1950.984467 -1961.653375   \n",
       "18949 -362.554526 -362.592646  24.065 -1462.630608 -1471.968569 -1480.266121   \n",
       "65056 -421.735992 -421.779716  33.773 -1686.271678 -1695.698118 -1705.181034   \n",
       "27392 -470.066821 -470.107671  29.926 -1447.261657 -1454.816238 -1462.520166   \n",
       "51740 -439.056409 -439.100076  31.201 -1738.070663 -1748.704431 -1758.779715   \n",
       "\n",
       "         g298_atom  \n",
       "43225 -1808.771475  \n",
       "18949 -1361.585343  \n",
       "65056 -1571.293204  \n",
       "27392 -1350.407526  \n",
       "51740 -1616.381608  \n",
       "\n",
       "[5 rows x 21 columns]"
      ]
     },
     "execution_count": 287,
     "metadata": {},
     "output_type": "execute_result"
    }
   ],
   "source": [
    "#!ls /home/nanohub/bbishnoi/data/results/vae/qm9.csv\n",
    "#dataset = pd.read_csv(\"/home/nanohub/bbishnoi/data/results/vae/qm9.csv\")\n",
    "# read dataset as a dataframe\n",
    "#dataset = pd.read_csv(\"../data/ESOL_delaney-processed.csv\")\n",
    "dataset = pd.read_csv(\"./qm9.csv\")\n",
    "#dataset = pd.read_csv(\"gdrive/MyDrive/Colab Notebooks/data/qm9.csv\")\n",
    "\n",
    "\n",
    "# print column names in dataset\n",
    "print(f\"Columns in dataset: {list(dataset.columns)}\")\n",
    "\n",
    "# print number of rows in dataset\n",
    "print(f\"\\nLength of dataset: {len(dataset)}\")\n",
    "\n",
    "# shuffle rows of the dataset (we could do this later as well when doing train/test splits)\n",
    "dataset = dataset.sample(frac=1, random_state=0)\n",
    "\n",
    "# show first 5 rows of dataframe\n",
    "dataset.head()\n",
    "#dataset.head(20)"
   ]
  },
  {
   "cell_type": "markdown",
   "metadata": {},
   "source": []
  },
  {
   "cell_type": "code",
   "execution_count": 286,
   "metadata": {},
   "outputs": [
    {
     "ename": "MPRestError",
     "evalue": "Query should not be or. Content: b'{\"valid_response\": false, \"error\": \"Query should not be or\", \"version\": {\"db\": \"2021_05_13\", \"pymatgen\": \"2022.0.8\", \"rest\": \"2.0\"}, \"created_at\": \"2021-10-15T05:28:59.124768\", \"traceback\": \"Traceback (most recent call last):\\\\n  File \\\\\"/var/www/python/matgen_prod/materials_django/rest/rest.py\\\\\", line 211, in query\\\\n    queryresults = qe.query(criteria=criteria, properties=properties)\\\\n  File \\\\\"/var/www/python/matgen_prod/materials_django/db/query_engine.py\\\\\", line 191, in query\\\\n    return super(SandboxQueryEngine, self).query(\\\\n  File \\\\\"/opt/miniconda3/envs/mpprod3/lib/python3.8/site-packages/matgendb/query_engine.py\\\\\", line 409, in query\\\\n    func(crit, props)\\\\n  File \\\\\"/var/www/python/matgen_prod/materials_django/db/query_engine.py\\\\\", line 288, in __call__\\\\n    crit = self._extract_sandbox_bits(query)\\\\n  File \\\\\"/var/www/python/matgen_prod/materials_django/db/query_engine.py\\\\\", line 312, in _extract_sandbox_bits\\\\n    assert False, \\\\\"Query should not be or\\\\\"\\\\nAssertionError: Query should not be or\\\\n\\\\nDuring handling of the above exception, another exception occurred:\\\\n\\\\nTraceback (most recent call last):\\\\n  File \\\\\"/var/www/python/matgen_prod/materials_django/rest/rest.py\\\\\", line 95, in wrapped\\\\n    d = func(*args, **kwargs)\\\\n  File \\\\\"/var/www/python/matgen_prod/materials_django/rest/rest.py\\\\\", line 239, in query\\\\n    raise RESTError(str(ex))\\\\nrest.rest.RESTError: Query should not be or\\\\n\"}'",
     "output_type": "error",
     "traceback": [
      "\u001b[0;31m---------------------------------------------------------------------------\u001b[0m",
      "\u001b[0;31mMPRestError\u001b[0m                               Traceback (most recent call last)",
      "\u001b[0;32m~/.local/lib/python3.8/site-packages/pymatgen/ext/matproj.py\u001b[0m in \u001b[0;36m_make_request\u001b[0;34m(self, sub_url, payload, method, mp_decode)\u001b[0m\n\u001b[1;32m    251\u001b[0m                     \u001b[0;32mreturn\u001b[0m \u001b[0mdata\u001b[0m\u001b[0;34m[\u001b[0m\u001b[0;34m\"response\"\u001b[0m\u001b[0;34m]\u001b[0m\u001b[0;34m\u001b[0m\u001b[0;34m\u001b[0m\u001b[0m\n\u001b[0;32m--> 252\u001b[0;31m                 \u001b[0;32mraise\u001b[0m \u001b[0mMPRestError\u001b[0m\u001b[0;34m(\u001b[0m\u001b[0mdata\u001b[0m\u001b[0;34m[\u001b[0m\u001b[0;34m\"error\"\u001b[0m\u001b[0;34m]\u001b[0m\u001b[0;34m)\u001b[0m\u001b[0;34m\u001b[0m\u001b[0;34m\u001b[0m\u001b[0m\n\u001b[0m\u001b[1;32m    253\u001b[0m \u001b[0;34m\u001b[0m\u001b[0m\n",
      "\u001b[0;31mMPRestError\u001b[0m: Query should not be or",
      "\nDuring handling of the above exception, another exception occurred:\n",
      "\u001b[0;31mMPRestError\u001b[0m                               Traceback (most recent call last)",
      "\u001b[0;32m<ipython-input-286-1460d22dea2f>\u001b[0m in \u001b[0;36m<module>\u001b[0;34m\u001b[0m\n\u001b[0;32m----> 1\u001b[0;31m \u001b[0mrester\u001b[0m\u001b[0;34m.\u001b[0m\u001b[0mquery\u001b[0m\u001b[0;34m(\u001b[0m\u001b[0;34m''\u001b[0m\u001b[0;34m,\u001b[0m\u001b[0;34m[\u001b[0m\u001b[0;34m'smiles'\u001b[0m\u001b[0;34m,\u001b[0m\u001b[0;34m'alpha'\u001b[0m\u001b[0;34m,\u001b[0m\u001b[0;34m'gap'\u001b[0m\u001b[0;34m]\u001b[0m\u001b[0;34m)\u001b[0m\u001b[0;34m\u001b[0m\u001b[0;34m\u001b[0m\u001b[0m\n\u001b[0m",
      "\u001b[0;32m~/.local/lib/python3.8/site-packages/pymatgen/ext/matproj.py\u001b[0m in \u001b[0;36mquery\u001b[0;34m(self, criteria, properties, chunk_size, max_tries_per_chunk, mp_decode)\u001b[0m\n\u001b[1;32m    991\u001b[0m         \u001b[0mcount_payload\u001b[0m \u001b[0;34m=\u001b[0m \u001b[0mpayload\u001b[0m\u001b[0;34m.\u001b[0m\u001b[0mcopy\u001b[0m\u001b[0;34m(\u001b[0m\u001b[0;34m)\u001b[0m\u001b[0;34m\u001b[0m\u001b[0;34m\u001b[0m\u001b[0m\n\u001b[1;32m    992\u001b[0m         \u001b[0mcount_payload\u001b[0m\u001b[0;34m[\u001b[0m\u001b[0;34m\"options\"\u001b[0m\u001b[0;34m]\u001b[0m \u001b[0;34m=\u001b[0m \u001b[0mjson\u001b[0m\u001b[0;34m.\u001b[0m\u001b[0mdumps\u001b[0m\u001b[0;34m(\u001b[0m\u001b[0;34m{\u001b[0m\u001b[0;34m\"count_only\"\u001b[0m\u001b[0;34m:\u001b[0m \u001b[0;32mTrue\u001b[0m\u001b[0;34m}\u001b[0m\u001b[0;34m)\u001b[0m\u001b[0;34m\u001b[0m\u001b[0;34m\u001b[0m\u001b[0m\n\u001b[0;32m--> 993\u001b[0;31m         \u001b[0mnum_results\u001b[0m \u001b[0;34m=\u001b[0m \u001b[0mself\u001b[0m\u001b[0;34m.\u001b[0m\u001b[0m_make_request\u001b[0m\u001b[0;34m(\u001b[0m\u001b[0;34m\"/query\"\u001b[0m\u001b[0;34m,\u001b[0m \u001b[0mpayload\u001b[0m\u001b[0;34m=\u001b[0m\u001b[0mcount_payload\u001b[0m\u001b[0;34m,\u001b[0m \u001b[0mmethod\u001b[0m\u001b[0;34m=\u001b[0m\u001b[0;34m\"POST\"\u001b[0m\u001b[0;34m)\u001b[0m\u001b[0;34m\u001b[0m\u001b[0;34m\u001b[0m\u001b[0m\n\u001b[0m\u001b[1;32m    994\u001b[0m         \u001b[0;32mif\u001b[0m \u001b[0mnum_results\u001b[0m \u001b[0;34m<=\u001b[0m \u001b[0mchunk_size\u001b[0m\u001b[0;34m:\u001b[0m\u001b[0;34m\u001b[0m\u001b[0;34m\u001b[0m\u001b[0m\n\u001b[1;32m    995\u001b[0m             \u001b[0;32mreturn\u001b[0m \u001b[0mself\u001b[0m\u001b[0;34m.\u001b[0m\u001b[0m_make_request\u001b[0m\u001b[0;34m(\u001b[0m\u001b[0;34m\"/query\"\u001b[0m\u001b[0;34m,\u001b[0m \u001b[0mpayload\u001b[0m\u001b[0;34m=\u001b[0m\u001b[0mpayload\u001b[0m\u001b[0;34m,\u001b[0m \u001b[0mmethod\u001b[0m\u001b[0;34m=\u001b[0m\u001b[0;34m\"POST\"\u001b[0m\u001b[0;34m,\u001b[0m \u001b[0mmp_decode\u001b[0m\u001b[0;34m=\u001b[0m\u001b[0mmp_decode\u001b[0m\u001b[0;34m)\u001b[0m\u001b[0;34m\u001b[0m\u001b[0;34m\u001b[0m\u001b[0m\n",
      "\u001b[0;32m~/.local/lib/python3.8/site-packages/pymatgen/ext/matproj.py\u001b[0m in \u001b[0;36m_make_request\u001b[0;34m(self, sub_url, payload, method, mp_decode)\u001b[0m\n\u001b[1;32m    256\u001b[0m         \u001b[0;32mexcept\u001b[0m \u001b[0mException\u001b[0m \u001b[0;32mas\u001b[0m \u001b[0mex\u001b[0m\u001b[0;34m:\u001b[0m\u001b[0;34m\u001b[0m\u001b[0;34m\u001b[0m\u001b[0m\n\u001b[1;32m    257\u001b[0m             \u001b[0mmsg\u001b[0m \u001b[0;34m=\u001b[0m \u001b[0;34m\"{}. Content: {}\"\u001b[0m\u001b[0;34m.\u001b[0m\u001b[0mformat\u001b[0m\u001b[0;34m(\u001b[0m\u001b[0mstr\u001b[0m\u001b[0;34m(\u001b[0m\u001b[0mex\u001b[0m\u001b[0;34m)\u001b[0m\u001b[0;34m,\u001b[0m \u001b[0mresponse\u001b[0m\u001b[0;34m.\u001b[0m\u001b[0mcontent\u001b[0m\u001b[0;34m)\u001b[0m \u001b[0;32mif\u001b[0m \u001b[0mhasattr\u001b[0m\u001b[0;34m(\u001b[0m\u001b[0mresponse\u001b[0m\u001b[0;34m,\u001b[0m \u001b[0;34m\"content\"\u001b[0m\u001b[0;34m)\u001b[0m \u001b[0;32melse\u001b[0m \u001b[0mstr\u001b[0m\u001b[0;34m(\u001b[0m\u001b[0mex\u001b[0m\u001b[0;34m)\u001b[0m\u001b[0;34m\u001b[0m\u001b[0;34m\u001b[0m\u001b[0m\n\u001b[0;32m--> 258\u001b[0;31m             \u001b[0;32mraise\u001b[0m \u001b[0mMPRestError\u001b[0m\u001b[0;34m(\u001b[0m\u001b[0mmsg\u001b[0m\u001b[0;34m)\u001b[0m\u001b[0;34m\u001b[0m\u001b[0;34m\u001b[0m\u001b[0m\n\u001b[0m\u001b[1;32m    259\u001b[0m \u001b[0;34m\u001b[0m\u001b[0m\n\u001b[1;32m    260\u001b[0m     \u001b[0;32mdef\u001b[0m \u001b[0mget_database_version\u001b[0m\u001b[0;34m(\u001b[0m\u001b[0mself\u001b[0m\u001b[0;34m)\u001b[0m\u001b[0;34m:\u001b[0m\u001b[0;34m\u001b[0m\u001b[0;34m\u001b[0m\u001b[0m\n",
      "\u001b[0;31mMPRestError\u001b[0m: Query should not be or. Content: b'{\"valid_response\": false, \"error\": \"Query should not be or\", \"version\": {\"db\": \"2021_05_13\", \"pymatgen\": \"2022.0.8\", \"rest\": \"2.0\"}, \"created_at\": \"2021-10-15T05:28:59.124768\", \"traceback\": \"Traceback (most recent call last):\\\\n  File \\\\\"/var/www/python/matgen_prod/materials_django/rest/rest.py\\\\\", line 211, in query\\\\n    queryresults = qe.query(criteria=criteria, properties=properties)\\\\n  File \\\\\"/var/www/python/matgen_prod/materials_django/db/query_engine.py\\\\\", line 191, in query\\\\n    return super(SandboxQueryEngine, self).query(\\\\n  File \\\\\"/opt/miniconda3/envs/mpprod3/lib/python3.8/site-packages/matgendb/query_engine.py\\\\\", line 409, in query\\\\n    func(crit, props)\\\\n  File \\\\\"/var/www/python/matgen_prod/materials_django/db/query_engine.py\\\\\", line 288, in __call__\\\\n    crit = self._extract_sandbox_bits(query)\\\\n  File \\\\\"/var/www/python/matgen_prod/materials_django/db/query_engine.py\\\\\", line 312, in _extract_sandbox_bits\\\\n    assert False, \\\\\"Query should not be or\\\\\"\\\\nAssertionError: Query should not be or\\\\n\\\\nDuring handling of the above exception, another exception occurred:\\\\n\\\\nTraceback (most recent call last):\\\\n  File \\\\\"/var/www/python/matgen_prod/materials_django/rest/rest.py\\\\\", line 95, in wrapped\\\\n    d = func(*args, **kwargs)\\\\n  File \\\\\"/var/www/python/matgen_prod/materials_django/rest/rest.py\\\\\", line 239, in query\\\\n    raise RESTError(str(ex))\\\\nrest.rest.RESTError: Query should not be or\\\\n\"}'"
     ]
    }
   ],
   "source": [
    "rester.query('',['smiles','alpha','gap'])"
   ]
  },
  {
   "cell_type": "code",
   "execution_count": 255,
   "metadata": {},
   "outputs": [
    {
     "data": {
      "text/html": [
       "<div>\n",
       "<style scoped>\n",
       "    .dataframe tbody tr th:only-of-type {\n",
       "        vertical-align: middle;\n",
       "    }\n",
       "\n",
       "    .dataframe tbody tr th {\n",
       "        vertical-align: top;\n",
       "    }\n",
       "\n",
       "    .dataframe thead th {\n",
       "        text-align: right;\n",
       "    }\n",
       "</style>\n",
       "<table border=\"1\" class=\"dataframe\">\n",
       "  <thead>\n",
       "    <tr style=\"text-align: right;\">\n",
       "      <th></th>\n",
       "      <th>Mol_ID</th>\n",
       "      <th>SMILES</th>\n",
       "      <th>A</th>\n",
       "      <th>B</th>\n",
       "      <th>C</th>\n",
       "      <th>Mu</th>\n",
       "      <th>Alpha</th>\n",
       "      <th>HOMO</th>\n",
       "      <th>LUMO</th>\n",
       "      <th>E. Gap</th>\n",
       "      <th>...</th>\n",
       "      <th>ZPVE</th>\n",
       "      <th>U0</th>\n",
       "      <th>U298</th>\n",
       "      <th>H298</th>\n",
       "      <th>G298</th>\n",
       "      <th>CV</th>\n",
       "      <th>U0_atom</th>\n",
       "      <th>U298_atom</th>\n",
       "      <th>H298_atom</th>\n",
       "      <th>G298_atom</th>\n",
       "    </tr>\n",
       "  </thead>\n",
       "  <tbody>\n",
       "    <tr>\n",
       "      <th>43225</th>\n",
       "      <td>gdb_43226</td>\n",
       "      <td>O=C1C2CCCC1C=C2</td>\n",
       "      <td>2.19575</td>\n",
       "      <td>1.83375</td>\n",
       "      <td>1.78978</td>\n",
       "      <td>2.8898</td>\n",
       "      <td>78.73</td>\n",
       "      <td>-0.2330</td>\n",
       "      <td>-0.0029</td>\n",
       "      <td>0.2301</td>\n",
       "      <td>...</td>\n",
       "      <td>0.162755</td>\n",
       "      <td>-385.930699</td>\n",
       "      <td>-385.923667</td>\n",
       "      <td>-385.922723</td>\n",
       "      <td>-385.961801</td>\n",
       "      <td>29.000</td>\n",
       "      <td>-1938.509588</td>\n",
       "      <td>-1950.984467</td>\n",
       "      <td>-1961.653375</td>\n",
       "      <td>-1808.771475</td>\n",
       "    </tr>\n",
       "    <tr>\n",
       "      <th>18949</th>\n",
       "      <td>gdb_18950</td>\n",
       "      <td>O=CC1C2C3CC2N13</td>\n",
       "      <td>5.76254</td>\n",
       "      <td>1.67862</td>\n",
       "      <td>1.56959</td>\n",
       "      <td>2.2243</td>\n",
       "      <td>65.83</td>\n",
       "      <td>-0.2456</td>\n",
       "      <td>-0.0355</td>\n",
       "      <td>0.2101</td>\n",
       "      <td>...</td>\n",
       "      <td>0.118824</td>\n",
       "      <td>-362.561835</td>\n",
       "      <td>-362.555470</td>\n",
       "      <td>-362.554526</td>\n",
       "      <td>-362.592646</td>\n",
       "      <td>24.065</td>\n",
       "      <td>-1462.630608</td>\n",
       "      <td>-1471.968569</td>\n",
       "      <td>-1480.266121</td>\n",
       "      <td>-1361.585343</td>\n",
       "    </tr>\n",
       "    <tr>\n",
       "      <th>65056</th>\n",
       "      <td>gdb_65057</td>\n",
       "      <td>CC1(CO1)C1(CO1)C#C</td>\n",
       "      <td>2.33460</td>\n",
       "      <td>1.50396</td>\n",
       "      <td>1.24794</td>\n",
       "      <td>2.5230</td>\n",
       "      <td>73.97</td>\n",
       "      <td>-0.2620</td>\n",
       "      <td>0.0181</td>\n",
       "      <td>0.2801</td>\n",
       "      <td>...</td>\n",
       "      <td>0.132144</td>\n",
       "      <td>-421.745993</td>\n",
       "      <td>-421.736936</td>\n",
       "      <td>-421.735992</td>\n",
       "      <td>-421.779716</td>\n",
       "      <td>33.773</td>\n",
       "      <td>-1686.271678</td>\n",
       "      <td>-1695.698118</td>\n",
       "      <td>-1705.181034</td>\n",
       "      <td>-1571.293204</td>\n",
       "    </tr>\n",
       "    <tr>\n",
       "      <th>27392</th>\n",
       "      <td>gdb_27393</td>\n",
       "      <td>c1c([nH]c(nc1=O)N)O</td>\n",
       "      <td>2.01530</td>\n",
       "      <td>1.87826</td>\n",
       "      <td>0.97339</td>\n",
       "      <td>7.1395</td>\n",
       "      <td>67.95</td>\n",
       "      <td>-0.2213</td>\n",
       "      <td>0.0039</td>\n",
       "      <td>0.2252</td>\n",
       "      <td>...</td>\n",
       "      <td>0.102825</td>\n",
       "      <td>-470.075554</td>\n",
       "      <td>-470.067765</td>\n",
       "      <td>-470.066821</td>\n",
       "      <td>-470.107671</td>\n",
       "      <td>29.926</td>\n",
       "      <td>-1447.261657</td>\n",
       "      <td>-1454.816238</td>\n",
       "      <td>-1462.520166</td>\n",
       "      <td>-1350.407526</td>\n",
       "    </tr>\n",
       "    <tr>\n",
       "      <th>51740</th>\n",
       "      <td>gdb_51741</td>\n",
       "      <td>O=COC1CCC11CN1</td>\n",
       "      <td>2.95255</td>\n",
       "      <td>1.08628</td>\n",
       "      <td>0.88017</td>\n",
       "      <td>2.6332</td>\n",
       "      <td>74.49</td>\n",
       "      <td>-0.2540</td>\n",
       "      <td>0.0016</td>\n",
       "      <td>0.2555</td>\n",
       "      <td>...</td>\n",
       "      <td>0.147164</td>\n",
       "      <td>-439.065902</td>\n",
       "      <td>-439.057354</td>\n",
       "      <td>-439.056409</td>\n",
       "      <td>-439.100076</td>\n",
       "      <td>31.201</td>\n",
       "      <td>-1738.070663</td>\n",
       "      <td>-1748.704431</td>\n",
       "      <td>-1758.779715</td>\n",
       "      <td>-1616.381608</td>\n",
       "    </tr>\n",
       "    <tr>\n",
       "      <th>...</th>\n",
       "      <td>...</td>\n",
       "      <td>...</td>\n",
       "      <td>...</td>\n",
       "      <td>...</td>\n",
       "      <td>...</td>\n",
       "      <td>...</td>\n",
       "      <td>...</td>\n",
       "      <td>...</td>\n",
       "      <td>...</td>\n",
       "      <td>...</td>\n",
       "      <td>...</td>\n",
       "      <td>...</td>\n",
       "      <td>...</td>\n",
       "      <td>...</td>\n",
       "      <td>...</td>\n",
       "      <td>...</td>\n",
       "      <td>...</td>\n",
       "      <td>...</td>\n",
       "      <td>...</td>\n",
       "      <td>...</td>\n",
       "      <td>...</td>\n",
       "    </tr>\n",
       "    <tr>\n",
       "      <th>41993</th>\n",
       "      <td>gdb_41994</td>\n",
       "      <td>C1CC2NCCN=C2O1</td>\n",
       "      <td>3.31362</td>\n",
       "      <td>1.52002</td>\n",
       "      <td>1.10654</td>\n",
       "      <td>3.9253</td>\n",
       "      <td>77.26</td>\n",
       "      <td>-0.2273</td>\n",
       "      <td>0.0299</td>\n",
       "      <td>0.2571</td>\n",
       "      <td>...</td>\n",
       "      <td>0.163934</td>\n",
       "      <td>-419.223780</td>\n",
       "      <td>-419.216601</td>\n",
       "      <td>-419.215656</td>\n",
       "      <td>-419.255298</td>\n",
       "      <td>28.666</td>\n",
       "      <td>-1824.869591</td>\n",
       "      <td>-1837.250971</td>\n",
       "      <td>-1847.919251</td>\n",
       "      <td>-1694.776307</td>\n",
       "    </tr>\n",
       "    <tr>\n",
       "      <th>97639</th>\n",
       "      <td>gdb_97640</td>\n",
       "      <td>CNC(C=O)C#CCO</td>\n",
       "      <td>3.16977</td>\n",
       "      <td>0.69866</td>\n",
       "      <td>0.61431</td>\n",
       "      <td>1.4055</td>\n",
       "      <td>79.32</td>\n",
       "      <td>-0.2296</td>\n",
       "      <td>-0.0356</td>\n",
       "      <td>0.1939</td>\n",
       "      <td>...</td>\n",
       "      <td>0.144390</td>\n",
       "      <td>-439.035598</td>\n",
       "      <td>-439.024756</td>\n",
       "      <td>-439.023812</td>\n",
       "      <td>-439.073858</td>\n",
       "      <td>36.252</td>\n",
       "      <td>-1719.054630</td>\n",
       "      <td>-1728.248892</td>\n",
       "      <td>-1738.324804</td>\n",
       "      <td>-1599.929577</td>\n",
       "    </tr>\n",
       "    <tr>\n",
       "      <th>95939</th>\n",
       "      <td>gdb_95940</td>\n",
       "      <td>CC1CCCC1(C)C=O</td>\n",
       "      <td>1.96143</td>\n",
       "      <td>1.50843</td>\n",
       "      <td>1.18118</td>\n",
       "      <td>2.6202</td>\n",
       "      <td>85.17</td>\n",
       "      <td>-0.2449</td>\n",
       "      <td>-0.0156</td>\n",
       "      <td>0.2293</td>\n",
       "      <td>...</td>\n",
       "      <td>0.205254</td>\n",
       "      <td>-388.325715</td>\n",
       "      <td>-388.316013</td>\n",
       "      <td>-388.315069</td>\n",
       "      <td>-388.360743</td>\n",
       "      <td>36.745</td>\n",
       "      <td>-2185.700443</td>\n",
       "      <td>-2200.054084</td>\n",
       "      <td>-2213.094976</td>\n",
       "      <td>-2031.684007</td>\n",
       "    </tr>\n",
       "    <tr>\n",
       "      <th>117952</th>\n",
       "      <td>gdb_117953</td>\n",
       "      <td>CCOC(C)C(=O)OC</td>\n",
       "      <td>2.06763</td>\n",
       "      <td>1.12825</td>\n",
       "      <td>0.80717</td>\n",
       "      <td>2.4356</td>\n",
       "      <td>77.12</td>\n",
       "      <td>-0.2479</td>\n",
       "      <td>0.0066</td>\n",
       "      <td>0.2545</td>\n",
       "      <td>...</td>\n",
       "      <td>0.178938</td>\n",
       "      <td>-461.391550</td>\n",
       "      <td>-461.380366</td>\n",
       "      <td>-461.379422</td>\n",
       "      <td>-461.429278</td>\n",
       "      <td>38.097</td>\n",
       "      <td>-1954.003413</td>\n",
       "      <td>-1965.648725</td>\n",
       "      <td>-1977.503625</td>\n",
       "      <td>-1814.540165</td>\n",
       "    </tr>\n",
       "    <tr>\n",
       "      <th>43567</th>\n",
       "      <td>gdb_43568</td>\n",
       "      <td>N=C1NC(C#C)C2OC12</td>\n",
       "      <td>3.32020</td>\n",
       "      <td>1.36239</td>\n",
       "      <td>1.11474</td>\n",
       "      <td>3.3185</td>\n",
       "      <td>73.15</td>\n",
       "      <td>-0.2396</td>\n",
       "      <td>0.0119</td>\n",
       "      <td>0.2516</td>\n",
       "      <td>...</td>\n",
       "      <td>0.112760</td>\n",
       "      <td>-416.755911</td>\n",
       "      <td>-416.748140</td>\n",
       "      <td>-416.747196</td>\n",
       "      <td>-416.788269</td>\n",
       "      <td>29.651</td>\n",
       "      <td>-1531.962822</td>\n",
       "      <td>-1540.418506</td>\n",
       "      <td>-1548.715430</td>\n",
       "      <td>-1429.138570</td>\n",
       "    </tr>\n",
       "  </tbody>\n",
       "</table>\n",
       "<p>133885 rows × 21 columns</p>\n",
       "</div>"
      ],
      "text/plain": [
       "            Mol_ID               SMILES        A        B        C      Mu  \\\n",
       "43225    gdb_43226      O=C1C2CCCC1C=C2  2.19575  1.83375  1.78978  2.8898   \n",
       "18949    gdb_18950      O=CC1C2C3CC2N13  5.76254  1.67862  1.56959  2.2243   \n",
       "65056    gdb_65057   CC1(CO1)C1(CO1)C#C  2.33460  1.50396  1.24794  2.5230   \n",
       "27392    gdb_27393  c1c([nH]c(nc1=O)N)O  2.01530  1.87826  0.97339  7.1395   \n",
       "51740    gdb_51741       O=COC1CCC11CN1  2.95255  1.08628  0.88017  2.6332   \n",
       "...            ...                  ...      ...      ...      ...     ...   \n",
       "41993    gdb_41994       C1CC2NCCN=C2O1  3.31362  1.52002  1.10654  3.9253   \n",
       "97639    gdb_97640        CNC(C=O)C#CCO  3.16977  0.69866  0.61431  1.4055   \n",
       "95939    gdb_95940       CC1CCCC1(C)C=O  1.96143  1.50843  1.18118  2.6202   \n",
       "117952  gdb_117953       CCOC(C)C(=O)OC  2.06763  1.12825  0.80717  2.4356   \n",
       "43567    gdb_43568    N=C1NC(C#C)C2OC12  3.32020  1.36239  1.11474  3.3185   \n",
       "\n",
       "        Alpha    HOMO    LUMO  E. Gap  ...      ZPVE          U0        U298  \\\n",
       "43225   78.73 -0.2330 -0.0029  0.2301  ...  0.162755 -385.930699 -385.923667   \n",
       "18949   65.83 -0.2456 -0.0355  0.2101  ...  0.118824 -362.561835 -362.555470   \n",
       "65056   73.97 -0.2620  0.0181  0.2801  ...  0.132144 -421.745993 -421.736936   \n",
       "27392   67.95 -0.2213  0.0039  0.2252  ...  0.102825 -470.075554 -470.067765   \n",
       "51740   74.49 -0.2540  0.0016  0.2555  ...  0.147164 -439.065902 -439.057354   \n",
       "...       ...     ...     ...     ...  ...       ...         ...         ...   \n",
       "41993   77.26 -0.2273  0.0299  0.2571  ...  0.163934 -419.223780 -419.216601   \n",
       "97639   79.32 -0.2296 -0.0356  0.1939  ...  0.144390 -439.035598 -439.024756   \n",
       "95939   85.17 -0.2449 -0.0156  0.2293  ...  0.205254 -388.325715 -388.316013   \n",
       "117952  77.12 -0.2479  0.0066  0.2545  ...  0.178938 -461.391550 -461.380366   \n",
       "43567   73.15 -0.2396  0.0119  0.2516  ...  0.112760 -416.755911 -416.748140   \n",
       "\n",
       "              H298        G298      CV      U0_atom    U298_atom    H298_atom  \\\n",
       "43225  -385.922723 -385.961801  29.000 -1938.509588 -1950.984467 -1961.653375   \n",
       "18949  -362.554526 -362.592646  24.065 -1462.630608 -1471.968569 -1480.266121   \n",
       "65056  -421.735992 -421.779716  33.773 -1686.271678 -1695.698118 -1705.181034   \n",
       "27392  -470.066821 -470.107671  29.926 -1447.261657 -1454.816238 -1462.520166   \n",
       "51740  -439.056409 -439.100076  31.201 -1738.070663 -1748.704431 -1758.779715   \n",
       "...            ...         ...     ...          ...          ...          ...   \n",
       "41993  -419.215656 -419.255298  28.666 -1824.869591 -1837.250971 -1847.919251   \n",
       "97639  -439.023812 -439.073858  36.252 -1719.054630 -1728.248892 -1738.324804   \n",
       "95939  -388.315069 -388.360743  36.745 -2185.700443 -2200.054084 -2213.094976   \n",
       "117952 -461.379422 -461.429278  38.097 -1954.003413 -1965.648725 -1977.503625   \n",
       "43567  -416.747196 -416.788269  29.651 -1531.962822 -1540.418506 -1548.715430   \n",
       "\n",
       "          G298_atom  \n",
       "43225  -1808.771475  \n",
       "18949  -1361.585343  \n",
       "65056  -1571.293204  \n",
       "27392  -1350.407526  \n",
       "51740  -1616.381608  \n",
       "...             ...  \n",
       "41993  -1694.776307  \n",
       "97639  -1599.929577  \n",
       "95939  -2031.684007  \n",
       "117952 -1814.540165  \n",
       "43567  -1429.138570  \n",
       "\n",
       "[133885 rows x 21 columns]"
      ]
     },
     "metadata": {},
     "output_type": "display_data"
    }
   ],
   "source": [
    "dataset_1 = dataset.rename(columns={\"mol_id\": \"Mol_ID\", \"smiles\": \"SMILES\",\"A\":\"A\",\"B\":\"B\",\"C\":\"C\",\"mu\":\"Mu\",\"alpha\":\"Alpha\",\"homo\":\"HOMO\", \"lumo\":\"LUMO\",\"gap\":\"E. Gap\",\"r2\":\"R2\",\n",
    "                     \"zpve\":\"ZPVE\",\"u0\":\"U0\",\"u298\":\"U298\",\"h298\":\"H298\",\"g298\":\"G298\",\"cv\":\"CV\",\"u0_atom\":\"U0_atom\",\"u298_atom\":\"U298_atom\", \"h298_atom\":\"H298_atom\", \"g298_atom\":\"G298_atom\"})\n",
    "display(dataset_1)\n",
    "# \"alpha\" - Isotropic polarizability (unit: Bohr^3) [Bohr$^3$]\n",
    "# \"gap\" - Gap between HOMO and LUMO (unit: Hartree)\n",
    "#\"mol_id\" - Molecule ID (gdb9 index) mapping to the .sdf file\n",
    "#\"A\" - Rotational constant (unit: GHz)\n",
    "#\"B\" - Rotational constant (unit: GHz)\n",
    "#\"C\" - Rotational constant (unit: GHz)\n",
    "#\"mu\" - Dipole moment (unit: D)\n",
    "#\"alpha\" - Isotropic polarizability (unit: Bohr^3)\n",
    "#\"homo\" - Highest occupied molecular orbital energy (unit: Hartree)\n",
    "#\"lumo\" - Lowest unoccupied molecular orbital energy (unit: Hartree)\n",
    "#\"gap\" - Gap between HOMO and LUMO (unit: Hartree)\n",
    "#\"r2\" - Electronic spatial extent (unit: Bohr^2)\n",
    "#\"zpve\" - Zero point vibrational energy (unit: Hartree)\n",
    "#\"u0\" - Internal energy at 0K (unit: Hartree)\n",
    "#\"u298\" - Internal energy at 298.15K (unit: Hartree)\n",
    "#\"h298\" - Enthalpy at 298.15K (unit: Hartree)\n",
    "#\"g298\" - Free energy at 298.15K (unit: Hartree)\n",
    "#\"cv\" - Heat capavity at 298.15K (unit: cal/(mol*K))\n",
    "#\"u0_atom\" - Atomization energy at 0K (unit: kcal/mol)\n",
    "#\"u298_atom\" - Atomization energy at 298.15K (unit: kcal/mol)\n",
    "#\"h298_atom\" - Atomization enthalpy at 298.15K (unit: kcal/mol)\n"
   ]
  },
  {
   "cell_type": "code",
   "execution_count": 235,
   "metadata": {},
   "outputs": [
    {
     "data": {
      "application/vnd.jupyter.widget-view+json": {
       "model_id": "79ad419602ab4de0bc0068c3b34837ac",
       "version_major": 2,
       "version_minor": 0
      },
      "text/plain": [
       "  0%|          | 0/67086 [00:00<?, ?it/s]"
      ]
     },
     "metadata": {},
     "output_type": "display_data"
    }
   ],
   "source": [
    "dataset = rester.query({\"elements\": \"O\", \"nelements\": {\"$gte\": 3}},\n",
    "                    [\"task_id\",\"mol_id\",\"smiles\",\"A\",\"B\",\"C\",\"mu\",\"alpha\",\"lumo\",\"gap\",\"r2\",\n",
    "                     \"zpve\",\"u0\",\"u298\",\"h298\",\"g298\",\"cv\",\"u0_atom\",\"u298_atom\", \"h298_atom\", \"g298_atom\"])"
   ]
  },
  {
   "cell_type": "code",
   "execution_count": 256,
   "metadata": {},
   "outputs": [
    {
     "name": "stdout",
     "output_type": "stream",
     "text": [
      "Number of oxide structures available on the MP database: 69552\n",
      "Example output: {'task_id': 'mp-1008785', 'mol_id': None, 'smiles': None, 'A': None, 'B': None, 'C': None, 'mu': None, 'alpha': None, 'lumo': None, 'gap': None, 'r2': None, 'zpve': None, 'u0': None, 'u298': None, 'h298': None, 'g298': None, 'cv': None, 'u0_atom': None, 'u298_atom': None, 'h298_atom': None, 'g298_atom': None}\n"
     ]
    }
   ],
   "source": [
    "print('Number of oxide structures available on the MP database: %s' % len(data))\n",
    "print('Example output: %s' % data[0])"
   ]
  },
  {
   "cell_type": "code",
   "execution_count": 257,
   "metadata": {},
   "outputs": [
    {
     "data": {
      "text/html": [
       "<div>\n",
       "<style scoped>\n",
       "    .dataframe tbody tr th:only-of-type {\n",
       "        vertical-align: middle;\n",
       "    }\n",
       "\n",
       "    .dataframe tbody tr th {\n",
       "        vertical-align: top;\n",
       "    }\n",
       "\n",
       "    .dataframe thead th {\n",
       "        text-align: right;\n",
       "    }\n",
       "</style>\n",
       "<table border=\"1\" class=\"dataframe\">\n",
       "  <thead>\n",
       "    <tr style=\"text-align: right;\">\n",
       "      <th></th>\n",
       "      <th>Mol_ID</th>\n",
       "      <th>SMILES</th>\n",
       "      <th>A</th>\n",
       "      <th>B</th>\n",
       "      <th>C</th>\n",
       "      <th>Mu</th>\n",
       "      <th>Alpha</th>\n",
       "      <th>HOMO</th>\n",
       "      <th>LUMO</th>\n",
       "      <th>E. Gap</th>\n",
       "      <th>...</th>\n",
       "      <th>ZPVE</th>\n",
       "      <th>U0</th>\n",
       "      <th>U298</th>\n",
       "      <th>H298</th>\n",
       "      <th>G298</th>\n",
       "      <th>CV</th>\n",
       "      <th>U0_atom</th>\n",
       "      <th>U298_atom</th>\n",
       "      <th>H298_atom</th>\n",
       "      <th>G298_atom</th>\n",
       "    </tr>\n",
       "  </thead>\n",
       "  <tbody>\n",
       "    <tr>\n",
       "      <th>43225</th>\n",
       "      <td>gdb_43226</td>\n",
       "      <td>O=C1C2CCCC1C=C2</td>\n",
       "      <td>2.19575</td>\n",
       "      <td>1.83375</td>\n",
       "      <td>1.78978</td>\n",
       "      <td>2.8898</td>\n",
       "      <td>78.73</td>\n",
       "      <td>-0.2330</td>\n",
       "      <td>-0.0029</td>\n",
       "      <td>0.2301</td>\n",
       "      <td>...</td>\n",
       "      <td>0.162755</td>\n",
       "      <td>-385.930699</td>\n",
       "      <td>-385.923667</td>\n",
       "      <td>-385.922723</td>\n",
       "      <td>-385.961801</td>\n",
       "      <td>29.000</td>\n",
       "      <td>-1938.509588</td>\n",
       "      <td>-1950.984467</td>\n",
       "      <td>-1961.653375</td>\n",
       "      <td>-1808.771475</td>\n",
       "    </tr>\n",
       "    <tr>\n",
       "      <th>18949</th>\n",
       "      <td>gdb_18950</td>\n",
       "      <td>O=CC1C2C3CC2N13</td>\n",
       "      <td>5.76254</td>\n",
       "      <td>1.67862</td>\n",
       "      <td>1.56959</td>\n",
       "      <td>2.2243</td>\n",
       "      <td>65.83</td>\n",
       "      <td>-0.2456</td>\n",
       "      <td>-0.0355</td>\n",
       "      <td>0.2101</td>\n",
       "      <td>...</td>\n",
       "      <td>0.118824</td>\n",
       "      <td>-362.561835</td>\n",
       "      <td>-362.555470</td>\n",
       "      <td>-362.554526</td>\n",
       "      <td>-362.592646</td>\n",
       "      <td>24.065</td>\n",
       "      <td>-1462.630608</td>\n",
       "      <td>-1471.968569</td>\n",
       "      <td>-1480.266121</td>\n",
       "      <td>-1361.585343</td>\n",
       "    </tr>\n",
       "    <tr>\n",
       "      <th>65056</th>\n",
       "      <td>gdb_65057</td>\n",
       "      <td>CC1(CO1)C1(CO1)C#C</td>\n",
       "      <td>2.33460</td>\n",
       "      <td>1.50396</td>\n",
       "      <td>1.24794</td>\n",
       "      <td>2.5230</td>\n",
       "      <td>73.97</td>\n",
       "      <td>-0.2620</td>\n",
       "      <td>0.0181</td>\n",
       "      <td>0.2801</td>\n",
       "      <td>...</td>\n",
       "      <td>0.132144</td>\n",
       "      <td>-421.745993</td>\n",
       "      <td>-421.736936</td>\n",
       "      <td>-421.735992</td>\n",
       "      <td>-421.779716</td>\n",
       "      <td>33.773</td>\n",
       "      <td>-1686.271678</td>\n",
       "      <td>-1695.698118</td>\n",
       "      <td>-1705.181034</td>\n",
       "      <td>-1571.293204</td>\n",
       "    </tr>\n",
       "    <tr>\n",
       "      <th>27392</th>\n",
       "      <td>gdb_27393</td>\n",
       "      <td>c1c([nH]c(nc1=O)N)O</td>\n",
       "      <td>2.01530</td>\n",
       "      <td>1.87826</td>\n",
       "      <td>0.97339</td>\n",
       "      <td>7.1395</td>\n",
       "      <td>67.95</td>\n",
       "      <td>-0.2213</td>\n",
       "      <td>0.0039</td>\n",
       "      <td>0.2252</td>\n",
       "      <td>...</td>\n",
       "      <td>0.102825</td>\n",
       "      <td>-470.075554</td>\n",
       "      <td>-470.067765</td>\n",
       "      <td>-470.066821</td>\n",
       "      <td>-470.107671</td>\n",
       "      <td>29.926</td>\n",
       "      <td>-1447.261657</td>\n",
       "      <td>-1454.816238</td>\n",
       "      <td>-1462.520166</td>\n",
       "      <td>-1350.407526</td>\n",
       "    </tr>\n",
       "    <tr>\n",
       "      <th>51740</th>\n",
       "      <td>gdb_51741</td>\n",
       "      <td>O=COC1CCC11CN1</td>\n",
       "      <td>2.95255</td>\n",
       "      <td>1.08628</td>\n",
       "      <td>0.88017</td>\n",
       "      <td>2.6332</td>\n",
       "      <td>74.49</td>\n",
       "      <td>-0.2540</td>\n",
       "      <td>0.0016</td>\n",
       "      <td>0.2555</td>\n",
       "      <td>...</td>\n",
       "      <td>0.147164</td>\n",
       "      <td>-439.065902</td>\n",
       "      <td>-439.057354</td>\n",
       "      <td>-439.056409</td>\n",
       "      <td>-439.100076</td>\n",
       "      <td>31.201</td>\n",
       "      <td>-1738.070663</td>\n",
       "      <td>-1748.704431</td>\n",
       "      <td>-1758.779715</td>\n",
       "      <td>-1616.381608</td>\n",
       "    </tr>\n",
       "    <tr>\n",
       "      <th>...</th>\n",
       "      <td>...</td>\n",
       "      <td>...</td>\n",
       "      <td>...</td>\n",
       "      <td>...</td>\n",
       "      <td>...</td>\n",
       "      <td>...</td>\n",
       "      <td>...</td>\n",
       "      <td>...</td>\n",
       "      <td>...</td>\n",
       "      <td>...</td>\n",
       "      <td>...</td>\n",
       "      <td>...</td>\n",
       "      <td>...</td>\n",
       "      <td>...</td>\n",
       "      <td>...</td>\n",
       "      <td>...</td>\n",
       "      <td>...</td>\n",
       "      <td>...</td>\n",
       "      <td>...</td>\n",
       "      <td>...</td>\n",
       "      <td>...</td>\n",
       "    </tr>\n",
       "    <tr>\n",
       "      <th>41993</th>\n",
       "      <td>gdb_41994</td>\n",
       "      <td>C1CC2NCCN=C2O1</td>\n",
       "      <td>3.31362</td>\n",
       "      <td>1.52002</td>\n",
       "      <td>1.10654</td>\n",
       "      <td>3.9253</td>\n",
       "      <td>77.26</td>\n",
       "      <td>-0.2273</td>\n",
       "      <td>0.0299</td>\n",
       "      <td>0.2571</td>\n",
       "      <td>...</td>\n",
       "      <td>0.163934</td>\n",
       "      <td>-419.223780</td>\n",
       "      <td>-419.216601</td>\n",
       "      <td>-419.215656</td>\n",
       "      <td>-419.255298</td>\n",
       "      <td>28.666</td>\n",
       "      <td>-1824.869591</td>\n",
       "      <td>-1837.250971</td>\n",
       "      <td>-1847.919251</td>\n",
       "      <td>-1694.776307</td>\n",
       "    </tr>\n",
       "    <tr>\n",
       "      <th>97639</th>\n",
       "      <td>gdb_97640</td>\n",
       "      <td>CNC(C=O)C#CCO</td>\n",
       "      <td>3.16977</td>\n",
       "      <td>0.69866</td>\n",
       "      <td>0.61431</td>\n",
       "      <td>1.4055</td>\n",
       "      <td>79.32</td>\n",
       "      <td>-0.2296</td>\n",
       "      <td>-0.0356</td>\n",
       "      <td>0.1939</td>\n",
       "      <td>...</td>\n",
       "      <td>0.144390</td>\n",
       "      <td>-439.035598</td>\n",
       "      <td>-439.024756</td>\n",
       "      <td>-439.023812</td>\n",
       "      <td>-439.073858</td>\n",
       "      <td>36.252</td>\n",
       "      <td>-1719.054630</td>\n",
       "      <td>-1728.248892</td>\n",
       "      <td>-1738.324804</td>\n",
       "      <td>-1599.929577</td>\n",
       "    </tr>\n",
       "    <tr>\n",
       "      <th>95939</th>\n",
       "      <td>gdb_95940</td>\n",
       "      <td>CC1CCCC1(C)C=O</td>\n",
       "      <td>1.96143</td>\n",
       "      <td>1.50843</td>\n",
       "      <td>1.18118</td>\n",
       "      <td>2.6202</td>\n",
       "      <td>85.17</td>\n",
       "      <td>-0.2449</td>\n",
       "      <td>-0.0156</td>\n",
       "      <td>0.2293</td>\n",
       "      <td>...</td>\n",
       "      <td>0.205254</td>\n",
       "      <td>-388.325715</td>\n",
       "      <td>-388.316013</td>\n",
       "      <td>-388.315069</td>\n",
       "      <td>-388.360743</td>\n",
       "      <td>36.745</td>\n",
       "      <td>-2185.700443</td>\n",
       "      <td>-2200.054084</td>\n",
       "      <td>-2213.094976</td>\n",
       "      <td>-2031.684007</td>\n",
       "    </tr>\n",
       "    <tr>\n",
       "      <th>117952</th>\n",
       "      <td>gdb_117953</td>\n",
       "      <td>CCOC(C)C(=O)OC</td>\n",
       "      <td>2.06763</td>\n",
       "      <td>1.12825</td>\n",
       "      <td>0.80717</td>\n",
       "      <td>2.4356</td>\n",
       "      <td>77.12</td>\n",
       "      <td>-0.2479</td>\n",
       "      <td>0.0066</td>\n",
       "      <td>0.2545</td>\n",
       "      <td>...</td>\n",
       "      <td>0.178938</td>\n",
       "      <td>-461.391550</td>\n",
       "      <td>-461.380366</td>\n",
       "      <td>-461.379422</td>\n",
       "      <td>-461.429278</td>\n",
       "      <td>38.097</td>\n",
       "      <td>-1954.003413</td>\n",
       "      <td>-1965.648725</td>\n",
       "      <td>-1977.503625</td>\n",
       "      <td>-1814.540165</td>\n",
       "    </tr>\n",
       "    <tr>\n",
       "      <th>43567</th>\n",
       "      <td>gdb_43568</td>\n",
       "      <td>N=C1NC(C#C)C2OC12</td>\n",
       "      <td>3.32020</td>\n",
       "      <td>1.36239</td>\n",
       "      <td>1.11474</td>\n",
       "      <td>3.3185</td>\n",
       "      <td>73.15</td>\n",
       "      <td>-0.2396</td>\n",
       "      <td>0.0119</td>\n",
       "      <td>0.2516</td>\n",
       "      <td>...</td>\n",
       "      <td>0.112760</td>\n",
       "      <td>-416.755911</td>\n",
       "      <td>-416.748140</td>\n",
       "      <td>-416.747196</td>\n",
       "      <td>-416.788269</td>\n",
       "      <td>29.651</td>\n",
       "      <td>-1531.962822</td>\n",
       "      <td>-1540.418506</td>\n",
       "      <td>-1548.715430</td>\n",
       "      <td>-1429.138570</td>\n",
       "    </tr>\n",
       "  </tbody>\n",
       "</table>\n",
       "<p>133885 rows × 21 columns</p>\n",
       "</div>"
      ],
      "text/plain": [
       "            Mol_ID               SMILES        A        B        C      Mu  \\\n",
       "43225    gdb_43226      O=C1C2CCCC1C=C2  2.19575  1.83375  1.78978  2.8898   \n",
       "18949    gdb_18950      O=CC1C2C3CC2N13  5.76254  1.67862  1.56959  2.2243   \n",
       "65056    gdb_65057   CC1(CO1)C1(CO1)C#C  2.33460  1.50396  1.24794  2.5230   \n",
       "27392    gdb_27393  c1c([nH]c(nc1=O)N)O  2.01530  1.87826  0.97339  7.1395   \n",
       "51740    gdb_51741       O=COC1CCC11CN1  2.95255  1.08628  0.88017  2.6332   \n",
       "...            ...                  ...      ...      ...      ...     ...   \n",
       "41993    gdb_41994       C1CC2NCCN=C2O1  3.31362  1.52002  1.10654  3.9253   \n",
       "97639    gdb_97640        CNC(C=O)C#CCO  3.16977  0.69866  0.61431  1.4055   \n",
       "95939    gdb_95940       CC1CCCC1(C)C=O  1.96143  1.50843  1.18118  2.6202   \n",
       "117952  gdb_117953       CCOC(C)C(=O)OC  2.06763  1.12825  0.80717  2.4356   \n",
       "43567    gdb_43568    N=C1NC(C#C)C2OC12  3.32020  1.36239  1.11474  3.3185   \n",
       "\n",
       "        Alpha    HOMO    LUMO  E. Gap  ...      ZPVE          U0        U298  \\\n",
       "43225   78.73 -0.2330 -0.0029  0.2301  ...  0.162755 -385.930699 -385.923667   \n",
       "18949   65.83 -0.2456 -0.0355  0.2101  ...  0.118824 -362.561835 -362.555470   \n",
       "65056   73.97 -0.2620  0.0181  0.2801  ...  0.132144 -421.745993 -421.736936   \n",
       "27392   67.95 -0.2213  0.0039  0.2252  ...  0.102825 -470.075554 -470.067765   \n",
       "51740   74.49 -0.2540  0.0016  0.2555  ...  0.147164 -439.065902 -439.057354   \n",
       "...       ...     ...     ...     ...  ...       ...         ...         ...   \n",
       "41993   77.26 -0.2273  0.0299  0.2571  ...  0.163934 -419.223780 -419.216601   \n",
       "97639   79.32 -0.2296 -0.0356  0.1939  ...  0.144390 -439.035598 -439.024756   \n",
       "95939   85.17 -0.2449 -0.0156  0.2293  ...  0.205254 -388.325715 -388.316013   \n",
       "117952  77.12 -0.2479  0.0066  0.2545  ...  0.178938 -461.391550 -461.380366   \n",
       "43567   73.15 -0.2396  0.0119  0.2516  ...  0.112760 -416.755911 -416.748140   \n",
       "\n",
       "              H298        G298      CV      U0_atom    U298_atom    H298_atom  \\\n",
       "43225  -385.922723 -385.961801  29.000 -1938.509588 -1950.984467 -1961.653375   \n",
       "18949  -362.554526 -362.592646  24.065 -1462.630608 -1471.968569 -1480.266121   \n",
       "65056  -421.735992 -421.779716  33.773 -1686.271678 -1695.698118 -1705.181034   \n",
       "27392  -470.066821 -470.107671  29.926 -1447.261657 -1454.816238 -1462.520166   \n",
       "51740  -439.056409 -439.100076  31.201 -1738.070663 -1748.704431 -1758.779715   \n",
       "...            ...         ...     ...          ...          ...          ...   \n",
       "41993  -419.215656 -419.255298  28.666 -1824.869591 -1837.250971 -1847.919251   \n",
       "97639  -439.023812 -439.073858  36.252 -1719.054630 -1728.248892 -1738.324804   \n",
       "95939  -388.315069 -388.360743  36.745 -2185.700443 -2200.054084 -2213.094976   \n",
       "117952 -461.379422 -461.429278  38.097 -1954.003413 -1965.648725 -1977.503625   \n",
       "43567  -416.747196 -416.788269  29.651 -1531.962822 -1540.418506 -1548.715430   \n",
       "\n",
       "          G298_atom  \n",
       "43225  -1808.771475  \n",
       "18949  -1361.585343  \n",
       "65056  -1571.293204  \n",
       "27392  -1350.407526  \n",
       "51740  -1616.381608  \n",
       "...             ...  \n",
       "41993  -1694.776307  \n",
       "97639  -1599.929577  \n",
       "95939  -2031.684007  \n",
       "117952 -1814.540165  \n",
       "43567  -1429.138570  \n",
       "\n",
       "[133885 rows x 21 columns]"
      ]
     },
     "metadata": {},
     "output_type": "display_data"
    }
   ],
   "source": [
    "df_1 = pd.DataFrame.from_dict(dataset)\n",
    "display(df_1)"
   ]
  },
  {
   "cell_type": "code",
   "execution_count": 259,
   "metadata": {},
   "outputs": [],
   "source": [
    "energy_cutoff_value = 10 #energy above convex hull cutoff [meV]\n",
    "df_1 = df_1[df_1['Alpha'] <= (energy_cutoff_value/1)]  "
   ]
  },
  {
   "cell_type": "code",
   "execution_count": 260,
   "metadata": {},
   "outputs": [
    {
     "data": {
      "text/html": [
       "<div>\n",
       "<style scoped>\n",
       "    .dataframe tbody tr th:only-of-type {\n",
       "        vertical-align: middle;\n",
       "    }\n",
       "\n",
       "    .dataframe tbody tr th {\n",
       "        vertical-align: top;\n",
       "    }\n",
       "\n",
       "    .dataframe thead th {\n",
       "        text-align: right;\n",
       "    }\n",
       "</style>\n",
       "<table border=\"1\" class=\"dataframe\">\n",
       "  <thead>\n",
       "    <tr style=\"text-align: right;\">\n",
       "      <th></th>\n",
       "      <th>Mol_ID</th>\n",
       "      <th>SMILES</th>\n",
       "      <th>A</th>\n",
       "      <th>B</th>\n",
       "      <th>C</th>\n",
       "      <th>Mu</th>\n",
       "      <th>Alpha</th>\n",
       "      <th>HOMO</th>\n",
       "      <th>LUMO</th>\n",
       "      <th>E. Gap</th>\n",
       "      <th>...</th>\n",
       "      <th>ZPVE</th>\n",
       "      <th>U0</th>\n",
       "      <th>U298</th>\n",
       "      <th>H298</th>\n",
       "      <th>G298</th>\n",
       "      <th>CV</th>\n",
       "      <th>U0_atom</th>\n",
       "      <th>U298_atom</th>\n",
       "      <th>H298_atom</th>\n",
       "      <th>G298_atom</th>\n",
       "    </tr>\n",
       "  </thead>\n",
       "  <tbody>\n",
       "    <tr>\n",
       "      <th>1</th>\n",
       "      <td>gdb_2</td>\n",
       "      <td>N</td>\n",
       "      <td>293.60975</td>\n",
       "      <td>293.54111</td>\n",
       "      <td>191.39397</td>\n",
       "      <td>1.6256</td>\n",
       "      <td>9.46</td>\n",
       "      <td>-0.2570</td>\n",
       "      <td>0.0829</td>\n",
       "      <td>0.3399</td>\n",
       "      <td>...</td>\n",
       "      <td>0.034358</td>\n",
       "      <td>-56.525887</td>\n",
       "      <td>-56.523026</td>\n",
       "      <td>-56.522082</td>\n",
       "      <td>-56.544961</td>\n",
       "      <td>6.316</td>\n",
       "      <td>-276.861363</td>\n",
       "      <td>-278.620271</td>\n",
       "      <td>-280.399259</td>\n",
       "      <td>-259.338802</td>\n",
       "    </tr>\n",
       "    <tr>\n",
       "      <th>2</th>\n",
       "      <td>gdb_3</td>\n",
       "      <td>O</td>\n",
       "      <td>799.58812</td>\n",
       "      <td>437.90386</td>\n",
       "      <td>282.94545</td>\n",
       "      <td>1.8511</td>\n",
       "      <td>6.31</td>\n",
       "      <td>-0.2928</td>\n",
       "      <td>0.0687</td>\n",
       "      <td>0.3615</td>\n",
       "      <td>...</td>\n",
       "      <td>0.021375</td>\n",
       "      <td>-76.404702</td>\n",
       "      <td>-76.401867</td>\n",
       "      <td>-76.400922</td>\n",
       "      <td>-76.422349</td>\n",
       "      <td>6.002</td>\n",
       "      <td>-213.087624</td>\n",
       "      <td>-213.974294</td>\n",
       "      <td>-215.159658</td>\n",
       "      <td>-201.407171</td>\n",
       "    </tr>\n",
       "  </tbody>\n",
       "</table>\n",
       "<p>2 rows × 21 columns</p>\n",
       "</div>"
      ],
      "text/plain": [
       "  Mol_ID SMILES          A          B          C      Mu  Alpha    HOMO  \\\n",
       "1  gdb_2      N  293.60975  293.54111  191.39397  1.6256   9.46 -0.2570   \n",
       "2  gdb_3      O  799.58812  437.90386  282.94545  1.8511   6.31 -0.2928   \n",
       "\n",
       "     LUMO  E. Gap  ...      ZPVE         U0       U298       H298       G298  \\\n",
       "1  0.0829  0.3399  ...  0.034358 -56.525887 -56.523026 -56.522082 -56.544961   \n",
       "2  0.0687  0.3615  ...  0.021375 -76.404702 -76.401867 -76.400922 -76.422349   \n",
       "\n",
       "      CV     U0_atom   U298_atom   H298_atom   G298_atom  \n",
       "1  6.316 -276.861363 -278.620271 -280.399259 -259.338802  \n",
       "2  6.002 -213.087624 -213.974294 -215.159658 -201.407171  \n",
       "\n",
       "[2 rows x 21 columns]"
      ]
     },
     "metadata": {},
     "output_type": "display_data"
    }
   ],
   "source": [
    "display(df_1)"
   ]
  },
  {
   "cell_type": "code",
   "execution_count": 264,
   "metadata": {},
   "outputs": [
    {
     "name": "stdout",
     "output_type": "stream",
     "text": [
      "Number of SMILES available on the database: 133885\n",
      "Number of SMILES below 10.0 meV: 2\n"
     ]
    },
    {
     "data": {
      "text/html": [
       "<div>\n",
       "<style scoped>\n",
       "    .dataframe tbody tr th:only-of-type {\n",
       "        vertical-align: middle;\n",
       "    }\n",
       "\n",
       "    .dataframe tbody tr th {\n",
       "        vertical-align: top;\n",
       "    }\n",
       "\n",
       "    .dataframe thead th {\n",
       "        text-align: right;\n",
       "    }\n",
       "</style>\n",
       "<table border=\"1\" class=\"dataframe\">\n",
       "  <thead>\n",
       "    <tr style=\"text-align: right;\">\n",
       "      <th></th>\n",
       "      <th>Mol_ID</th>\n",
       "      <th>SMILES</th>\n",
       "      <th>A</th>\n",
       "      <th>B</th>\n",
       "      <th>C</th>\n",
       "      <th>Mu</th>\n",
       "      <th>Alpha</th>\n",
       "      <th>HOMO</th>\n",
       "      <th>LUMO</th>\n",
       "      <th>E. Gap</th>\n",
       "      <th>...</th>\n",
       "      <th>ZPVE</th>\n",
       "      <th>U0</th>\n",
       "      <th>U298</th>\n",
       "      <th>H298</th>\n",
       "      <th>G298</th>\n",
       "      <th>CV</th>\n",
       "      <th>U0_atom</th>\n",
       "      <th>U298_atom</th>\n",
       "      <th>H298_atom</th>\n",
       "      <th>G298_atom</th>\n",
       "    </tr>\n",
       "  </thead>\n",
       "  <tbody>\n",
       "    <tr>\n",
       "      <th>1</th>\n",
       "      <td>gdb_2</td>\n",
       "      <td>N</td>\n",
       "      <td>293.60975</td>\n",
       "      <td>293.54111</td>\n",
       "      <td>191.39397</td>\n",
       "      <td>1.6256</td>\n",
       "      <td>9.46</td>\n",
       "      <td>-0.2570</td>\n",
       "      <td>0.0829</td>\n",
       "      <td>0.3399</td>\n",
       "      <td>...</td>\n",
       "      <td>0.034358</td>\n",
       "      <td>-56.525887</td>\n",
       "      <td>-56.523026</td>\n",
       "      <td>-56.522082</td>\n",
       "      <td>-56.544961</td>\n",
       "      <td>6.316</td>\n",
       "      <td>-276.861363</td>\n",
       "      <td>-278.620271</td>\n",
       "      <td>-280.399259</td>\n",
       "      <td>-259.338802</td>\n",
       "    </tr>\n",
       "    <tr>\n",
       "      <th>2</th>\n",
       "      <td>gdb_3</td>\n",
       "      <td>O</td>\n",
       "      <td>799.58812</td>\n",
       "      <td>437.90386</td>\n",
       "      <td>282.94545</td>\n",
       "      <td>1.8511</td>\n",
       "      <td>6.31</td>\n",
       "      <td>-0.2928</td>\n",
       "      <td>0.0687</td>\n",
       "      <td>0.3615</td>\n",
       "      <td>...</td>\n",
       "      <td>0.021375</td>\n",
       "      <td>-76.404702</td>\n",
       "      <td>-76.401867</td>\n",
       "      <td>-76.400922</td>\n",
       "      <td>-76.422349</td>\n",
       "      <td>6.002</td>\n",
       "      <td>-213.087624</td>\n",
       "      <td>-213.974294</td>\n",
       "      <td>-215.159658</td>\n",
       "      <td>-201.407171</td>\n",
       "    </tr>\n",
       "  </tbody>\n",
       "</table>\n",
       "<p>2 rows × 21 columns</p>\n",
       "</div>"
      ],
      "text/plain": [
       "  Mol_ID SMILES          A          B          C      Mu  Alpha    HOMO  \\\n",
       "1  gdb_2      N  293.60975  293.54111  191.39397  1.6256   9.46 -0.2570   \n",
       "2  gdb_3      O  799.58812  437.90386  282.94545  1.8511   6.31 -0.2928   \n",
       "\n",
       "     LUMO  E. Gap  ...      ZPVE         U0       U298       H298       G298  \\\n",
       "1  0.0829  0.3399  ...  0.034358 -56.525887 -56.523026 -56.522082 -56.544961   \n",
       "2  0.0687  0.3615  ...  0.021375 -76.404702 -76.401867 -76.400922 -76.422349   \n",
       "\n",
       "      CV     U0_atom   U298_atom   H298_atom   G298_atom  \n",
       "1  6.316 -276.861363 -278.620271 -280.399259 -259.338802  \n",
       "2  6.002 -213.087624 -213.974294 -215.159658 -201.407171  \n",
       "\n",
       "[2 rows x 21 columns]"
      ]
     },
     "metadata": {},
     "output_type": "display_data"
    }
   ],
   "source": [
    "print('Number of SMILES available on the database: %s' % len(dataset))\n",
    "print('Number of SMILES below %.1f meV: %s' %(energy_cutoff_value, len(df_1)))\n",
    "display(df_1)"
   ]
  },
  {
   "cell_type": "code",
   "execution_count": 271,
   "metadata": {},
   "outputs": [
    {
     "name": "stdout",
     "output_type": "stream",
     "text": [
      "Number of SMILES available on the database: 133885\n",
      "Number of SMILES below 10.0 meV: 2\n"
     ]
    },
    {
     "data": {
      "text/html": [
       "<div>\n",
       "<style scoped>\n",
       "    .dataframe tbody tr th:only-of-type {\n",
       "        vertical-align: middle;\n",
       "    }\n",
       "\n",
       "    .dataframe tbody tr th {\n",
       "        vertical-align: top;\n",
       "    }\n",
       "\n",
       "    .dataframe thead th {\n",
       "        text-align: right;\n",
       "    }\n",
       "</style>\n",
       "<table border=\"1\" class=\"dataframe\">\n",
       "  <thead>\n",
       "    <tr style=\"text-align: right;\">\n",
       "      <th></th>\n",
       "      <th>Mol_ID</th>\n",
       "      <th>SMILES</th>\n",
       "      <th>A</th>\n",
       "      <th>B</th>\n",
       "      <th>C</th>\n",
       "      <th>Mu</th>\n",
       "      <th>Alpha</th>\n",
       "      <th>HOMO</th>\n",
       "      <th>LUMO</th>\n",
       "      <th>E. Gap</th>\n",
       "      <th>...</th>\n",
       "      <th>ZPVE</th>\n",
       "      <th>U0</th>\n",
       "      <th>U298</th>\n",
       "      <th>H298</th>\n",
       "      <th>G298</th>\n",
       "      <th>CV</th>\n",
       "      <th>U0_atom</th>\n",
       "      <th>U298_atom</th>\n",
       "      <th>H298_atom</th>\n",
       "      <th>G298_atom</th>\n",
       "    </tr>\n",
       "  </thead>\n",
       "  <tbody>\n",
       "    <tr>\n",
       "      <th>1</th>\n",
       "      <td>gdb_2</td>\n",
       "      <td>N</td>\n",
       "      <td>293.60975</td>\n",
       "      <td>293.54111</td>\n",
       "      <td>191.39397</td>\n",
       "      <td>1.6256</td>\n",
       "      <td>9.46</td>\n",
       "      <td>-0.2570</td>\n",
       "      <td>0.0829</td>\n",
       "      <td>0.3399</td>\n",
       "      <td>...</td>\n",
       "      <td>0.034358</td>\n",
       "      <td>-56.525887</td>\n",
       "      <td>-56.523026</td>\n",
       "      <td>-56.522082</td>\n",
       "      <td>-56.544961</td>\n",
       "      <td>6.316</td>\n",
       "      <td>-276.861363</td>\n",
       "      <td>-278.620271</td>\n",
       "      <td>-280.399259</td>\n",
       "      <td>-259.338802</td>\n",
       "    </tr>\n",
       "    <tr>\n",
       "      <th>2</th>\n",
       "      <td>gdb_3</td>\n",
       "      <td>O</td>\n",
       "      <td>799.58812</td>\n",
       "      <td>437.90386</td>\n",
       "      <td>282.94545</td>\n",
       "      <td>1.8511</td>\n",
       "      <td>6.31</td>\n",
       "      <td>-0.2928</td>\n",
       "      <td>0.0687</td>\n",
       "      <td>0.3615</td>\n",
       "      <td>...</td>\n",
       "      <td>0.021375</td>\n",
       "      <td>-76.404702</td>\n",
       "      <td>-76.401867</td>\n",
       "      <td>-76.400922</td>\n",
       "      <td>-76.422349</td>\n",
       "      <td>6.002</td>\n",
       "      <td>-213.087624</td>\n",
       "      <td>-213.974294</td>\n",
       "      <td>-215.159658</td>\n",
       "      <td>-201.407171</td>\n",
       "    </tr>\n",
       "  </tbody>\n",
       "</table>\n",
       "<p>2 rows × 21 columns</p>\n",
       "</div>"
      ],
      "text/plain": [
       "  Mol_ID SMILES          A          B          C      Mu  Alpha    HOMO  \\\n",
       "1  gdb_2      N  293.60975  293.54111  191.39397  1.6256   9.46 -0.2570   \n",
       "2  gdb_3      O  799.58812  437.90386  282.94545  1.8511   6.31 -0.2928   \n",
       "\n",
       "     LUMO  E. Gap  ...      ZPVE         U0       U298       H298       G298  \\\n",
       "1  0.0829  0.3399  ...  0.034358 -56.525887 -56.523026 -56.522082 -56.544961   \n",
       "2  0.0687  0.3615  ...  0.021375 -76.404702 -76.401867 -76.400922 -76.422349   \n",
       "\n",
       "      CV     U0_atom   U298_atom   H298_atom   G298_atom  \n",
       "1  6.316 -276.861363 -278.620271 -280.399259 -259.338802  \n",
       "2  6.002 -213.087624 -213.974294 -215.159658 -201.407171  \n",
       "\n",
       "[2 rows x 21 columns]"
      ]
     },
     "metadata": {},
     "output_type": "display_data"
    }
   ],
   "source": [
    "#Filtering data for U0_atom\n",
    "df_1 = df_1.dropna(subset=['U0_atom'])\n",
    "print('Number of SMILES available on the database: %s' % len(dataset))\n",
    "print('Number of SMILES below %.1f meV: %s' %(energy_cutoff_value, len(df_1)))\n",
    "display(df_1)"
   ]
  },
  {
   "cell_type": "code",
   "execution_count": 226,
   "metadata": {},
   "outputs": [
    {
     "ename": "TypeError",
     "evalue": "get_dataframe() got an unexpected keyword argument 'print_properties_options'",
     "output_type": "error",
     "traceback": [
      "\u001b[0;31m---------------------------------------------------------------------------\u001b[0m",
      "\u001b[0;31mTypeError\u001b[0m                                 Traceback (most recent call last)",
      "\u001b[0;32m<ipython-input-226-d50bb0542886>\u001b[0m in \u001b[0;36m<module>\u001b[0;34m\u001b[0m\n\u001b[0;32m----> 1\u001b[0;31m \u001b[0mdata\u001b[0m \u001b[0;34m=\u001b[0m \u001b[0mget_dataframe\u001b[0m\u001b[0;34m(\u001b[0m\u001b[0mprint_properties_options\u001b[0m\u001b[0;34m=\u001b[0m\u001b[0;32mTrue\u001b[0m\u001b[0;34m)\u001b[0m\u001b[0;34m\u001b[0m\u001b[0;34m\u001b[0m\u001b[0m\n\u001b[0m\u001b[1;32m      2\u001b[0m \u001b[0mdisplay\u001b[0m\u001b[0;34m(\u001b[0m\u001b[0mdata\u001b[0m\u001b[0;34m.\u001b[0m\u001b[0mhead\u001b[0m\u001b[0;34m(\u001b[0m\u001b[0mn\u001b[0m\u001b[0;34m=\u001b[0m\u001b[0;36m10\u001b[0m\u001b[0;34m)\u001b[0m\u001b[0;34m)\u001b[0m\u001b[0;34m\u001b[0m\u001b[0;34m\u001b[0m\u001b[0m\n",
      "\u001b[0;31mTypeError\u001b[0m: get_dataframe() got an unexpected keyword argument 'print_properties_options'"
     ]
    }
   ],
   "source": [
    "data = get_dataframe(print_properties_options=True)\n",
    "display(data.head(n=10))"
   ]
  },
  {
   "cell_type": "code",
   "execution_count": 190,
   "metadata": {},
   "outputs": [
    {
     "ename": "SyntaxError",
     "evalue": "invalid syntax (<unknown>, line 1)",
     "output_type": "error",
     "traceback": [
      "Traceback \u001b[0;36m(most recent call last)\u001b[0m:\n",
      "  File \u001b[1;32m\"/apps/share64/debian10/anaconda/anaconda-7/lib/python3.8/site-packages/IPython/core/interactiveshell.py\"\u001b[0m, line \u001b[1;32m3441\u001b[0m, in \u001b[1;35mrun_code\u001b[0m\n    exec(code_obj, self.user_global_ns, self.user_ns)\n",
      "  File \u001b[1;32m\"<ipython-input-190-acd4b2c4f6a1>\"\u001b[0m, line \u001b[1;32m5\u001b[0m, in \u001b[1;35m<module>\u001b[0m\n    res = client.query(mol_id +' alpha')\n",
      "  File \u001b[1;32m\"/apps/share64/debian10/anaconda/anaconda-7/lib/python3.8/site-packages/pandas/core/frame.py\"\u001b[0m, line \u001b[1;32m3469\u001b[0m, in \u001b[1;35mquery\u001b[0m\n    res = self.eval(expr, **kwargs)\n",
      "  File \u001b[1;32m\"/apps/share64/debian10/anaconda/anaconda-7/lib/python3.8/site-packages/pandas/core/frame.py\"\u001b[0m, line \u001b[1;32m3599\u001b[0m, in \u001b[1;35meval\u001b[0m\n    return _eval(expr, inplace=inplace, **kwargs)\n",
      "  File \u001b[1;32m\"/apps/share64/debian10/anaconda/anaconda-7/lib/python3.8/site-packages/pandas/core/computation/eval.py\"\u001b[0m, line \u001b[1;32m342\u001b[0m, in \u001b[1;35meval\u001b[0m\n    parsed_expr = Expr(expr, engine=engine, parser=parser, env=env)\n",
      "  File \u001b[1;32m\"/apps/share64/debian10/anaconda/anaconda-7/lib/python3.8/site-packages/pandas/core/computation/expr.py\"\u001b[0m, line \u001b[1;32m798\u001b[0m, in \u001b[1;35m__init__\u001b[0m\n    self.terms = self.parse()\n",
      "  File \u001b[1;32m\"/apps/share64/debian10/anaconda/anaconda-7/lib/python3.8/site-packages/pandas/core/computation/expr.py\"\u001b[0m, line \u001b[1;32m817\u001b[0m, in \u001b[1;35mparse\u001b[0m\n    return self._visitor.visit(self.expr)\n",
      "  File \u001b[1;32m\"/apps/share64/debian10/anaconda/anaconda-7/lib/python3.8/site-packages/pandas/core/computation/expr.py\"\u001b[0m, line \u001b[1;32m397\u001b[0m, in \u001b[1;35mvisit\u001b[0m\n    raise e\n",
      "  File \u001b[1;32m\"/apps/share64/debian10/anaconda/anaconda-7/lib/python3.8/site-packages/pandas/core/computation/expr.py\"\u001b[0m, line \u001b[1;32m393\u001b[0m, in \u001b[1;35mvisit\u001b[0m\n    node = ast.fix_missing_locations(ast.parse(clean))\n",
      "\u001b[0;36m  File \u001b[0;32m\"/apps/share64/debian10/anaconda/anaconda-7/lib/python3.8/ast.py\"\u001b[0;36m, line \u001b[0;32m47\u001b[0;36m, in \u001b[0;35mparse\u001b[0;36m\u001b[0m\n\u001b[0;31m    return compile(source, filename, mode, flags,\u001b[0m\n",
      "\u001b[0;36m  File \u001b[0;32m\"<unknown>\"\u001b[0;36m, line \u001b[0;32m1\u001b[0m\n\u001b[0;31m    gdb_51741 alpha\u001b[0m\n\u001b[0m              ^\u001b[0m\n\u001b[0;31mSyntaxError\u001b[0m\u001b[0;31m:\u001b[0m invalid syntax\n"
     ]
    }
   ],
   "source": [
    "client = (dataset)\n",
    "temp_list = []\n",
    "query_list_all = ['gdb_51741','gdb_18950','gdb_27393','gdb_43226']\n",
    "for mol_id in query_list_all:\n",
    "    res = client.query(mol_id +' alpha')\n",
    "    print(mol_id, next(res.results).text)\n",
    "    alph = float(next(res.results).text[:-21])\n",
    "    temp_list.append(alph)\n",
    "\n",
    "import matplotlib.pyplot as plt\n",
    "\n",
    "plt.barh(query_list_all,temp_list,align='center',label='Query')\n",
    "for i,v in enumerate(temp_list):\n",
    "    plt.text(v + 3, i , int(v), color='black',fontsize=14)\n",
    "plt.xlabel('alpha [Bohr$^{3}$]',fontsize=16)\n",
    "plt.ylabel('mol_id',fontsize=16)\n",
    "plt.yticks(fontsize=16)\n",
    "plt.xticks(fontsize=16)\n",
    "plt.grid()\n",
    "plt.show()\n",
    "\n",
    "    "
   ]
  },
  {
   "cell_type": "code",
   "execution_count": null,
   "metadata": {},
   "outputs": [],
   "source": []
  },
  {
   "cell_type": "code",
   "execution_count": 138,
   "metadata": {},
   "outputs": [
    {
     "data": {
      "text/html": [
       "<div>\n",
       "<style scoped>\n",
       "    .dataframe tbody tr th:only-of-type {\n",
       "        vertical-align: middle;\n",
       "    }\n",
       "\n",
       "    .dataframe tbody tr th {\n",
       "        vertical-align: top;\n",
       "    }\n",
       "\n",
       "    .dataframe thead th {\n",
       "        text-align: right;\n",
       "    }\n",
       "</style>\n",
       "<table border=\"1\" class=\"dataframe\">\n",
       "  <thead>\n",
       "    <tr style=\"text-align: right;\">\n",
       "      <th></th>\n",
       "      <th>mol_id</th>\n",
       "      <th>smiles</th>\n",
       "      <th>A</th>\n",
       "      <th>B</th>\n",
       "      <th>C</th>\n",
       "      <th>mu</th>\n",
       "      <th>alpha</th>\n",
       "      <th>homo</th>\n",
       "      <th>lumo</th>\n",
       "      <th>gap</th>\n",
       "      <th>...</th>\n",
       "      <th>zpve</th>\n",
       "      <th>u0</th>\n",
       "      <th>u298</th>\n",
       "      <th>h298</th>\n",
       "      <th>g298</th>\n",
       "      <th>cv</th>\n",
       "      <th>u0_atom</th>\n",
       "      <th>u298_atom</th>\n",
       "      <th>h298_atom</th>\n",
       "      <th>g298_atom</th>\n",
       "    </tr>\n",
       "  </thead>\n",
       "  <tbody>\n",
       "    <tr>\n",
       "      <th>43225</th>\n",
       "      <td>gdb_43226</td>\n",
       "      <td>O=C1C2CCCC1C=C2</td>\n",
       "      <td>2.19575</td>\n",
       "      <td>1.83375</td>\n",
       "      <td>1.78978</td>\n",
       "      <td>2.8898</td>\n",
       "      <td>78.73</td>\n",
       "      <td>-0.2330</td>\n",
       "      <td>-0.0029</td>\n",
       "      <td>0.2301</td>\n",
       "      <td>...</td>\n",
       "      <td>0.162755</td>\n",
       "      <td>-385.930699</td>\n",
       "      <td>-385.923667</td>\n",
       "      <td>-385.922723</td>\n",
       "      <td>-385.961801</td>\n",
       "      <td>29.000</td>\n",
       "      <td>-1938.509588</td>\n",
       "      <td>-1950.984467</td>\n",
       "      <td>-1961.653375</td>\n",
       "      <td>-1808.771475</td>\n",
       "    </tr>\n",
       "    <tr>\n",
       "      <th>18949</th>\n",
       "      <td>gdb_18950</td>\n",
       "      <td>O=CC1C2C3CC2N13</td>\n",
       "      <td>5.76254</td>\n",
       "      <td>1.67862</td>\n",
       "      <td>1.56959</td>\n",
       "      <td>2.2243</td>\n",
       "      <td>65.83</td>\n",
       "      <td>-0.2456</td>\n",
       "      <td>-0.0355</td>\n",
       "      <td>0.2101</td>\n",
       "      <td>...</td>\n",
       "      <td>0.118824</td>\n",
       "      <td>-362.561835</td>\n",
       "      <td>-362.555470</td>\n",
       "      <td>-362.554526</td>\n",
       "      <td>-362.592646</td>\n",
       "      <td>24.065</td>\n",
       "      <td>-1462.630608</td>\n",
       "      <td>-1471.968569</td>\n",
       "      <td>-1480.266121</td>\n",
       "      <td>-1361.585343</td>\n",
       "    </tr>\n",
       "    <tr>\n",
       "      <th>65056</th>\n",
       "      <td>gdb_65057</td>\n",
       "      <td>CC1(CO1)C1(CO1)C#C</td>\n",
       "      <td>2.33460</td>\n",
       "      <td>1.50396</td>\n",
       "      <td>1.24794</td>\n",
       "      <td>2.5230</td>\n",
       "      <td>73.97</td>\n",
       "      <td>-0.2620</td>\n",
       "      <td>0.0181</td>\n",
       "      <td>0.2801</td>\n",
       "      <td>...</td>\n",
       "      <td>0.132144</td>\n",
       "      <td>-421.745993</td>\n",
       "      <td>-421.736936</td>\n",
       "      <td>-421.735992</td>\n",
       "      <td>-421.779716</td>\n",
       "      <td>33.773</td>\n",
       "      <td>-1686.271678</td>\n",
       "      <td>-1695.698118</td>\n",
       "      <td>-1705.181034</td>\n",
       "      <td>-1571.293204</td>\n",
       "    </tr>\n",
       "    <tr>\n",
       "      <th>27392</th>\n",
       "      <td>gdb_27393</td>\n",
       "      <td>c1c([nH]c(nc1=O)N)O</td>\n",
       "      <td>2.01530</td>\n",
       "      <td>1.87826</td>\n",
       "      <td>0.97339</td>\n",
       "      <td>7.1395</td>\n",
       "      <td>67.95</td>\n",
       "      <td>-0.2213</td>\n",
       "      <td>0.0039</td>\n",
       "      <td>0.2252</td>\n",
       "      <td>...</td>\n",
       "      <td>0.102825</td>\n",
       "      <td>-470.075554</td>\n",
       "      <td>-470.067765</td>\n",
       "      <td>-470.066821</td>\n",
       "      <td>-470.107671</td>\n",
       "      <td>29.926</td>\n",
       "      <td>-1447.261657</td>\n",
       "      <td>-1454.816238</td>\n",
       "      <td>-1462.520166</td>\n",
       "      <td>-1350.407526</td>\n",
       "    </tr>\n",
       "    <tr>\n",
       "      <th>51740</th>\n",
       "      <td>gdb_51741</td>\n",
       "      <td>O=COC1CCC11CN1</td>\n",
       "      <td>2.95255</td>\n",
       "      <td>1.08628</td>\n",
       "      <td>0.88017</td>\n",
       "      <td>2.6332</td>\n",
       "      <td>74.49</td>\n",
       "      <td>-0.2540</td>\n",
       "      <td>0.0016</td>\n",
       "      <td>0.2555</td>\n",
       "      <td>...</td>\n",
       "      <td>0.147164</td>\n",
       "      <td>-439.065902</td>\n",
       "      <td>-439.057354</td>\n",
       "      <td>-439.056409</td>\n",
       "      <td>-439.100076</td>\n",
       "      <td>31.201</td>\n",
       "      <td>-1738.070663</td>\n",
       "      <td>-1748.704431</td>\n",
       "      <td>-1758.779715</td>\n",
       "      <td>-1616.381608</td>\n",
       "    </tr>\n",
       "    <tr>\n",
       "      <th>...</th>\n",
       "      <td>...</td>\n",
       "      <td>...</td>\n",
       "      <td>...</td>\n",
       "      <td>...</td>\n",
       "      <td>...</td>\n",
       "      <td>...</td>\n",
       "      <td>...</td>\n",
       "      <td>...</td>\n",
       "      <td>...</td>\n",
       "      <td>...</td>\n",
       "      <td>...</td>\n",
       "      <td>...</td>\n",
       "      <td>...</td>\n",
       "      <td>...</td>\n",
       "      <td>...</td>\n",
       "      <td>...</td>\n",
       "      <td>...</td>\n",
       "      <td>...</td>\n",
       "      <td>...</td>\n",
       "      <td>...</td>\n",
       "      <td>...</td>\n",
       "    </tr>\n",
       "    <tr>\n",
       "      <th>41993</th>\n",
       "      <td>gdb_41994</td>\n",
       "      <td>C1CC2NCCN=C2O1</td>\n",
       "      <td>3.31362</td>\n",
       "      <td>1.52002</td>\n",
       "      <td>1.10654</td>\n",
       "      <td>3.9253</td>\n",
       "      <td>77.26</td>\n",
       "      <td>-0.2273</td>\n",
       "      <td>0.0299</td>\n",
       "      <td>0.2571</td>\n",
       "      <td>...</td>\n",
       "      <td>0.163934</td>\n",
       "      <td>-419.223780</td>\n",
       "      <td>-419.216601</td>\n",
       "      <td>-419.215656</td>\n",
       "      <td>-419.255298</td>\n",
       "      <td>28.666</td>\n",
       "      <td>-1824.869591</td>\n",
       "      <td>-1837.250971</td>\n",
       "      <td>-1847.919251</td>\n",
       "      <td>-1694.776307</td>\n",
       "    </tr>\n",
       "    <tr>\n",
       "      <th>97639</th>\n",
       "      <td>gdb_97640</td>\n",
       "      <td>CNC(C=O)C#CCO</td>\n",
       "      <td>3.16977</td>\n",
       "      <td>0.69866</td>\n",
       "      <td>0.61431</td>\n",
       "      <td>1.4055</td>\n",
       "      <td>79.32</td>\n",
       "      <td>-0.2296</td>\n",
       "      <td>-0.0356</td>\n",
       "      <td>0.1939</td>\n",
       "      <td>...</td>\n",
       "      <td>0.144390</td>\n",
       "      <td>-439.035598</td>\n",
       "      <td>-439.024756</td>\n",
       "      <td>-439.023812</td>\n",
       "      <td>-439.073858</td>\n",
       "      <td>36.252</td>\n",
       "      <td>-1719.054630</td>\n",
       "      <td>-1728.248892</td>\n",
       "      <td>-1738.324804</td>\n",
       "      <td>-1599.929577</td>\n",
       "    </tr>\n",
       "    <tr>\n",
       "      <th>95939</th>\n",
       "      <td>gdb_95940</td>\n",
       "      <td>CC1CCCC1(C)C=O</td>\n",
       "      <td>1.96143</td>\n",
       "      <td>1.50843</td>\n",
       "      <td>1.18118</td>\n",
       "      <td>2.6202</td>\n",
       "      <td>85.17</td>\n",
       "      <td>-0.2449</td>\n",
       "      <td>-0.0156</td>\n",
       "      <td>0.2293</td>\n",
       "      <td>...</td>\n",
       "      <td>0.205254</td>\n",
       "      <td>-388.325715</td>\n",
       "      <td>-388.316013</td>\n",
       "      <td>-388.315069</td>\n",
       "      <td>-388.360743</td>\n",
       "      <td>36.745</td>\n",
       "      <td>-2185.700443</td>\n",
       "      <td>-2200.054084</td>\n",
       "      <td>-2213.094976</td>\n",
       "      <td>-2031.684007</td>\n",
       "    </tr>\n",
       "    <tr>\n",
       "      <th>117952</th>\n",
       "      <td>gdb_117953</td>\n",
       "      <td>CCOC(C)C(=O)OC</td>\n",
       "      <td>2.06763</td>\n",
       "      <td>1.12825</td>\n",
       "      <td>0.80717</td>\n",
       "      <td>2.4356</td>\n",
       "      <td>77.12</td>\n",
       "      <td>-0.2479</td>\n",
       "      <td>0.0066</td>\n",
       "      <td>0.2545</td>\n",
       "      <td>...</td>\n",
       "      <td>0.178938</td>\n",
       "      <td>-461.391550</td>\n",
       "      <td>-461.380366</td>\n",
       "      <td>-461.379422</td>\n",
       "      <td>-461.429278</td>\n",
       "      <td>38.097</td>\n",
       "      <td>-1954.003413</td>\n",
       "      <td>-1965.648725</td>\n",
       "      <td>-1977.503625</td>\n",
       "      <td>-1814.540165</td>\n",
       "    </tr>\n",
       "    <tr>\n",
       "      <th>43567</th>\n",
       "      <td>gdb_43568</td>\n",
       "      <td>N=C1NC(C#C)C2OC12</td>\n",
       "      <td>3.32020</td>\n",
       "      <td>1.36239</td>\n",
       "      <td>1.11474</td>\n",
       "      <td>3.3185</td>\n",
       "      <td>73.15</td>\n",
       "      <td>-0.2396</td>\n",
       "      <td>0.0119</td>\n",
       "      <td>0.2516</td>\n",
       "      <td>...</td>\n",
       "      <td>0.112760</td>\n",
       "      <td>-416.755911</td>\n",
       "      <td>-416.748140</td>\n",
       "      <td>-416.747196</td>\n",
       "      <td>-416.788269</td>\n",
       "      <td>29.651</td>\n",
       "      <td>-1531.962822</td>\n",
       "      <td>-1540.418506</td>\n",
       "      <td>-1548.715430</td>\n",
       "      <td>-1429.138570</td>\n",
       "    </tr>\n",
       "  </tbody>\n",
       "</table>\n",
       "<p>133885 rows × 21 columns</p>\n",
       "</div>"
      ],
      "text/plain": [
       "            mol_id               smiles        A        B        C      mu  \\\n",
       "43225    gdb_43226      O=C1C2CCCC1C=C2  2.19575  1.83375  1.78978  2.8898   \n",
       "18949    gdb_18950      O=CC1C2C3CC2N13  5.76254  1.67862  1.56959  2.2243   \n",
       "65056    gdb_65057   CC1(CO1)C1(CO1)C#C  2.33460  1.50396  1.24794  2.5230   \n",
       "27392    gdb_27393  c1c([nH]c(nc1=O)N)O  2.01530  1.87826  0.97339  7.1395   \n",
       "51740    gdb_51741       O=COC1CCC11CN1  2.95255  1.08628  0.88017  2.6332   \n",
       "...            ...                  ...      ...      ...      ...     ...   \n",
       "41993    gdb_41994       C1CC2NCCN=C2O1  3.31362  1.52002  1.10654  3.9253   \n",
       "97639    gdb_97640        CNC(C=O)C#CCO  3.16977  0.69866  0.61431  1.4055   \n",
       "95939    gdb_95940       CC1CCCC1(C)C=O  1.96143  1.50843  1.18118  2.6202   \n",
       "117952  gdb_117953       CCOC(C)C(=O)OC  2.06763  1.12825  0.80717  2.4356   \n",
       "43567    gdb_43568    N=C1NC(C#C)C2OC12  3.32020  1.36239  1.11474  3.3185   \n",
       "\n",
       "        alpha    homo    lumo     gap  ...      zpve          u0        u298  \\\n",
       "43225   78.73 -0.2330 -0.0029  0.2301  ...  0.162755 -385.930699 -385.923667   \n",
       "18949   65.83 -0.2456 -0.0355  0.2101  ...  0.118824 -362.561835 -362.555470   \n",
       "65056   73.97 -0.2620  0.0181  0.2801  ...  0.132144 -421.745993 -421.736936   \n",
       "27392   67.95 -0.2213  0.0039  0.2252  ...  0.102825 -470.075554 -470.067765   \n",
       "51740   74.49 -0.2540  0.0016  0.2555  ...  0.147164 -439.065902 -439.057354   \n",
       "...       ...     ...     ...     ...  ...       ...         ...         ...   \n",
       "41993   77.26 -0.2273  0.0299  0.2571  ...  0.163934 -419.223780 -419.216601   \n",
       "97639   79.32 -0.2296 -0.0356  0.1939  ...  0.144390 -439.035598 -439.024756   \n",
       "95939   85.17 -0.2449 -0.0156  0.2293  ...  0.205254 -388.325715 -388.316013   \n",
       "117952  77.12 -0.2479  0.0066  0.2545  ...  0.178938 -461.391550 -461.380366   \n",
       "43567   73.15 -0.2396  0.0119  0.2516  ...  0.112760 -416.755911 -416.748140   \n",
       "\n",
       "              h298        g298      cv      u0_atom    u298_atom    h298_atom  \\\n",
       "43225  -385.922723 -385.961801  29.000 -1938.509588 -1950.984467 -1961.653375   \n",
       "18949  -362.554526 -362.592646  24.065 -1462.630608 -1471.968569 -1480.266121   \n",
       "65056  -421.735992 -421.779716  33.773 -1686.271678 -1695.698118 -1705.181034   \n",
       "27392  -470.066821 -470.107671  29.926 -1447.261657 -1454.816238 -1462.520166   \n",
       "51740  -439.056409 -439.100076  31.201 -1738.070663 -1748.704431 -1758.779715   \n",
       "...            ...         ...     ...          ...          ...          ...   \n",
       "41993  -419.215656 -419.255298  28.666 -1824.869591 -1837.250971 -1847.919251   \n",
       "97639  -439.023812 -439.073858  36.252 -1719.054630 -1728.248892 -1738.324804   \n",
       "95939  -388.315069 -388.360743  36.745 -2185.700443 -2200.054084 -2213.094976   \n",
       "117952 -461.379422 -461.429278  38.097 -1954.003413 -1965.648725 -1977.503625   \n",
       "43567  -416.747196 -416.788269  29.651 -1531.962822 -1540.418506 -1548.715430   \n",
       "\n",
       "          g298_atom  \n",
       "43225  -1808.771475  \n",
       "18949  -1361.585343  \n",
       "65056  -1571.293204  \n",
       "27392  -1350.407526  \n",
       "51740  -1616.381608  \n",
       "...             ...  \n",
       "41993  -1694.776307  \n",
       "97639  -1599.929577  \n",
       "95939  -2031.684007  \n",
       "117952 -1814.540165  \n",
       "43567  -1429.138570  \n",
       "\n",
       "[133885 rows x 21 columns]"
      ]
     },
     "metadata": {},
     "output_type": "display_data"
    },
    {
     "data": {
      "text/html": [
       "<div>\n",
       "<style scoped>\n",
       "    .dataframe tbody tr th:only-of-type {\n",
       "        vertical-align: middle;\n",
       "    }\n",
       "\n",
       "    .dataframe tbody tr th {\n",
       "        vertical-align: top;\n",
       "    }\n",
       "\n",
       "    .dataframe thead th {\n",
       "        text-align: right;\n",
       "    }\n",
       "</style>\n",
       "<table border=\"1\" class=\"dataframe\">\n",
       "  <thead>\n",
       "    <tr style=\"text-align: right;\">\n",
       "      <th></th>\n",
       "      <th>mol_id</th>\n",
       "      <th>smiles</th>\n",
       "      <th>A</th>\n",
       "      <th>B</th>\n",
       "      <th>C</th>\n",
       "      <th>mu</th>\n",
       "      <th>alpha</th>\n",
       "      <th>homo</th>\n",
       "      <th>lumo</th>\n",
       "      <th>gap</th>\n",
       "      <th>...</th>\n",
       "      <th>zpve</th>\n",
       "      <th>u0</th>\n",
       "      <th>u298</th>\n",
       "      <th>h298</th>\n",
       "      <th>g298</th>\n",
       "      <th>cv</th>\n",
       "      <th>u0_atom</th>\n",
       "      <th>u298_atom</th>\n",
       "      <th>h298_atom</th>\n",
       "      <th>g298_atom</th>\n",
       "    </tr>\n",
       "  </thead>\n",
       "  <tbody>\n",
       "    <tr>\n",
       "      <th>1</th>\n",
       "      <td>gdb_2</td>\n",
       "      <td>N</td>\n",
       "      <td>293.60975</td>\n",
       "      <td>293.54111</td>\n",
       "      <td>191.39397</td>\n",
       "      <td>1.6256</td>\n",
       "      <td>9.46</td>\n",
       "      <td>-0.2570</td>\n",
       "      <td>0.0829</td>\n",
       "      <td>0.3399</td>\n",
       "      <td>...</td>\n",
       "      <td>0.034358</td>\n",
       "      <td>-56.525887</td>\n",
       "      <td>-56.523026</td>\n",
       "      <td>-56.522082</td>\n",
       "      <td>-56.544961</td>\n",
       "      <td>6.316</td>\n",
       "      <td>-276.861363</td>\n",
       "      <td>-278.620271</td>\n",
       "      <td>-280.399259</td>\n",
       "      <td>-259.338802</td>\n",
       "    </tr>\n",
       "    <tr>\n",
       "      <th>2</th>\n",
       "      <td>gdb_3</td>\n",
       "      <td>O</td>\n",
       "      <td>799.58812</td>\n",
       "      <td>437.90386</td>\n",
       "      <td>282.94545</td>\n",
       "      <td>1.8511</td>\n",
       "      <td>6.31</td>\n",
       "      <td>-0.2928</td>\n",
       "      <td>0.0687</td>\n",
       "      <td>0.3615</td>\n",
       "      <td>...</td>\n",
       "      <td>0.021375</td>\n",
       "      <td>-76.404702</td>\n",
       "      <td>-76.401867</td>\n",
       "      <td>-76.400922</td>\n",
       "      <td>-76.422349</td>\n",
       "      <td>6.002</td>\n",
       "      <td>-213.087624</td>\n",
       "      <td>-213.974294</td>\n",
       "      <td>-215.159658</td>\n",
       "      <td>-201.407171</td>\n",
       "    </tr>\n",
       "  </tbody>\n",
       "</table>\n",
       "<p>2 rows × 21 columns</p>\n",
       "</div>"
      ],
      "text/plain": [
       "  mol_id smiles          A          B          C      mu  alpha    homo  \\\n",
       "1  gdb_2      N  293.60975  293.54111  191.39397  1.6256   9.46 -0.2570   \n",
       "2  gdb_3      O  799.58812  437.90386  282.94545  1.8511   6.31 -0.2928   \n",
       "\n",
       "     lumo     gap  ...      zpve         u0       u298       h298       g298  \\\n",
       "1  0.0829  0.3399  ...  0.034358 -56.525887 -56.523026 -56.522082 -56.544961   \n",
       "2  0.0687  0.3615  ...  0.021375 -76.404702 -76.401867 -76.400922 -76.422349   \n",
       "\n",
       "      cv     u0_atom   u298_atom   h298_atom   g298_atom  \n",
       "1  6.316 -276.861363 -278.620271 -280.399259 -259.338802  \n",
       "2  6.002 -213.087624 -213.974294 -215.159658 -201.407171  \n",
       "\n",
       "[2 rows x 21 columns]"
      ]
     },
     "metadata": {},
     "output_type": "display_data"
    },
    {
     "data": {
      "text/html": [
       "<div>\n",
       "<style scoped>\n",
       "    .dataframe tbody tr th:only-of-type {\n",
       "        vertical-align: middle;\n",
       "    }\n",
       "\n",
       "    .dataframe tbody tr th {\n",
       "        vertical-align: top;\n",
       "    }\n",
       "\n",
       "    .dataframe thead th {\n",
       "        text-align: right;\n",
       "    }\n",
       "</style>\n",
       "<table border=\"1\" class=\"dataframe\">\n",
       "  <thead>\n",
       "    <tr style=\"text-align: right;\">\n",
       "      <th></th>\n",
       "      <th>mol_id</th>\n",
       "      <th>smiles</th>\n",
       "      <th>A</th>\n",
       "      <th>B</th>\n",
       "      <th>C</th>\n",
       "      <th>mu</th>\n",
       "      <th>alpha</th>\n",
       "      <th>homo</th>\n",
       "      <th>lumo</th>\n",
       "      <th>gap</th>\n",
       "      <th>...</th>\n",
       "      <th>zpve</th>\n",
       "      <th>u0</th>\n",
       "      <th>u298</th>\n",
       "      <th>h298</th>\n",
       "      <th>g298</th>\n",
       "      <th>cv</th>\n",
       "      <th>u0_atom</th>\n",
       "      <th>u298_atom</th>\n",
       "      <th>h298_atom</th>\n",
       "      <th>g298_atom</th>\n",
       "    </tr>\n",
       "  </thead>\n",
       "  <tbody>\n",
       "  </tbody>\n",
       "</table>\n",
       "<p>0 rows × 21 columns</p>\n",
       "</div>"
      ],
      "text/plain": [
       "Empty DataFrame\n",
       "Columns: [mol_id, smiles, A, B, C, mu, alpha, homo, lumo, gap, r2, zpve, u0, u298, h298, g298, cv, u0_atom, u298_atom, h298_atom, g298_atom]\n",
       "Index: []\n",
       "\n",
       "[0 rows x 21 columns]"
      ]
     },
     "metadata": {},
     "output_type": "display_data"
    }
   ],
   "source": [
    "#sns.distplot(dataset[\"measured log solubility in mols per litre\"])\n",
    "df = pd.DataFrame(dataset)\n",
    "display(df)\n",
    "df_condition = df[(df['alpha'] < 10) & (df[\"gap\"] > 0.25)]\n",
    "# \"alpha\" - Isotropic polarizability (unit: Bohr^3)\n",
    "# \"gap\" - Gap between HOMO and LUMO (unit: Hartree)\n",
    "#\"mol_id\" - Molecule ID (gdb9 index) mapping to the .sdf file\n",
    "#\"A\" - Rotational constant (unit: GHz)\n",
    "#\"B\" - Rotational constant (unit: GHz)\n",
    "#\"C\" - Rotational constant (unit: GHz)\n",
    "#\"mu\" - Dipole moment (unit: D)\n",
    "#\"alpha\" - Isotropic polarizability (unit: Bohr^3)\n",
    "#\"homo\" - Highest occupied molecular orbital energy (unit: Hartree)\n",
    "#\"lumo\" - Lowest unoccupied molecular orbital energy (unit: Hartree)\n",
    "#\"gap\" - Gap between HOMO and LUMO (unit: Hartree)\n",
    "#\"r2\" - Electronic spatial extent (unit: Bohr^2)\n",
    "#\"zpve\" - Zero point vibrational energy (unit: Hartree)\n",
    "#\"u0\" - Internal energy at 0K (unit: Hartree)\n",
    "#\"u298\" - Internal energy at 298.15K (unit: Hartree)\n",
    "#\"h298\" - Enthalpy at 298.15K (unit: Hartree)\n",
    "#\"g298\" - Free energy at 298.15K (unit: Hartree)\n",
    "#\"cv\" - Heat capavity at 298.15K (unit: cal/(mol*K))\n",
    "#\"u0_atom\" - Atomization energy at 0K (unit: kcal/mol)\n",
    "#\"u298_atom\" - Atomization energy at 298.15K (unit: kcal/mol)\n",
    "#\"h298_atom\" - Atomization enthalpy at 298.15K (unit: kcal/mol)\n",
    "display(df_condition)\n",
    "df_homo = df[df.homo.eq(0.26)]\n",
    "display(df_homo)"
   ]
  },
  {
   "cell_type": "code",
   "execution_count": 7,
   "metadata": {},
   "outputs": [
    {
     "ename": "TypeError",
     "evalue": "'DataFrame' object is not callable",
     "output_type": "error",
     "traceback": [
      "\u001b[0;31m---------------------------------------------------------------------------\u001b[0m",
      "\u001b[0;31mTypeError\u001b[0m                                 Traceback (most recent call last)",
      "\u001b[0;32m<ipython-input-7-ae21689f50a8>\u001b[0m in \u001b[0;36m<module>\u001b[0;34m\u001b[0m\n\u001b[0;32m----> 1\u001b[0;31m \u001b[0mdata\u001b[0m \u001b[0;34m=\u001b[0m \u001b[0mdf\u001b[0m\u001b[0;34m(\u001b[0m\u001b[0mcriteria\u001b[0m\u001b[0;34m=\u001b[0m\u001b[0;34m{\u001b[0m\u001b[0;34m'df.index'\u001b[0m\u001b[0;34m:\u001b[0m \u001b[0;36m43567\u001b[0m\u001b[0;34m}\u001b[0m\u001b[0;34m,\u001b[0m \u001b[0mprint_properties_options\u001b[0m\u001b[0;34m=\u001b[0m\u001b[0;32mFalse\u001b[0m\u001b[0;34m)\u001b[0m\u001b[0;34m\u001b[0m\u001b[0;34m\u001b[0m\u001b[0m\n\u001b[0m\u001b[1;32m      2\u001b[0m \u001b[0;31m#display(data.head())\u001b[0m\u001b[0;34m\u001b[0m\u001b[0;34m\u001b[0m\u001b[0;34m\u001b[0m\u001b[0m\n\u001b[1;32m      3\u001b[0m \u001b[0mdisplay\u001b[0m\u001b[0;34m(\u001b[0m\u001b[0mdata\u001b[0m\u001b[0;34m)\u001b[0m\u001b[0;34m\u001b[0m\u001b[0;34m\u001b[0m\u001b[0m\n",
      "\u001b[0;31mTypeError\u001b[0m: 'DataFrame' object is not callable"
     ]
    }
   ],
   "source": [
    "data = df(criteria={'df.index': 43567}, print_properties_options=False)\n",
    "#display(data.head())\n",
    "display(data)"
   ]
  },
  {
   "cell_type": "markdown",
   "metadata": {},
   "source": []
  },
  {
   "cell_type": "code",
   "execution_count": 139,
   "metadata": {},
   "outputs": [
    {
     "data": {
      "application/vnd.plotly.v1+json": {
       "config": {
        "plotlyServerURL": "https://plot.ly"
       },
       "data": [
        {
         "alignmentgroup": "True",
         "hovertemplate": "smiles=%{x}<br>mol_id=%{y}<extra></extra>",
         "legendgroup": "",
         "marker": {
          "color": "#636efa"
         },
         "name": "",
         "offsetgroup": "",
         "orientation": "v",
         "showlegend": false,
         "textposition": "auto",
         "type": "bar",
         "x": [
          "O=C1C2CCCC1C=C2",
          "O=CC1C2C3CC2N13",
          "CC1(CO1)C1(CO1)C#C",
          "c1c([nH]c(nc1=O)N)O",
          "O=COC1CCC11CN1",
          "CC1C(C#C)C1(N)C#N",
          "CCOC1(C)CCOC1",
          "OCC1OC11CC2NC12",
          "CC1C=C2CN3CC1C23",
          "CC1=C2CCCC2CC1",
          "c1cnc(cc1N)O",
          "CCC#CCC",
          "N=C1OCC11CN1C=O",
          "CC1(COC1)C(C)(C)C",
          "CN=COC1COC1",
          "COC=NCC(=O)OC",
          "CC(=N)N(C=O)C(=O)N",
          "COCC(O)C(N)C#N",
          "CC1C(C)C1CNC=O",
          "NC1=C(F)N=NNC1=N"
         ],
         "xaxis": "x",
         "y": [
          "gdb_43226",
          "gdb_18950",
          "gdb_65057",
          "gdb_27393",
          "gdb_51741",
          "gdb_76009",
          "gdb_119005",
          "gdb_113483",
          "gdb_84251",
          "gdb_74041",
          "gdb_4364",
          "gdb_517",
          "gdb_50014",
          "gdb_57352",
          "gdb_13266",
          "gdb_116756",
          "gdb_54014",
          "gdb_118022",
          "gdb_76712",
          "gdb_133329"
         ],
         "yaxis": "y"
        }
       ],
       "layout": {
        "barmode": "group",
        "legend": {
         "tracegroupgap": 0
        },
        "margin": {
         "t": 60
        },
        "template": {
         "data": {
          "bar": [
           {
            "error_x": {
             "color": "#2a3f5f"
            },
            "error_y": {
             "color": "#2a3f5f"
            },
            "marker": {
             "line": {
              "color": "#E5ECF6",
              "width": 0.5
             }
            },
            "type": "bar"
           }
          ],
          "barpolar": [
           {
            "marker": {
             "line": {
              "color": "#E5ECF6",
              "width": 0.5
             }
            },
            "type": "barpolar"
           }
          ],
          "carpet": [
           {
            "aaxis": {
             "endlinecolor": "#2a3f5f",
             "gridcolor": "white",
             "linecolor": "white",
             "minorgridcolor": "white",
             "startlinecolor": "#2a3f5f"
            },
            "baxis": {
             "endlinecolor": "#2a3f5f",
             "gridcolor": "white",
             "linecolor": "white",
             "minorgridcolor": "white",
             "startlinecolor": "#2a3f5f"
            },
            "type": "carpet"
           }
          ],
          "choropleth": [
           {
            "colorbar": {
             "outlinewidth": 0,
             "ticks": ""
            },
            "type": "choropleth"
           }
          ],
          "contour": [
           {
            "colorbar": {
             "outlinewidth": 0,
             "ticks": ""
            },
            "colorscale": [
             [
              0,
              "#0d0887"
             ],
             [
              0.1111111111111111,
              "#46039f"
             ],
             [
              0.2222222222222222,
              "#7201a8"
             ],
             [
              0.3333333333333333,
              "#9c179e"
             ],
             [
              0.4444444444444444,
              "#bd3786"
             ],
             [
              0.5555555555555556,
              "#d8576b"
             ],
             [
              0.6666666666666666,
              "#ed7953"
             ],
             [
              0.7777777777777778,
              "#fb9f3a"
             ],
             [
              0.8888888888888888,
              "#fdca26"
             ],
             [
              1,
              "#f0f921"
             ]
            ],
            "type": "contour"
           }
          ],
          "contourcarpet": [
           {
            "colorbar": {
             "outlinewidth": 0,
             "ticks": ""
            },
            "type": "contourcarpet"
           }
          ],
          "heatmap": [
           {
            "colorbar": {
             "outlinewidth": 0,
             "ticks": ""
            },
            "colorscale": [
             [
              0,
              "#0d0887"
             ],
             [
              0.1111111111111111,
              "#46039f"
             ],
             [
              0.2222222222222222,
              "#7201a8"
             ],
             [
              0.3333333333333333,
              "#9c179e"
             ],
             [
              0.4444444444444444,
              "#bd3786"
             ],
             [
              0.5555555555555556,
              "#d8576b"
             ],
             [
              0.6666666666666666,
              "#ed7953"
             ],
             [
              0.7777777777777778,
              "#fb9f3a"
             ],
             [
              0.8888888888888888,
              "#fdca26"
             ],
             [
              1,
              "#f0f921"
             ]
            ],
            "type": "heatmap"
           }
          ],
          "heatmapgl": [
           {
            "colorbar": {
             "outlinewidth": 0,
             "ticks": ""
            },
            "colorscale": [
             [
              0,
              "#0d0887"
             ],
             [
              0.1111111111111111,
              "#46039f"
             ],
             [
              0.2222222222222222,
              "#7201a8"
             ],
             [
              0.3333333333333333,
              "#9c179e"
             ],
             [
              0.4444444444444444,
              "#bd3786"
             ],
             [
              0.5555555555555556,
              "#d8576b"
             ],
             [
              0.6666666666666666,
              "#ed7953"
             ],
             [
              0.7777777777777778,
              "#fb9f3a"
             ],
             [
              0.8888888888888888,
              "#fdca26"
             ],
             [
              1,
              "#f0f921"
             ]
            ],
            "type": "heatmapgl"
           }
          ],
          "histogram": [
           {
            "marker": {
             "colorbar": {
              "outlinewidth": 0,
              "ticks": ""
             }
            },
            "type": "histogram"
           }
          ],
          "histogram2d": [
           {
            "colorbar": {
             "outlinewidth": 0,
             "ticks": ""
            },
            "colorscale": [
             [
              0,
              "#0d0887"
             ],
             [
              0.1111111111111111,
              "#46039f"
             ],
             [
              0.2222222222222222,
              "#7201a8"
             ],
             [
              0.3333333333333333,
              "#9c179e"
             ],
             [
              0.4444444444444444,
              "#bd3786"
             ],
             [
              0.5555555555555556,
              "#d8576b"
             ],
             [
              0.6666666666666666,
              "#ed7953"
             ],
             [
              0.7777777777777778,
              "#fb9f3a"
             ],
             [
              0.8888888888888888,
              "#fdca26"
             ],
             [
              1,
              "#f0f921"
             ]
            ],
            "type": "histogram2d"
           }
          ],
          "histogram2dcontour": [
           {
            "colorbar": {
             "outlinewidth": 0,
             "ticks": ""
            },
            "colorscale": [
             [
              0,
              "#0d0887"
             ],
             [
              0.1111111111111111,
              "#46039f"
             ],
             [
              0.2222222222222222,
              "#7201a8"
             ],
             [
              0.3333333333333333,
              "#9c179e"
             ],
             [
              0.4444444444444444,
              "#bd3786"
             ],
             [
              0.5555555555555556,
              "#d8576b"
             ],
             [
              0.6666666666666666,
              "#ed7953"
             ],
             [
              0.7777777777777778,
              "#fb9f3a"
             ],
             [
              0.8888888888888888,
              "#fdca26"
             ],
             [
              1,
              "#f0f921"
             ]
            ],
            "type": "histogram2dcontour"
           }
          ],
          "mesh3d": [
           {
            "colorbar": {
             "outlinewidth": 0,
             "ticks": ""
            },
            "type": "mesh3d"
           }
          ],
          "parcoords": [
           {
            "line": {
             "colorbar": {
              "outlinewidth": 0,
              "ticks": ""
             }
            },
            "type": "parcoords"
           }
          ],
          "pie": [
           {
            "automargin": true,
            "type": "pie"
           }
          ],
          "scatter": [
           {
            "marker": {
             "colorbar": {
              "outlinewidth": 0,
              "ticks": ""
             }
            },
            "type": "scatter"
           }
          ],
          "scatter3d": [
           {
            "line": {
             "colorbar": {
              "outlinewidth": 0,
              "ticks": ""
             }
            },
            "marker": {
             "colorbar": {
              "outlinewidth": 0,
              "ticks": ""
             }
            },
            "type": "scatter3d"
           }
          ],
          "scattercarpet": [
           {
            "marker": {
             "colorbar": {
              "outlinewidth": 0,
              "ticks": ""
             }
            },
            "type": "scattercarpet"
           }
          ],
          "scattergeo": [
           {
            "marker": {
             "colorbar": {
              "outlinewidth": 0,
              "ticks": ""
             }
            },
            "type": "scattergeo"
           }
          ],
          "scattergl": [
           {
            "marker": {
             "colorbar": {
              "outlinewidth": 0,
              "ticks": ""
             }
            },
            "type": "scattergl"
           }
          ],
          "scattermapbox": [
           {
            "marker": {
             "colorbar": {
              "outlinewidth": 0,
              "ticks": ""
             }
            },
            "type": "scattermapbox"
           }
          ],
          "scatterpolar": [
           {
            "marker": {
             "colorbar": {
              "outlinewidth": 0,
              "ticks": ""
             }
            },
            "type": "scatterpolar"
           }
          ],
          "scatterpolargl": [
           {
            "marker": {
             "colorbar": {
              "outlinewidth": 0,
              "ticks": ""
             }
            },
            "type": "scatterpolargl"
           }
          ],
          "scatterternary": [
           {
            "marker": {
             "colorbar": {
              "outlinewidth": 0,
              "ticks": ""
             }
            },
            "type": "scatterternary"
           }
          ],
          "surface": [
           {
            "colorbar": {
             "outlinewidth": 0,
             "ticks": ""
            },
            "colorscale": [
             [
              0,
              "#0d0887"
             ],
             [
              0.1111111111111111,
              "#46039f"
             ],
             [
              0.2222222222222222,
              "#7201a8"
             ],
             [
              0.3333333333333333,
              "#9c179e"
             ],
             [
              0.4444444444444444,
              "#bd3786"
             ],
             [
              0.5555555555555556,
              "#d8576b"
             ],
             [
              0.6666666666666666,
              "#ed7953"
             ],
             [
              0.7777777777777778,
              "#fb9f3a"
             ],
             [
              0.8888888888888888,
              "#fdca26"
             ],
             [
              1,
              "#f0f921"
             ]
            ],
            "type": "surface"
           }
          ],
          "table": [
           {
            "cells": {
             "fill": {
              "color": "#EBF0F8"
             },
             "line": {
              "color": "white"
             }
            },
            "header": {
             "fill": {
              "color": "#C8D4E3"
             },
             "line": {
              "color": "white"
             }
            },
            "type": "table"
           }
          ]
         },
         "layout": {
          "annotationdefaults": {
           "arrowcolor": "#2a3f5f",
           "arrowhead": 0,
           "arrowwidth": 1
          },
          "autotypenumbers": "strict",
          "coloraxis": {
           "colorbar": {
            "outlinewidth": 0,
            "ticks": ""
           }
          },
          "colorscale": {
           "diverging": [
            [
             0,
             "#8e0152"
            ],
            [
             0.1,
             "#c51b7d"
            ],
            [
             0.2,
             "#de77ae"
            ],
            [
             0.3,
             "#f1b6da"
            ],
            [
             0.4,
             "#fde0ef"
            ],
            [
             0.5,
             "#f7f7f7"
            ],
            [
             0.6,
             "#e6f5d0"
            ],
            [
             0.7,
             "#b8e186"
            ],
            [
             0.8,
             "#7fbc41"
            ],
            [
             0.9,
             "#4d9221"
            ],
            [
             1,
             "#276419"
            ]
           ],
           "sequential": [
            [
             0,
             "#0d0887"
            ],
            [
             0.1111111111111111,
             "#46039f"
            ],
            [
             0.2222222222222222,
             "#7201a8"
            ],
            [
             0.3333333333333333,
             "#9c179e"
            ],
            [
             0.4444444444444444,
             "#bd3786"
            ],
            [
             0.5555555555555556,
             "#d8576b"
            ],
            [
             0.6666666666666666,
             "#ed7953"
            ],
            [
             0.7777777777777778,
             "#fb9f3a"
            ],
            [
             0.8888888888888888,
             "#fdca26"
            ],
            [
             1,
             "#f0f921"
            ]
           ],
           "sequentialminus": [
            [
             0,
             "#0d0887"
            ],
            [
             0.1111111111111111,
             "#46039f"
            ],
            [
             0.2222222222222222,
             "#7201a8"
            ],
            [
             0.3333333333333333,
             "#9c179e"
            ],
            [
             0.4444444444444444,
             "#bd3786"
            ],
            [
             0.5555555555555556,
             "#d8576b"
            ],
            [
             0.6666666666666666,
             "#ed7953"
            ],
            [
             0.7777777777777778,
             "#fb9f3a"
            ],
            [
             0.8888888888888888,
             "#fdca26"
            ],
            [
             1,
             "#f0f921"
            ]
           ]
          },
          "colorway": [
           "#636efa",
           "#EF553B",
           "#00cc96",
           "#ab63fa",
           "#FFA15A",
           "#19d3f3",
           "#FF6692",
           "#B6E880",
           "#FF97FF",
           "#FECB52"
          ],
          "font": {
           "color": "#2a3f5f"
          },
          "geo": {
           "bgcolor": "white",
           "lakecolor": "white",
           "landcolor": "#E5ECF6",
           "showlakes": true,
           "showland": true,
           "subunitcolor": "white"
          },
          "hoverlabel": {
           "align": "left"
          },
          "hovermode": "closest",
          "mapbox": {
           "style": "light"
          },
          "paper_bgcolor": "white",
          "plot_bgcolor": "#E5ECF6",
          "polar": {
           "angularaxis": {
            "gridcolor": "white",
            "linecolor": "white",
            "ticks": ""
           },
           "bgcolor": "#E5ECF6",
           "radialaxis": {
            "gridcolor": "white",
            "linecolor": "white",
            "ticks": ""
           }
          },
          "scene": {
           "xaxis": {
            "backgroundcolor": "#E5ECF6",
            "gridcolor": "white",
            "gridwidth": 2,
            "linecolor": "white",
            "showbackground": true,
            "ticks": "",
            "zerolinecolor": "white"
           },
           "yaxis": {
            "backgroundcolor": "#E5ECF6",
            "gridcolor": "white",
            "gridwidth": 2,
            "linecolor": "white",
            "showbackground": true,
            "ticks": "",
            "zerolinecolor": "white"
           },
           "zaxis": {
            "backgroundcolor": "#E5ECF6",
            "gridcolor": "white",
            "gridwidth": 2,
            "linecolor": "white",
            "showbackground": true,
            "ticks": "",
            "zerolinecolor": "white"
           }
          },
          "shapedefaults": {
           "line": {
            "color": "#2a3f5f"
           }
          },
          "ternary": {
           "aaxis": {
            "gridcolor": "white",
            "linecolor": "white",
            "ticks": ""
           },
           "baxis": {
            "gridcolor": "white",
            "linecolor": "white",
            "ticks": ""
           },
           "bgcolor": "#E5ECF6",
           "caxis": {
            "gridcolor": "white",
            "linecolor": "white",
            "ticks": ""
           }
          },
          "title": {
           "x": 0.05
          },
          "xaxis": {
           "automargin": true,
           "gridcolor": "white",
           "linecolor": "white",
           "ticks": "",
           "title": {
            "standoff": 15
           },
           "zerolinecolor": "white",
           "zerolinewidth": 2
          },
          "yaxis": {
           "automargin": true,
           "gridcolor": "white",
           "linecolor": "white",
           "ticks": "",
           "title": {
            "standoff": 15
           },
           "zerolinecolor": "white",
           "zerolinewidth": 2
          }
         }
        },
        "xaxis": {
         "anchor": "y",
         "domain": [
          0,
          1
         ],
         "tickangle": -45,
         "title": {
          "text": "smiles"
         }
        },
        "yaxis": {
         "anchor": "x",
         "domain": [
          0,
          1
         ],
         "title": {
          "text": "mol_id"
         }
        }
       }
      },
      "text/html": [
       "<div>                            <div id=\"34cffc8d-2d33-49d1-a4f9-6dbfdb752af4\" class=\"plotly-graph-div\" style=\"height:525px; width:100%;\"></div>            <script type=\"text/javascript\">                require([\"plotly\"], function(Plotly) {                    window.PLOTLYENV=window.PLOTLYENV || {};                                    if (document.getElementById(\"34cffc8d-2d33-49d1-a4f9-6dbfdb752af4\")) {                    Plotly.newPlot(                        \"34cffc8d-2d33-49d1-a4f9-6dbfdb752af4\",                        [{\"alignmentgroup\": \"True\", \"hovertemplate\": \"smiles=%{x}<br>mol_id=%{y}<extra></extra>\", \"legendgroup\": \"\", \"marker\": {\"color\": \"#636efa\"}, \"name\": \"\", \"offsetgroup\": \"\", \"orientation\": \"v\", \"showlegend\": false, \"textposition\": \"auto\", \"type\": \"bar\", \"x\": [\"O=C1C2CCCC1C=C2\", \"O=CC1C2C3CC2N13\", \"CC1(CO1)C1(CO1)C#C\", \"c1c([nH]c(nc1=O)N)O\", \"O=COC1CCC11CN1\", \"CC1C(C#C)C1(N)C#N\", \"CCOC1(C)CCOC1\", \"OCC1OC11CC2NC12\", \"CC1C=C2CN3CC1C23\", \"CC1=C2CCCC2CC1\", \"c1cnc(cc1N)O\", \"CCC#CCC\", \"N=C1OCC11CN1C=O\", \"CC1(COC1)C(C)(C)C\", \"CN=COC1COC1\", \"COC=NCC(=O)OC\", \"CC(=N)N(C=O)C(=O)N\", \"COCC(O)C(N)C#N\", \"CC1C(C)C1CNC=O\", \"NC1=C(F)N=NNC1=N\"], \"xaxis\": \"x\", \"y\": [\"gdb_43226\", \"gdb_18950\", \"gdb_65057\", \"gdb_27393\", \"gdb_51741\", \"gdb_76009\", \"gdb_119005\", \"gdb_113483\", \"gdb_84251\", \"gdb_74041\", \"gdb_4364\", \"gdb_517\", \"gdb_50014\", \"gdb_57352\", \"gdb_13266\", \"gdb_116756\", \"gdb_54014\", \"gdb_118022\", \"gdb_76712\", \"gdb_133329\"], \"yaxis\": \"y\"}],                        {\"barmode\": \"group\", \"legend\": {\"tracegroupgap\": 0}, \"margin\": {\"t\": 60}, \"template\": {\"data\": {\"bar\": [{\"error_x\": {\"color\": \"#2a3f5f\"}, \"error_y\": {\"color\": \"#2a3f5f\"}, \"marker\": {\"line\": {\"color\": \"#E5ECF6\", \"width\": 0.5}}, \"type\": \"bar\"}], \"barpolar\": [{\"marker\": {\"line\": {\"color\": \"#E5ECF6\", \"width\": 0.5}}, \"type\": \"barpolar\"}], \"carpet\": [{\"aaxis\": {\"endlinecolor\": \"#2a3f5f\", \"gridcolor\": \"white\", \"linecolor\": \"white\", \"minorgridcolor\": \"white\", \"startlinecolor\": \"#2a3f5f\"}, \"baxis\": {\"endlinecolor\": \"#2a3f5f\", \"gridcolor\": \"white\", \"linecolor\": \"white\", \"minorgridcolor\": \"white\", \"startlinecolor\": \"#2a3f5f\"}, \"type\": \"carpet\"}], \"choropleth\": [{\"colorbar\": {\"outlinewidth\": 0, \"ticks\": \"\"}, \"type\": \"choropleth\"}], \"contour\": [{\"colorbar\": {\"outlinewidth\": 0, \"ticks\": \"\"}, \"colorscale\": [[0.0, \"#0d0887\"], [0.1111111111111111, \"#46039f\"], [0.2222222222222222, \"#7201a8\"], [0.3333333333333333, \"#9c179e\"], [0.4444444444444444, \"#bd3786\"], [0.5555555555555556, \"#d8576b\"], [0.6666666666666666, \"#ed7953\"], [0.7777777777777778, \"#fb9f3a\"], [0.8888888888888888, \"#fdca26\"], [1.0, \"#f0f921\"]], \"type\": \"contour\"}], \"contourcarpet\": [{\"colorbar\": {\"outlinewidth\": 0, \"ticks\": \"\"}, \"type\": \"contourcarpet\"}], \"heatmap\": [{\"colorbar\": {\"outlinewidth\": 0, \"ticks\": \"\"}, \"colorscale\": [[0.0, \"#0d0887\"], [0.1111111111111111, \"#46039f\"], [0.2222222222222222, \"#7201a8\"], [0.3333333333333333, \"#9c179e\"], [0.4444444444444444, \"#bd3786\"], [0.5555555555555556, \"#d8576b\"], [0.6666666666666666, \"#ed7953\"], [0.7777777777777778, \"#fb9f3a\"], [0.8888888888888888, \"#fdca26\"], [1.0, \"#f0f921\"]], \"type\": \"heatmap\"}], \"heatmapgl\": [{\"colorbar\": {\"outlinewidth\": 0, \"ticks\": \"\"}, \"colorscale\": [[0.0, \"#0d0887\"], [0.1111111111111111, \"#46039f\"], [0.2222222222222222, \"#7201a8\"], [0.3333333333333333, \"#9c179e\"], [0.4444444444444444, \"#bd3786\"], [0.5555555555555556, \"#d8576b\"], [0.6666666666666666, \"#ed7953\"], [0.7777777777777778, \"#fb9f3a\"], [0.8888888888888888, \"#fdca26\"], [1.0, \"#f0f921\"]], \"type\": \"heatmapgl\"}], \"histogram\": [{\"marker\": {\"colorbar\": {\"outlinewidth\": 0, \"ticks\": \"\"}}, \"type\": \"histogram\"}], \"histogram2d\": [{\"colorbar\": {\"outlinewidth\": 0, \"ticks\": \"\"}, \"colorscale\": [[0.0, \"#0d0887\"], [0.1111111111111111, \"#46039f\"], [0.2222222222222222, \"#7201a8\"], [0.3333333333333333, \"#9c179e\"], [0.4444444444444444, \"#bd3786\"], [0.5555555555555556, \"#d8576b\"], [0.6666666666666666, \"#ed7953\"], [0.7777777777777778, \"#fb9f3a\"], [0.8888888888888888, \"#fdca26\"], [1.0, \"#f0f921\"]], \"type\": \"histogram2d\"}], \"histogram2dcontour\": [{\"colorbar\": {\"outlinewidth\": 0, \"ticks\": \"\"}, \"colorscale\": [[0.0, \"#0d0887\"], [0.1111111111111111, \"#46039f\"], [0.2222222222222222, \"#7201a8\"], [0.3333333333333333, \"#9c179e\"], [0.4444444444444444, \"#bd3786\"], [0.5555555555555556, \"#d8576b\"], [0.6666666666666666, \"#ed7953\"], [0.7777777777777778, \"#fb9f3a\"], [0.8888888888888888, \"#fdca26\"], [1.0, \"#f0f921\"]], \"type\": \"histogram2dcontour\"}], \"mesh3d\": [{\"colorbar\": {\"outlinewidth\": 0, \"ticks\": \"\"}, \"type\": \"mesh3d\"}], \"parcoords\": [{\"line\": {\"colorbar\": {\"outlinewidth\": 0, \"ticks\": \"\"}}, \"type\": \"parcoords\"}], \"pie\": [{\"automargin\": true, \"type\": \"pie\"}], \"scatter\": [{\"marker\": {\"colorbar\": {\"outlinewidth\": 0, \"ticks\": \"\"}}, \"type\": \"scatter\"}], \"scatter3d\": [{\"line\": {\"colorbar\": {\"outlinewidth\": 0, \"ticks\": \"\"}}, \"marker\": {\"colorbar\": {\"outlinewidth\": 0, \"ticks\": \"\"}}, \"type\": \"scatter3d\"}], \"scattercarpet\": [{\"marker\": {\"colorbar\": {\"outlinewidth\": 0, \"ticks\": \"\"}}, \"type\": \"scattercarpet\"}], \"scattergeo\": [{\"marker\": {\"colorbar\": {\"outlinewidth\": 0, \"ticks\": \"\"}}, \"type\": \"scattergeo\"}], \"scattergl\": [{\"marker\": {\"colorbar\": {\"outlinewidth\": 0, \"ticks\": \"\"}}, \"type\": \"scattergl\"}], \"scattermapbox\": [{\"marker\": {\"colorbar\": {\"outlinewidth\": 0, \"ticks\": \"\"}}, \"type\": \"scattermapbox\"}], \"scatterpolar\": [{\"marker\": {\"colorbar\": {\"outlinewidth\": 0, \"ticks\": \"\"}}, \"type\": \"scatterpolar\"}], \"scatterpolargl\": [{\"marker\": {\"colorbar\": {\"outlinewidth\": 0, \"ticks\": \"\"}}, \"type\": \"scatterpolargl\"}], \"scatterternary\": [{\"marker\": {\"colorbar\": {\"outlinewidth\": 0, \"ticks\": \"\"}}, \"type\": \"scatterternary\"}], \"surface\": [{\"colorbar\": {\"outlinewidth\": 0, \"ticks\": \"\"}, \"colorscale\": [[0.0, \"#0d0887\"], [0.1111111111111111, \"#46039f\"], [0.2222222222222222, \"#7201a8\"], [0.3333333333333333, \"#9c179e\"], [0.4444444444444444, \"#bd3786\"], [0.5555555555555556, \"#d8576b\"], [0.6666666666666666, \"#ed7953\"], [0.7777777777777778, \"#fb9f3a\"], [0.8888888888888888, \"#fdca26\"], [1.0, \"#f0f921\"]], \"type\": \"surface\"}], \"table\": [{\"cells\": {\"fill\": {\"color\": \"#EBF0F8\"}, \"line\": {\"color\": \"white\"}}, \"header\": {\"fill\": {\"color\": \"#C8D4E3\"}, \"line\": {\"color\": \"white\"}}, \"type\": \"table\"}]}, \"layout\": {\"annotationdefaults\": {\"arrowcolor\": \"#2a3f5f\", \"arrowhead\": 0, \"arrowwidth\": 1}, \"autotypenumbers\": \"strict\", \"coloraxis\": {\"colorbar\": {\"outlinewidth\": 0, \"ticks\": \"\"}}, \"colorscale\": {\"diverging\": [[0, \"#8e0152\"], [0.1, \"#c51b7d\"], [0.2, \"#de77ae\"], [0.3, \"#f1b6da\"], [0.4, \"#fde0ef\"], [0.5, \"#f7f7f7\"], [0.6, \"#e6f5d0\"], [0.7, \"#b8e186\"], [0.8, \"#7fbc41\"], [0.9, \"#4d9221\"], [1, \"#276419\"]], \"sequential\": [[0.0, \"#0d0887\"], [0.1111111111111111, \"#46039f\"], [0.2222222222222222, \"#7201a8\"], [0.3333333333333333, \"#9c179e\"], [0.4444444444444444, \"#bd3786\"], [0.5555555555555556, \"#d8576b\"], [0.6666666666666666, \"#ed7953\"], [0.7777777777777778, \"#fb9f3a\"], [0.8888888888888888, \"#fdca26\"], [1.0, \"#f0f921\"]], \"sequentialminus\": [[0.0, \"#0d0887\"], [0.1111111111111111, \"#46039f\"], [0.2222222222222222, \"#7201a8\"], [0.3333333333333333, \"#9c179e\"], [0.4444444444444444, \"#bd3786\"], [0.5555555555555556, \"#d8576b\"], [0.6666666666666666, \"#ed7953\"], [0.7777777777777778, \"#fb9f3a\"], [0.8888888888888888, \"#fdca26\"], [1.0, \"#f0f921\"]]}, \"colorway\": [\"#636efa\", \"#EF553B\", \"#00cc96\", \"#ab63fa\", \"#FFA15A\", \"#19d3f3\", \"#FF6692\", \"#B6E880\", \"#FF97FF\", \"#FECB52\"], \"font\": {\"color\": \"#2a3f5f\"}, \"geo\": {\"bgcolor\": \"white\", \"lakecolor\": \"white\", \"landcolor\": \"#E5ECF6\", \"showlakes\": true, \"showland\": true, \"subunitcolor\": \"white\"}, \"hoverlabel\": {\"align\": \"left\"}, \"hovermode\": \"closest\", \"mapbox\": {\"style\": \"light\"}, \"paper_bgcolor\": \"white\", \"plot_bgcolor\": \"#E5ECF6\", \"polar\": {\"angularaxis\": {\"gridcolor\": \"white\", \"linecolor\": \"white\", \"ticks\": \"\"}, \"bgcolor\": \"#E5ECF6\", \"radialaxis\": {\"gridcolor\": \"white\", \"linecolor\": \"white\", \"ticks\": \"\"}}, \"scene\": {\"xaxis\": {\"backgroundcolor\": \"#E5ECF6\", \"gridcolor\": \"white\", \"gridwidth\": 2, \"linecolor\": \"white\", \"showbackground\": true, \"ticks\": \"\", \"zerolinecolor\": \"white\"}, \"yaxis\": {\"backgroundcolor\": \"#E5ECF6\", \"gridcolor\": \"white\", \"gridwidth\": 2, \"linecolor\": \"white\", \"showbackground\": true, \"ticks\": \"\", \"zerolinecolor\": \"white\"}, \"zaxis\": {\"backgroundcolor\": \"#E5ECF6\", \"gridcolor\": \"white\", \"gridwidth\": 2, \"linecolor\": \"white\", \"showbackground\": true, \"ticks\": \"\", \"zerolinecolor\": \"white\"}}, \"shapedefaults\": {\"line\": {\"color\": \"#2a3f5f\"}}, \"ternary\": {\"aaxis\": {\"gridcolor\": \"white\", \"linecolor\": \"white\", \"ticks\": \"\"}, \"baxis\": {\"gridcolor\": \"white\", \"linecolor\": \"white\", \"ticks\": \"\"}, \"bgcolor\": \"#E5ECF6\", \"caxis\": {\"gridcolor\": \"white\", \"linecolor\": \"white\", \"ticks\": \"\"}}, \"title\": {\"x\": 0.05}, \"xaxis\": {\"automargin\": true, \"gridcolor\": \"white\", \"linecolor\": \"white\", \"ticks\": \"\", \"title\": {\"standoff\": 15}, \"zerolinecolor\": \"white\", \"zerolinewidth\": 2}, \"yaxis\": {\"automargin\": true, \"gridcolor\": \"white\", \"linecolor\": \"white\", \"ticks\": \"\", \"title\": {\"standoff\": 15}, \"zerolinecolor\": \"white\", \"zerolinewidth\": 2}}}, \"xaxis\": {\"anchor\": \"y\", \"domain\": [0.0, 1.0], \"tickangle\": -45, \"title\": {\"text\": \"smiles\"}}, \"yaxis\": {\"anchor\": \"x\", \"domain\": [0.0, 1.0], \"title\": {\"text\": \"mol_id\"}}},                        {\"responsive\": true}                    ).then(function(){\n",
       "                            \n",
       "var gd = document.getElementById('34cffc8d-2d33-49d1-a4f9-6dbfdb752af4');\n",
       "var x = new MutationObserver(function (mutations, observer) {{\n",
       "        var display = window.getComputedStyle(gd).display;\n",
       "        if (!display || display === 'none') {{\n",
       "            console.log([gd, 'removed!']);\n",
       "            Plotly.purge(gd);\n",
       "            observer.disconnect();\n",
       "        }}\n",
       "}});\n",
       "\n",
       "// Listen for the removal of the full notebook cells\n",
       "var notebookContainer = gd.closest('#notebook-container');\n",
       "if (notebookContainer) {{\n",
       "    x.observe(notebookContainer, {childList: true});\n",
       "}}\n",
       "\n",
       "// Listen for the clearing of the current output cell\n",
       "var outputEl = gd.closest('.output');\n",
       "if (outputEl) {{\n",
       "    x.observe(outputEl, {childList: true});\n",
       "}}\n",
       "\n",
       "                        })                };                });            </script>        </div>"
      ]
     },
     "metadata": {},
     "output_type": "display_data"
    },
    {
     "data": {
      "application/vnd.plotly.v1+json": {
       "config": {
        "linkText": "Export to plot.ly",
        "plotlyServerURL": "https://plot.ly",
        "showLink": false
       },
       "data": [
        {
         "alignmentgroup": "True",
         "hovertemplate": "smiles=%{x}<br>mol_id=%{y}<extra></extra>",
         "legendgroup": "",
         "marker": {
          "color": "#636efa"
         },
         "name": "",
         "offsetgroup": "",
         "orientation": "v",
         "showlegend": false,
         "textposition": "auto",
         "type": "bar",
         "x": [
          "O=C1C2CCCC1C=C2",
          "O=CC1C2C3CC2N13",
          "CC1(CO1)C1(CO1)C#C",
          "c1c([nH]c(nc1=O)N)O",
          "O=COC1CCC11CN1",
          "CC1C(C#C)C1(N)C#N",
          "CCOC1(C)CCOC1",
          "OCC1OC11CC2NC12",
          "CC1C=C2CN3CC1C23",
          "CC1=C2CCCC2CC1",
          "c1cnc(cc1N)O",
          "CCC#CCC",
          "N=C1OCC11CN1C=O",
          "CC1(COC1)C(C)(C)C",
          "CN=COC1COC1",
          "COC=NCC(=O)OC",
          "CC(=N)N(C=O)C(=O)N",
          "COCC(O)C(N)C#N",
          "CC1C(C)C1CNC=O",
          "NC1=C(F)N=NNC1=N"
         ],
         "xaxis": "x",
         "y": [
          "gdb_43226",
          "gdb_18950",
          "gdb_65057",
          "gdb_27393",
          "gdb_51741",
          "gdb_76009",
          "gdb_119005",
          "gdb_113483",
          "gdb_84251",
          "gdb_74041",
          "gdb_4364",
          "gdb_517",
          "gdb_50014",
          "gdb_57352",
          "gdb_13266",
          "gdb_116756",
          "gdb_54014",
          "gdb_118022",
          "gdb_76712",
          "gdb_133329"
         ],
         "yaxis": "y"
        }
       ],
       "layout": {
        "barmode": "group",
        "legend": {
         "tracegroupgap": 0
        },
        "margin": {
         "t": 60
        },
        "template": {
         "data": {
          "bar": [
           {
            "error_x": {
             "color": "#2a3f5f"
            },
            "error_y": {
             "color": "#2a3f5f"
            },
            "marker": {
             "line": {
              "color": "#E5ECF6",
              "width": 0.5
             }
            },
            "type": "bar"
           }
          ],
          "barpolar": [
           {
            "marker": {
             "line": {
              "color": "#E5ECF6",
              "width": 0.5
             }
            },
            "type": "barpolar"
           }
          ],
          "carpet": [
           {
            "aaxis": {
             "endlinecolor": "#2a3f5f",
             "gridcolor": "white",
             "linecolor": "white",
             "minorgridcolor": "white",
             "startlinecolor": "#2a3f5f"
            },
            "baxis": {
             "endlinecolor": "#2a3f5f",
             "gridcolor": "white",
             "linecolor": "white",
             "minorgridcolor": "white",
             "startlinecolor": "#2a3f5f"
            },
            "type": "carpet"
           }
          ],
          "choropleth": [
           {
            "colorbar": {
             "outlinewidth": 0,
             "ticks": ""
            },
            "type": "choropleth"
           }
          ],
          "contour": [
           {
            "colorbar": {
             "outlinewidth": 0,
             "ticks": ""
            },
            "colorscale": [
             [
              0,
              "#0d0887"
             ],
             [
              0.1111111111111111,
              "#46039f"
             ],
             [
              0.2222222222222222,
              "#7201a8"
             ],
             [
              0.3333333333333333,
              "#9c179e"
             ],
             [
              0.4444444444444444,
              "#bd3786"
             ],
             [
              0.5555555555555556,
              "#d8576b"
             ],
             [
              0.6666666666666666,
              "#ed7953"
             ],
             [
              0.7777777777777778,
              "#fb9f3a"
             ],
             [
              0.8888888888888888,
              "#fdca26"
             ],
             [
              1,
              "#f0f921"
             ]
            ],
            "type": "contour"
           }
          ],
          "contourcarpet": [
           {
            "colorbar": {
             "outlinewidth": 0,
             "ticks": ""
            },
            "type": "contourcarpet"
           }
          ],
          "heatmap": [
           {
            "colorbar": {
             "outlinewidth": 0,
             "ticks": ""
            },
            "colorscale": [
             [
              0,
              "#0d0887"
             ],
             [
              0.1111111111111111,
              "#46039f"
             ],
             [
              0.2222222222222222,
              "#7201a8"
             ],
             [
              0.3333333333333333,
              "#9c179e"
             ],
             [
              0.4444444444444444,
              "#bd3786"
             ],
             [
              0.5555555555555556,
              "#d8576b"
             ],
             [
              0.6666666666666666,
              "#ed7953"
             ],
             [
              0.7777777777777778,
              "#fb9f3a"
             ],
             [
              0.8888888888888888,
              "#fdca26"
             ],
             [
              1,
              "#f0f921"
             ]
            ],
            "type": "heatmap"
           }
          ],
          "heatmapgl": [
           {
            "colorbar": {
             "outlinewidth": 0,
             "ticks": ""
            },
            "colorscale": [
             [
              0,
              "#0d0887"
             ],
             [
              0.1111111111111111,
              "#46039f"
             ],
             [
              0.2222222222222222,
              "#7201a8"
             ],
             [
              0.3333333333333333,
              "#9c179e"
             ],
             [
              0.4444444444444444,
              "#bd3786"
             ],
             [
              0.5555555555555556,
              "#d8576b"
             ],
             [
              0.6666666666666666,
              "#ed7953"
             ],
             [
              0.7777777777777778,
              "#fb9f3a"
             ],
             [
              0.8888888888888888,
              "#fdca26"
             ],
             [
              1,
              "#f0f921"
             ]
            ],
            "type": "heatmapgl"
           }
          ],
          "histogram": [
           {
            "marker": {
             "colorbar": {
              "outlinewidth": 0,
              "ticks": ""
             }
            },
            "type": "histogram"
           }
          ],
          "histogram2d": [
           {
            "colorbar": {
             "outlinewidth": 0,
             "ticks": ""
            },
            "colorscale": [
             [
              0,
              "#0d0887"
             ],
             [
              0.1111111111111111,
              "#46039f"
             ],
             [
              0.2222222222222222,
              "#7201a8"
             ],
             [
              0.3333333333333333,
              "#9c179e"
             ],
             [
              0.4444444444444444,
              "#bd3786"
             ],
             [
              0.5555555555555556,
              "#d8576b"
             ],
             [
              0.6666666666666666,
              "#ed7953"
             ],
             [
              0.7777777777777778,
              "#fb9f3a"
             ],
             [
              0.8888888888888888,
              "#fdca26"
             ],
             [
              1,
              "#f0f921"
             ]
            ],
            "type": "histogram2d"
           }
          ],
          "histogram2dcontour": [
           {
            "colorbar": {
             "outlinewidth": 0,
             "ticks": ""
            },
            "colorscale": [
             [
              0,
              "#0d0887"
             ],
             [
              0.1111111111111111,
              "#46039f"
             ],
             [
              0.2222222222222222,
              "#7201a8"
             ],
             [
              0.3333333333333333,
              "#9c179e"
             ],
             [
              0.4444444444444444,
              "#bd3786"
             ],
             [
              0.5555555555555556,
              "#d8576b"
             ],
             [
              0.6666666666666666,
              "#ed7953"
             ],
             [
              0.7777777777777778,
              "#fb9f3a"
             ],
             [
              0.8888888888888888,
              "#fdca26"
             ],
             [
              1,
              "#f0f921"
             ]
            ],
            "type": "histogram2dcontour"
           }
          ],
          "mesh3d": [
           {
            "colorbar": {
             "outlinewidth": 0,
             "ticks": ""
            },
            "type": "mesh3d"
           }
          ],
          "parcoords": [
           {
            "line": {
             "colorbar": {
              "outlinewidth": 0,
              "ticks": ""
             }
            },
            "type": "parcoords"
           }
          ],
          "pie": [
           {
            "automargin": true,
            "type": "pie"
           }
          ],
          "scatter": [
           {
            "marker": {
             "colorbar": {
              "outlinewidth": 0,
              "ticks": ""
             }
            },
            "type": "scatter"
           }
          ],
          "scatter3d": [
           {
            "line": {
             "colorbar": {
              "outlinewidth": 0,
              "ticks": ""
             }
            },
            "marker": {
             "colorbar": {
              "outlinewidth": 0,
              "ticks": ""
             }
            },
            "type": "scatter3d"
           }
          ],
          "scattercarpet": [
           {
            "marker": {
             "colorbar": {
              "outlinewidth": 0,
              "ticks": ""
             }
            },
            "type": "scattercarpet"
           }
          ],
          "scattergeo": [
           {
            "marker": {
             "colorbar": {
              "outlinewidth": 0,
              "ticks": ""
             }
            },
            "type": "scattergeo"
           }
          ],
          "scattergl": [
           {
            "marker": {
             "colorbar": {
              "outlinewidth": 0,
              "ticks": ""
             }
            },
            "type": "scattergl"
           }
          ],
          "scattermapbox": [
           {
            "marker": {
             "colorbar": {
              "outlinewidth": 0,
              "ticks": ""
             }
            },
            "type": "scattermapbox"
           }
          ],
          "scatterpolar": [
           {
            "marker": {
             "colorbar": {
              "outlinewidth": 0,
              "ticks": ""
             }
            },
            "type": "scatterpolar"
           }
          ],
          "scatterpolargl": [
           {
            "marker": {
             "colorbar": {
              "outlinewidth": 0,
              "ticks": ""
             }
            },
            "type": "scatterpolargl"
           }
          ],
          "scatterternary": [
           {
            "marker": {
             "colorbar": {
              "outlinewidth": 0,
              "ticks": ""
             }
            },
            "type": "scatterternary"
           }
          ],
          "surface": [
           {
            "colorbar": {
             "outlinewidth": 0,
             "ticks": ""
            },
            "colorscale": [
             [
              0,
              "#0d0887"
             ],
             [
              0.1111111111111111,
              "#46039f"
             ],
             [
              0.2222222222222222,
              "#7201a8"
             ],
             [
              0.3333333333333333,
              "#9c179e"
             ],
             [
              0.4444444444444444,
              "#bd3786"
             ],
             [
              0.5555555555555556,
              "#d8576b"
             ],
             [
              0.6666666666666666,
              "#ed7953"
             ],
             [
              0.7777777777777778,
              "#fb9f3a"
             ],
             [
              0.8888888888888888,
              "#fdca26"
             ],
             [
              1,
              "#f0f921"
             ]
            ],
            "type": "surface"
           }
          ],
          "table": [
           {
            "cells": {
             "fill": {
              "color": "#EBF0F8"
             },
             "line": {
              "color": "white"
             }
            },
            "header": {
             "fill": {
              "color": "#C8D4E3"
             },
             "line": {
              "color": "white"
             }
            },
            "type": "table"
           }
          ]
         },
         "layout": {
          "annotationdefaults": {
           "arrowcolor": "#2a3f5f",
           "arrowhead": 0,
           "arrowwidth": 1
          },
          "autotypenumbers": "strict",
          "coloraxis": {
           "colorbar": {
            "outlinewidth": 0,
            "ticks": ""
           }
          },
          "colorscale": {
           "diverging": [
            [
             0,
             "#8e0152"
            ],
            [
             0.1,
             "#c51b7d"
            ],
            [
             0.2,
             "#de77ae"
            ],
            [
             0.3,
             "#f1b6da"
            ],
            [
             0.4,
             "#fde0ef"
            ],
            [
             0.5,
             "#f7f7f7"
            ],
            [
             0.6,
             "#e6f5d0"
            ],
            [
             0.7,
             "#b8e186"
            ],
            [
             0.8,
             "#7fbc41"
            ],
            [
             0.9,
             "#4d9221"
            ],
            [
             1,
             "#276419"
            ]
           ],
           "sequential": [
            [
             0,
             "#0d0887"
            ],
            [
             0.1111111111111111,
             "#46039f"
            ],
            [
             0.2222222222222222,
             "#7201a8"
            ],
            [
             0.3333333333333333,
             "#9c179e"
            ],
            [
             0.4444444444444444,
             "#bd3786"
            ],
            [
             0.5555555555555556,
             "#d8576b"
            ],
            [
             0.6666666666666666,
             "#ed7953"
            ],
            [
             0.7777777777777778,
             "#fb9f3a"
            ],
            [
             0.8888888888888888,
             "#fdca26"
            ],
            [
             1,
             "#f0f921"
            ]
           ],
           "sequentialminus": [
            [
             0,
             "#0d0887"
            ],
            [
             0.1111111111111111,
             "#46039f"
            ],
            [
             0.2222222222222222,
             "#7201a8"
            ],
            [
             0.3333333333333333,
             "#9c179e"
            ],
            [
             0.4444444444444444,
             "#bd3786"
            ],
            [
             0.5555555555555556,
             "#d8576b"
            ],
            [
             0.6666666666666666,
             "#ed7953"
            ],
            [
             0.7777777777777778,
             "#fb9f3a"
            ],
            [
             0.8888888888888888,
             "#fdca26"
            ],
            [
             1,
             "#f0f921"
            ]
           ]
          },
          "colorway": [
           "#636efa",
           "#EF553B",
           "#00cc96",
           "#ab63fa",
           "#FFA15A",
           "#19d3f3",
           "#FF6692",
           "#B6E880",
           "#FF97FF",
           "#FECB52"
          ],
          "font": {
           "color": "#2a3f5f"
          },
          "geo": {
           "bgcolor": "white",
           "lakecolor": "white",
           "landcolor": "#E5ECF6",
           "showlakes": true,
           "showland": true,
           "subunitcolor": "white"
          },
          "hoverlabel": {
           "align": "left"
          },
          "hovermode": "closest",
          "mapbox": {
           "style": "light"
          },
          "paper_bgcolor": "white",
          "plot_bgcolor": "#E5ECF6",
          "polar": {
           "angularaxis": {
            "gridcolor": "white",
            "linecolor": "white",
            "ticks": ""
           },
           "bgcolor": "#E5ECF6",
           "radialaxis": {
            "gridcolor": "white",
            "linecolor": "white",
            "ticks": ""
           }
          },
          "scene": {
           "xaxis": {
            "backgroundcolor": "#E5ECF6",
            "gridcolor": "white",
            "gridwidth": 2,
            "linecolor": "white",
            "showbackground": true,
            "ticks": "",
            "zerolinecolor": "white"
           },
           "yaxis": {
            "backgroundcolor": "#E5ECF6",
            "gridcolor": "white",
            "gridwidth": 2,
            "linecolor": "white",
            "showbackground": true,
            "ticks": "",
            "zerolinecolor": "white"
           },
           "zaxis": {
            "backgroundcolor": "#E5ECF6",
            "gridcolor": "white",
            "gridwidth": 2,
            "linecolor": "white",
            "showbackground": true,
            "ticks": "",
            "zerolinecolor": "white"
           }
          },
          "shapedefaults": {
           "line": {
            "color": "#2a3f5f"
           }
          },
          "ternary": {
           "aaxis": {
            "gridcolor": "white",
            "linecolor": "white",
            "ticks": ""
           },
           "baxis": {
            "gridcolor": "white",
            "linecolor": "white",
            "ticks": ""
           },
           "bgcolor": "#E5ECF6",
           "caxis": {
            "gridcolor": "white",
            "linecolor": "white",
            "ticks": ""
           }
          },
          "title": {
           "x": 0.05
          },
          "xaxis": {
           "automargin": true,
           "gridcolor": "white",
           "linecolor": "white",
           "ticks": "",
           "title": {
            "standoff": 15
           },
           "zerolinecolor": "white",
           "zerolinewidth": 2
          },
          "yaxis": {
           "automargin": true,
           "gridcolor": "white",
           "linecolor": "white",
           "ticks": "",
           "title": {
            "standoff": 15
           },
           "zerolinecolor": "white",
           "zerolinewidth": 2
          }
         }
        },
        "xaxis": {
         "anchor": "y",
         "domain": [
          0,
          1
         ],
         "tickangle": -45,
         "title": {
          "text": "smiles"
         }
        },
        "yaxis": {
         "anchor": "x",
         "domain": [
          0,
          1
         ],
         "title": {
          "text": "mol_id"
         }
        }
       }
      },
      "text/html": [
       "<div>                            <div id=\"832bb63b-ce18-4aa3-a039-cce3379bb918\" class=\"plotly-graph-div\" style=\"height:525px; width:100%;\"></div>            <script type=\"text/javascript\">                require([\"plotly\"], function(Plotly) {                    window.PLOTLYENV=window.PLOTLYENV || {};                                    if (document.getElementById(\"832bb63b-ce18-4aa3-a039-cce3379bb918\")) {                    Plotly.newPlot(                        \"832bb63b-ce18-4aa3-a039-cce3379bb918\",                        [{\"alignmentgroup\": \"True\", \"hovertemplate\": \"smiles=%{x}<br>mol_id=%{y}<extra></extra>\", \"legendgroup\": \"\", \"marker\": {\"color\": \"#636efa\"}, \"name\": \"\", \"offsetgroup\": \"\", \"orientation\": \"v\", \"showlegend\": false, \"textposition\": \"auto\", \"type\": \"bar\", \"x\": [\"O=C1C2CCCC1C=C2\", \"O=CC1C2C3CC2N13\", \"CC1(CO1)C1(CO1)C#C\", \"c1c([nH]c(nc1=O)N)O\", \"O=COC1CCC11CN1\", \"CC1C(C#C)C1(N)C#N\", \"CCOC1(C)CCOC1\", \"OCC1OC11CC2NC12\", \"CC1C=C2CN3CC1C23\", \"CC1=C2CCCC2CC1\", \"c1cnc(cc1N)O\", \"CCC#CCC\", \"N=C1OCC11CN1C=O\", \"CC1(COC1)C(C)(C)C\", \"CN=COC1COC1\", \"COC=NCC(=O)OC\", \"CC(=N)N(C=O)C(=O)N\", \"COCC(O)C(N)C#N\", \"CC1C(C)C1CNC=O\", \"NC1=C(F)N=NNC1=N\"], \"xaxis\": \"x\", \"y\": [\"gdb_43226\", \"gdb_18950\", \"gdb_65057\", \"gdb_27393\", \"gdb_51741\", \"gdb_76009\", \"gdb_119005\", \"gdb_113483\", \"gdb_84251\", \"gdb_74041\", \"gdb_4364\", \"gdb_517\", \"gdb_50014\", \"gdb_57352\", \"gdb_13266\", \"gdb_116756\", \"gdb_54014\", \"gdb_118022\", \"gdb_76712\", \"gdb_133329\"], \"yaxis\": \"y\"}],                        {\"barmode\": \"group\", \"legend\": {\"tracegroupgap\": 0}, \"margin\": {\"t\": 60}, \"template\": {\"data\": {\"bar\": [{\"error_x\": {\"color\": \"#2a3f5f\"}, \"error_y\": {\"color\": \"#2a3f5f\"}, \"marker\": {\"line\": {\"color\": \"#E5ECF6\", \"width\": 0.5}}, \"type\": \"bar\"}], \"barpolar\": [{\"marker\": {\"line\": {\"color\": \"#E5ECF6\", \"width\": 0.5}}, \"type\": \"barpolar\"}], \"carpet\": [{\"aaxis\": {\"endlinecolor\": \"#2a3f5f\", \"gridcolor\": \"white\", \"linecolor\": \"white\", \"minorgridcolor\": \"white\", \"startlinecolor\": \"#2a3f5f\"}, \"baxis\": {\"endlinecolor\": \"#2a3f5f\", \"gridcolor\": \"white\", \"linecolor\": \"white\", \"minorgridcolor\": \"white\", \"startlinecolor\": \"#2a3f5f\"}, \"type\": \"carpet\"}], \"choropleth\": [{\"colorbar\": {\"outlinewidth\": 0, \"ticks\": \"\"}, \"type\": \"choropleth\"}], \"contour\": [{\"colorbar\": {\"outlinewidth\": 0, \"ticks\": \"\"}, \"colorscale\": [[0.0, \"#0d0887\"], [0.1111111111111111, \"#46039f\"], [0.2222222222222222, \"#7201a8\"], [0.3333333333333333, \"#9c179e\"], [0.4444444444444444, \"#bd3786\"], [0.5555555555555556, \"#d8576b\"], [0.6666666666666666, \"#ed7953\"], [0.7777777777777778, \"#fb9f3a\"], [0.8888888888888888, \"#fdca26\"], [1.0, \"#f0f921\"]], \"type\": \"contour\"}], \"contourcarpet\": [{\"colorbar\": {\"outlinewidth\": 0, \"ticks\": \"\"}, \"type\": \"contourcarpet\"}], \"heatmap\": [{\"colorbar\": {\"outlinewidth\": 0, \"ticks\": \"\"}, \"colorscale\": [[0.0, \"#0d0887\"], [0.1111111111111111, \"#46039f\"], [0.2222222222222222, \"#7201a8\"], [0.3333333333333333, \"#9c179e\"], [0.4444444444444444, \"#bd3786\"], [0.5555555555555556, \"#d8576b\"], [0.6666666666666666, \"#ed7953\"], [0.7777777777777778, \"#fb9f3a\"], [0.8888888888888888, \"#fdca26\"], [1.0, \"#f0f921\"]], \"type\": \"heatmap\"}], \"heatmapgl\": [{\"colorbar\": {\"outlinewidth\": 0, \"ticks\": \"\"}, \"colorscale\": [[0.0, \"#0d0887\"], [0.1111111111111111, \"#46039f\"], [0.2222222222222222, \"#7201a8\"], [0.3333333333333333, \"#9c179e\"], [0.4444444444444444, \"#bd3786\"], [0.5555555555555556, \"#d8576b\"], [0.6666666666666666, \"#ed7953\"], [0.7777777777777778, \"#fb9f3a\"], [0.8888888888888888, \"#fdca26\"], [1.0, \"#f0f921\"]], \"type\": \"heatmapgl\"}], \"histogram\": [{\"marker\": {\"colorbar\": {\"outlinewidth\": 0, \"ticks\": \"\"}}, \"type\": \"histogram\"}], \"histogram2d\": [{\"colorbar\": {\"outlinewidth\": 0, \"ticks\": \"\"}, \"colorscale\": [[0.0, \"#0d0887\"], [0.1111111111111111, \"#46039f\"], [0.2222222222222222, \"#7201a8\"], [0.3333333333333333, \"#9c179e\"], [0.4444444444444444, \"#bd3786\"], [0.5555555555555556, \"#d8576b\"], [0.6666666666666666, \"#ed7953\"], [0.7777777777777778, \"#fb9f3a\"], [0.8888888888888888, \"#fdca26\"], [1.0, \"#f0f921\"]], \"type\": \"histogram2d\"}], \"histogram2dcontour\": [{\"colorbar\": {\"outlinewidth\": 0, \"ticks\": \"\"}, \"colorscale\": [[0.0, \"#0d0887\"], [0.1111111111111111, \"#46039f\"], [0.2222222222222222, \"#7201a8\"], [0.3333333333333333, \"#9c179e\"], [0.4444444444444444, \"#bd3786\"], [0.5555555555555556, \"#d8576b\"], [0.6666666666666666, \"#ed7953\"], [0.7777777777777778, \"#fb9f3a\"], [0.8888888888888888, \"#fdca26\"], [1.0, \"#f0f921\"]], \"type\": \"histogram2dcontour\"}], \"mesh3d\": [{\"colorbar\": {\"outlinewidth\": 0, \"ticks\": \"\"}, \"type\": \"mesh3d\"}], \"parcoords\": [{\"line\": {\"colorbar\": {\"outlinewidth\": 0, \"ticks\": \"\"}}, \"type\": \"parcoords\"}], \"pie\": [{\"automargin\": true, \"type\": \"pie\"}], \"scatter\": [{\"marker\": {\"colorbar\": {\"outlinewidth\": 0, \"ticks\": \"\"}}, \"type\": \"scatter\"}], \"scatter3d\": [{\"line\": {\"colorbar\": {\"outlinewidth\": 0, \"ticks\": \"\"}}, \"marker\": {\"colorbar\": {\"outlinewidth\": 0, \"ticks\": \"\"}}, \"type\": \"scatter3d\"}], \"scattercarpet\": [{\"marker\": {\"colorbar\": {\"outlinewidth\": 0, \"ticks\": \"\"}}, \"type\": \"scattercarpet\"}], \"scattergeo\": [{\"marker\": {\"colorbar\": {\"outlinewidth\": 0, \"ticks\": \"\"}}, \"type\": \"scattergeo\"}], \"scattergl\": [{\"marker\": {\"colorbar\": {\"outlinewidth\": 0, \"ticks\": \"\"}}, \"type\": \"scattergl\"}], \"scattermapbox\": [{\"marker\": {\"colorbar\": {\"outlinewidth\": 0, \"ticks\": \"\"}}, \"type\": \"scattermapbox\"}], \"scatterpolar\": [{\"marker\": {\"colorbar\": {\"outlinewidth\": 0, \"ticks\": \"\"}}, \"type\": \"scatterpolar\"}], \"scatterpolargl\": [{\"marker\": {\"colorbar\": {\"outlinewidth\": 0, \"ticks\": \"\"}}, \"type\": \"scatterpolargl\"}], \"scatterternary\": [{\"marker\": {\"colorbar\": {\"outlinewidth\": 0, \"ticks\": \"\"}}, \"type\": \"scatterternary\"}], \"surface\": [{\"colorbar\": {\"outlinewidth\": 0, \"ticks\": \"\"}, \"colorscale\": [[0.0, \"#0d0887\"], [0.1111111111111111, \"#46039f\"], [0.2222222222222222, \"#7201a8\"], [0.3333333333333333, \"#9c179e\"], [0.4444444444444444, \"#bd3786\"], [0.5555555555555556, \"#d8576b\"], [0.6666666666666666, \"#ed7953\"], [0.7777777777777778, \"#fb9f3a\"], [0.8888888888888888, \"#fdca26\"], [1.0, \"#f0f921\"]], \"type\": \"surface\"}], \"table\": [{\"cells\": {\"fill\": {\"color\": \"#EBF0F8\"}, \"line\": {\"color\": \"white\"}}, \"header\": {\"fill\": {\"color\": \"#C8D4E3\"}, \"line\": {\"color\": \"white\"}}, \"type\": \"table\"}]}, \"layout\": {\"annotationdefaults\": {\"arrowcolor\": \"#2a3f5f\", \"arrowhead\": 0, \"arrowwidth\": 1}, \"autotypenumbers\": \"strict\", \"coloraxis\": {\"colorbar\": {\"outlinewidth\": 0, \"ticks\": \"\"}}, \"colorscale\": {\"diverging\": [[0, \"#8e0152\"], [0.1, \"#c51b7d\"], [0.2, \"#de77ae\"], [0.3, \"#f1b6da\"], [0.4, \"#fde0ef\"], [0.5, \"#f7f7f7\"], [0.6, \"#e6f5d0\"], [0.7, \"#b8e186\"], [0.8, \"#7fbc41\"], [0.9, \"#4d9221\"], [1, \"#276419\"]], \"sequential\": [[0.0, \"#0d0887\"], [0.1111111111111111, \"#46039f\"], [0.2222222222222222, \"#7201a8\"], [0.3333333333333333, \"#9c179e\"], [0.4444444444444444, \"#bd3786\"], [0.5555555555555556, \"#d8576b\"], [0.6666666666666666, \"#ed7953\"], [0.7777777777777778, \"#fb9f3a\"], [0.8888888888888888, \"#fdca26\"], [1.0, \"#f0f921\"]], \"sequentialminus\": [[0.0, \"#0d0887\"], [0.1111111111111111, \"#46039f\"], [0.2222222222222222, \"#7201a8\"], [0.3333333333333333, \"#9c179e\"], [0.4444444444444444, \"#bd3786\"], [0.5555555555555556, \"#d8576b\"], [0.6666666666666666, \"#ed7953\"], [0.7777777777777778, \"#fb9f3a\"], [0.8888888888888888, \"#fdca26\"], [1.0, \"#f0f921\"]]}, \"colorway\": [\"#636efa\", \"#EF553B\", \"#00cc96\", \"#ab63fa\", \"#FFA15A\", \"#19d3f3\", \"#FF6692\", \"#B6E880\", \"#FF97FF\", \"#FECB52\"], \"font\": {\"color\": \"#2a3f5f\"}, \"geo\": {\"bgcolor\": \"white\", \"lakecolor\": \"white\", \"landcolor\": \"#E5ECF6\", \"showlakes\": true, \"showland\": true, \"subunitcolor\": \"white\"}, \"hoverlabel\": {\"align\": \"left\"}, \"hovermode\": \"closest\", \"mapbox\": {\"style\": \"light\"}, \"paper_bgcolor\": \"white\", \"plot_bgcolor\": \"#E5ECF6\", \"polar\": {\"angularaxis\": {\"gridcolor\": \"white\", \"linecolor\": \"white\", \"ticks\": \"\"}, \"bgcolor\": \"#E5ECF6\", \"radialaxis\": {\"gridcolor\": \"white\", \"linecolor\": \"white\", \"ticks\": \"\"}}, \"scene\": {\"xaxis\": {\"backgroundcolor\": \"#E5ECF6\", \"gridcolor\": \"white\", \"gridwidth\": 2, \"linecolor\": \"white\", \"showbackground\": true, \"ticks\": \"\", \"zerolinecolor\": \"white\"}, \"yaxis\": {\"backgroundcolor\": \"#E5ECF6\", \"gridcolor\": \"white\", \"gridwidth\": 2, \"linecolor\": \"white\", \"showbackground\": true, \"ticks\": \"\", \"zerolinecolor\": \"white\"}, \"zaxis\": {\"backgroundcolor\": \"#E5ECF6\", \"gridcolor\": \"white\", \"gridwidth\": 2, \"linecolor\": \"white\", \"showbackground\": true, \"ticks\": \"\", \"zerolinecolor\": \"white\"}}, \"shapedefaults\": {\"line\": {\"color\": \"#2a3f5f\"}}, \"ternary\": {\"aaxis\": {\"gridcolor\": \"white\", \"linecolor\": \"white\", \"ticks\": \"\"}, \"baxis\": {\"gridcolor\": \"white\", \"linecolor\": \"white\", \"ticks\": \"\"}, \"bgcolor\": \"#E5ECF6\", \"caxis\": {\"gridcolor\": \"white\", \"linecolor\": \"white\", \"ticks\": \"\"}}, \"title\": {\"x\": 0.05}, \"xaxis\": {\"automargin\": true, \"gridcolor\": \"white\", \"linecolor\": \"white\", \"ticks\": \"\", \"title\": {\"standoff\": 15}, \"zerolinecolor\": \"white\", \"zerolinewidth\": 2}, \"yaxis\": {\"automargin\": true, \"gridcolor\": \"white\", \"linecolor\": \"white\", \"ticks\": \"\", \"title\": {\"standoff\": 15}, \"zerolinecolor\": \"white\", \"zerolinewidth\": 2}}}, \"xaxis\": {\"anchor\": \"y\", \"domain\": [0.0, 1.0], \"tickangle\": -45, \"title\": {\"text\": \"smiles\"}}, \"yaxis\": {\"anchor\": \"x\", \"domain\": [0.0, 1.0], \"title\": {\"text\": \"mol_id\"}}},                        {\"responsive\": true}                    ).then(function(){\n",
       "                            \n",
       "var gd = document.getElementById('832bb63b-ce18-4aa3-a039-cce3379bb918');\n",
       "var x = new MutationObserver(function (mutations, observer) {{\n",
       "        var display = window.getComputedStyle(gd).display;\n",
       "        if (!display || display === 'none') {{\n",
       "            console.log([gd, 'removed!']);\n",
       "            Plotly.purge(gd);\n",
       "            observer.disconnect();\n",
       "        }}\n",
       "}});\n",
       "\n",
       "// Listen for the removal of the full notebook cells\n",
       "var notebookContainer = gd.closest('#notebook-container');\n",
       "if (notebookContainer) {{\n",
       "    x.observe(notebookContainer, {childList: true});\n",
       "}}\n",
       "\n",
       "// Listen for the clearing of the current output cell\n",
       "var outputEl = gd.closest('.output');\n",
       "if (outputEl) {{\n",
       "    x.observe(outputEl, {childList: true});\n",
       "}}\n",
       "\n",
       "                        })                };                });            </script>        </div>"
      ]
     },
     "metadata": {},
     "output_type": "display_data"
    },
    {
     "data": {
      "image/png": "[encoded data removed]",
      "text/plain": [
       "<IPython.core.display.Image object>"
      ]
     },
     "execution_count": 139,
     "metadata": {},
     "output_type": "execute_result"
    }
   ],
   "source": [
    "import plotly.express as px\n",
    "import plotly.io as pio\n",
    "import plotly.graph_objs as go\n",
    "from plotly.offline import iplot\n",
    "#plotly.offline.init_notebook_mode(connected=True)\n",
    "#plotly.offline.init_notebook_mode(connected=True)\n",
    "\n",
    "# \"alpha\" - Isotropic polarizability (unit: Bohr^3)\n",
    "# \"gap\" - Gap between HOMO and LUMO (unit: Hartree)\n",
    "#\"mol_id\" - Molecule ID (gdb9 index) mapping to the .sdf file\n",
    "#\"A\" - Rotational constant (unit: GHz)\n",
    "#\"B\" - Rotational constant (unit: GHz)\n",
    "#\"C\" - Rotational constant (unit: GHz)\n",
    "#\"mu\" - Dipole moment (unit: D)\n",
    "#\"alpha\" - Isotropic polarizability (unit: Bohr^3)\n",
    "#\"homo\" - Highest occupied molecular orbital energy (unit: Hartree)\n",
    "#\"lumo\" - Lowest unoccupied molecular orbital energy (unit: Hartree)\n",
    "#\"gap\" - Gap between HOMO and LUMO (unit: Hartree)\n",
    "#\"r2\" - Electronic spatial extent (unit: Bohr^2)\n",
    "#\"zpve\" - Zero point vibrational energy (unit: Hartree)\n",
    "#\"u0\" - Internal energy at 0K (unit: Hartree)\n",
    "#\"u298\" - Internal energy at 298.15K (unit: Hartree)\n",
    "#\"h298\" - Enthalpy at 298.15K (unit: Hartree)\n",
    "#\"g298\" - Free energy at 298.15K (unit: Hartree)\n",
    "#\"cv\" - Heat capavity at 298.15K (unit: cal/(mol*K))\n",
    "#\"u0_atom\" - Atomization energy at 0K (unit: kcal/mol)\n",
    "#\"u298_atom\" - Atomization energy at 298.15K (unit: kcal/mol)\n",
    "#\"h298_atom\" - Atomization enthalpy at 298.15K (unit: kcal/mol)\n",
    "\n",
    "fig = px.bar(dataset.head(20), x='smiles', y='mol_id')\n",
    "fig.update_layout(barmode='group', xaxis_tickangle=-45)\n",
    "fig.show()\n",
    "data = fig\n",
    "layout = go.Layout(title= \"Gap between HOMO and LUMO vs. Dipole moment\", hovermode= 'closest',\n",
    "                   font = dict(family='Times New Roman',size=12),\n",
    "                   xaxis= dict(title= '$Gap \\: between \\: HOMO \\: and \\: LUMO \\: [Hartree]$',zeroline= False, gridwidth= 2),\n",
    "                   yaxis= dict(title= '$Dipole \\: moment \\: [D]$',zeroline= False, gridwidth= 2),\n",
    "                   height = 900,\n",
    "                   width = 900,\n",
    "     showlegend= True                \n",
    ")\n",
    "fig = go.Figure(data=data, layout=layout)\n",
    "iplot(fig)\n",
    "pio.write_image(fig, \"./fig_smiles.png\", scale=2, width=600, height=350)\n",
    "#pio.write_image(fig, \"gdrive/MyDrive/Colab Notebooks/data/fig_smiles.png\", scale=2, width=600, height=350)\n",
    "\n",
    "#fig.write_image(\"gdrive/MyDrive/Colab Notebooks/data/fig_smiles.png\",dpi=600)\n",
    "#ax=px.savefig('gdrive/MyDrive/Colab Notebooks/data/fig_smiles.png', dpi=600, facecolor='w', edgecolor='w',orientation='landscape', papertype='a4', format=None, transparent=False, bbox_inches=None, pad_inches=None, frameon=None, metadata=None)\n",
    "from IPython.display import Image\n",
    "img_bytes = fig.to_image(format=\"png\", width=600, height=350, scale=1)\n",
    "Image(img_bytes)"
   ]
  },
  {
   "cell_type": "code",
   "execution_count": 84,
   "metadata": {},
   "outputs": [
    {
     "data": {
      "application/vnd.plotly.v1+json": {
       "config": {
        "linkText": "Export to plot.ly",
        "plotlyServerURL": "https://plot.ly",
        "showLink": false
       },
       "data": [
        {
         "marker": {
          "color": "black",
          "size": 12
         },
         "mode": "markers",
         "name": "cv alpha",
         "type": "scatter",
         "x": [
          29,
          24.065,
          33.773,
          29.926,
          31.201,
          35.74,
          36.697,
          31.39,
          29.74,
          33.659,
          26.199,
          26.786,
          28.748,
          40.542,
          29.065,
          34.981,
          32.681,
          36.856,
          37.363,
          28.596,
          35.523,
          29.298,
          27.681,
          30.968,
          28.182,
          34.632,
          30.76,
          38.378,
          31.015,
          34.913,
          33.124,
          35.755,
          30.928,
          34.297,
          37.322,
          26.155,
          26.647,
          36.882,
          36.527,
          25.668,
          35.382,
          31.043,
          36.44,
          34.992,
          34.282,
          32.382,
          30.289,
          37.735,
          36.249,
          36.391,
          36.043,
          34.718,
          29.319,
          26.789,
          40.558,
          30.653,
          28.982,
          34.487,
          35.403,
          30.074,
          34.004,
          22.38,
          42.063,
          28.78,
          38.609,
          32.572,
          33.226,
          23.58,
          39.664,
          31.298,
          37.767,
          39.415,
          29.752,
          39.102,
          29.235,
          31.941,
          35.706,
          39.968,
          33.233,
          32.001,
          20.031,
          36.425,
          34.759,
          31.513,
          30.179,
          35.114,
          34.01,
          34.987,
          33.895,
          29.021,
          33.361,
          27.522,
          29.459,
          36.225,
          24.798,
          26.754,
          32.636,
          33.85,
          32.256,
          35.309,
          33.306,
          31.583,
          33.982,
          38.302,
          32.991,
          35.802,
          24.716,
          23.926,
          33.14,
          33.524,
          31.015,
          32.114,
          26.06,
          31.225,
          21.164,
          37.365,
          34.299,
          29.01,
          31.628,
          33.527,
          28.097,
          24.951,
          32.901,
          31.373,
          28.218,
          37.038,
          36.818,
          39.328,
          32.038,
          40.732,
          33.606,
          29.438,
          33.747,
          29.274,
          36.285,
          30.031,
          42.976,
          29.139,
          32.971,
          31.943,
          32.624,
          27.877,
          31.724,
          25.752,
          38.284,
          32.685,
          31.426,
          28.672,
          34.563,
          29.233,
          28.968,
          28.773,
          35.753,
          33.184,
          35.309,
          39.549,
          33.18,
          39.963,
          28.68,
          27.602,
          31.62,
          29.996,
          27.896,
          23.164,
          27.235,
          26.07,
          32.51,
          27.465,
          31.445,
          32.848,
          31.597,
          17.709,
          34.404,
          43.15,
          27.135,
          28.254,
          41.219,
          30.425,
          32.813,
          30.38,
          36.89,
          34.655,
          31.937,
          30.989,
          27.674,
          29.277,
          33.43,
          34.525,
          35.598,
          29.636,
          30.035,
          30.346,
          31.048,
          30.177,
          32.695,
          31.851,
          24.97,
          29.124,
          41.348,
          39.149
         ],
         "y": [
          78.73,
          65.83,
          73.97,
          67.95,
          74.49,
          81.35,
          81.84,
          72.42,
          84.22,
          93.13,
          67.96,
          65.82,
          69.09,
          87.15,
          69.93,
          73.7,
          68.59,
          73.66,
          83.28,
          68.75,
          88.06,
          72.62,
          73.14,
          70.97,
          73.69,
          81.45,
          77.47,
          79.51,
          77.22,
          89.68,
          74.73,
          77.12,
          76.11,
          72.23,
          78.57,
          67.26,
          62.47,
          79.09,
          75.72,
          72.93,
          82.8,
          82.28,
          74.01,
          79.08,
          87.03,
          80.05,
          74.11,
          85.46,
          85.17,
          77.8,
          82.85,
          78.95,
          70.07,
          71.85,
          91.22,
          78.88,
          70.52,
          72.45,
          73.62,
          65.01,
          60.91,
          53.22,
          77.42,
          68.62,
          82.27,
          83.44,
          78.26,
          61.77,
          84.78,
          74.57,
          81.69,
          75.54,
          78.41,
          80.93,
          71.68,
          81.18,
          77.27,
          83.87,
          68.87,
          69.88,
          53.58,
          76.49,
          80.8,
          77.81,
          76.28,
          78.36,
          78.95,
          73.96,
          65,
          80.22,
          83.97,
          68.76,
          62.68,
          78.33,
          69.39,
          61.69,
          76.43,
          70.45,
          73.6,
          85.99,
          74.89,
          78.43,
          76.62,
          87.88,
          89.88,
          83.4,
          57.69,
          59.38,
          75.75,
          80.88,
          82.22,
          73.04,
          71.62,
          72.69,
          42.07,
          83.64,
          84.31,
          76.77,
          66.99,
          81.34,
          70.99,
          64.12,
          82.42,
          74.6,
          72.38,
          84.61,
          78.59,
          94.37,
          82.86,
          78.09,
          70.02,
          76.95,
          68.8,
          77.05,
          89.03,
          63.41,
          88.58,
          75.66,
          79.23,
          79.11,
          76.33,
          67.2,
          69.7,
          67.95,
          75.84,
          70.83,
          78.4,
          71.2,
          72.33,
          79.78,
          61.15,
          79.8,
          77.61,
          83.72,
          82.26,
          85.13,
          71.29,
          86.87,
          68.33,
          77.84,
          78.4,
          88.37,
          77.53,
          59.45,
          63.61,
          69.01,
          85.75,
          79.23,
          66,
          76.65,
          68.15,
          50.58,
          81.74,
          99.15,
          64.39,
          78.27,
          88.66,
          76,
          80.45,
          72.45,
          81.94,
          73.02,
          81.66,
          74.58,
          66.78,
          64.8,
          81.84,
          74.46,
          79.13,
          72.53,
          70.57,
          79.74,
          69.41,
          73.68,
          81.09,
          71.5,
          56.4,
          71.91,
          77.09,
          80.15
         ]
        }
       ],
       "layout": {
        "font": {
         "family": "Times New Roman",
         "size": 12
        },
        "height": 600,
        "hovermode": "closest",
        "showlegend": true,
        "template": {
         "data": {
          "bar": [
           {
            "error_x": {
             "color": "#2a3f5f"
            },
            "error_y": {
             "color": "#2a3f5f"
            },
            "marker": {
             "line": {
              "color": "#E5ECF6",
              "width": 0.5
             }
            },
            "type": "bar"
           }
          ],
          "barpolar": [
           {
            "marker": {
             "line": {
              "color": "#E5ECF6",
              "width": 0.5
             }
            },
            "type": "barpolar"
           }
          ],
          "carpet": [
           {
            "aaxis": {
             "endlinecolor": "#2a3f5f",
             "gridcolor": "white",
             "linecolor": "white",
             "minorgridcolor": "white",
             "startlinecolor": "#2a3f5f"
            },
            "baxis": {
             "endlinecolor": "#2a3f5f",
             "gridcolor": "white",
             "linecolor": "white",
             "minorgridcolor": "white",
             "startlinecolor": "#2a3f5f"
            },
            "type": "carpet"
           }
          ],
          "choropleth": [
           {
            "colorbar": {
             "outlinewidth": 0,
             "ticks": ""
            },
            "type": "choropleth"
           }
          ],
          "contour": [
           {
            "colorbar": {
             "outlinewidth": 0,
             "ticks": ""
            },
            "colorscale": [
             [
              0,
              "#0d0887"
             ],
             [
              0.1111111111111111,
              "#46039f"
             ],
             [
              0.2222222222222222,
              "#7201a8"
             ],
             [
              0.3333333333333333,
              "#9c179e"
             ],
             [
              0.4444444444444444,
              "#bd3786"
             ],
             [
              0.5555555555555556,
              "#d8576b"
             ],
             [
              0.6666666666666666,
              "#ed7953"
             ],
             [
              0.7777777777777778,
              "#fb9f3a"
             ],
             [
              0.8888888888888888,
              "#fdca26"
             ],
             [
              1,
              "#f0f921"
             ]
            ],
            "type": "contour"
           }
          ],
          "contourcarpet": [
           {
            "colorbar": {
             "outlinewidth": 0,
             "ticks": ""
            },
            "type": "contourcarpet"
           }
          ],
          "heatmap": [
           {
            "colorbar": {
             "outlinewidth": 0,
             "ticks": ""
            },
            "colorscale": [
             [
              0,
              "#0d0887"
             ],
             [
              0.1111111111111111,
              "#46039f"
             ],
             [
              0.2222222222222222,
              "#7201a8"
             ],
             [
              0.3333333333333333,
              "#9c179e"
             ],
             [
              0.4444444444444444,
              "#bd3786"
             ],
             [
              0.5555555555555556,
              "#d8576b"
             ],
             [
              0.6666666666666666,
              "#ed7953"
             ],
             [
              0.7777777777777778,
              "#fb9f3a"
             ],
             [
              0.8888888888888888,
              "#fdca26"
             ],
             [
              1,
              "#f0f921"
             ]
            ],
            "type": "heatmap"
           }
          ],
          "heatmapgl": [
           {
            "colorbar": {
             "outlinewidth": 0,
             "ticks": ""
            },
            "colorscale": [
             [
              0,
              "#0d0887"
             ],
             [
              0.1111111111111111,
              "#46039f"
             ],
             [
              0.2222222222222222,
              "#7201a8"
             ],
             [
              0.3333333333333333,
              "#9c179e"
             ],
             [
              0.4444444444444444,
              "#bd3786"
             ],
             [
              0.5555555555555556,
              "#d8576b"
             ],
             [
              0.6666666666666666,
              "#ed7953"
             ],
             [
              0.7777777777777778,
              "#fb9f3a"
             ],
             [
              0.8888888888888888,
              "#fdca26"
             ],
             [
              1,
              "#f0f921"
             ]
            ],
            "type": "heatmapgl"
           }
          ],
          "histogram": [
           {
            "marker": {
             "colorbar": {
              "outlinewidth": 0,
              "ticks": ""
             }
            },
            "type": "histogram"
           }
          ],
          "histogram2d": [
           {
            "colorbar": {
             "outlinewidth": 0,
             "ticks": ""
            },
            "colorscale": [
             [
              0,
              "#0d0887"
             ],
             [
              0.1111111111111111,
              "#46039f"
             ],
             [
              0.2222222222222222,
              "#7201a8"
             ],
             [
              0.3333333333333333,
              "#9c179e"
             ],
             [
              0.4444444444444444,
              "#bd3786"
             ],
             [
              0.5555555555555556,
              "#d8576b"
             ],
             [
              0.6666666666666666,
              "#ed7953"
             ],
             [
              0.7777777777777778,
              "#fb9f3a"
             ],
             [
              0.8888888888888888,
              "#fdca26"
             ],
             [
              1,
              "#f0f921"
             ]
            ],
            "type": "histogram2d"
           }
          ],
          "histogram2dcontour": [
           {
            "colorbar": {
             "outlinewidth": 0,
             "ticks": ""
            },
            "colorscale": [
             [
              0,
              "#0d0887"
             ],
             [
              0.1111111111111111,
              "#46039f"
             ],
             [
              0.2222222222222222,
              "#7201a8"
             ],
             [
              0.3333333333333333,
              "#9c179e"
             ],
             [
              0.4444444444444444,
              "#bd3786"
             ],
             [
              0.5555555555555556,
              "#d8576b"
             ],
             [
              0.6666666666666666,
              "#ed7953"
             ],
             [
              0.7777777777777778,
              "#fb9f3a"
             ],
             [
              0.8888888888888888,
              "#fdca26"
             ],
             [
              1,
              "#f0f921"
             ]
            ],
            "type": "histogram2dcontour"
           }
          ],
          "mesh3d": [
           {
            "colorbar": {
             "outlinewidth": 0,
             "ticks": ""
            },
            "type": "mesh3d"
           }
          ],
          "parcoords": [
           {
            "line": {
             "colorbar": {
              "outlinewidth": 0,
              "ticks": ""
             }
            },
            "type": "parcoords"
           }
          ],
          "pie": [
           {
            "automargin": true,
            "type": "pie"
           }
          ],
          "scatter": [
           {
            "marker": {
             "colorbar": {
              "outlinewidth": 0,
              "ticks": ""
             }
            },
            "type": "scatter"
           }
          ],
          "scatter3d": [
           {
            "line": {
             "colorbar": {
              "outlinewidth": 0,
              "ticks": ""
             }
            },
            "marker": {
             "colorbar": {
              "outlinewidth": 0,
              "ticks": ""
             }
            },
            "type": "scatter3d"
           }
          ],
          "scattercarpet": [
           {
            "marker": {
             "colorbar": {
              "outlinewidth": 0,
              "ticks": ""
             }
            },
            "type": "scattercarpet"
           }
          ],
          "scattergeo": [
           {
            "marker": {
             "colorbar": {
              "outlinewidth": 0,
              "ticks": ""
             }
            },
            "type": "scattergeo"
           }
          ],
          "scattergl": [
           {
            "marker": {
             "colorbar": {
              "outlinewidth": 0,
              "ticks": ""
             }
            },
            "type": "scattergl"
           }
          ],
          "scattermapbox": [
           {
            "marker": {
             "colorbar": {
              "outlinewidth": 0,
              "ticks": ""
             }
            },
            "type": "scattermapbox"
           }
          ],
          "scatterpolar": [
           {
            "marker": {
             "colorbar": {
              "outlinewidth": 0,
              "ticks": ""
             }
            },
            "type": "scatterpolar"
           }
          ],
          "scatterpolargl": [
           {
            "marker": {
             "colorbar": {
              "outlinewidth": 0,
              "ticks": ""
             }
            },
            "type": "scatterpolargl"
           }
          ],
          "scatterternary": [
           {
            "marker": {
             "colorbar": {
              "outlinewidth": 0,
              "ticks": ""
             }
            },
            "type": "scatterternary"
           }
          ],
          "surface": [
           {
            "colorbar": {
             "outlinewidth": 0,
             "ticks": ""
            },
            "colorscale": [
             [
              0,
              "#0d0887"
             ],
             [
              0.1111111111111111,
              "#46039f"
             ],
             [
              0.2222222222222222,
              "#7201a8"
             ],
             [
              0.3333333333333333,
              "#9c179e"
             ],
             [
              0.4444444444444444,
              "#bd3786"
             ],
             [
              0.5555555555555556,
              "#d8576b"
             ],
             [
              0.6666666666666666,
              "#ed7953"
             ],
             [
              0.7777777777777778,
              "#fb9f3a"
             ],
             [
              0.8888888888888888,
              "#fdca26"
             ],
             [
              1,
              "#f0f921"
             ]
            ],
            "type": "surface"
           }
          ],
          "table": [
           {
            "cells": {
             "fill": {
              "color": "#EBF0F8"
             },
             "line": {
              "color": "white"
             }
            },
            "header": {
             "fill": {
              "color": "#C8D4E3"
             },
             "line": {
              "color": "white"
             }
            },
            "type": "table"
           }
          ]
         },
         "layout": {
          "annotationdefaults": {
           "arrowcolor": "#2a3f5f",
           "arrowhead": 0,
           "arrowwidth": 1
          },
          "autotypenumbers": "strict",
          "coloraxis": {
           "colorbar": {
            "outlinewidth": 0,
            "ticks": ""
           }
          },
          "colorscale": {
           "diverging": [
            [
             0,
             "#8e0152"
            ],
            [
             0.1,
             "#c51b7d"
            ],
            [
             0.2,
             "#de77ae"
            ],
            [
             0.3,
             "#f1b6da"
            ],
            [
             0.4,
             "#fde0ef"
            ],
            [
             0.5,
             "#f7f7f7"
            ],
            [
             0.6,
             "#e6f5d0"
            ],
            [
             0.7,
             "#b8e186"
            ],
            [
             0.8,
             "#7fbc41"
            ],
            [
             0.9,
             "#4d9221"
            ],
            [
             1,
             "#276419"
            ]
           ],
           "sequential": [
            [
             0,
             "#0d0887"
            ],
            [
             0.1111111111111111,
             "#46039f"
            ],
            [
             0.2222222222222222,
             "#7201a8"
            ],
            [
             0.3333333333333333,
             "#9c179e"
            ],
            [
             0.4444444444444444,
             "#bd3786"
            ],
            [
             0.5555555555555556,
             "#d8576b"
            ],
            [
             0.6666666666666666,
             "#ed7953"
            ],
            [
             0.7777777777777778,
             "#fb9f3a"
            ],
            [
             0.8888888888888888,
             "#fdca26"
            ],
            [
             1,
             "#f0f921"
            ]
           ],
           "sequentialminus": [
            [
             0,
             "#0d0887"
            ],
            [
             0.1111111111111111,
             "#46039f"
            ],
            [
             0.2222222222222222,
             "#7201a8"
            ],
            [
             0.3333333333333333,
             "#9c179e"
            ],
            [
             0.4444444444444444,
             "#bd3786"
            ],
            [
             0.5555555555555556,
             "#d8576b"
            ],
            [
             0.6666666666666666,
             "#ed7953"
            ],
            [
             0.7777777777777778,
             "#fb9f3a"
            ],
            [
             0.8888888888888888,
             "#fdca26"
            ],
            [
             1,
             "#f0f921"
            ]
           ]
          },
          "colorway": [
           "#636efa",
           "#EF553B",
           "#00cc96",
           "#ab63fa",
           "#FFA15A",
           "#19d3f3",
           "#FF6692",
           "#B6E880",
           "#FF97FF",
           "#FECB52"
          ],
          "font": {
           "color": "#2a3f5f"
          },
          "geo": {
           "bgcolor": "white",
           "lakecolor": "white",
           "landcolor": "#E5ECF6",
           "showlakes": true,
           "showland": true,
           "subunitcolor": "white"
          },
          "hoverlabel": {
           "align": "left"
          },
          "hovermode": "closest",
          "mapbox": {
           "style": "light"
          },
          "paper_bgcolor": "white",
          "plot_bgcolor": "#E5ECF6",
          "polar": {
           "angularaxis": {
            "gridcolor": "white",
            "linecolor": "white",
            "ticks": ""
           },
           "bgcolor": "#E5ECF6",
           "radialaxis": {
            "gridcolor": "white",
            "linecolor": "white",
            "ticks": ""
           }
          },
          "scene": {
           "xaxis": {
            "backgroundcolor": "#E5ECF6",
            "gridcolor": "white",
            "gridwidth": 2,
            "linecolor": "white",
            "showbackground": true,
            "ticks": "",
            "zerolinecolor": "white"
           },
           "yaxis": {
            "backgroundcolor": "#E5ECF6",
            "gridcolor": "white",
            "gridwidth": 2,
            "linecolor": "white",
            "showbackground": true,
            "ticks": "",
            "zerolinecolor": "white"
           },
           "zaxis": {
            "backgroundcolor": "#E5ECF6",
            "gridcolor": "white",
            "gridwidth": 2,
            "linecolor": "white",
            "showbackground": true,
            "ticks": "",
            "zerolinecolor": "white"
           }
          },
          "shapedefaults": {
           "line": {
            "color": "#2a3f5f"
           }
          },
          "ternary": {
           "aaxis": {
            "gridcolor": "white",
            "linecolor": "white",
            "ticks": ""
           },
           "baxis": {
            "gridcolor": "white",
            "linecolor": "white",
            "ticks": ""
           },
           "bgcolor": "#E5ECF6",
           "caxis": {
            "gridcolor": "white",
            "linecolor": "white",
            "ticks": ""
           }
          },
          "title": {
           "x": 0.05
          },
          "xaxis": {
           "automargin": true,
           "gridcolor": "white",
           "linecolor": "white",
           "ticks": "",
           "title": {
            "standoff": 15
           },
           "zerolinecolor": "white",
           "zerolinewidth": 2
          },
          "yaxis": {
           "automargin": true,
           "gridcolor": "white",
           "linecolor": "white",
           "ticks": "",
           "title": {
            "standoff": 15
           },
           "zerolinecolor": "white",
           "zerolinewidth": 2
          }
         }
        },
        "title": {
         "text": "Heat capavity at 298.15K vs. Isotropic polarizability"
        },
        "width": 600,
        "xaxis": {
         "gridwidth": 2,
         "title": {
          "text": "$Heat \\: capavity \\: (cv) \\: at \\: 298.15K \\: [cal/(mol*K)]$"
         },
         "zeroline": false
        },
        "yaxis": {
         "gridwidth": 2,
         "title": {
          "text": "$Isotropic \\: polarizability \\: (alpha) \\: [Bohr^3]$"
         },
         "zeroline": false
        }
       }
      },
      "text/html": [
       "<div>                            <div id=\"c8857bd1-6fa3-4cba-8db5-4728401f50c2\" class=\"plotly-graph-div\" style=\"height:600px; width:600px;\"></div>            <script type=\"text/javascript\">                require([\"plotly\"], function(Plotly) {                    window.PLOTLYENV=window.PLOTLYENV || {};                                    if (document.getElementById(\"c8857bd1-6fa3-4cba-8db5-4728401f50c2\")) {                    Plotly.newPlot(                        \"c8857bd1-6fa3-4cba-8db5-4728401f50c2\",                        [{\"marker\": {\"color\": \"black\", \"size\": 12}, \"mode\": \"markers\", \"name\": \"cv alpha\", \"type\": \"scatter\", \"x\": [29.0, 24.065, 33.773, 29.926, 31.201, 35.74, 36.697, 31.39, 29.74, 33.659, 26.199, 26.786, 28.748, 40.542, 29.065, 34.981, 32.681, 36.856, 37.363, 28.596, 35.523, 29.298, 27.681, 30.968, 28.182, 34.632, 30.76, 38.378, 31.015, 34.913, 33.124, 35.755, 30.928, 34.297, 37.322, 26.155, 26.647, 36.882, 36.527, 25.668, 35.382, 31.043, 36.44, 34.992, 34.282, 32.382, 30.289, 37.735, 36.249, 36.391, 36.043, 34.718, 29.319, 26.789, 40.558, 30.653, 28.982, 34.487, 35.403, 30.074, 34.004, 22.38, 42.063, 28.78, 38.609, 32.572, 33.226, 23.58, 39.664, 31.298, 37.767, 39.415, 29.752, 39.102, 29.235, 31.941, 35.706, 39.968, 33.233, 32.001, 20.031, 36.425, 34.759, 31.513, 30.179, 35.114, 34.01, 34.987, 33.895, 29.021, 33.361, 27.522, 29.459, 36.225, 24.798, 26.754, 32.636, 33.85, 32.256, 35.309, 33.306, 31.583, 33.982, 38.302, 32.991, 35.802, 24.716, 23.926, 33.14, 33.524, 31.015, 32.114, 26.06, 31.225, 21.164, 37.365, 34.299, 29.01, 31.628, 33.527, 28.097, 24.951, 32.901, 31.373, 28.218, 37.038, 36.818, 39.328, 32.038, 40.732, 33.606, 29.438, 33.747, 29.274, 36.285, 30.031, 42.976, 29.139, 32.971, 31.943, 32.624, 27.877, 31.724, 25.752, 38.284, 32.685, 31.426, 28.672, 34.563, 29.233, 28.968, 28.773, 35.753, 33.184, 35.309, 39.549, 33.18, 39.963, 28.68, 27.602, 31.62, 29.996, 27.896, 23.164, 27.235, 26.07, 32.51, 27.465, 31.445, 32.848, 31.597, 17.709, 34.404, 43.15, 27.135, 28.254, 41.219, 30.425, 32.813, 30.38, 36.89, 34.655, 31.937, 30.989, 27.674, 29.277, 33.43, 34.525, 35.598, 29.636, 30.035, 30.346, 31.048, 30.177, 32.695, 31.851, 24.97, 29.124, 41.348, 39.149], \"y\": [78.73, 65.83, 73.97, 67.95, 74.49, 81.35, 81.84, 72.42, 84.22, 93.13, 67.96, 65.82, 69.09, 87.15, 69.93, 73.7, 68.59, 73.66, 83.28, 68.75, 88.06, 72.62, 73.14, 70.97, 73.69, 81.45, 77.47, 79.51, 77.22, 89.68, 74.73, 77.12, 76.11, 72.23, 78.57, 67.26, 62.47, 79.09, 75.72, 72.93, 82.8, 82.28, 74.01, 79.08, 87.03, 80.05, 74.11, 85.46, 85.17, 77.8, 82.85, 78.95, 70.07, 71.85, 91.22, 78.88, 70.52, 72.45, 73.62, 65.01, 60.91, 53.22, 77.42, 68.62, 82.27, 83.44, 78.26, 61.77, 84.78, 74.57, 81.69, 75.54, 78.41, 80.93, 71.68, 81.18, 77.27, 83.87, 68.87, 69.88, 53.58, 76.49, 80.8, 77.81, 76.28, 78.36, 78.95, 73.96, 65.0, 80.22, 83.97, 68.76, 62.68, 78.33, 69.39, 61.69, 76.43, 70.45, 73.6, 85.99, 74.89, 78.43, 76.62, 87.88, 89.88, 83.4, 57.69, 59.38, 75.75, 80.88, 82.22, 73.04, 71.62, 72.69, 42.07, 83.64, 84.31, 76.77, 66.99, 81.34, 70.99, 64.12, 82.42, 74.6, 72.38, 84.61, 78.59, 94.37, 82.86, 78.09, 70.02, 76.95, 68.8, 77.05, 89.03, 63.41, 88.58, 75.66, 79.23, 79.11, 76.33, 67.2, 69.7, 67.95, 75.84, 70.83, 78.4, 71.2, 72.33, 79.78, 61.15, 79.8, 77.61, 83.72, 82.26, 85.13, 71.29, 86.87, 68.33, 77.84, 78.4, 88.37, 77.53, 59.45, 63.61, 69.01, 85.75, 79.23, 66.0, 76.65, 68.15, 50.58, 81.74, 99.15, 64.39, 78.27, 88.66, 76.0, 80.45, 72.45, 81.94, 73.02, 81.66, 74.58, 66.78, 64.8, 81.84, 74.46, 79.13, 72.53, 70.57, 79.74, 69.41, 73.68, 81.09, 71.5, 56.4, 71.91, 77.09, 80.15]}],                        {\"font\": {\"family\": \"Times New Roman\", \"size\": 12}, \"height\": 600, \"hovermode\": \"closest\", \"showlegend\": true, \"template\": {\"data\": {\"bar\": [{\"error_x\": {\"color\": \"#2a3f5f\"}, \"error_y\": {\"color\": \"#2a3f5f\"}, \"marker\": {\"line\": {\"color\": \"#E5ECF6\", \"width\": 0.5}}, \"type\": \"bar\"}], \"barpolar\": [{\"marker\": {\"line\": {\"color\": \"#E5ECF6\", \"width\": 0.5}}, \"type\": \"barpolar\"}], \"carpet\": [{\"aaxis\": {\"endlinecolor\": \"#2a3f5f\", \"gridcolor\": \"white\", \"linecolor\": \"white\", \"minorgridcolor\": \"white\", \"startlinecolor\": \"#2a3f5f\"}, \"baxis\": {\"endlinecolor\": \"#2a3f5f\", \"gridcolor\": \"white\", \"linecolor\": \"white\", \"minorgridcolor\": \"white\", \"startlinecolor\": \"#2a3f5f\"}, \"type\": \"carpet\"}], \"choropleth\": [{\"colorbar\": {\"outlinewidth\": 0, \"ticks\": \"\"}, \"type\": \"choropleth\"}], \"contour\": [{\"colorbar\": {\"outlinewidth\": 0, \"ticks\": \"\"}, \"colorscale\": [[0.0, \"#0d0887\"], [0.1111111111111111, \"#46039f\"], [0.2222222222222222, \"#7201a8\"], [0.3333333333333333, \"#9c179e\"], [0.4444444444444444, \"#bd3786\"], [0.5555555555555556, \"#d8576b\"], [0.6666666666666666, \"#ed7953\"], [0.7777777777777778, \"#fb9f3a\"], [0.8888888888888888, \"#fdca26\"], [1.0, \"#f0f921\"]], \"type\": \"contour\"}], \"contourcarpet\": [{\"colorbar\": {\"outlinewidth\": 0, \"ticks\": \"\"}, \"type\": \"contourcarpet\"}], \"heatmap\": [{\"colorbar\": {\"outlinewidth\": 0, \"ticks\": \"\"}, \"colorscale\": [[0.0, \"#0d0887\"], [0.1111111111111111, \"#46039f\"], [0.2222222222222222, \"#7201a8\"], [0.3333333333333333, \"#9c179e\"], [0.4444444444444444, \"#bd3786\"], [0.5555555555555556, \"#d8576b\"], [0.6666666666666666, \"#ed7953\"], [0.7777777777777778, \"#fb9f3a\"], [0.8888888888888888, \"#fdca26\"], [1.0, \"#f0f921\"]], \"type\": \"heatmap\"}], \"heatmapgl\": [{\"colorbar\": {\"outlinewidth\": 0, \"ticks\": \"\"}, \"colorscale\": [[0.0, \"#0d0887\"], [0.1111111111111111, \"#46039f\"], [0.2222222222222222, \"#7201a8\"], [0.3333333333333333, \"#9c179e\"], [0.4444444444444444, \"#bd3786\"], [0.5555555555555556, \"#d8576b\"], [0.6666666666666666, \"#ed7953\"], [0.7777777777777778, \"#fb9f3a\"], [0.8888888888888888, \"#fdca26\"], [1.0, \"#f0f921\"]], \"type\": \"heatmapgl\"}], \"histogram\": [{\"marker\": {\"colorbar\": {\"outlinewidth\": 0, \"ticks\": \"\"}}, \"type\": \"histogram\"}], \"histogram2d\": [{\"colorbar\": {\"outlinewidth\": 0, \"ticks\": \"\"}, \"colorscale\": [[0.0, \"#0d0887\"], [0.1111111111111111, \"#46039f\"], [0.2222222222222222, \"#7201a8\"], [0.3333333333333333, \"#9c179e\"], [0.4444444444444444, \"#bd3786\"], [0.5555555555555556, \"#d8576b\"], [0.6666666666666666, \"#ed7953\"], [0.7777777777777778, \"#fb9f3a\"], [0.8888888888888888, \"#fdca26\"], [1.0, \"#f0f921\"]], \"type\": \"histogram2d\"}], \"histogram2dcontour\": [{\"colorbar\": {\"outlinewidth\": 0, \"ticks\": \"\"}, \"colorscale\": [[0.0, \"#0d0887\"], [0.1111111111111111, \"#46039f\"], [0.2222222222222222, \"#7201a8\"], [0.3333333333333333, \"#9c179e\"], [0.4444444444444444, \"#bd3786\"], [0.5555555555555556, \"#d8576b\"], [0.6666666666666666, \"#ed7953\"], [0.7777777777777778, \"#fb9f3a\"], [0.8888888888888888, \"#fdca26\"], [1.0, \"#f0f921\"]], \"type\": \"histogram2dcontour\"}], \"mesh3d\": [{\"colorbar\": {\"outlinewidth\": 0, \"ticks\": \"\"}, \"type\": \"mesh3d\"}], \"parcoords\": [{\"line\": {\"colorbar\": {\"outlinewidth\": 0, \"ticks\": \"\"}}, \"type\": \"parcoords\"}], \"pie\": [{\"automargin\": true, \"type\": \"pie\"}], \"scatter\": [{\"marker\": {\"colorbar\": {\"outlinewidth\": 0, \"ticks\": \"\"}}, \"type\": \"scatter\"}], \"scatter3d\": [{\"line\": {\"colorbar\": {\"outlinewidth\": 0, \"ticks\": \"\"}}, \"marker\": {\"colorbar\": {\"outlinewidth\": 0, \"ticks\": \"\"}}, \"type\": \"scatter3d\"}], \"scattercarpet\": [{\"marker\": {\"colorbar\": {\"outlinewidth\": 0, \"ticks\": \"\"}}, \"type\": \"scattercarpet\"}], \"scattergeo\": [{\"marker\": {\"colorbar\": {\"outlinewidth\": 0, \"ticks\": \"\"}}, \"type\": \"scattergeo\"}], \"scattergl\": [{\"marker\": {\"colorbar\": {\"outlinewidth\": 0, \"ticks\": \"\"}}, \"type\": \"scattergl\"}], \"scattermapbox\": [{\"marker\": {\"colorbar\": {\"outlinewidth\": 0, \"ticks\": \"\"}}, \"type\": \"scattermapbox\"}], \"scatterpolar\": [{\"marker\": {\"colorbar\": {\"outlinewidth\": 0, \"ticks\": \"\"}}, \"type\": \"scatterpolar\"}], \"scatterpolargl\": [{\"marker\": {\"colorbar\": {\"outlinewidth\": 0, \"ticks\": \"\"}}, \"type\": \"scatterpolargl\"}], \"scatterternary\": [{\"marker\": {\"colorbar\": {\"outlinewidth\": 0, \"ticks\": \"\"}}, \"type\": \"scatterternary\"}], \"surface\": [{\"colorbar\": {\"outlinewidth\": 0, \"ticks\": \"\"}, \"colorscale\": [[0.0, \"#0d0887\"], [0.1111111111111111, \"#46039f\"], [0.2222222222222222, \"#7201a8\"], [0.3333333333333333, \"#9c179e\"], [0.4444444444444444, \"#bd3786\"], [0.5555555555555556, \"#d8576b\"], [0.6666666666666666, \"#ed7953\"], [0.7777777777777778, \"#fb9f3a\"], [0.8888888888888888, \"#fdca26\"], [1.0, \"#f0f921\"]], \"type\": \"surface\"}], \"table\": [{\"cells\": {\"fill\": {\"color\": \"#EBF0F8\"}, \"line\": {\"color\": \"white\"}}, \"header\": {\"fill\": {\"color\": \"#C8D4E3\"}, \"line\": {\"color\": \"white\"}}, \"type\": \"table\"}]}, \"layout\": {\"annotationdefaults\": {\"arrowcolor\": \"#2a3f5f\", \"arrowhead\": 0, \"arrowwidth\": 1}, \"autotypenumbers\": \"strict\", \"coloraxis\": {\"colorbar\": {\"outlinewidth\": 0, \"ticks\": \"\"}}, \"colorscale\": {\"diverging\": [[0, \"#8e0152\"], [0.1, \"#c51b7d\"], [0.2, \"#de77ae\"], [0.3, \"#f1b6da\"], [0.4, \"#fde0ef\"], [0.5, \"#f7f7f7\"], [0.6, \"#e6f5d0\"], [0.7, \"#b8e186\"], [0.8, \"#7fbc41\"], [0.9, \"#4d9221\"], [1, \"#276419\"]], \"sequential\": [[0.0, \"#0d0887\"], [0.1111111111111111, \"#46039f\"], [0.2222222222222222, \"#7201a8\"], [0.3333333333333333, \"#9c179e\"], [0.4444444444444444, \"#bd3786\"], [0.5555555555555556, \"#d8576b\"], [0.6666666666666666, \"#ed7953\"], [0.7777777777777778, \"#fb9f3a\"], [0.8888888888888888, \"#fdca26\"], [1.0, \"#f0f921\"]], \"sequentialminus\": [[0.0, \"#0d0887\"], [0.1111111111111111, \"#46039f\"], [0.2222222222222222, \"#7201a8\"], [0.3333333333333333, \"#9c179e\"], [0.4444444444444444, \"#bd3786\"], [0.5555555555555556, \"#d8576b\"], [0.6666666666666666, \"#ed7953\"], [0.7777777777777778, \"#fb9f3a\"], [0.8888888888888888, \"#fdca26\"], [1.0, \"#f0f921\"]]}, \"colorway\": [\"#636efa\", \"#EF553B\", \"#00cc96\", \"#ab63fa\", \"#FFA15A\", \"#19d3f3\", \"#FF6692\", \"#B6E880\", \"#FF97FF\", \"#FECB52\"], \"font\": {\"color\": \"#2a3f5f\"}, \"geo\": {\"bgcolor\": \"white\", \"lakecolor\": \"white\", \"landcolor\": \"#E5ECF6\", \"showlakes\": true, \"showland\": true, \"subunitcolor\": \"white\"}, \"hoverlabel\": {\"align\": \"left\"}, \"hovermode\": \"closest\", \"mapbox\": {\"style\": \"light\"}, \"paper_bgcolor\": \"white\", \"plot_bgcolor\": \"#E5ECF6\", \"polar\": {\"angularaxis\": {\"gridcolor\": \"white\", \"linecolor\": \"white\", \"ticks\": \"\"}, \"bgcolor\": \"#E5ECF6\", \"radialaxis\": {\"gridcolor\": \"white\", \"linecolor\": \"white\", \"ticks\": \"\"}}, \"scene\": {\"xaxis\": {\"backgroundcolor\": \"#E5ECF6\", \"gridcolor\": \"white\", \"gridwidth\": 2, \"linecolor\": \"white\", \"showbackground\": true, \"ticks\": \"\", \"zerolinecolor\": \"white\"}, \"yaxis\": {\"backgroundcolor\": \"#E5ECF6\", \"gridcolor\": \"white\", \"gridwidth\": 2, \"linecolor\": \"white\", \"showbackground\": true, \"ticks\": \"\", \"zerolinecolor\": \"white\"}, \"zaxis\": {\"backgroundcolor\": \"#E5ECF6\", \"gridcolor\": \"white\", \"gridwidth\": 2, \"linecolor\": \"white\", \"showbackground\": true, \"ticks\": \"\", \"zerolinecolor\": \"white\"}}, \"shapedefaults\": {\"line\": {\"color\": \"#2a3f5f\"}}, \"ternary\": {\"aaxis\": {\"gridcolor\": \"white\", \"linecolor\": \"white\", \"ticks\": \"\"}, \"baxis\": {\"gridcolor\": \"white\", \"linecolor\": \"white\", \"ticks\": \"\"}, \"bgcolor\": \"#E5ECF6\", \"caxis\": {\"gridcolor\": \"white\", \"linecolor\": \"white\", \"ticks\": \"\"}}, \"title\": {\"x\": 0.05}, \"xaxis\": {\"automargin\": true, \"gridcolor\": \"white\", \"linecolor\": \"white\", \"ticks\": \"\", \"title\": {\"standoff\": 15}, \"zerolinecolor\": \"white\", \"zerolinewidth\": 2}, \"yaxis\": {\"automargin\": true, \"gridcolor\": \"white\", \"linecolor\": \"white\", \"ticks\": \"\", \"title\": {\"standoff\": 15}, \"zerolinecolor\": \"white\", \"zerolinewidth\": 2}}}, \"title\": {\"text\": \"Heat capavity at 298.15K vs. Isotropic polarizability\"}, \"width\": 600, \"xaxis\": {\"gridwidth\": 2, \"title\": {\"text\": \"$Heat \\\\: capavity \\\\: (cv) \\\\: at \\\\: 298.15K \\\\: [cal/(mol*K)]$\"}, \"zeroline\": false}, \"yaxis\": {\"gridwidth\": 2, \"title\": {\"text\": \"$Isotropic \\\\: polarizability \\\\: (alpha) \\\\: [Bohr^3]$\"}, \"zeroline\": false}},                        {\"responsive\": true}                    ).then(function(){\n",
       "                            \n",
       "var gd = document.getElementById('c8857bd1-6fa3-4cba-8db5-4728401f50c2');\n",
       "var x = new MutationObserver(function (mutations, observer) {{\n",
       "        var display = window.getComputedStyle(gd).display;\n",
       "        if (!display || display === 'none') {{\n",
       "            console.log([gd, 'removed!']);\n",
       "            Plotly.purge(gd);\n",
       "            observer.disconnect();\n",
       "        }}\n",
       "}});\n",
       "\n",
       "// Listen for the removal of the full notebook cells\n",
       "var notebookContainer = gd.closest('#notebook-container');\n",
       "if (notebookContainer) {{\n",
       "    x.observe(notebookContainer, {childList: true});\n",
       "}}\n",
       "\n",
       "// Listen for the clearing of the current output cell\n",
       "var outputEl = gd.closest('.output');\n",
       "if (outputEl) {{\n",
       "    x.observe(outputEl, {childList: true});\n",
       "}}\n",
       "\n",
       "                        })                };                });            </script>        </div>"
      ]
     },
     "metadata": {},
     "output_type": "display_data"
    }
   ],
   "source": [
    "import plotly\n",
    "import plotly.graph_objs as go\n",
    "from plotly.offline import iplot\n",
    "\n",
    "#plotly.offline.init_notebook_mode(connected=True)\n",
    "\n",
    "# \"alpha\" - Isotropic polarizability (unit: Bohr^3)\n",
    "# \"gap\" - Gap between HOMO and LUMO (unit: Hartree)\n",
    "#\"mol_id\" - Molecule ID (gdb9 index) mapping to the .sdf file\n",
    "#\"A\" - Rotational constant (unit: GHz)\n",
    "#\"B\" - Rotational constant (unit: GHz)\n",
    "#\"C\" - Rotational constant (unit: GHz)\n",
    "#\"mu\" - Dipole moment (unit: D)\n",
    "#\"alpha\" - Isotropic polarizability (unit: Bohr^3)\n",
    "#\"homo\" - Highest occupied molecular orbital energy (unit: Hartree)\n",
    "#\"lumo\" - Lowest unoccupied molecular orbital energy (unit: Hartree)\n",
    "#\"gap\" - Gap between HOMO and LUMO (unit: Hartree)\n",
    "#\"r2\" - Electronic spatial extent (unit: Bohr^2)\n",
    "#\"zpve\" - Zero point vibrational energy (unit: Hartree)\n",
    "#\"u0\" - Internal energy at 0K (unit: Hartree)\n",
    "#\"u298\" - Internal energy at 298.15K (unit: Hartree)\n",
    "#\"h298\" - Enthalpy at 298.15K (unit: Hartree)\n",
    "#\"g298\" - Free energy at 298.15K (unit: Hartree)\n",
    "#\"cv\" - Heat capavity at 298.15K (unit: cal/(mol*K))\n",
    "#\"u0_atom\" - Atomization energy at 0K (unit: kcal/mol)\n",
    "#\"u298_atom\" - Atomization energy at 298.15K (unit: kcal/mol)\n",
    "#\"h298_atom\" - Atomization enthalpy at 298.15K (unit: kcal/mol)\n",
    "\n",
    "df = pd.DataFrame(dataset.head(200))\n",
    "#Layout design. Can change title, font, x/y-axis etc. Commented out pieces are height and width. \n",
    "#For plot in browser I prefer long horizontal plots. For presentations square images may be preferred. \n",
    "#Image can be directly saved by hovering over image and clicking camera icon. \n",
    "layout_cv_alpha = go.Layout(title= \"Heat capavity at 298.15K vs. Isotropic polarizability\", hovermode= 'closest',\n",
    "                   font = dict(family='Times New Roman',size=12),\n",
    "                   xaxis= dict(title= '$Heat \\: capavity \\: (cv) \\: at \\: 298.15K \\: [cal/(mol*K)]$',zeroline= False, gridwidth= 2),\n",
    "                   yaxis= dict(title= '$Isotropic \\: polarizability \\: (alpha) \\: [Bohr^3]$',zeroline= False, gridwidth= 2),\n",
    "                   height = 600,\n",
    "                   width = 600,\n",
    "     showlegend= True                \n",
    ")\n",
    "#Scatter plot of collected data. Use df_oxide_all dataframe. df_oxide_all.Density will pull density column.\n",
    "trace_cv_alpha = go.Scatter(x = df.cv, y = df.alpha, mode = 'markers',\n",
    "                    marker=dict(size=12, color='black'), name = 'cv alpha')\n",
    "data_cv_alpha = [trace_cv_alpha]#,trace0,trace2] trace_homo_lumo\n",
    "fig_cv_alpha = go.Figure(data_cv_alpha, layout_cv_alpha)\n",
    "iplot(fig_cv_alpha)\n",
    "pio.write_image(fig_cv_alpha, \"./fig_smiles_trace_cv_alpha.png\", scale=1, width=600, height=350)\n",
    "#pio.write_image(fig_IPF, \"gdrive/MyDrive/Colab Notebooks/data/fig_smiles_trace.png\", scale=2, width=600, height=350)"
   ]
  },
  {
   "cell_type": "code",
   "execution_count": 85,
   "metadata": {},
   "outputs": [
    {
     "data": {
      "application/vnd.plotly.v1+json": {
       "config": {
        "linkText": "Export to plot.ly",
        "plotlyServerURL": "https://plot.ly",
        "showLink": false
       },
       "data": [
        {
         "marker": {
          "color": "magenta",
          "size": 18
         },
         "mode": "markers",
         "name": "homo lumo",
         "text": "homo lumo",
         "type": "scatter",
         "x": [
          -0.233,
          -0.2456,
          -0.262,
          -0.2213,
          -0.254,
          -0.2437,
          -0.2415,
          -0.2393,
          -0.2061,
          -0.2129,
          -0.2225,
          -0.239,
          -0.2647,
          -0.2421,
          -0.2538,
          -0.2401,
          -0.2596,
          -0.2694,
          -0.2479,
          -0.2118,
          -0.2314,
          -0.2338,
          -0.2331,
          -0.2492,
          -0.2283,
          -0.2351,
          -0.2536,
          -0.2376,
          -0.2167,
          -0.26,
          -0.1911,
          -0.2418,
          -0.245,
          -0.2624,
          -0.2496,
          -0.2428,
          -0.2548,
          -0.2869,
          -0.2376,
          -0.2397,
          -0.2293,
          -0.2193,
          -0.2494,
          -0.2368,
          -0.2283,
          -0.1801,
          -0.241,
          -0.2444,
          -0.1651,
          -0.2484,
          -0.2337,
          -0.2549,
          -0.2427,
          -0.2411,
          -0.2541,
          -0.2428,
          -0.2306,
          -0.2425,
          -0.2471,
          -0.243,
          -0.2483,
          -0.2784,
          -0.2544,
          -0.2303,
          -0.2429,
          -0.226,
          -0.2363,
          -0.2207,
          -0.2398,
          -0.2374,
          -0.2471,
          -0.2348,
          -0.2298,
          -0.2419,
          -0.2283,
          -0.2818,
          -0.2396,
          -0.2427,
          -0.2267,
          -0.2407,
          -0.2604,
          -0.244,
          -0.1885,
          -0.2248,
          -0.2526,
          -0.2558,
          -0.2311,
          -0.2478,
          -0.244,
          -0.2643,
          -0.2458,
          -0.2755,
          -0.2613,
          -0.2665,
          -0.2778,
          -0.2574,
          -0.2416,
          -0.2562,
          -0.2624,
          -0.2209,
          -0.2651,
          -0.242,
          -0.2412,
          -0.2577,
          -0.1966,
          -0.1984,
          -0.2424,
          -0.1898,
          -0.2271,
          -0.2146,
          -0.2314,
          -0.2566,
          -0.2376,
          -0.2548,
          -0.2743,
          -0.2477,
          -0.228,
          -0.2374,
          -0.2497,
          -0.2304,
          -0.2489,
          -0.2463,
          -0.2292,
          -0.2359,
          -0.2497,
          -0.2526,
          -0.2241,
          -0.2237,
          -0.1999,
          -0.2324,
          -0.2473,
          -0.2424,
          -0.2377,
          -0.2129,
          -0.2297,
          -0.2564,
          -0.2531,
          -0.2546,
          -0.2233,
          -0.236,
          -0.2354,
          -0.2482,
          -0.2632,
          -0.2327,
          -0.2628,
          -0.2434,
          -0.2364,
          -0.2584,
          -0.2804,
          -0.2286,
          -0.2297,
          -0.2238,
          -0.2655,
          -0.2798,
          -0.2328,
          -0.2458,
          -0.242,
          -0.2267,
          -0.2434,
          -0.2227,
          -0.1919,
          -0.2054,
          -0.2281,
          -0.2357,
          -0.2654,
          -0.2584,
          -0.2628,
          -0.2008,
          -0.2786,
          -0.28,
          -0.2567,
          -0.2462,
          -0.225,
          -0.2384,
          -0.2209,
          -0.2434,
          -0.2538,
          -0.2325,
          -0.2414,
          -0.2356,
          -0.2254,
          -0.3167,
          -0.2183,
          -0.2576,
          -0.2507,
          -0.2612,
          -0.2771,
          -0.2423,
          -0.2402,
          -0.2501,
          -0.2069,
          -0.1982,
          -0.2616,
          -0.25,
          -0.2524,
          -0.2455,
          -0.2806,
          -0.2457,
          -0.2507,
          -0.2423
         ],
         "y": [
          -0.0029,
          -0.0355,
          0.0181,
          0.0039,
          0.0016,
          0.0052,
          0.0861,
          0.0653,
          -0.0029,
          0.032,
          0.0013,
          0.0588,
          -0.0164,
          0.0652,
          0.0202,
          0.009,
          -0.0379,
          0.0261,
          0.0332,
          -0.0543,
          0.0213,
          0.0071,
          0.0746,
          0.071,
          0.0483,
          0.0052,
          0.0696,
          0.0411,
          0.0202,
          -0.0605,
          0.0199,
          -0.0276,
          -0.0158,
          0.0281,
          0.0254,
          -0.0158,
          -0.004,
          0.017,
          -0.0505,
          0.0043,
          0.0214,
          -0.0507,
          -0.0516,
          0.0764,
          0.0887,
          -0.0094,
          0.0198,
          -0.0196,
          0.0546,
          0.0308,
          0.0369,
          0.0735,
          -0.0274,
          -0.014,
          0.0561,
          0.0287,
          -0.0066,
          0.0046,
          -0.0112,
          0.0051,
          0.0029,
          0.0006,
          0.0607,
          -0.0476,
          0.0305,
          0.0273,
          -0.0214,
          -0.0486,
          -0.0192,
          0.079,
          0.0823,
          -0.0037,
          0.0753,
          -0.0206,
          -0.0255,
          -0.0589,
          0.0672,
          -0.0291,
          -0.0275,
          -0.0206,
          -0.0535,
          0.0835,
          0.0184,
          -0.0217,
          -0.0468,
          0.0815,
          -0.0268,
          0.0078,
          0.0074,
          0.0295,
          0.0981,
          -0.0568,
          -0.0875,
          -0.001,
          -0.1226,
          -0.0587,
          -0.0155,
          -0.0145,
          -0.0413,
          -0.0102,
          0.0171,
          0.0259,
          -0.0122,
          0.0593,
          -0.0104,
          0.0745,
          0.0952,
          0.0312,
          -0.0006,
          0.0156,
          -0.026,
          0.0326,
          0.0019,
          -0.0363,
          0.0024,
          0.024,
          0.0119,
          0.0057,
          -0.0436,
          0.0714,
          0.0586,
          0.0046,
          -0.0125,
          0.0709,
          -0.033,
          0.0749,
          0.0632,
          0.0465,
          -0.0204,
          0.0333,
          0.0348,
          -0.0522,
          0.0358,
          0.0666,
          0.0322,
          -0.0012,
          0.0667,
          0.0015,
          0.0188,
          0.024,
          0.0272,
          0.085,
          -0.0459,
          0.0069,
          0.0144,
          0.0531,
          0.0695,
          0,
          0.0148,
          0.0274,
          0.0278,
          -0.0032,
          0.0138,
          0.0367,
          0.0353,
          0.0345,
          -0.0194,
          0.0814,
          -0.015,
          -0.0888,
          0.092,
          0.0393,
          0.0595,
          -0.0124,
          -0.0394,
          -0.0112,
          -0.0376,
          -0.0319,
          -0.0668,
          0.0316,
          -0.0217,
          -0.0302,
          0.0327,
          0.0626,
          0.0043,
          -0.0195,
          0.0666,
          0.0783,
          0.025,
          0.0378,
          0.0674,
          -0.0069,
          -0.0387,
          -0.0117,
          -0.0335,
          -0.0581,
          -0.0734,
          0.0781,
          -0.0694,
          -0.0606,
          -0.0149,
          -0.0356,
          -0.0408,
          -0.0412,
          0.0638,
          -0.0249,
          -0.0843,
          0.091,
          0.0465,
          0.0164
         ]
        }
       ],
       "layout": {
        "font": {
         "family": "Times New Roman",
         "size": 12
        },
        "height": 600,
        "hovermode": "closest",
        "showlegend": true,
        "template": {
         "data": {
          "bar": [
           {
            "error_x": {
             "color": "#2a3f5f"
            },
            "error_y": {
             "color": "#2a3f5f"
            },
            "marker": {
             "line": {
              "color": "#E5ECF6",
              "width": 0.5
             }
            },
            "type": "bar"
           }
          ],
          "barpolar": [
           {
            "marker": {
             "line": {
              "color": "#E5ECF6",
              "width": 0.5
             }
            },
            "type": "barpolar"
           }
          ],
          "carpet": [
           {
            "aaxis": {
             "endlinecolor": "#2a3f5f",
             "gridcolor": "white",
             "linecolor": "white",
             "minorgridcolor": "white",
             "startlinecolor": "#2a3f5f"
            },
            "baxis": {
             "endlinecolor": "#2a3f5f",
             "gridcolor": "white",
             "linecolor": "white",
             "minorgridcolor": "white",
             "startlinecolor": "#2a3f5f"
            },
            "type": "carpet"
           }
          ],
          "choropleth": [
           {
            "colorbar": {
             "outlinewidth": 0,
             "ticks": ""
            },
            "type": "choropleth"
           }
          ],
          "contour": [
           {
            "colorbar": {
             "outlinewidth": 0,
             "ticks": ""
            },
            "colorscale": [
             [
              0,
              "#0d0887"
             ],
             [
              0.1111111111111111,
              "#46039f"
             ],
             [
              0.2222222222222222,
              "#7201a8"
             ],
             [
              0.3333333333333333,
              "#9c179e"
             ],
             [
              0.4444444444444444,
              "#bd3786"
             ],
             [
              0.5555555555555556,
              "#d8576b"
             ],
             [
              0.6666666666666666,
              "#ed7953"
             ],
             [
              0.7777777777777778,
              "#fb9f3a"
             ],
             [
              0.8888888888888888,
              "#fdca26"
             ],
             [
              1,
              "#f0f921"
             ]
            ],
            "type": "contour"
           }
          ],
          "contourcarpet": [
           {
            "colorbar": {
             "outlinewidth": 0,
             "ticks": ""
            },
            "type": "contourcarpet"
           }
          ],
          "heatmap": [
           {
            "colorbar": {
             "outlinewidth": 0,
             "ticks": ""
            },
            "colorscale": [
             [
              0,
              "#0d0887"
             ],
             [
              0.1111111111111111,
              "#46039f"
             ],
             [
              0.2222222222222222,
              "#7201a8"
             ],
             [
              0.3333333333333333,
              "#9c179e"
             ],
             [
              0.4444444444444444,
              "#bd3786"
             ],
             [
              0.5555555555555556,
              "#d8576b"
             ],
             [
              0.6666666666666666,
              "#ed7953"
             ],
             [
              0.7777777777777778,
              "#fb9f3a"
             ],
             [
              0.8888888888888888,
              "#fdca26"
             ],
             [
              1,
              "#f0f921"
             ]
            ],
            "type": "heatmap"
           }
          ],
          "heatmapgl": [
           {
            "colorbar": {
             "outlinewidth": 0,
             "ticks": ""
            },
            "colorscale": [
             [
              0,
              "#0d0887"
             ],
             [
              0.1111111111111111,
              "#46039f"
             ],
             [
              0.2222222222222222,
              "#7201a8"
             ],
             [
              0.3333333333333333,
              "#9c179e"
             ],
             [
              0.4444444444444444,
              "#bd3786"
             ],
             [
              0.5555555555555556,
              "#d8576b"
             ],
             [
              0.6666666666666666,
              "#ed7953"
             ],
             [
              0.7777777777777778,
              "#fb9f3a"
             ],
             [
              0.8888888888888888,
              "#fdca26"
             ],
             [
              1,
              "#f0f921"
             ]
            ],
            "type": "heatmapgl"
           }
          ],
          "histogram": [
           {
            "marker": {
             "colorbar": {
              "outlinewidth": 0,
              "ticks": ""
             }
            },
            "type": "histogram"
           }
          ],
          "histogram2d": [
           {
            "colorbar": {
             "outlinewidth": 0,
             "ticks": ""
            },
            "colorscale": [
             [
              0,
              "#0d0887"
             ],
             [
              0.1111111111111111,
              "#46039f"
             ],
             [
              0.2222222222222222,
              "#7201a8"
             ],
             [
              0.3333333333333333,
              "#9c179e"
             ],
             [
              0.4444444444444444,
              "#bd3786"
             ],
             [
              0.5555555555555556,
              "#d8576b"
             ],
             [
              0.6666666666666666,
              "#ed7953"
             ],
             [
              0.7777777777777778,
              "#fb9f3a"
             ],
             [
              0.8888888888888888,
              "#fdca26"
             ],
             [
              1,
              "#f0f921"
             ]
            ],
            "type": "histogram2d"
           }
          ],
          "histogram2dcontour": [
           {
            "colorbar": {
             "outlinewidth": 0,
             "ticks": ""
            },
            "colorscale": [
             [
              0,
              "#0d0887"
             ],
             [
              0.1111111111111111,
              "#46039f"
             ],
             [
              0.2222222222222222,
              "#7201a8"
             ],
             [
              0.3333333333333333,
              "#9c179e"
             ],
             [
              0.4444444444444444,
              "#bd3786"
             ],
             [
              0.5555555555555556,
              "#d8576b"
             ],
             [
              0.6666666666666666,
              "#ed7953"
             ],
             [
              0.7777777777777778,
              "#fb9f3a"
             ],
             [
              0.8888888888888888,
              "#fdca26"
             ],
             [
              1,
              "#f0f921"
             ]
            ],
            "type": "histogram2dcontour"
           }
          ],
          "mesh3d": [
           {
            "colorbar": {
             "outlinewidth": 0,
             "ticks": ""
            },
            "type": "mesh3d"
           }
          ],
          "parcoords": [
           {
            "line": {
             "colorbar": {
              "outlinewidth": 0,
              "ticks": ""
             }
            },
            "type": "parcoords"
           }
          ],
          "pie": [
           {
            "automargin": true,
            "type": "pie"
           }
          ],
          "scatter": [
           {
            "marker": {
             "colorbar": {
              "outlinewidth": 0,
              "ticks": ""
             }
            },
            "type": "scatter"
           }
          ],
          "scatter3d": [
           {
            "line": {
             "colorbar": {
              "outlinewidth": 0,
              "ticks": ""
             }
            },
            "marker": {
             "colorbar": {
              "outlinewidth": 0,
              "ticks": ""
             }
            },
            "type": "scatter3d"
           }
          ],
          "scattercarpet": [
           {
            "marker": {
             "colorbar": {
              "outlinewidth": 0,
              "ticks": ""
             }
            },
            "type": "scattercarpet"
           }
          ],
          "scattergeo": [
           {
            "marker": {
             "colorbar": {
              "outlinewidth": 0,
              "ticks": ""
             }
            },
            "type": "scattergeo"
           }
          ],
          "scattergl": [
           {
            "marker": {
             "colorbar": {
              "outlinewidth": 0,
              "ticks": ""
             }
            },
            "type": "scattergl"
           }
          ],
          "scattermapbox": [
           {
            "marker": {
             "colorbar": {
              "outlinewidth": 0,
              "ticks": ""
             }
            },
            "type": "scattermapbox"
           }
          ],
          "scatterpolar": [
           {
            "marker": {
             "colorbar": {
              "outlinewidth": 0,
              "ticks": ""
             }
            },
            "type": "scatterpolar"
           }
          ],
          "scatterpolargl": [
           {
            "marker": {
             "colorbar": {
              "outlinewidth": 0,
              "ticks": ""
             }
            },
            "type": "scatterpolargl"
           }
          ],
          "scatterternary": [
           {
            "marker": {
             "colorbar": {
              "outlinewidth": 0,
              "ticks": ""
             }
            },
            "type": "scatterternary"
           }
          ],
          "surface": [
           {
            "colorbar": {
             "outlinewidth": 0,
             "ticks": ""
            },
            "colorscale": [
             [
              0,
              "#0d0887"
             ],
             [
              0.1111111111111111,
              "#46039f"
             ],
             [
              0.2222222222222222,
              "#7201a8"
             ],
             [
              0.3333333333333333,
              "#9c179e"
             ],
             [
              0.4444444444444444,
              "#bd3786"
             ],
             [
              0.5555555555555556,
              "#d8576b"
             ],
             [
              0.6666666666666666,
              "#ed7953"
             ],
             [
              0.7777777777777778,
              "#fb9f3a"
             ],
             [
              0.8888888888888888,
              "#fdca26"
             ],
             [
              1,
              "#f0f921"
             ]
            ],
            "type": "surface"
           }
          ],
          "table": [
           {
            "cells": {
             "fill": {
              "color": "#EBF0F8"
             },
             "line": {
              "color": "white"
             }
            },
            "header": {
             "fill": {
              "color": "#C8D4E3"
             },
             "line": {
              "color": "white"
             }
            },
            "type": "table"
           }
          ]
         },
         "layout": {
          "annotationdefaults": {
           "arrowcolor": "#2a3f5f",
           "arrowhead": 0,
           "arrowwidth": 1
          },
          "autotypenumbers": "strict",
          "coloraxis": {
           "colorbar": {
            "outlinewidth": 0,
            "ticks": ""
           }
          },
          "colorscale": {
           "diverging": [
            [
             0,
             "#8e0152"
            ],
            [
             0.1,
             "#c51b7d"
            ],
            [
             0.2,
             "#de77ae"
            ],
            [
             0.3,
             "#f1b6da"
            ],
            [
             0.4,
             "#fde0ef"
            ],
            [
             0.5,
             "#f7f7f7"
            ],
            [
             0.6,
             "#e6f5d0"
            ],
            [
             0.7,
             "#b8e186"
            ],
            [
             0.8,
             "#7fbc41"
            ],
            [
             0.9,
             "#4d9221"
            ],
            [
             1,
             "#276419"
            ]
           ],
           "sequential": [
            [
             0,
             "#0d0887"
            ],
            [
             0.1111111111111111,
             "#46039f"
            ],
            [
             0.2222222222222222,
             "#7201a8"
            ],
            [
             0.3333333333333333,
             "#9c179e"
            ],
            [
             0.4444444444444444,
             "#bd3786"
            ],
            [
             0.5555555555555556,
             "#d8576b"
            ],
            [
             0.6666666666666666,
             "#ed7953"
            ],
            [
             0.7777777777777778,
             "#fb9f3a"
            ],
            [
             0.8888888888888888,
             "#fdca26"
            ],
            [
             1,
             "#f0f921"
            ]
           ],
           "sequentialminus": [
            [
             0,
             "#0d0887"
            ],
            [
             0.1111111111111111,
             "#46039f"
            ],
            [
             0.2222222222222222,
             "#7201a8"
            ],
            [
             0.3333333333333333,
             "#9c179e"
            ],
            [
             0.4444444444444444,
             "#bd3786"
            ],
            [
             0.5555555555555556,
             "#d8576b"
            ],
            [
             0.6666666666666666,
             "#ed7953"
            ],
            [
             0.7777777777777778,
             "#fb9f3a"
            ],
            [
             0.8888888888888888,
             "#fdca26"
            ],
            [
             1,
             "#f0f921"
            ]
           ]
          },
          "colorway": [
           "#636efa",
           "#EF553B",
           "#00cc96",
           "#ab63fa",
           "#FFA15A",
           "#19d3f3",
           "#FF6692",
           "#B6E880",
           "#FF97FF",
           "#FECB52"
          ],
          "font": {
           "color": "#2a3f5f"
          },
          "geo": {
           "bgcolor": "white",
           "lakecolor": "white",
           "landcolor": "#E5ECF6",
           "showlakes": true,
           "showland": true,
           "subunitcolor": "white"
          },
          "hoverlabel": {
           "align": "left"
          },
          "hovermode": "closest",
          "mapbox": {
           "style": "light"
          },
          "paper_bgcolor": "white",
          "plot_bgcolor": "#E5ECF6",
          "polar": {
           "angularaxis": {
            "gridcolor": "white",
            "linecolor": "white",
            "ticks": ""
           },
           "bgcolor": "#E5ECF6",
           "radialaxis": {
            "gridcolor": "white",
            "linecolor": "white",
            "ticks": ""
           }
          },
          "scene": {
           "xaxis": {
            "backgroundcolor": "#E5ECF6",
            "gridcolor": "white",
            "gridwidth": 2,
            "linecolor": "white",
            "showbackground": true,
            "ticks": "",
            "zerolinecolor": "white"
           },
           "yaxis": {
            "backgroundcolor": "#E5ECF6",
            "gridcolor": "white",
            "gridwidth": 2,
            "linecolor": "white",
            "showbackground": true,
            "ticks": "",
            "zerolinecolor": "white"
           },
           "zaxis": {
            "backgroundcolor": "#E5ECF6",
            "gridcolor": "white",
            "gridwidth": 2,
            "linecolor": "white",
            "showbackground": true,
            "ticks": "",
            "zerolinecolor": "white"
           }
          },
          "shapedefaults": {
           "line": {
            "color": "#2a3f5f"
           }
          },
          "ternary": {
           "aaxis": {
            "gridcolor": "white",
            "linecolor": "white",
            "ticks": ""
           },
           "baxis": {
            "gridcolor": "white",
            "linecolor": "white",
            "ticks": ""
           },
           "bgcolor": "#E5ECF6",
           "caxis": {
            "gridcolor": "white",
            "linecolor": "white",
            "ticks": ""
           }
          },
          "title": {
           "x": 0.05
          },
          "xaxis": {
           "automargin": true,
           "gridcolor": "white",
           "linecolor": "white",
           "ticks": "",
           "title": {
            "standoff": 15
           },
           "zerolinecolor": "white",
           "zerolinewidth": 2
          },
          "yaxis": {
           "automargin": true,
           "gridcolor": "white",
           "linecolor": "white",
           "ticks": "",
           "title": {
            "standoff": 15
           },
           "zerolinecolor": "white",
           "zerolinewidth": 2
          }
         }
        },
        "title": {
         "text": "Highest occupied molecular orbital energy vs. Lowest unoccupied molecular orbital energy"
        },
        "width": 600,
        "xaxis": {
         "gridwidth": 2,
         "title": {
          "text": "$Lowest \\: unoccupied \\: molecular \\: orbital \\: energy \\: (LUMO) \\: [Hartree]$"
         },
         "zeroline": false
        },
        "yaxis": {
         "gridwidth": 2,
         "title": {
          "text": "$Highest \\: occupied \\: molecular \\: orbital \\: energy \\: (HUMO) \\: [Hartree]$"
         },
         "zeroline": false
        }
       }
      },
      "text/html": [
       "<div>                            <div id=\"e122fc0c-9ff8-41c6-8ae1-b51d12e87c71\" class=\"plotly-graph-div\" style=\"height:600px; width:600px;\"></div>            <script type=\"text/javascript\">                require([\"plotly\"], function(Plotly) {                    window.PLOTLYENV=window.PLOTLYENV || {};                                    if (document.getElementById(\"e122fc0c-9ff8-41c6-8ae1-b51d12e87c71\")) {                    Plotly.newPlot(                        \"e122fc0c-9ff8-41c6-8ae1-b51d12e87c71\",                        [{\"marker\": {\"color\": \"magenta\", \"size\": 18}, \"mode\": \"markers\", \"name\": \"homo lumo\", \"text\": \"homo lumo\", \"type\": \"scatter\", \"x\": [-0.233, -0.2456, -0.262, -0.2213, -0.254, -0.2437, -0.2415, -0.2393, -0.2061, -0.2129, -0.2225, -0.239, -0.2647, -0.2421, -0.2538, -0.2401, -0.2596, -0.2694, -0.2479, -0.2118, -0.2314, -0.2338, -0.2331, -0.2492, -0.2283, -0.2351, -0.2536, -0.2376, -0.2167, -0.26, -0.1911, -0.2418, -0.245, -0.2624, -0.2496, -0.2428, -0.2548, -0.2869, -0.2376, -0.2397, -0.2293, -0.2193, -0.2494, -0.2368, -0.2283, -0.1801, -0.241, -0.2444, -0.1651, -0.2484, -0.2337, -0.2549, -0.2427, -0.2411, -0.2541, -0.2428, -0.2306, -0.2425, -0.2471, -0.243, -0.2483, -0.2784, -0.2544, -0.2303, -0.2429, -0.226, -0.2363, -0.2207, -0.2398, -0.2374, -0.2471, -0.2348, -0.2298, -0.2419, -0.2283, -0.2818, -0.2396, -0.2427, -0.2267, -0.2407, -0.2604, -0.244, -0.1885, -0.2248, -0.2526, -0.2558, -0.2311, -0.2478, -0.244, -0.2643, -0.2458, -0.2755, -0.2613, -0.2665, -0.2778, -0.2574, -0.2416, -0.2562, -0.2624, -0.2209, -0.2651, -0.242, -0.2412, -0.2577, -0.1966, -0.1984, -0.2424, -0.1898, -0.2271, -0.2146, -0.2314, -0.2566, -0.2376, -0.2548, -0.2743, -0.2477, -0.228, -0.2374, -0.2497, -0.2304, -0.2489, -0.2463, -0.2292, -0.2359, -0.2497, -0.2526, -0.2241, -0.2237, -0.1999, -0.2324, -0.2473, -0.2424, -0.2377, -0.2129, -0.2297, -0.2564, -0.2531, -0.2546, -0.2233, -0.236, -0.2354, -0.2482, -0.2632, -0.2327, -0.2628, -0.2434, -0.2364, -0.2584, -0.2804, -0.2286, -0.2297, -0.2238, -0.2655, -0.2798, -0.2328, -0.2458, -0.242, -0.2267, -0.2434, -0.2227, -0.1919, -0.2054, -0.2281, -0.2357, -0.2654, -0.2584, -0.2628, -0.2008, -0.2786, -0.28, -0.2567, -0.2462, -0.225, -0.2384, -0.2209, -0.2434, -0.2538, -0.2325, -0.2414, -0.2356, -0.2254, -0.3167, -0.2183, -0.2576, -0.2507, -0.2612, -0.2771, -0.2423, -0.2402, -0.2501, -0.2069, -0.1982, -0.2616, -0.25, -0.2524, -0.2455, -0.2806, -0.2457, -0.2507, -0.2423], \"y\": [-0.0029, -0.0355, 0.0181, 0.0039, 0.0016, 0.0052, 0.0861, 0.0653, -0.0029, 0.032, 0.0013, 0.0588, -0.0164, 0.0652, 0.0202, 0.009, -0.0379, 0.0261, 0.0332, -0.0543, 0.0213, 0.0071, 0.0746, 0.071, 0.0483, 0.0052, 0.0696, 0.0411, 0.0202, -0.0605, 0.0199, -0.0276, -0.0158, 0.0281, 0.0254, -0.0158, -0.004, 0.017, -0.0505, 0.0043, 0.0214, -0.0507, -0.0516, 0.0764, 0.0887, -0.0094, 0.0198, -0.0196, 0.0546, 0.0308, 0.0369, 0.0735, -0.0274, -0.014, 0.0561, 0.0287, -0.0066, 0.0046, -0.0112, 0.0051, 0.0029, 0.0006, 0.0607, -0.0476, 0.0305, 0.0273, -0.0214, -0.0486, -0.0192, 0.079, 0.0823, -0.0037, 0.0753, -0.0206, -0.0255, -0.0589, 0.0672, -0.0291, -0.0275, -0.0206, -0.0535, 0.0835, 0.0184, -0.0217, -0.0468, 0.0815, -0.0268, 0.0078, 0.0074, 0.0295, 0.0981, -0.0568, -0.0875, -0.001, -0.1226, -0.0587, -0.0155, -0.0145, -0.0413, -0.0102, 0.0171, 0.0259, -0.0122, 0.0593, -0.0104, 0.0745, 0.0952, 0.0312, -0.0006, 0.0156, -0.026, 0.0326, 0.0019, -0.0363, 0.0024, 0.024, 0.0119, 0.0057, -0.0436, 0.0714, 0.0586, 0.0046, -0.0125, 0.0709, -0.033, 0.0749, 0.0632, 0.0465, -0.0204, 0.0333, 0.0348, -0.0522, 0.0358, 0.0666, 0.0322, -0.0012, 0.0667, 0.0015, 0.0188, 0.024, 0.0272, 0.085, -0.0459, 0.0069, 0.0144, 0.0531, 0.0695, 0.0, 0.0148, 0.0274, 0.0278, -0.0032, 0.0138, 0.0367, 0.0353, 0.0345, -0.0194, 0.0814, -0.015, -0.0888, 0.092, 0.0393, 0.0595, -0.0124, -0.0394, -0.0112, -0.0376, -0.0319, -0.0668, 0.0316, -0.0217, -0.0302, 0.0327, 0.0626, 0.0043, -0.0195, 0.0666, 0.0783, 0.025, 0.0378, 0.0674, -0.0069, -0.0387, -0.0117, -0.0335, -0.0581, -0.0734, 0.0781, -0.0694, -0.0606, -0.0149, -0.0356, -0.0408, -0.0412, 0.0638, -0.0249, -0.0843, 0.091, 0.0465, 0.0164]}],                        {\"font\": {\"family\": \"Times New Roman\", \"size\": 12}, \"height\": 600, \"hovermode\": \"closest\", \"showlegend\": true, \"template\": {\"data\": {\"bar\": [{\"error_x\": {\"color\": \"#2a3f5f\"}, \"error_y\": {\"color\": \"#2a3f5f\"}, \"marker\": {\"line\": {\"color\": \"#E5ECF6\", \"width\": 0.5}}, \"type\": \"bar\"}], \"barpolar\": [{\"marker\": {\"line\": {\"color\": \"#E5ECF6\", \"width\": 0.5}}, \"type\": \"barpolar\"}], \"carpet\": [{\"aaxis\": {\"endlinecolor\": \"#2a3f5f\", \"gridcolor\": \"white\", \"linecolor\": \"white\", \"minorgridcolor\": \"white\", \"startlinecolor\": \"#2a3f5f\"}, \"baxis\": {\"endlinecolor\": \"#2a3f5f\", \"gridcolor\": \"white\", \"linecolor\": \"white\", \"minorgridcolor\": \"white\", \"startlinecolor\": \"#2a3f5f\"}, \"type\": \"carpet\"}], \"choropleth\": [{\"colorbar\": {\"outlinewidth\": 0, \"ticks\": \"\"}, \"type\": \"choropleth\"}], \"contour\": [{\"colorbar\": {\"outlinewidth\": 0, \"ticks\": \"\"}, \"colorscale\": [[0.0, \"#0d0887\"], [0.1111111111111111, \"#46039f\"], [0.2222222222222222, \"#7201a8\"], [0.3333333333333333, \"#9c179e\"], [0.4444444444444444, \"#bd3786\"], [0.5555555555555556, \"#d8576b\"], [0.6666666666666666, \"#ed7953\"], [0.7777777777777778, \"#fb9f3a\"], [0.8888888888888888, \"#fdca26\"], [1.0, \"#f0f921\"]], \"type\": \"contour\"}], \"contourcarpet\": [{\"colorbar\": {\"outlinewidth\": 0, \"ticks\": \"\"}, \"type\": \"contourcarpet\"}], \"heatmap\": [{\"colorbar\": {\"outlinewidth\": 0, \"ticks\": \"\"}, \"colorscale\": [[0.0, \"#0d0887\"], [0.1111111111111111, \"#46039f\"], [0.2222222222222222, \"#7201a8\"], [0.3333333333333333, \"#9c179e\"], [0.4444444444444444, \"#bd3786\"], [0.5555555555555556, \"#d8576b\"], [0.6666666666666666, \"#ed7953\"], [0.7777777777777778, \"#fb9f3a\"], [0.8888888888888888, \"#fdca26\"], [1.0, \"#f0f921\"]], \"type\": \"heatmap\"}], \"heatmapgl\": [{\"colorbar\": {\"outlinewidth\": 0, \"ticks\": \"\"}, \"colorscale\": [[0.0, \"#0d0887\"], [0.1111111111111111, \"#46039f\"], [0.2222222222222222, \"#7201a8\"], [0.3333333333333333, \"#9c179e\"], [0.4444444444444444, \"#bd3786\"], [0.5555555555555556, \"#d8576b\"], [0.6666666666666666, \"#ed7953\"], [0.7777777777777778, \"#fb9f3a\"], [0.8888888888888888, \"#fdca26\"], [1.0, \"#f0f921\"]], \"type\": \"heatmapgl\"}], \"histogram\": [{\"marker\": {\"colorbar\": {\"outlinewidth\": 0, \"ticks\": \"\"}}, \"type\": \"histogram\"}], \"histogram2d\": [{\"colorbar\": {\"outlinewidth\": 0, \"ticks\": \"\"}, \"colorscale\": [[0.0, \"#0d0887\"], [0.1111111111111111, \"#46039f\"], [0.2222222222222222, \"#7201a8\"], [0.3333333333333333, \"#9c179e\"], [0.4444444444444444, \"#bd3786\"], [0.5555555555555556, \"#d8576b\"], [0.6666666666666666, \"#ed7953\"], [0.7777777777777778, \"#fb9f3a\"], [0.8888888888888888, \"#fdca26\"], [1.0, \"#f0f921\"]], \"type\": \"histogram2d\"}], \"histogram2dcontour\": [{\"colorbar\": {\"outlinewidth\": 0, \"ticks\": \"\"}, \"colorscale\": [[0.0, \"#0d0887\"], [0.1111111111111111, \"#46039f\"], [0.2222222222222222, \"#7201a8\"], [0.3333333333333333, \"#9c179e\"], [0.4444444444444444, \"#bd3786\"], [0.5555555555555556, \"#d8576b\"], [0.6666666666666666, \"#ed7953\"], [0.7777777777777778, \"#fb9f3a\"], [0.8888888888888888, \"#fdca26\"], [1.0, \"#f0f921\"]], \"type\": \"histogram2dcontour\"}], \"mesh3d\": [{\"colorbar\": {\"outlinewidth\": 0, \"ticks\": \"\"}, \"type\": \"mesh3d\"}], \"parcoords\": [{\"line\": {\"colorbar\": {\"outlinewidth\": 0, \"ticks\": \"\"}}, \"type\": \"parcoords\"}], \"pie\": [{\"automargin\": true, \"type\": \"pie\"}], \"scatter\": [{\"marker\": {\"colorbar\": {\"outlinewidth\": 0, \"ticks\": \"\"}}, \"type\": \"scatter\"}], \"scatter3d\": [{\"line\": {\"colorbar\": {\"outlinewidth\": 0, \"ticks\": \"\"}}, \"marker\": {\"colorbar\": {\"outlinewidth\": 0, \"ticks\": \"\"}}, \"type\": \"scatter3d\"}], \"scattercarpet\": [{\"marker\": {\"colorbar\": {\"outlinewidth\": 0, \"ticks\": \"\"}}, \"type\": \"scattercarpet\"}], \"scattergeo\": [{\"marker\": {\"colorbar\": {\"outlinewidth\": 0, \"ticks\": \"\"}}, \"type\": \"scattergeo\"}], \"scattergl\": [{\"marker\": {\"colorbar\": {\"outlinewidth\": 0, \"ticks\": \"\"}}, \"type\": \"scattergl\"}], \"scattermapbox\": [{\"marker\": {\"colorbar\": {\"outlinewidth\": 0, \"ticks\": \"\"}}, \"type\": \"scattermapbox\"}], \"scatterpolar\": [{\"marker\": {\"colorbar\": {\"outlinewidth\": 0, \"ticks\": \"\"}}, \"type\": \"scatterpolar\"}], \"scatterpolargl\": [{\"marker\": {\"colorbar\": {\"outlinewidth\": 0, \"ticks\": \"\"}}, \"type\": \"scatterpolargl\"}], \"scatterternary\": [{\"marker\": {\"colorbar\": {\"outlinewidth\": 0, \"ticks\": \"\"}}, \"type\": \"scatterternary\"}], \"surface\": [{\"colorbar\": {\"outlinewidth\": 0, \"ticks\": \"\"}, \"colorscale\": [[0.0, \"#0d0887\"], [0.1111111111111111, \"#46039f\"], [0.2222222222222222, \"#7201a8\"], [0.3333333333333333, \"#9c179e\"], [0.4444444444444444, \"#bd3786\"], [0.5555555555555556, \"#d8576b\"], [0.6666666666666666, \"#ed7953\"], [0.7777777777777778, \"#fb9f3a\"], [0.8888888888888888, \"#fdca26\"], [1.0, \"#f0f921\"]], \"type\": \"surface\"}], \"table\": [{\"cells\": {\"fill\": {\"color\": \"#EBF0F8\"}, \"line\": {\"color\": \"white\"}}, \"header\": {\"fill\": {\"color\": \"#C8D4E3\"}, \"line\": {\"color\": \"white\"}}, \"type\": \"table\"}]}, \"layout\": {\"annotationdefaults\": {\"arrowcolor\": \"#2a3f5f\", \"arrowhead\": 0, \"arrowwidth\": 1}, \"autotypenumbers\": \"strict\", \"coloraxis\": {\"colorbar\": {\"outlinewidth\": 0, \"ticks\": \"\"}}, \"colorscale\": {\"diverging\": [[0, \"#8e0152\"], [0.1, \"#c51b7d\"], [0.2, \"#de77ae\"], [0.3, \"#f1b6da\"], [0.4, \"#fde0ef\"], [0.5, \"#f7f7f7\"], [0.6, \"#e6f5d0\"], [0.7, \"#b8e186\"], [0.8, \"#7fbc41\"], [0.9, \"#4d9221\"], [1, \"#276419\"]], \"sequential\": [[0.0, \"#0d0887\"], [0.1111111111111111, \"#46039f\"], [0.2222222222222222, \"#7201a8\"], [0.3333333333333333, \"#9c179e\"], [0.4444444444444444, \"#bd3786\"], [0.5555555555555556, \"#d8576b\"], [0.6666666666666666, \"#ed7953\"], [0.7777777777777778, \"#fb9f3a\"], [0.8888888888888888, \"#fdca26\"], [1.0, \"#f0f921\"]], \"sequentialminus\": [[0.0, \"#0d0887\"], [0.1111111111111111, \"#46039f\"], [0.2222222222222222, \"#7201a8\"], [0.3333333333333333, \"#9c179e\"], [0.4444444444444444, \"#bd3786\"], [0.5555555555555556, \"#d8576b\"], [0.6666666666666666, \"#ed7953\"], [0.7777777777777778, \"#fb9f3a\"], [0.8888888888888888, \"#fdca26\"], [1.0, \"#f0f921\"]]}, \"colorway\": [\"#636efa\", \"#EF553B\", \"#00cc96\", \"#ab63fa\", \"#FFA15A\", \"#19d3f3\", \"#FF6692\", \"#B6E880\", \"#FF97FF\", \"#FECB52\"], \"font\": {\"color\": \"#2a3f5f\"}, \"geo\": {\"bgcolor\": \"white\", \"lakecolor\": \"white\", \"landcolor\": \"#E5ECF6\", \"showlakes\": true, \"showland\": true, \"subunitcolor\": \"white\"}, \"hoverlabel\": {\"align\": \"left\"}, \"hovermode\": \"closest\", \"mapbox\": {\"style\": \"light\"}, \"paper_bgcolor\": \"white\", \"plot_bgcolor\": \"#E5ECF6\", \"polar\": {\"angularaxis\": {\"gridcolor\": \"white\", \"linecolor\": \"white\", \"ticks\": \"\"}, \"bgcolor\": \"#E5ECF6\", \"radialaxis\": {\"gridcolor\": \"white\", \"linecolor\": \"white\", \"ticks\": \"\"}}, \"scene\": {\"xaxis\": {\"backgroundcolor\": \"#E5ECF6\", \"gridcolor\": \"white\", \"gridwidth\": 2, \"linecolor\": \"white\", \"showbackground\": true, \"ticks\": \"\", \"zerolinecolor\": \"white\"}, \"yaxis\": {\"backgroundcolor\": \"#E5ECF6\", \"gridcolor\": \"white\", \"gridwidth\": 2, \"linecolor\": \"white\", \"showbackground\": true, \"ticks\": \"\", \"zerolinecolor\": \"white\"}, \"zaxis\": {\"backgroundcolor\": \"#E5ECF6\", \"gridcolor\": \"white\", \"gridwidth\": 2, \"linecolor\": \"white\", \"showbackground\": true, \"ticks\": \"\", \"zerolinecolor\": \"white\"}}, \"shapedefaults\": {\"line\": {\"color\": \"#2a3f5f\"}}, \"ternary\": {\"aaxis\": {\"gridcolor\": \"white\", \"linecolor\": \"white\", \"ticks\": \"\"}, \"baxis\": {\"gridcolor\": \"white\", \"linecolor\": \"white\", \"ticks\": \"\"}, \"bgcolor\": \"#E5ECF6\", \"caxis\": {\"gridcolor\": \"white\", \"linecolor\": \"white\", \"ticks\": \"\"}}, \"title\": {\"x\": 0.05}, \"xaxis\": {\"automargin\": true, \"gridcolor\": \"white\", \"linecolor\": \"white\", \"ticks\": \"\", \"title\": {\"standoff\": 15}, \"zerolinecolor\": \"white\", \"zerolinewidth\": 2}, \"yaxis\": {\"automargin\": true, \"gridcolor\": \"white\", \"linecolor\": \"white\", \"ticks\": \"\", \"title\": {\"standoff\": 15}, \"zerolinecolor\": \"white\", \"zerolinewidth\": 2}}}, \"title\": {\"text\": \"Highest occupied molecular orbital energy vs. Lowest unoccupied molecular orbital energy\"}, \"width\": 600, \"xaxis\": {\"gridwidth\": 2, \"title\": {\"text\": \"$Lowest \\\\: unoccupied \\\\: molecular \\\\: orbital \\\\: energy \\\\: (LUMO) \\\\: [Hartree]$\"}, \"zeroline\": false}, \"yaxis\": {\"gridwidth\": 2, \"title\": {\"text\": \"$Highest \\\\: occupied \\\\: molecular \\\\: orbital \\\\: energy \\\\: (HUMO) \\\\: [Hartree]$\"}, \"zeroline\": false}},                        {\"responsive\": true}                    ).then(function(){\n",
       "                            \n",
       "var gd = document.getElementById('e122fc0c-9ff8-41c6-8ae1-b51d12e87c71');\n",
       "var x = new MutationObserver(function (mutations, observer) {{\n",
       "        var display = window.getComputedStyle(gd).display;\n",
       "        if (!display || display === 'none') {{\n",
       "            console.log([gd, 'removed!']);\n",
       "            Plotly.purge(gd);\n",
       "            observer.disconnect();\n",
       "        }}\n",
       "}});\n",
       "\n",
       "// Listen for the removal of the full notebook cells\n",
       "var notebookContainer = gd.closest('#notebook-container');\n",
       "if (notebookContainer) {{\n",
       "    x.observe(notebookContainer, {childList: true});\n",
       "}}\n",
       "\n",
       "// Listen for the clearing of the current output cell\n",
       "var outputEl = gd.closest('.output');\n",
       "if (outputEl) {{\n",
       "    x.observe(outputEl, {childList: true});\n",
       "}}\n",
       "\n",
       "                        })                };                });            </script>        </div>"
      ]
     },
     "metadata": {},
     "output_type": "display_data"
    },
    {
     "data": {
      "image/png": "[encoded data removed]",
      "text/plain": [
       "<IPython.core.display.Image object>"
      ]
     },
     "execution_count": 85,
     "metadata": {},
     "output_type": "execute_result"
    }
   ],
   "source": [
    "import plotly\n",
    "import plotly.graph_objs as go\n",
    "from plotly.offline import iplot\n",
    "\n",
    "#plotly.offline.init_notebook_mode(connected=True)\n",
    "\n",
    "from IPython.display import Image\n",
    "img_bytes = fig_cv_alpha.to_image(format=\"png\", width=600, height=350, scale=1)\n",
    "Image(img_bytes)\n",
    "\n",
    "layout_homo_lumo = go.Layout(title= \"Highest occupied molecular orbital energy vs. Lowest unoccupied molecular orbital energy\", hovermode= 'closest',\n",
    "                   font = dict(family='Times New Roman',size=12),\n",
    "                   xaxis= dict(title= '$Lowest \\: unoccupied \\: molecular \\: orbital \\: energy \\: (LUMO) \\: [Hartree]$',zeroline= False, gridwidth= 2),\n",
    "                   yaxis= dict(title= '$Highest \\: occupied \\: molecular \\: orbital \\: energy \\: (HUMO) \\: [Hartree]$',zeroline= False, gridwidth= 2),\n",
    "                   height = 600,\n",
    "                   width = 600,\n",
    "     showlegend= True                \n",
    ")\n",
    "trace_homo_lumo = go.Scatter(x = df.loc[:,'homo'],\n",
    "                        y = df.loc[:,'lumo'],\n",
    "                        mode = 'markers', marker=dict(size=18, color='magenta'), text = 'homo lumo', name = 'homo lumo')\n",
    "\n",
    "data_homo_lumo = [trace_homo_lumo]#,trace0,trace2] trace_homo_lumo\n",
    "fig_homo_lumo = go.Figure(data_homo_lumo, layout=layout_homo_lumo)\n",
    "iplot(fig_homo_lumo)\n",
    "pio.write_image(fig_homo_lumo, \"./fig_smiles_trace_homo_lumo.png\", scale=1, width=600, height=350)\n",
    "#pio.write_image(fig_IPF, \"gdrive/MyDrive/Colab Notebooks/data/fig_smiles_trace.png\", scale=2, width=600, height=350)\n",
    "\n",
    "from IPython.display import Image\n",
    "img_bytes = fig_homo_lumo.to_image(format=\"png\", width=600, height=350, scale=1)\n",
    "Image(img_bytes)"
   ]
  },
  {
   "cell_type": "code",
   "execution_count": 54,
   "metadata": {},
   "outputs": [
    {
     "data": {
      "text/html": [
       "        <script type=\"text/javascript\">\n",
       "        window.PlotlyConfig = {MathJaxConfig: 'local'};\n",
       "        if (window.MathJax) {MathJax.Hub.Config({SVG: {font: \"STIX-Web\"}});}\n",
       "        if (typeof require !== 'undefined') {\n",
       "        require.undef(\"plotly\");\n",
       "        requirejs.config({\n",
       "            paths: {\n",
       "                'plotly': ['https://cdn.plot.ly/plotly-latest.min']\n",
       "            }\n",
       "        });\n",
       "        require(['plotly'], function(Plotly) {\n",
       "            window._Plotly = Plotly;\n",
       "        });\n",
       "        }\n",
       "        </script>\n",
       "        "
      ]
     },
     "metadata": {},
     "output_type": "display_data"
    },
    {
     "data": {
      "application/vnd.plotly.v1+json": {
       "config": {
        "linkText": "Export to plot.ly",
        "plotlyServerURL": "https://plot.ly",
        "showLink": false
       },
       "data": [
        {
         "marker": {
          "color": [
           0.2301,
           0.2101,
           0.2801,
           0.2252,
           0.2555,
           0.2489,
           0.3276,
           0.3045,
           0.2033,
           0.2449
          ],
          "colorbar": {
           "tickfont": {
            "family": "Georgia",
            "size": 16
           },
           "title": {
            "font": {
             "family": "Georgia",
             "size": 18
            },
            "text": "gap"
           }
          },
          "size": 12
         },
         "mode": "markers",
         "text": [
          [
           "gdb_43226",
           "O=C1C2CCCC1C=C2",
           2.19575,
           1.83375,
           1.78978,
           2.8898,
           78.73,
           -0.233,
           -0.0029,
           0.2301,
           940.4189,
           0.162755,
           -385.930699,
           -385.923667,
           -385.922723,
           -385.961801,
           29,
           -1938.5095879261,
           -1950.984466846,
           -1961.653374864,
           -1808.771474667
          ],
          [
           "gdb_18950",
           "O=CC1C2C3CC2N13",
           5.76254,
           1.67862,
           1.56959,
           2.2243,
           65.83,
           -0.2456,
           -0.0355,
           0.2101,
           819.6491,
           0.118824,
           -362.561835,
           -362.55547,
           -362.554526,
           -362.592646,
           24.065,
           -1462.630607668,
           -1471.968569097,
           -1480.266120604,
           -1361.585343434
          ],
          [
           "gdb_65057",
           "CC1(CO1)C1(CO1)C#C",
           2.3346,
           1.50396,
           1.24794,
           2.523,
           73.97,
           -0.262,
           0.0181,
           0.2801,
           1080.6934,
           0.132144,
           -421.745993,
           -421.736936,
           -421.735992,
           -421.779716,
           33.773,
           -1686.2716777231,
           -1695.698117921,
           -1705.181033929,
           -1571.293203653
          ],
          [
           "gdb_27393",
           "c1c([nH]c(nc1=O)N)O",
           2.0153,
           1.87826,
           0.97339,
           7.1395,
           67.95,
           -0.2213,
           0.0039,
           0.2252,
           1112.084,
           0.102825,
           -470.075554,
           -470.067765,
           -470.066821,
           -470.107671,
           29.926,
           -1447.26165724,
           -1454.816238091,
           -1462.520166084,
           -1350.407525617
          ],
          [
           "gdb_51741",
           "O=COC1CCC11CN1",
           2.95255,
           1.08628,
           0.88017,
           2.6332,
           74.49,
           -0.254,
           0.0016,
           0.2555,
           1317.3191,
           0.147164,
           -439.065902,
           -439.057354,
           -439.056409,
           -439.100076,
           31.201,
           -1738.0706631461,
           -1748.70443066,
           -1758.779715164,
           -1616.38160783
          ],
          [
           "gdb_76009",
           "CC1C(C#C)C1(N)C#N",
           2.53605,
           1.22419,
           1.06898,
           4.3948,
           81.35,
           -0.2437,
           0.0052,
           0.2489,
           1192.95,
           0.133709,
           -380.832234,
           -380.822314,
           -380.82137,
           -380.866998,
           35.74,
           -1716.1894243161,
           -1725.0743242471,
           -1734.557240255,
           -1601.7600206211
          ],
          [
           "gdb_119005",
           "CCOC1(C)CCOC1",
           2.95734,
           0.99058,
           0.94789,
           1.1187,
           81.84,
           -0.2415,
           0.0861,
           0.3276,
           1416.2731,
           0.204963,
           -425.428719,
           -425.418774,
           -425.41783,
           -425.464927,
           36.697,
           -2113.6605275151,
           -2127.861056185,
           -2140.901948223,
           -1960.1285279941
          ],
          [
           "gdb_113483",
           "OCC1OC11CC2NC12",
           4.50687,
           0.94025,
           0.93209,
           2.7993,
           72.42,
           -0.2393,
           0.0653,
           0.3045,
           1304.7898,
           0.147184,
           -439.003744,
           -438.995489,
           -438.994544,
           -439.037024,
           31.39,
           -1699.0659587241,
           -1709.883586375,
           -1719.958870879,
           -1576.815910362
          ],
          [
           "gdb_84251",
           "CC1C=C2CN3CC1C23",
           3.4065,
           1.61019,
           1.39649,
           1.1495,
           84.22,
           -0.2061,
           -0.0029,
           0.2033,
           999.2788,
           0.173305,
           -365.940028,
           -365.932927,
           -365.931982,
           -365.971038,
           29.74,
           -1932.092680892,
           -1945.4128144351,
           -1956.674090949,
           -1795.5592726721
          ],
          [
           "gdb_74041",
           "CC1=C2CCCC2CC1",
           2.57908,
           1.49508,
           1.01008,
           0.2143,
           93.13,
           -0.2129,
           0.032,
           0.2449,
           1255.1456,
           0.20823,
           -351.196235,
           -351.187674,
           -351.18673,
           -351.229269,
           33.659,
           -2241.126430685,
           -2256.1966868291,
           -2269.237578867,
           -2086.114764942
          ]
         ],
         "type": "scatter",
         "x": [
          0.233,
          0.2456,
          0.262,
          0.2213,
          0.254,
          0.2437,
          0.2415,
          0.2393,
          0.2061,
          0.2129
         ],
         "y": [
          -0.0029,
          -0.0355,
          0.0181,
          0.0039,
          0.0016,
          0.0052,
          0.0861,
          0.0653,
          -0.0029,
          0.032
         ]
        }
       ],
       "layout": {
        "font": {
         "family": "Times New Roman",
         "size": 18
        },
        "height": 600,
        "hovermode": "closest",
        "showlegend": false,
        "template": {
         "data": {
          "bar": [
           {
            "error_x": {
             "color": "#2a3f5f"
            },
            "error_y": {
             "color": "#2a3f5f"
            },
            "marker": {
             "line": {
              "color": "#E5ECF6",
              "width": 0.5
             }
            },
            "type": "bar"
           }
          ],
          "barpolar": [
           {
            "marker": {
             "line": {
              "color": "#E5ECF6",
              "width": 0.5
             }
            },
            "type": "barpolar"
           }
          ],
          "carpet": [
           {
            "aaxis": {
             "endlinecolor": "#2a3f5f",
             "gridcolor": "white",
             "linecolor": "white",
             "minorgridcolor": "white",
             "startlinecolor": "#2a3f5f"
            },
            "baxis": {
             "endlinecolor": "#2a3f5f",
             "gridcolor": "white",
             "linecolor": "white",
             "minorgridcolor": "white",
             "startlinecolor": "#2a3f5f"
            },
            "type": "carpet"
           }
          ],
          "choropleth": [
           {
            "colorbar": {
             "outlinewidth": 0,
             "ticks": ""
            },
            "type": "choropleth"
           }
          ],
          "contour": [
           {
            "colorbar": {
             "outlinewidth": 0,
             "ticks": ""
            },
            "colorscale": [
             [
              0,
              "#0d0887"
             ],
             [
              0.1111111111111111,
              "#46039f"
             ],
             [
              0.2222222222222222,
              "#7201a8"
             ],
             [
              0.3333333333333333,
              "#9c179e"
             ],
             [
              0.4444444444444444,
              "#bd3786"
             ],
             [
              0.5555555555555556,
              "#d8576b"
             ],
             [
              0.6666666666666666,
              "#ed7953"
             ],
             [
              0.7777777777777778,
              "#fb9f3a"
             ],
             [
              0.8888888888888888,
              "#fdca26"
             ],
             [
              1,
              "#f0f921"
             ]
            ],
            "type": "contour"
           }
          ],
          "contourcarpet": [
           {
            "colorbar": {
             "outlinewidth": 0,
             "ticks": ""
            },
            "type": "contourcarpet"
           }
          ],
          "heatmap": [
           {
            "colorbar": {
             "outlinewidth": 0,
             "ticks": ""
            },
            "colorscale": [
             [
              0,
              "#0d0887"
             ],
             [
              0.1111111111111111,
              "#46039f"
             ],
             [
              0.2222222222222222,
              "#7201a8"
             ],
             [
              0.3333333333333333,
              "#9c179e"
             ],
             [
              0.4444444444444444,
              "#bd3786"
             ],
             [
              0.5555555555555556,
              "#d8576b"
             ],
             [
              0.6666666666666666,
              "#ed7953"
             ],
             [
              0.7777777777777778,
              "#fb9f3a"
             ],
             [
              0.8888888888888888,
              "#fdca26"
             ],
             [
              1,
              "#f0f921"
             ]
            ],
            "type": "heatmap"
           }
          ],
          "heatmapgl": [
           {
            "colorbar": {
             "outlinewidth": 0,
             "ticks": ""
            },
            "colorscale": [
             [
              0,
              "#0d0887"
             ],
             [
              0.1111111111111111,
              "#46039f"
             ],
             [
              0.2222222222222222,
              "#7201a8"
             ],
             [
              0.3333333333333333,
              "#9c179e"
             ],
             [
              0.4444444444444444,
              "#bd3786"
             ],
             [
              0.5555555555555556,
              "#d8576b"
             ],
             [
              0.6666666666666666,
              "#ed7953"
             ],
             [
              0.7777777777777778,
              "#fb9f3a"
             ],
             [
              0.8888888888888888,
              "#fdca26"
             ],
             [
              1,
              "#f0f921"
             ]
            ],
            "type": "heatmapgl"
           }
          ],
          "histogram": [
           {
            "marker": {
             "colorbar": {
              "outlinewidth": 0,
              "ticks": ""
             }
            },
            "type": "histogram"
           }
          ],
          "histogram2d": [
           {
            "colorbar": {
             "outlinewidth": 0,
             "ticks": ""
            },
            "colorscale": [
             [
              0,
              "#0d0887"
             ],
             [
              0.1111111111111111,
              "#46039f"
             ],
             [
              0.2222222222222222,
              "#7201a8"
             ],
             [
              0.3333333333333333,
              "#9c179e"
             ],
             [
              0.4444444444444444,
              "#bd3786"
             ],
             [
              0.5555555555555556,
              "#d8576b"
             ],
             [
              0.6666666666666666,
              "#ed7953"
             ],
             [
              0.7777777777777778,
              "#fb9f3a"
             ],
             [
              0.8888888888888888,
              "#fdca26"
             ],
             [
              1,
              "#f0f921"
             ]
            ],
            "type": "histogram2d"
           }
          ],
          "histogram2dcontour": [
           {
            "colorbar": {
             "outlinewidth": 0,
             "ticks": ""
            },
            "colorscale": [
             [
              0,
              "#0d0887"
             ],
             [
              0.1111111111111111,
              "#46039f"
             ],
             [
              0.2222222222222222,
              "#7201a8"
             ],
             [
              0.3333333333333333,
              "#9c179e"
             ],
             [
              0.4444444444444444,
              "#bd3786"
             ],
             [
              0.5555555555555556,
              "#d8576b"
             ],
             [
              0.6666666666666666,
              "#ed7953"
             ],
             [
              0.7777777777777778,
              "#fb9f3a"
             ],
             [
              0.8888888888888888,
              "#fdca26"
             ],
             [
              1,
              "#f0f921"
             ]
            ],
            "type": "histogram2dcontour"
           }
          ],
          "mesh3d": [
           {
            "colorbar": {
             "outlinewidth": 0,
             "ticks": ""
            },
            "type": "mesh3d"
           }
          ],
          "parcoords": [
           {
            "line": {
             "colorbar": {
              "outlinewidth": 0,
              "ticks": ""
             }
            },
            "type": "parcoords"
           }
          ],
          "pie": [
           {
            "automargin": true,
            "type": "pie"
           }
          ],
          "scatter": [
           {
            "marker": {
             "colorbar": {
              "outlinewidth": 0,
              "ticks": ""
             }
            },
            "type": "scatter"
           }
          ],
          "scatter3d": [
           {
            "line": {
             "colorbar": {
              "outlinewidth": 0,
              "ticks": ""
             }
            },
            "marker": {
             "colorbar": {
              "outlinewidth": 0,
              "ticks": ""
             }
            },
            "type": "scatter3d"
           }
          ],
          "scattercarpet": [
           {
            "marker": {
             "colorbar": {
              "outlinewidth": 0,
              "ticks": ""
             }
            },
            "type": "scattercarpet"
           }
          ],
          "scattergeo": [
           {
            "marker": {
             "colorbar": {
              "outlinewidth": 0,
              "ticks": ""
             }
            },
            "type": "scattergeo"
           }
          ],
          "scattergl": [
           {
            "marker": {
             "colorbar": {
              "outlinewidth": 0,
              "ticks": ""
             }
            },
            "type": "scattergl"
           }
          ],
          "scattermapbox": [
           {
            "marker": {
             "colorbar": {
              "outlinewidth": 0,
              "ticks": ""
             }
            },
            "type": "scattermapbox"
           }
          ],
          "scatterpolar": [
           {
            "marker": {
             "colorbar": {
              "outlinewidth": 0,
              "ticks": ""
             }
            },
            "type": "scatterpolar"
           }
          ],
          "scatterpolargl": [
           {
            "marker": {
             "colorbar": {
              "outlinewidth": 0,
              "ticks": ""
             }
            },
            "type": "scatterpolargl"
           }
          ],
          "scatterternary": [
           {
            "marker": {
             "colorbar": {
              "outlinewidth": 0,
              "ticks": ""
             }
            },
            "type": "scatterternary"
           }
          ],
          "surface": [
           {
            "colorbar": {
             "outlinewidth": 0,
             "ticks": ""
            },
            "colorscale": [
             [
              0,
              "#0d0887"
             ],
             [
              0.1111111111111111,
              "#46039f"
             ],
             [
              0.2222222222222222,
              "#7201a8"
             ],
             [
              0.3333333333333333,
              "#9c179e"
             ],
             [
              0.4444444444444444,
              "#bd3786"
             ],
             [
              0.5555555555555556,
              "#d8576b"
             ],
             [
              0.6666666666666666,
              "#ed7953"
             ],
             [
              0.7777777777777778,
              "#fb9f3a"
             ],
             [
              0.8888888888888888,
              "#fdca26"
             ],
             [
              1,
              "#f0f921"
             ]
            ],
            "type": "surface"
           }
          ],
          "table": [
           {
            "cells": {
             "fill": {
              "color": "#EBF0F8"
             },
             "line": {
              "color": "white"
             }
            },
            "header": {
             "fill": {
              "color": "#C8D4E3"
             },
             "line": {
              "color": "white"
             }
            },
            "type": "table"
           }
          ]
         },
         "layout": {
          "annotationdefaults": {
           "arrowcolor": "#2a3f5f",
           "arrowhead": 0,
           "arrowwidth": 1
          },
          "autotypenumbers": "strict",
          "coloraxis": {
           "colorbar": {
            "outlinewidth": 0,
            "ticks": ""
           }
          },
          "colorscale": {
           "diverging": [
            [
             0,
             "#8e0152"
            ],
            [
             0.1,
             "#c51b7d"
            ],
            [
             0.2,
             "#de77ae"
            ],
            [
             0.3,
             "#f1b6da"
            ],
            [
             0.4,
             "#fde0ef"
            ],
            [
             0.5,
             "#f7f7f7"
            ],
            [
             0.6,
             "#e6f5d0"
            ],
            [
             0.7,
             "#b8e186"
            ],
            [
             0.8,
             "#7fbc41"
            ],
            [
             0.9,
             "#4d9221"
            ],
            [
             1,
             "#276419"
            ]
           ],
           "sequential": [
            [
             0,
             "#0d0887"
            ],
            [
             0.1111111111111111,
             "#46039f"
            ],
            [
             0.2222222222222222,
             "#7201a8"
            ],
            [
             0.3333333333333333,
             "#9c179e"
            ],
            [
             0.4444444444444444,
             "#bd3786"
            ],
            [
             0.5555555555555556,
             "#d8576b"
            ],
            [
             0.6666666666666666,
             "#ed7953"
            ],
            [
             0.7777777777777778,
             "#fb9f3a"
            ],
            [
             0.8888888888888888,
             "#fdca26"
            ],
            [
             1,
             "#f0f921"
            ]
           ],
           "sequentialminus": [
            [
             0,
             "#0d0887"
            ],
            [
             0.1111111111111111,
             "#46039f"
            ],
            [
             0.2222222222222222,
             "#7201a8"
            ],
            [
             0.3333333333333333,
             "#9c179e"
            ],
            [
             0.4444444444444444,
             "#bd3786"
            ],
            [
             0.5555555555555556,
             "#d8576b"
            ],
            [
             0.6666666666666666,
             "#ed7953"
            ],
            [
             0.7777777777777778,
             "#fb9f3a"
            ],
            [
             0.8888888888888888,
             "#fdca26"
            ],
            [
             1,
             "#f0f921"
            ]
           ]
          },
          "colorway": [
           "#636efa",
           "#EF553B",
           "#00cc96",
           "#ab63fa",
           "#FFA15A",
           "#19d3f3",
           "#FF6692",
           "#B6E880",
           "#FF97FF",
           "#FECB52"
          ],
          "font": {
           "color": "#2a3f5f"
          },
          "geo": {
           "bgcolor": "white",
           "lakecolor": "white",
           "landcolor": "#E5ECF6",
           "showlakes": true,
           "showland": true,
           "subunitcolor": "white"
          },
          "hoverlabel": {
           "align": "left"
          },
          "hovermode": "closest",
          "mapbox": {
           "style": "light"
          },
          "paper_bgcolor": "white",
          "plot_bgcolor": "#E5ECF6",
          "polar": {
           "angularaxis": {
            "gridcolor": "white",
            "linecolor": "white",
            "ticks": ""
           },
           "bgcolor": "#E5ECF6",
           "radialaxis": {
            "gridcolor": "white",
            "linecolor": "white",
            "ticks": ""
           }
          },
          "scene": {
           "xaxis": {
            "backgroundcolor": "#E5ECF6",
            "gridcolor": "white",
            "gridwidth": 2,
            "linecolor": "white",
            "showbackground": true,
            "ticks": "",
            "zerolinecolor": "white"
           },
           "yaxis": {
            "backgroundcolor": "#E5ECF6",
            "gridcolor": "white",
            "gridwidth": 2,
            "linecolor": "white",
            "showbackground": true,
            "ticks": "",
            "zerolinecolor": "white"
           },
           "zaxis": {
            "backgroundcolor": "#E5ECF6",
            "gridcolor": "white",
            "gridwidth": 2,
            "linecolor": "white",
            "showbackground": true,
            "ticks": "",
            "zerolinecolor": "white"
           }
          },
          "shapedefaults": {
           "line": {
            "color": "#2a3f5f"
           }
          },
          "ternary": {
           "aaxis": {
            "gridcolor": "white",
            "linecolor": "white",
            "ticks": ""
           },
           "baxis": {
            "gridcolor": "white",
            "linecolor": "white",
            "ticks": ""
           },
           "bgcolor": "#E5ECF6",
           "caxis": {
            "gridcolor": "white",
            "linecolor": "white",
            "ticks": ""
           }
          },
          "title": {
           "x": 0.05
          },
          "xaxis": {
           "automargin": true,
           "gridcolor": "white",
           "linecolor": "white",
           "ticks": "",
           "title": {
            "standoff": 15
           },
           "zerolinecolor": "white",
           "zerolinewidth": 2
          },
          "yaxis": {
           "automargin": true,
           "gridcolor": "white",
           "linecolor": "white",
           "ticks": "",
           "title": {
            "standoff": 15
           },
           "zerolinecolor": "white",
           "zerolinewidth": 2
          }
         }
        },
        "title": {
         "text": "Homo vs. Lumo"
        },
        "width": 1200,
        "xaxis": {
         "gridwidth": 2,
         "title": {
          "text": "$Highest \\: occupied \\: molecular \\: orbital \\: energy \\: [Hartree]$"
         },
         "zeroline": false
        },
        "yaxis": {
         "gridwidth": 2,
         "title": {
          "text": "$Lowest \\: unoccupied \\: molecular \\: orbital \\: energy \\: [Hartree]$"
         },
         "zeroline": false
        }
       }
      },
      "text/html": [
       "<div>                            <div id=\"efc67e35-5ec4-42b7-9feb-561c905fdf76\" class=\"plotly-graph-div\" style=\"height:600px; width:1200px;\"></div>            <script type=\"text/javascript\">                require([\"plotly\"], function(Plotly) {                    window.PLOTLYENV=window.PLOTLYENV || {};                                    if (document.getElementById(\"efc67e35-5ec4-42b7-9feb-561c905fdf76\")) {                    Plotly.newPlot(                        \"efc67e35-5ec4-42b7-9feb-561c905fdf76\",                        [{\"marker\": {\"color\": [0.2301, 0.2101, 0.2801, 0.2252, 0.2555, 0.2489, 0.3276, 0.3045, 0.2033, 0.2449], \"colorbar\": {\"tickfont\": {\"family\": \"Georgia\", \"size\": 16}, \"title\": {\"font\": {\"family\": \"Georgia\", \"size\": 18}, \"text\": \"gap\"}}, \"size\": 12}, \"mode\": \"markers\", \"text\": [[\"gdb_43226\", \"O=C1C2CCCC1C=C2\", 2.19575, 1.83375, 1.78978, 2.8898, 78.73, -0.233, -0.0029, 0.2301, 940.4189, 0.162755, -385.930699, -385.923667, -385.922723, -385.961801, 29.0, -1938.5095879261, -1950.984466846, -1961.653374864, -1808.771474667], [\"gdb_18950\", \"O=CC1C2C3CC2N13\", 5.76254, 1.67862, 1.56959, 2.2243, 65.83, -0.2456, -0.0355, 0.2101, 819.6491, 0.118824, -362.561835, -362.55547, -362.554526, -362.592646, 24.065, -1462.630607668, -1471.968569097, -1480.266120604, -1361.585343434], [\"gdb_65057\", \"CC1(CO1)C1(CO1)C#C\", 2.3346, 1.50396, 1.24794, 2.523, 73.97, -0.262, 0.0181, 0.2801, 1080.6934, 0.132144, -421.745993, -421.736936, -421.735992, -421.779716, 33.773, -1686.2716777231, -1695.698117921, -1705.181033929, -1571.293203653], [\"gdb_27393\", \"c1c([nH]c(nc1=O)N)O\", 2.0153, 1.87826, 0.97339, 7.1395, 67.95, -0.2213, 0.0039, 0.2252, 1112.084, 0.102825, -470.075554, -470.067765, -470.066821, -470.107671, 29.926, -1447.26165724, -1454.816238091, -1462.520166084, -1350.407525617], [\"gdb_51741\", \"O=COC1CCC11CN1\", 2.95255, 1.08628, 0.88017, 2.6332, 74.49, -0.254, 0.0016, 0.2555, 1317.3191, 0.147164, -439.065902, -439.057354, -439.056409, -439.100076, 31.201, -1738.0706631461, -1748.70443066, -1758.779715164, -1616.38160783], [\"gdb_76009\", \"CC1C(C#C)C1(N)C#N\", 2.53605, 1.22419, 1.06898, 4.3948, 81.35, -0.2437, 0.0052, 0.2489, 1192.95, 0.133709, -380.832234, -380.822314, -380.82137, -380.866998, 35.74, -1716.1894243161, -1725.0743242471, -1734.557240255, -1601.7600206211], [\"gdb_119005\", \"CCOC1(C)CCOC1\", 2.95734, 0.99058, 0.94789, 1.1187, 81.84, -0.2415, 0.0861, 0.3276, 1416.2731, 0.204963, -425.428719, -425.418774, -425.41783, -425.464927, 36.697, -2113.6605275151, -2127.861056185, -2140.901948223, -1960.1285279941], [\"gdb_113483\", \"OCC1OC11CC2NC12\", 4.50687, 0.94025, 0.93209, 2.7993, 72.42, -0.2393, 0.0653, 0.3045, 1304.7898, 0.147184, -439.003744, -438.995489, -438.994544, -439.037024, 31.39, -1699.0659587241, -1709.883586375, -1719.958870879, -1576.815910362], [\"gdb_84251\", \"CC1C=C2CN3CC1C23\", 3.4065, 1.61019, 1.39649, 1.1495, 84.22, -0.2061, -0.0029, 0.2033, 999.2788, 0.173305, -365.940028, -365.932927, -365.931982, -365.971038, 29.74, -1932.092680892, -1945.4128144351, -1956.674090949, -1795.5592726721], [\"gdb_74041\", \"CC1=C2CCCC2CC1\", 2.57908, 1.49508, 1.01008, 0.2143, 93.13, -0.2129, 0.032, 0.2449, 1255.1456, 0.20823, -351.196235, -351.187674, -351.18673, -351.229269, 33.659, -2241.126430685, -2256.1966868291, -2269.237578867, -2086.114764942]], \"type\": \"scatter\", \"x\": [0.233, 0.2456, 0.262, 0.2213, 0.254, 0.2437, 0.2415, 0.2393, 0.2061, 0.2129], \"y\": [-0.0029, -0.0355, 0.0181, 0.0039, 0.0016, 0.0052, 0.0861, 0.0653, -0.0029, 0.032]}],                        {\"font\": {\"family\": \"Times New Roman\", \"size\": 18}, \"height\": 600, \"hovermode\": \"closest\", \"showlegend\": false, \"template\": {\"data\": {\"bar\": [{\"error_x\": {\"color\": \"#2a3f5f\"}, \"error_y\": {\"color\": \"#2a3f5f\"}, \"marker\": {\"line\": {\"color\": \"#E5ECF6\", \"width\": 0.5}}, \"type\": \"bar\"}], \"barpolar\": [{\"marker\": {\"line\": {\"color\": \"#E5ECF6\", \"width\": 0.5}}, \"type\": \"barpolar\"}], \"carpet\": [{\"aaxis\": {\"endlinecolor\": \"#2a3f5f\", \"gridcolor\": \"white\", \"linecolor\": \"white\", \"minorgridcolor\": \"white\", \"startlinecolor\": \"#2a3f5f\"}, \"baxis\": {\"endlinecolor\": \"#2a3f5f\", \"gridcolor\": \"white\", \"linecolor\": \"white\", \"minorgridcolor\": \"white\", \"startlinecolor\": \"#2a3f5f\"}, \"type\": \"carpet\"}], \"choropleth\": [{\"colorbar\": {\"outlinewidth\": 0, \"ticks\": \"\"}, \"type\": \"choropleth\"}], \"contour\": [{\"colorbar\": {\"outlinewidth\": 0, \"ticks\": \"\"}, \"colorscale\": [[0.0, \"#0d0887\"], [0.1111111111111111, \"#46039f\"], [0.2222222222222222, \"#7201a8\"], [0.3333333333333333, \"#9c179e\"], [0.4444444444444444, \"#bd3786\"], [0.5555555555555556, \"#d8576b\"], [0.6666666666666666, \"#ed7953\"], [0.7777777777777778, \"#fb9f3a\"], [0.8888888888888888, \"#fdca26\"], [1.0, \"#f0f921\"]], \"type\": \"contour\"}], \"contourcarpet\": [{\"colorbar\": {\"outlinewidth\": 0, \"ticks\": \"\"}, \"type\": \"contourcarpet\"}], \"heatmap\": [{\"colorbar\": {\"outlinewidth\": 0, \"ticks\": \"\"}, \"colorscale\": [[0.0, \"#0d0887\"], [0.1111111111111111, \"#46039f\"], [0.2222222222222222, \"#7201a8\"], [0.3333333333333333, \"#9c179e\"], [0.4444444444444444, \"#bd3786\"], [0.5555555555555556, \"#d8576b\"], [0.6666666666666666, \"#ed7953\"], [0.7777777777777778, \"#fb9f3a\"], [0.8888888888888888, \"#fdca26\"], [1.0, \"#f0f921\"]], \"type\": \"heatmap\"}], \"heatmapgl\": [{\"colorbar\": {\"outlinewidth\": 0, \"ticks\": \"\"}, \"colorscale\": [[0.0, \"#0d0887\"], [0.1111111111111111, \"#46039f\"], [0.2222222222222222, \"#7201a8\"], [0.3333333333333333, \"#9c179e\"], [0.4444444444444444, \"#bd3786\"], [0.5555555555555556, \"#d8576b\"], [0.6666666666666666, \"#ed7953\"], [0.7777777777777778, \"#fb9f3a\"], [0.8888888888888888, \"#fdca26\"], [1.0, \"#f0f921\"]], \"type\": \"heatmapgl\"}], \"histogram\": [{\"marker\": {\"colorbar\": {\"outlinewidth\": 0, \"ticks\": \"\"}}, \"type\": \"histogram\"}], \"histogram2d\": [{\"colorbar\": {\"outlinewidth\": 0, \"ticks\": \"\"}, \"colorscale\": [[0.0, \"#0d0887\"], [0.1111111111111111, \"#46039f\"], [0.2222222222222222, \"#7201a8\"], [0.3333333333333333, \"#9c179e\"], [0.4444444444444444, \"#bd3786\"], [0.5555555555555556, \"#d8576b\"], [0.6666666666666666, \"#ed7953\"], [0.7777777777777778, \"#fb9f3a\"], [0.8888888888888888, \"#fdca26\"], [1.0, \"#f0f921\"]], \"type\": \"histogram2d\"}], \"histogram2dcontour\": [{\"colorbar\": {\"outlinewidth\": 0, \"ticks\": \"\"}, \"colorscale\": [[0.0, \"#0d0887\"], [0.1111111111111111, \"#46039f\"], [0.2222222222222222, \"#7201a8\"], [0.3333333333333333, \"#9c179e\"], [0.4444444444444444, \"#bd3786\"], [0.5555555555555556, \"#d8576b\"], [0.6666666666666666, \"#ed7953\"], [0.7777777777777778, \"#fb9f3a\"], [0.8888888888888888, \"#fdca26\"], [1.0, \"#f0f921\"]], \"type\": \"histogram2dcontour\"}], \"mesh3d\": [{\"colorbar\": {\"outlinewidth\": 0, \"ticks\": \"\"}, \"type\": \"mesh3d\"}], \"parcoords\": [{\"line\": {\"colorbar\": {\"outlinewidth\": 0, \"ticks\": \"\"}}, \"type\": \"parcoords\"}], \"pie\": [{\"automargin\": true, \"type\": \"pie\"}], \"scatter\": [{\"marker\": {\"colorbar\": {\"outlinewidth\": 0, \"ticks\": \"\"}}, \"type\": \"scatter\"}], \"scatter3d\": [{\"line\": {\"colorbar\": {\"outlinewidth\": 0, \"ticks\": \"\"}}, \"marker\": {\"colorbar\": {\"outlinewidth\": 0, \"ticks\": \"\"}}, \"type\": \"scatter3d\"}], \"scattercarpet\": [{\"marker\": {\"colorbar\": {\"outlinewidth\": 0, \"ticks\": \"\"}}, \"type\": \"scattercarpet\"}], \"scattergeo\": [{\"marker\": {\"colorbar\": {\"outlinewidth\": 0, \"ticks\": \"\"}}, \"type\": \"scattergeo\"}], \"scattergl\": [{\"marker\": {\"colorbar\": {\"outlinewidth\": 0, \"ticks\": \"\"}}, \"type\": \"scattergl\"}], \"scattermapbox\": [{\"marker\": {\"colorbar\": {\"outlinewidth\": 0, \"ticks\": \"\"}}, \"type\": \"scattermapbox\"}], \"scatterpolar\": [{\"marker\": {\"colorbar\": {\"outlinewidth\": 0, \"ticks\": \"\"}}, \"type\": \"scatterpolar\"}], \"scatterpolargl\": [{\"marker\": {\"colorbar\": {\"outlinewidth\": 0, \"ticks\": \"\"}}, \"type\": \"scatterpolargl\"}], \"scatterternary\": [{\"marker\": {\"colorbar\": {\"outlinewidth\": 0, \"ticks\": \"\"}}, \"type\": \"scatterternary\"}], \"surface\": [{\"colorbar\": {\"outlinewidth\": 0, \"ticks\": \"\"}, \"colorscale\": [[0.0, \"#0d0887\"], [0.1111111111111111, \"#46039f\"], [0.2222222222222222, \"#7201a8\"], [0.3333333333333333, \"#9c179e\"], [0.4444444444444444, \"#bd3786\"], [0.5555555555555556, \"#d8576b\"], [0.6666666666666666, \"#ed7953\"], [0.7777777777777778, \"#fb9f3a\"], [0.8888888888888888, \"#fdca26\"], [1.0, \"#f0f921\"]], \"type\": \"surface\"}], \"table\": [{\"cells\": {\"fill\": {\"color\": \"#EBF0F8\"}, \"line\": {\"color\": \"white\"}}, \"header\": {\"fill\": {\"color\": \"#C8D4E3\"}, \"line\": {\"color\": \"white\"}}, \"type\": \"table\"}]}, \"layout\": {\"annotationdefaults\": {\"arrowcolor\": \"#2a3f5f\", \"arrowhead\": 0, \"arrowwidth\": 1}, \"autotypenumbers\": \"strict\", \"coloraxis\": {\"colorbar\": {\"outlinewidth\": 0, \"ticks\": \"\"}}, \"colorscale\": {\"diverging\": [[0, \"#8e0152\"], [0.1, \"#c51b7d\"], [0.2, \"#de77ae\"], [0.3, \"#f1b6da\"], [0.4, \"#fde0ef\"], [0.5, \"#f7f7f7\"], [0.6, \"#e6f5d0\"], [0.7, \"#b8e186\"], [0.8, \"#7fbc41\"], [0.9, \"#4d9221\"], [1, \"#276419\"]], \"sequential\": [[0.0, \"#0d0887\"], [0.1111111111111111, \"#46039f\"], [0.2222222222222222, \"#7201a8\"], [0.3333333333333333, \"#9c179e\"], [0.4444444444444444, \"#bd3786\"], [0.5555555555555556, \"#d8576b\"], [0.6666666666666666, \"#ed7953\"], [0.7777777777777778, \"#fb9f3a\"], [0.8888888888888888, \"#fdca26\"], [1.0, \"#f0f921\"]], \"sequentialminus\": [[0.0, \"#0d0887\"], [0.1111111111111111, \"#46039f\"], [0.2222222222222222, \"#7201a8\"], [0.3333333333333333, \"#9c179e\"], [0.4444444444444444, \"#bd3786\"], [0.5555555555555556, \"#d8576b\"], [0.6666666666666666, \"#ed7953\"], [0.7777777777777778, \"#fb9f3a\"], [0.8888888888888888, \"#fdca26\"], [1.0, \"#f0f921\"]]}, \"colorway\": [\"#636efa\", \"#EF553B\", \"#00cc96\", \"#ab63fa\", \"#FFA15A\", \"#19d3f3\", \"#FF6692\", \"#B6E880\", \"#FF97FF\", \"#FECB52\"], \"font\": {\"color\": \"#2a3f5f\"}, \"geo\": {\"bgcolor\": \"white\", \"lakecolor\": \"white\", \"landcolor\": \"#E5ECF6\", \"showlakes\": true, \"showland\": true, \"subunitcolor\": \"white\"}, \"hoverlabel\": {\"align\": \"left\"}, \"hovermode\": \"closest\", \"mapbox\": {\"style\": \"light\"}, \"paper_bgcolor\": \"white\", \"plot_bgcolor\": \"#E5ECF6\", \"polar\": {\"angularaxis\": {\"gridcolor\": \"white\", \"linecolor\": \"white\", \"ticks\": \"\"}, \"bgcolor\": \"#E5ECF6\", \"radialaxis\": {\"gridcolor\": \"white\", \"linecolor\": \"white\", \"ticks\": \"\"}}, \"scene\": {\"xaxis\": {\"backgroundcolor\": \"#E5ECF6\", \"gridcolor\": \"white\", \"gridwidth\": 2, \"linecolor\": \"white\", \"showbackground\": true, \"ticks\": \"\", \"zerolinecolor\": \"white\"}, \"yaxis\": {\"backgroundcolor\": \"#E5ECF6\", \"gridcolor\": \"white\", \"gridwidth\": 2, \"linecolor\": \"white\", \"showbackground\": true, \"ticks\": \"\", \"zerolinecolor\": \"white\"}, \"zaxis\": {\"backgroundcolor\": \"#E5ECF6\", \"gridcolor\": \"white\", \"gridwidth\": 2, \"linecolor\": \"white\", \"showbackground\": true, \"ticks\": \"\", \"zerolinecolor\": \"white\"}}, \"shapedefaults\": {\"line\": {\"color\": \"#2a3f5f\"}}, \"ternary\": {\"aaxis\": {\"gridcolor\": \"white\", \"linecolor\": \"white\", \"ticks\": \"\"}, \"baxis\": {\"gridcolor\": \"white\", \"linecolor\": \"white\", \"ticks\": \"\"}, \"bgcolor\": \"#E5ECF6\", \"caxis\": {\"gridcolor\": \"white\", \"linecolor\": \"white\", \"ticks\": \"\"}}, \"title\": {\"x\": 0.05}, \"xaxis\": {\"automargin\": true, \"gridcolor\": \"white\", \"linecolor\": \"white\", \"ticks\": \"\", \"title\": {\"standoff\": 15}, \"zerolinecolor\": \"white\", \"zerolinewidth\": 2}, \"yaxis\": {\"automargin\": true, \"gridcolor\": \"white\", \"linecolor\": \"white\", \"ticks\": \"\", \"title\": {\"standoff\": 15}, \"zerolinecolor\": \"white\", \"zerolinewidth\": 2}}}, \"title\": {\"text\": \"Homo vs. Lumo\"}, \"width\": 1200, \"xaxis\": {\"gridwidth\": 2, \"title\": {\"text\": \"$Highest \\\\: occupied \\\\: molecular \\\\: orbital \\\\: energy \\\\: [Hartree]$\"}, \"zeroline\": false}, \"yaxis\": {\"gridwidth\": 2, \"title\": {\"text\": \"$Lowest \\\\: unoccupied \\\\: molecular \\\\: orbital \\\\: energy \\\\: [Hartree]$\"}, \"zeroline\": false}},                        {\"responsive\": true}                    ).then(function(){\n",
       "                            \n",
       "var gd = document.getElementById('efc67e35-5ec4-42b7-9feb-561c905fdf76');\n",
       "var x = new MutationObserver(function (mutations, observer) {{\n",
       "        var display = window.getComputedStyle(gd).display;\n",
       "        if (!display || display === 'none') {{\n",
       "            console.log([gd, 'removed!']);\n",
       "            Plotly.purge(gd);\n",
       "            observer.disconnect();\n",
       "        }}\n",
       "}});\n",
       "\n",
       "// Listen for the removal of the full notebook cells\n",
       "var notebookContainer = gd.closest('#notebook-container');\n",
       "if (notebookContainer) {{\n",
       "    x.observe(notebookContainer, {childList: true});\n",
       "}}\n",
       "\n",
       "// Listen for the clearing of the current output cell\n",
       "var outputEl = gd.closest('.output');\n",
       "if (outputEl) {{\n",
       "    x.observe(outputEl, {childList: true});\n",
       "}}\n",
       "\n",
       "                        })                };                });            </script>        </div>"
      ]
     },
     "metadata": {},
     "output_type": "display_data"
    }
   ],
   "source": [
    "import plotly\n",
    "import plotly.graph_objs as go\n",
    "from plotly.offline import iplot\n",
    "\n",
    "plotly.offline.init_notebook_mode(connected=True)\n",
    "\n",
    "df = pd.DataFrame(dataset.head(10))\n",
    "\n",
    "layout_IPF_shear_modulus = go.Layout(title= \"Homo vs. Lumo\", hovermode= 'closest',\n",
    "                   font = dict(family='Times New Roman',size=18),\n",
    "                   xaxis= dict(title= '$Highest \\: occupied \\: molecular \\: orbital \\: energy \\: [Hartree]$',zeroline= False, gridwidth= 2),\n",
    "                   yaxis= dict(title= '$Lowest \\: unoccupied \\: molecular \\: orbital \\: energy \\: [Hartree]$',zeroline= False, gridwidth= 2),\n",
    "                   height = 600,\n",
    "                   width = 1200,\n",
    "     showlegend= False              \n",
    ")\n",
    "\n",
    "#Scatter plot of collected data. Use df_oxide_all dataframe. df_oxide_all.Density will pull density column. Could change Density or IPF to Molar Volume or simply volume if you wanted.\n",
    "trace_all_shear = go.Scatter(x = abs(df.homo), y = df.lumo, mode = 'markers', text = df,\n",
    "                            marker=dict(size=12, color=(df['gap']),\n",
    "                                colorbar = dict(title={ 'text': \"gap\", \n",
    "                                                     'font': {'family':'Georgia', 'size': 18}} , \n",
    "                                              tickfont={'family':'Georgia', 'size': 16 })))#, name = 'All Queries'))\n",
    "\n",
    "data_IPF_shear = [trace_all_shear]#,trace0,trace2]\n",
    "fig_IPF_shear = go.Figure(data_IPF_shear, layout=layout_IPF_shear_modulus)\n",
    "iplot(fig_IPF_shear)\n",
    "pio.write_image(fig_IPF, \"./fig_smiles_trace_3variable.png\", scale=2, width=600, height=350)\n",
    "#pio.write_image(fig_IPF, \"gdrive/MyDrive/Colab Notebooks/data/fig_smiles_trace_3variable.png\", scale=2, width=600, height=350)\n",
    "\n",
    "from IPython.display import Image\n",
    "Image(img_bytes)\n",
    "img_bytes = fig_IPF_shear.to_image(format=\"png\", width=600, height=350, scale=2)"
   ]
  },
  {
   "cell_type": "code",
   "execution_count": 86,
   "metadata": {},
   "outputs": [
    {
     "data": {
      "text/html": [
       "        <script type=\"text/javascript\">\n",
       "        window.PlotlyConfig = {MathJaxConfig: 'local'};\n",
       "        if (window.MathJax) {MathJax.Hub.Config({SVG: {font: \"STIX-Web\"}});}\n",
       "        if (typeof require !== 'undefined') {\n",
       "        require.undef(\"plotly\");\n",
       "        requirejs.config({\n",
       "            paths: {\n",
       "                'plotly': ['https://cdn.plot.ly/plotly-latest.min']\n",
       "            }\n",
       "        });\n",
       "        require(['plotly'], function(Plotly) {\n",
       "            window._Plotly = Plotly;\n",
       "        });\n",
       "        }\n",
       "        </script>\n",
       "        "
      ]
     },
     "metadata": {},
     "output_type": "display_data"
    },
    {
     "data": {
      "application/vnd.plotly.v1+json": {
       "config": {
        "linkText": "Export to plot.ly",
        "plotlyServerURL": "https://plot.ly",
        "showLink": false
       },
       "data": [
        {
         "marker": {
          "color": [
           0.2301,
           0.2101,
           0.2801,
           0.2252,
           0.2555,
           0.2489,
           0.3276,
           0.3045,
           0.2033,
           0.2449
          ],
          "colorbar": {
           "tickfont": {
            "family": "Georgia",
            "size": 16
           },
           "title": {
            "font": {
             "family": "Georgia",
             "size": 18
            },
            "text": "gap"
           }
          },
          "size": 12
         },
         "mode": "markers",
         "text": [
          [
           "gdb_43226",
           "O=C1C2CCCC1C=C2",
           2.19575,
           1.83375,
           1.78978,
           2.8898,
           78.73,
           -0.233,
           -0.0029,
           0.2301,
           940.4189,
           0.162755,
           -385.930699,
           -385.923667,
           -385.922723,
           -385.961801,
           29,
           -1938.5095879261,
           -1950.984466846,
           -1961.653374864,
           -1808.771474667
          ],
          [
           "gdb_18950",
           "O=CC1C2C3CC2N13",
           5.76254,
           1.67862,
           1.56959,
           2.2243,
           65.83,
           -0.2456,
           -0.0355,
           0.2101,
           819.6491,
           0.118824,
           -362.561835,
           -362.55547,
           -362.554526,
           -362.592646,
           24.065,
           -1462.630607668,
           -1471.968569097,
           -1480.266120604,
           -1361.585343434
          ],
          [
           "gdb_65057",
           "CC1(CO1)C1(CO1)C#C",
           2.3346,
           1.50396,
           1.24794,
           2.523,
           73.97,
           -0.262,
           0.0181,
           0.2801,
           1080.6934,
           0.132144,
           -421.745993,
           -421.736936,
           -421.735992,
           -421.779716,
           33.773,
           -1686.2716777231,
           -1695.698117921,
           -1705.181033929,
           -1571.293203653
          ],
          [
           "gdb_27393",
           "c1c([nH]c(nc1=O)N)O",
           2.0153,
           1.87826,
           0.97339,
           7.1395,
           67.95,
           -0.2213,
           0.0039,
           0.2252,
           1112.084,
           0.102825,
           -470.075554,
           -470.067765,
           -470.066821,
           -470.107671,
           29.926,
           -1447.26165724,
           -1454.816238091,
           -1462.520166084,
           -1350.407525617
          ],
          [
           "gdb_51741",
           "O=COC1CCC11CN1",
           2.95255,
           1.08628,
           0.88017,
           2.6332,
           74.49,
           -0.254,
           0.0016,
           0.2555,
           1317.3191,
           0.147164,
           -439.065902,
           -439.057354,
           -439.056409,
           -439.100076,
           31.201,
           -1738.0706631461,
           -1748.70443066,
           -1758.779715164,
           -1616.38160783
          ],
          [
           "gdb_76009",
           "CC1C(C#C)C1(N)C#N",
           2.53605,
           1.22419,
           1.06898,
           4.3948,
           81.35,
           -0.2437,
           0.0052,
           0.2489,
           1192.95,
           0.133709,
           -380.832234,
           -380.822314,
           -380.82137,
           -380.866998,
           35.74,
           -1716.1894243161,
           -1725.0743242471,
           -1734.557240255,
           -1601.7600206211
          ],
          [
           "gdb_119005",
           "CCOC1(C)CCOC1",
           2.95734,
           0.99058,
           0.94789,
           1.1187,
           81.84,
           -0.2415,
           0.0861,
           0.3276,
           1416.2731,
           0.204963,
           -425.428719,
           -425.418774,
           -425.41783,
           -425.464927,
           36.697,
           -2113.6605275151,
           -2127.861056185,
           -2140.901948223,
           -1960.1285279941
          ],
          [
           "gdb_113483",
           "OCC1OC11CC2NC12",
           4.50687,
           0.94025,
           0.93209,
           2.7993,
           72.42,
           -0.2393,
           0.0653,
           0.3045,
           1304.7898,
           0.147184,
           -439.003744,
           -438.995489,
           -438.994544,
           -439.037024,
           31.39,
           -1699.0659587241,
           -1709.883586375,
           -1719.958870879,
           -1576.815910362
          ],
          [
           "gdb_84251",
           "CC1C=C2CN3CC1C23",
           3.4065,
           1.61019,
           1.39649,
           1.1495,
           84.22,
           -0.2061,
           -0.0029,
           0.2033,
           999.2788,
           0.173305,
           -365.940028,
           -365.932927,
           -365.931982,
           -365.971038,
           29.74,
           -1932.092680892,
           -1945.4128144351,
           -1956.674090949,
           -1795.5592726721
          ],
          [
           "gdb_74041",
           "CC1=C2CCCC2CC1",
           2.57908,
           1.49508,
           1.01008,
           0.2143,
           93.13,
           -0.2129,
           0.032,
           0.2449,
           1255.1456,
           0.20823,
           -351.196235,
           -351.187674,
           -351.18673,
           -351.229269,
           33.659,
           -2241.126430685,
           -2256.1966868291,
           -2269.237578867,
           -2086.114764942
          ]
         ],
         "type": "scatter",
         "x": [
          0.233,
          0.2456,
          0.262,
          0.2213,
          0.254,
          0.2437,
          0.2415,
          0.2393,
          0.2061,
          0.2129
         ],
         "y": [
          -0.0029,
          -0.0355,
          0.0181,
          0.0039,
          0.0016,
          0.0052,
          0.0861,
          0.0653,
          -0.0029,
          0.032
         ]
        }
       ],
       "layout": {
        "font": {
         "family": "Times New Roman",
         "size": 18
        },
        "height": 600,
        "hovermode": "closest",
        "showlegend": false,
        "template": {
         "data": {
          "bar": [
           {
            "error_x": {
             "color": "#2a3f5f"
            },
            "error_y": {
             "color": "#2a3f5f"
            },
            "marker": {
             "line": {
              "color": "#E5ECF6",
              "width": 0.5
             }
            },
            "type": "bar"
           }
          ],
          "barpolar": [
           {
            "marker": {
             "line": {
              "color": "#E5ECF6",
              "width": 0.5
             }
            },
            "type": "barpolar"
           }
          ],
          "carpet": [
           {
            "aaxis": {
             "endlinecolor": "#2a3f5f",
             "gridcolor": "white",
             "linecolor": "white",
             "minorgridcolor": "white",
             "startlinecolor": "#2a3f5f"
            },
            "baxis": {
             "endlinecolor": "#2a3f5f",
             "gridcolor": "white",
             "linecolor": "white",
             "minorgridcolor": "white",
             "startlinecolor": "#2a3f5f"
            },
            "type": "carpet"
           }
          ],
          "choropleth": [
           {
            "colorbar": {
             "outlinewidth": 0,
             "ticks": ""
            },
            "type": "choropleth"
           }
          ],
          "contour": [
           {
            "colorbar": {
             "outlinewidth": 0,
             "ticks": ""
            },
            "colorscale": [
             [
              0,
              "#0d0887"
             ],
             [
              0.1111111111111111,
              "#46039f"
             ],
             [
              0.2222222222222222,
              "#7201a8"
             ],
             [
              0.3333333333333333,
              "#9c179e"
             ],
             [
              0.4444444444444444,
              "#bd3786"
             ],
             [
              0.5555555555555556,
              "#d8576b"
             ],
             [
              0.6666666666666666,
              "#ed7953"
             ],
             [
              0.7777777777777778,
              "#fb9f3a"
             ],
             [
              0.8888888888888888,
              "#fdca26"
             ],
             [
              1,
              "#f0f921"
             ]
            ],
            "type": "contour"
           }
          ],
          "contourcarpet": [
           {
            "colorbar": {
             "outlinewidth": 0,
             "ticks": ""
            },
            "type": "contourcarpet"
           }
          ],
          "heatmap": [
           {
            "colorbar": {
             "outlinewidth": 0,
             "ticks": ""
            },
            "colorscale": [
             [
              0,
              "#0d0887"
             ],
             [
              0.1111111111111111,
              "#46039f"
             ],
             [
              0.2222222222222222,
              "#7201a8"
             ],
             [
              0.3333333333333333,
              "#9c179e"
             ],
             [
              0.4444444444444444,
              "#bd3786"
             ],
             [
              0.5555555555555556,
              "#d8576b"
             ],
             [
              0.6666666666666666,
              "#ed7953"
             ],
             [
              0.7777777777777778,
              "#fb9f3a"
             ],
             [
              0.8888888888888888,
              "#fdca26"
             ],
             [
              1,
              "#f0f921"
             ]
            ],
            "type": "heatmap"
           }
          ],
          "heatmapgl": [
           {
            "colorbar": {
             "outlinewidth": 0,
             "ticks": ""
            },
            "colorscale": [
             [
              0,
              "#0d0887"
             ],
             [
              0.1111111111111111,
              "#46039f"
             ],
             [
              0.2222222222222222,
              "#7201a8"
             ],
             [
              0.3333333333333333,
              "#9c179e"
             ],
             [
              0.4444444444444444,
              "#bd3786"
             ],
             [
              0.5555555555555556,
              "#d8576b"
             ],
             [
              0.6666666666666666,
              "#ed7953"
             ],
             [
              0.7777777777777778,
              "#fb9f3a"
             ],
             [
              0.8888888888888888,
              "#fdca26"
             ],
             [
              1,
              "#f0f921"
             ]
            ],
            "type": "heatmapgl"
           }
          ],
          "histogram": [
           {
            "marker": {
             "colorbar": {
              "outlinewidth": 0,
              "ticks": ""
             }
            },
            "type": "histogram"
           }
          ],
          "histogram2d": [
           {
            "colorbar": {
             "outlinewidth": 0,
             "ticks": ""
            },
            "colorscale": [
             [
              0,
              "#0d0887"
             ],
             [
              0.1111111111111111,
              "#46039f"
             ],
             [
              0.2222222222222222,
              "#7201a8"
             ],
             [
              0.3333333333333333,
              "#9c179e"
             ],
             [
              0.4444444444444444,
              "#bd3786"
             ],
             [
              0.5555555555555556,
              "#d8576b"
             ],
             [
              0.6666666666666666,
              "#ed7953"
             ],
             [
              0.7777777777777778,
              "#fb9f3a"
             ],
             [
              0.8888888888888888,
              "#fdca26"
             ],
             [
              1,
              "#f0f921"
             ]
            ],
            "type": "histogram2d"
           }
          ],
          "histogram2dcontour": [
           {
            "colorbar": {
             "outlinewidth": 0,
             "ticks": ""
            },
            "colorscale": [
             [
              0,
              "#0d0887"
             ],
             [
              0.1111111111111111,
              "#46039f"
             ],
             [
              0.2222222222222222,
              "#7201a8"
             ],
             [
              0.3333333333333333,
              "#9c179e"
             ],
             [
              0.4444444444444444,
              "#bd3786"
             ],
             [
              0.5555555555555556,
              "#d8576b"
             ],
             [
              0.6666666666666666,
              "#ed7953"
             ],
             [
              0.7777777777777778,
              "#fb9f3a"
             ],
             [
              0.8888888888888888,
              "#fdca26"
             ],
             [
              1,
              "#f0f921"
             ]
            ],
            "type": "histogram2dcontour"
           }
          ],
          "mesh3d": [
           {
            "colorbar": {
             "outlinewidth": 0,
             "ticks": ""
            },
            "type": "mesh3d"
           }
          ],
          "parcoords": [
           {
            "line": {
             "colorbar": {
              "outlinewidth": 0,
              "ticks": ""
             }
            },
            "type": "parcoords"
           }
          ],
          "pie": [
           {
            "automargin": true,
            "type": "pie"
           }
          ],
          "scatter": [
           {
            "marker": {
             "colorbar": {
              "outlinewidth": 0,
              "ticks": ""
             }
            },
            "type": "scatter"
           }
          ],
          "scatter3d": [
           {
            "line": {
             "colorbar": {
              "outlinewidth": 0,
              "ticks": ""
             }
            },
            "marker": {
             "colorbar": {
              "outlinewidth": 0,
              "ticks": ""
             }
            },
            "type": "scatter3d"
           }
          ],
          "scattercarpet": [
           {
            "marker": {
             "colorbar": {
              "outlinewidth": 0,
              "ticks": ""
             }
            },
            "type": "scattercarpet"
           }
          ],
          "scattergeo": [
           {
            "marker": {
             "colorbar": {
              "outlinewidth": 0,
              "ticks": ""
             }
            },
            "type": "scattergeo"
           }
          ],
          "scattergl": [
           {
            "marker": {
             "colorbar": {
              "outlinewidth": 0,
              "ticks": ""
             }
            },
            "type": "scattergl"
           }
          ],
          "scattermapbox": [
           {
            "marker": {
             "colorbar": {
              "outlinewidth": 0,
              "ticks": ""
             }
            },
            "type": "scattermapbox"
           }
          ],
          "scatterpolar": [
           {
            "marker": {
             "colorbar": {
              "outlinewidth": 0,
              "ticks": ""
             }
            },
            "type": "scatterpolar"
           }
          ],
          "scatterpolargl": [
           {
            "marker": {
             "colorbar": {
              "outlinewidth": 0,
              "ticks": ""
             }
            },
            "type": "scatterpolargl"
           }
          ],
          "scatterternary": [
           {
            "marker": {
             "colorbar": {
              "outlinewidth": 0,
              "ticks": ""
             }
            },
            "type": "scatterternary"
           }
          ],
          "surface": [
           {
            "colorbar": {
             "outlinewidth": 0,
             "ticks": ""
            },
            "colorscale": [
             [
              0,
              "#0d0887"
             ],
             [
              0.1111111111111111,
              "#46039f"
             ],
             [
              0.2222222222222222,
              "#7201a8"
             ],
             [
              0.3333333333333333,
              "#9c179e"
             ],
             [
              0.4444444444444444,
              "#bd3786"
             ],
             [
              0.5555555555555556,
              "#d8576b"
             ],
             [
              0.6666666666666666,
              "#ed7953"
             ],
             [
              0.7777777777777778,
              "#fb9f3a"
             ],
             [
              0.8888888888888888,
              "#fdca26"
             ],
             [
              1,
              "#f0f921"
             ]
            ],
            "type": "surface"
           }
          ],
          "table": [
           {
            "cells": {
             "fill": {
              "color": "#EBF0F8"
             },
             "line": {
              "color": "white"
             }
            },
            "header": {
             "fill": {
              "color": "#C8D4E3"
             },
             "line": {
              "color": "white"
             }
            },
            "type": "table"
           }
          ]
         },
         "layout": {
          "annotationdefaults": {
           "arrowcolor": "#2a3f5f",
           "arrowhead": 0,
           "arrowwidth": 1
          },
          "autotypenumbers": "strict",
          "coloraxis": {
           "colorbar": {
            "outlinewidth": 0,
            "ticks": ""
           }
          },
          "colorscale": {
           "diverging": [
            [
             0,
             "#8e0152"
            ],
            [
             0.1,
             "#c51b7d"
            ],
            [
             0.2,
             "#de77ae"
            ],
            [
             0.3,
             "#f1b6da"
            ],
            [
             0.4,
             "#fde0ef"
            ],
            [
             0.5,
             "#f7f7f7"
            ],
            [
             0.6,
             "#e6f5d0"
            ],
            [
             0.7,
             "#b8e186"
            ],
            [
             0.8,
             "#7fbc41"
            ],
            [
             0.9,
             "#4d9221"
            ],
            [
             1,
             "#276419"
            ]
           ],
           "sequential": [
            [
             0,
             "#0d0887"
            ],
            [
             0.1111111111111111,
             "#46039f"
            ],
            [
             0.2222222222222222,
             "#7201a8"
            ],
            [
             0.3333333333333333,
             "#9c179e"
            ],
            [
             0.4444444444444444,
             "#bd3786"
            ],
            [
             0.5555555555555556,
             "#d8576b"
            ],
            [
             0.6666666666666666,
             "#ed7953"
            ],
            [
             0.7777777777777778,
             "#fb9f3a"
            ],
            [
             0.8888888888888888,
             "#fdca26"
            ],
            [
             1,
             "#f0f921"
            ]
           ],
           "sequentialminus": [
            [
             0,
             "#0d0887"
            ],
            [
             0.1111111111111111,
             "#46039f"
            ],
            [
             0.2222222222222222,
             "#7201a8"
            ],
            [
             0.3333333333333333,
             "#9c179e"
            ],
            [
             0.4444444444444444,
             "#bd3786"
            ],
            [
             0.5555555555555556,
             "#d8576b"
            ],
            [
             0.6666666666666666,
             "#ed7953"
            ],
            [
             0.7777777777777778,
             "#fb9f3a"
            ],
            [
             0.8888888888888888,
             "#fdca26"
            ],
            [
             1,
             "#f0f921"
            ]
           ]
          },
          "colorway": [
           "#636efa",
           "#EF553B",
           "#00cc96",
           "#ab63fa",
           "#FFA15A",
           "#19d3f3",
           "#FF6692",
           "#B6E880",
           "#FF97FF",
           "#FECB52"
          ],
          "font": {
           "color": "#2a3f5f"
          },
          "geo": {
           "bgcolor": "white",
           "lakecolor": "white",
           "landcolor": "#E5ECF6",
           "showlakes": true,
           "showland": true,
           "subunitcolor": "white"
          },
          "hoverlabel": {
           "align": "left"
          },
          "hovermode": "closest",
          "mapbox": {
           "style": "light"
          },
          "paper_bgcolor": "white",
          "plot_bgcolor": "#E5ECF6",
          "polar": {
           "angularaxis": {
            "gridcolor": "white",
            "linecolor": "white",
            "ticks": ""
           },
           "bgcolor": "#E5ECF6",
           "radialaxis": {
            "gridcolor": "white",
            "linecolor": "white",
            "ticks": ""
           }
          },
          "scene": {
           "xaxis": {
            "backgroundcolor": "#E5ECF6",
            "gridcolor": "white",
            "gridwidth": 2,
            "linecolor": "white",
            "showbackground": true,
            "ticks": "",
            "zerolinecolor": "white"
           },
           "yaxis": {
            "backgroundcolor": "#E5ECF6",
            "gridcolor": "white",
            "gridwidth": 2,
            "linecolor": "white",
            "showbackground": true,
            "ticks": "",
            "zerolinecolor": "white"
           },
           "zaxis": {
            "backgroundcolor": "#E5ECF6",
            "gridcolor": "white",
            "gridwidth": 2,
            "linecolor": "white",
            "showbackground": true,
            "ticks": "",
            "zerolinecolor": "white"
           }
          },
          "shapedefaults": {
           "line": {
            "color": "#2a3f5f"
           }
          },
          "ternary": {
           "aaxis": {
            "gridcolor": "white",
            "linecolor": "white",
            "ticks": ""
           },
           "baxis": {
            "gridcolor": "white",
            "linecolor": "white",
            "ticks": ""
           },
           "bgcolor": "#E5ECF6",
           "caxis": {
            "gridcolor": "white",
            "linecolor": "white",
            "ticks": ""
           }
          },
          "title": {
           "x": 0.05
          },
          "xaxis": {
           "automargin": true,
           "gridcolor": "white",
           "linecolor": "white",
           "ticks": "",
           "title": {
            "standoff": 15
           },
           "zerolinecolor": "white",
           "zerolinewidth": 2
          },
          "yaxis": {
           "automargin": true,
           "gridcolor": "white",
           "linecolor": "white",
           "ticks": "",
           "title": {
            "standoff": 15
           },
           "zerolinecolor": "white",
           "zerolinewidth": 2
          }
         }
        },
        "title": {
         "text": "Mobility vs. Zero Point Vibrational Energy "
        },
        "width": 1200,
        "xaxis": {
         "gridwidth": 2,
         "title": {
          "text": "$Mobility \\: \\: [cm2/(V⋅s)]$"
         },
         "zeroline": false
        },
        "yaxis": {
         "gridwidth": 2,
         "title": {
          "text": "$Zero Point Vibrational Energy\\: (ZPVE) [GPa]$"
         },
         "zeroline": false
        }
       }
      },
      "text/html": [
       "<div>                            <div id=\"840e6052-9c9f-480a-8a88-3e76834574f2\" class=\"plotly-graph-div\" style=\"height:600px; width:1200px;\"></div>            <script type=\"text/javascript\">                require([\"plotly\"], function(Plotly) {                    window.PLOTLYENV=window.PLOTLYENV || {};                                    if (document.getElementById(\"840e6052-9c9f-480a-8a88-3e76834574f2\")) {                    Plotly.newPlot(                        \"840e6052-9c9f-480a-8a88-3e76834574f2\",                        [{\"marker\": {\"color\": [0.2301, 0.2101, 0.2801, 0.2252, 0.2555, 0.2489, 0.3276, 0.3045, 0.2033, 0.2449], \"colorbar\": {\"tickfont\": {\"family\": \"Georgia\", \"size\": 16}, \"title\": {\"font\": {\"family\": \"Georgia\", \"size\": 18}, \"text\": \"gap\"}}, \"size\": 12}, \"mode\": \"markers\", \"text\": [[\"gdb_43226\", \"O=C1C2CCCC1C=C2\", 2.19575, 1.83375, 1.78978, 2.8898, 78.73, -0.233, -0.0029, 0.2301, 940.4189, 0.162755, -385.930699, -385.923667, -385.922723, -385.961801, 29.0, -1938.5095879261, -1950.984466846, -1961.653374864, -1808.771474667], [\"gdb_18950\", \"O=CC1C2C3CC2N13\", 5.76254, 1.67862, 1.56959, 2.2243, 65.83, -0.2456, -0.0355, 0.2101, 819.6491, 0.118824, -362.561835, -362.55547, -362.554526, -362.592646, 24.065, -1462.630607668, -1471.968569097, -1480.266120604, -1361.585343434], [\"gdb_65057\", \"CC1(CO1)C1(CO1)C#C\", 2.3346, 1.50396, 1.24794, 2.523, 73.97, -0.262, 0.0181, 0.2801, 1080.6934, 0.132144, -421.745993, -421.736936, -421.735992, -421.779716, 33.773, -1686.2716777231, -1695.698117921, -1705.181033929, -1571.293203653], [\"gdb_27393\", \"c1c([nH]c(nc1=O)N)O\", 2.0153, 1.87826, 0.97339, 7.1395, 67.95, -0.2213, 0.0039, 0.2252, 1112.084, 0.102825, -470.075554, -470.067765, -470.066821, -470.107671, 29.926, -1447.26165724, -1454.816238091, -1462.520166084, -1350.407525617], [\"gdb_51741\", \"O=COC1CCC11CN1\", 2.95255, 1.08628, 0.88017, 2.6332, 74.49, -0.254, 0.0016, 0.2555, 1317.3191, 0.147164, -439.065902, -439.057354, -439.056409, -439.100076, 31.201, -1738.0706631461, -1748.70443066, -1758.779715164, -1616.38160783], [\"gdb_76009\", \"CC1C(C#C)C1(N)C#N\", 2.53605, 1.22419, 1.06898, 4.3948, 81.35, -0.2437, 0.0052, 0.2489, 1192.95, 0.133709, -380.832234, -380.822314, -380.82137, -380.866998, 35.74, -1716.1894243161, -1725.0743242471, -1734.557240255, -1601.7600206211], [\"gdb_119005\", \"CCOC1(C)CCOC1\", 2.95734, 0.99058, 0.94789, 1.1187, 81.84, -0.2415, 0.0861, 0.3276, 1416.2731, 0.204963, -425.428719, -425.418774, -425.41783, -425.464927, 36.697, -2113.6605275151, -2127.861056185, -2140.901948223, -1960.1285279941], [\"gdb_113483\", \"OCC1OC11CC2NC12\", 4.50687, 0.94025, 0.93209, 2.7993, 72.42, -0.2393, 0.0653, 0.3045, 1304.7898, 0.147184, -439.003744, -438.995489, -438.994544, -439.037024, 31.39, -1699.0659587241, -1709.883586375, -1719.958870879, -1576.815910362], [\"gdb_84251\", \"CC1C=C2CN3CC1C23\", 3.4065, 1.61019, 1.39649, 1.1495, 84.22, -0.2061, -0.0029, 0.2033, 999.2788, 0.173305, -365.940028, -365.932927, -365.931982, -365.971038, 29.74, -1932.092680892, -1945.4128144351, -1956.674090949, -1795.5592726721], [\"gdb_74041\", \"CC1=C2CCCC2CC1\", 2.57908, 1.49508, 1.01008, 0.2143, 93.13, -0.2129, 0.032, 0.2449, 1255.1456, 0.20823, -351.196235, -351.187674, -351.18673, -351.229269, 33.659, -2241.126430685, -2256.1966868291, -2269.237578867, -2086.114764942]], \"type\": \"scatter\", \"x\": [0.233, 0.2456, 0.262, 0.2213, 0.254, 0.2437, 0.2415, 0.2393, 0.2061, 0.2129], \"y\": [-0.0029, -0.0355, 0.0181, 0.0039, 0.0016, 0.0052, 0.0861, 0.0653, -0.0029, 0.032]}],                        {\"font\": {\"family\": \"Times New Roman\", \"size\": 18}, \"height\": 600, \"hovermode\": \"closest\", \"showlegend\": false, \"template\": {\"data\": {\"bar\": [{\"error_x\": {\"color\": \"#2a3f5f\"}, \"error_y\": {\"color\": \"#2a3f5f\"}, \"marker\": {\"line\": {\"color\": \"#E5ECF6\", \"width\": 0.5}}, \"type\": \"bar\"}], \"barpolar\": [{\"marker\": {\"line\": {\"color\": \"#E5ECF6\", \"width\": 0.5}}, \"type\": \"barpolar\"}], \"carpet\": [{\"aaxis\": {\"endlinecolor\": \"#2a3f5f\", \"gridcolor\": \"white\", \"linecolor\": \"white\", \"minorgridcolor\": \"white\", \"startlinecolor\": \"#2a3f5f\"}, \"baxis\": {\"endlinecolor\": \"#2a3f5f\", \"gridcolor\": \"white\", \"linecolor\": \"white\", \"minorgridcolor\": \"white\", \"startlinecolor\": \"#2a3f5f\"}, \"type\": \"carpet\"}], \"choropleth\": [{\"colorbar\": {\"outlinewidth\": 0, \"ticks\": \"\"}, \"type\": \"choropleth\"}], \"contour\": [{\"colorbar\": {\"outlinewidth\": 0, \"ticks\": \"\"}, \"colorscale\": [[0.0, \"#0d0887\"], [0.1111111111111111, \"#46039f\"], [0.2222222222222222, \"#7201a8\"], [0.3333333333333333, \"#9c179e\"], [0.4444444444444444, \"#bd3786\"], [0.5555555555555556, \"#d8576b\"], [0.6666666666666666, \"#ed7953\"], [0.7777777777777778, \"#fb9f3a\"], [0.8888888888888888, \"#fdca26\"], [1.0, \"#f0f921\"]], \"type\": \"contour\"}], \"contourcarpet\": [{\"colorbar\": {\"outlinewidth\": 0, \"ticks\": \"\"}, \"type\": \"contourcarpet\"}], \"heatmap\": [{\"colorbar\": {\"outlinewidth\": 0, \"ticks\": \"\"}, \"colorscale\": [[0.0, \"#0d0887\"], [0.1111111111111111, \"#46039f\"], [0.2222222222222222, \"#7201a8\"], [0.3333333333333333, \"#9c179e\"], [0.4444444444444444, \"#bd3786\"], [0.5555555555555556, \"#d8576b\"], [0.6666666666666666, \"#ed7953\"], [0.7777777777777778, \"#fb9f3a\"], [0.8888888888888888, \"#fdca26\"], [1.0, \"#f0f921\"]], \"type\": \"heatmap\"}], \"heatmapgl\": [{\"colorbar\": {\"outlinewidth\": 0, \"ticks\": \"\"}, \"colorscale\": [[0.0, \"#0d0887\"], [0.1111111111111111, \"#46039f\"], [0.2222222222222222, \"#7201a8\"], [0.3333333333333333, \"#9c179e\"], [0.4444444444444444, \"#bd3786\"], [0.5555555555555556, \"#d8576b\"], [0.6666666666666666, \"#ed7953\"], [0.7777777777777778, \"#fb9f3a\"], [0.8888888888888888, \"#fdca26\"], [1.0, \"#f0f921\"]], \"type\": \"heatmapgl\"}], \"histogram\": [{\"marker\": {\"colorbar\": {\"outlinewidth\": 0, \"ticks\": \"\"}}, \"type\": \"histogram\"}], \"histogram2d\": [{\"colorbar\": {\"outlinewidth\": 0, \"ticks\": \"\"}, \"colorscale\": [[0.0, \"#0d0887\"], [0.1111111111111111, \"#46039f\"], [0.2222222222222222, \"#7201a8\"], [0.3333333333333333, \"#9c179e\"], [0.4444444444444444, \"#bd3786\"], [0.5555555555555556, \"#d8576b\"], [0.6666666666666666, \"#ed7953\"], [0.7777777777777778, \"#fb9f3a\"], [0.8888888888888888, \"#fdca26\"], [1.0, \"#f0f921\"]], \"type\": \"histogram2d\"}], \"histogram2dcontour\": [{\"colorbar\": {\"outlinewidth\": 0, \"ticks\": \"\"}, \"colorscale\": [[0.0, \"#0d0887\"], [0.1111111111111111, \"#46039f\"], [0.2222222222222222, \"#7201a8\"], [0.3333333333333333, \"#9c179e\"], [0.4444444444444444, \"#bd3786\"], [0.5555555555555556, \"#d8576b\"], [0.6666666666666666, \"#ed7953\"], [0.7777777777777778, \"#fb9f3a\"], [0.8888888888888888, \"#fdca26\"], [1.0, \"#f0f921\"]], \"type\": \"histogram2dcontour\"}], \"mesh3d\": [{\"colorbar\": {\"outlinewidth\": 0, \"ticks\": \"\"}, \"type\": \"mesh3d\"}], \"parcoords\": [{\"line\": {\"colorbar\": {\"outlinewidth\": 0, \"ticks\": \"\"}}, \"type\": \"parcoords\"}], \"pie\": [{\"automargin\": true, \"type\": \"pie\"}], \"scatter\": [{\"marker\": {\"colorbar\": {\"outlinewidth\": 0, \"ticks\": \"\"}}, \"type\": \"scatter\"}], \"scatter3d\": [{\"line\": {\"colorbar\": {\"outlinewidth\": 0, \"ticks\": \"\"}}, \"marker\": {\"colorbar\": {\"outlinewidth\": 0, \"ticks\": \"\"}}, \"type\": \"scatter3d\"}], \"scattercarpet\": [{\"marker\": {\"colorbar\": {\"outlinewidth\": 0, \"ticks\": \"\"}}, \"type\": \"scattercarpet\"}], \"scattergeo\": [{\"marker\": {\"colorbar\": {\"outlinewidth\": 0, \"ticks\": \"\"}}, \"type\": \"scattergeo\"}], \"scattergl\": [{\"marker\": {\"colorbar\": {\"outlinewidth\": 0, \"ticks\": \"\"}}, \"type\": \"scattergl\"}], \"scattermapbox\": [{\"marker\": {\"colorbar\": {\"outlinewidth\": 0, \"ticks\": \"\"}}, \"type\": \"scattermapbox\"}], \"scatterpolar\": [{\"marker\": {\"colorbar\": {\"outlinewidth\": 0, \"ticks\": \"\"}}, \"type\": \"scatterpolar\"}], \"scatterpolargl\": [{\"marker\": {\"colorbar\": {\"outlinewidth\": 0, \"ticks\": \"\"}}, \"type\": \"scatterpolargl\"}], \"scatterternary\": [{\"marker\": {\"colorbar\": {\"outlinewidth\": 0, \"ticks\": \"\"}}, \"type\": \"scatterternary\"}], \"surface\": [{\"colorbar\": {\"outlinewidth\": 0, \"ticks\": \"\"}, \"colorscale\": [[0.0, \"#0d0887\"], [0.1111111111111111, \"#46039f\"], [0.2222222222222222, \"#7201a8\"], [0.3333333333333333, \"#9c179e\"], [0.4444444444444444, \"#bd3786\"], [0.5555555555555556, \"#d8576b\"], [0.6666666666666666, \"#ed7953\"], [0.7777777777777778, \"#fb9f3a\"], [0.8888888888888888, \"#fdca26\"], [1.0, \"#f0f921\"]], \"type\": \"surface\"}], \"table\": [{\"cells\": {\"fill\": {\"color\": \"#EBF0F8\"}, \"line\": {\"color\": \"white\"}}, \"header\": {\"fill\": {\"color\": \"#C8D4E3\"}, \"line\": {\"color\": \"white\"}}, \"type\": \"table\"}]}, \"layout\": {\"annotationdefaults\": {\"arrowcolor\": \"#2a3f5f\", \"arrowhead\": 0, \"arrowwidth\": 1}, \"autotypenumbers\": \"strict\", \"coloraxis\": {\"colorbar\": {\"outlinewidth\": 0, \"ticks\": \"\"}}, \"colorscale\": {\"diverging\": [[0, \"#8e0152\"], [0.1, \"#c51b7d\"], [0.2, \"#de77ae\"], [0.3, \"#f1b6da\"], [0.4, \"#fde0ef\"], [0.5, \"#f7f7f7\"], [0.6, \"#e6f5d0\"], [0.7, \"#b8e186\"], [0.8, \"#7fbc41\"], [0.9, \"#4d9221\"], [1, \"#276419\"]], \"sequential\": [[0.0, \"#0d0887\"], [0.1111111111111111, \"#46039f\"], [0.2222222222222222, \"#7201a8\"], [0.3333333333333333, \"#9c179e\"], [0.4444444444444444, \"#bd3786\"], [0.5555555555555556, \"#d8576b\"], [0.6666666666666666, \"#ed7953\"], [0.7777777777777778, \"#fb9f3a\"], [0.8888888888888888, \"#fdca26\"], [1.0, \"#f0f921\"]], \"sequentialminus\": [[0.0, \"#0d0887\"], [0.1111111111111111, \"#46039f\"], [0.2222222222222222, \"#7201a8\"], [0.3333333333333333, \"#9c179e\"], [0.4444444444444444, \"#bd3786\"], [0.5555555555555556, \"#d8576b\"], [0.6666666666666666, \"#ed7953\"], [0.7777777777777778, \"#fb9f3a\"], [0.8888888888888888, \"#fdca26\"], [1.0, \"#f0f921\"]]}, \"colorway\": [\"#636efa\", \"#EF553B\", \"#00cc96\", \"#ab63fa\", \"#FFA15A\", \"#19d3f3\", \"#FF6692\", \"#B6E880\", \"#FF97FF\", \"#FECB52\"], \"font\": {\"color\": \"#2a3f5f\"}, \"geo\": {\"bgcolor\": \"white\", \"lakecolor\": \"white\", \"landcolor\": \"#E5ECF6\", \"showlakes\": true, \"showland\": true, \"subunitcolor\": \"white\"}, \"hoverlabel\": {\"align\": \"left\"}, \"hovermode\": \"closest\", \"mapbox\": {\"style\": \"light\"}, \"paper_bgcolor\": \"white\", \"plot_bgcolor\": \"#E5ECF6\", \"polar\": {\"angularaxis\": {\"gridcolor\": \"white\", \"linecolor\": \"white\", \"ticks\": \"\"}, \"bgcolor\": \"#E5ECF6\", \"radialaxis\": {\"gridcolor\": \"white\", \"linecolor\": \"white\", \"ticks\": \"\"}}, \"scene\": {\"xaxis\": {\"backgroundcolor\": \"#E5ECF6\", \"gridcolor\": \"white\", \"gridwidth\": 2, \"linecolor\": \"white\", \"showbackground\": true, \"ticks\": \"\", \"zerolinecolor\": \"white\"}, \"yaxis\": {\"backgroundcolor\": \"#E5ECF6\", \"gridcolor\": \"white\", \"gridwidth\": 2, \"linecolor\": \"white\", \"showbackground\": true, \"ticks\": \"\", \"zerolinecolor\": \"white\"}, \"zaxis\": {\"backgroundcolor\": \"#E5ECF6\", \"gridcolor\": \"white\", \"gridwidth\": 2, \"linecolor\": \"white\", \"showbackground\": true, \"ticks\": \"\", \"zerolinecolor\": \"white\"}}, \"shapedefaults\": {\"line\": {\"color\": \"#2a3f5f\"}}, \"ternary\": {\"aaxis\": {\"gridcolor\": \"white\", \"linecolor\": \"white\", \"ticks\": \"\"}, \"baxis\": {\"gridcolor\": \"white\", \"linecolor\": \"white\", \"ticks\": \"\"}, \"bgcolor\": \"#E5ECF6\", \"caxis\": {\"gridcolor\": \"white\", \"linecolor\": \"white\", \"ticks\": \"\"}}, \"title\": {\"x\": 0.05}, \"xaxis\": {\"automargin\": true, \"gridcolor\": \"white\", \"linecolor\": \"white\", \"ticks\": \"\", \"title\": {\"standoff\": 15}, \"zerolinecolor\": \"white\", \"zerolinewidth\": 2}, \"yaxis\": {\"automargin\": true, \"gridcolor\": \"white\", \"linecolor\": \"white\", \"ticks\": \"\", \"title\": {\"standoff\": 15}, \"zerolinecolor\": \"white\", \"zerolinewidth\": 2}}}, \"title\": {\"text\": \"Mobility vs. Zero Point Vibrational Energy \"}, \"width\": 1200, \"xaxis\": {\"gridwidth\": 2, \"title\": {\"text\": \"$Mobility \\\\: \\\\: [cm2/(V\\u22c5s)]$\"}, \"zeroline\": false}, \"yaxis\": {\"gridwidth\": 2, \"title\": {\"text\": \"$Zero Point Vibrational Energy\\\\: (ZPVE) [GPa]$\"}, \"zeroline\": false}},                        {\"responsive\": true}                    ).then(function(){\n",
       "                            \n",
       "var gd = document.getElementById('840e6052-9c9f-480a-8a88-3e76834574f2');\n",
       "var x = new MutationObserver(function (mutations, observer) {{\n",
       "        var display = window.getComputedStyle(gd).display;\n",
       "        if (!display || display === 'none') {{\n",
       "            console.log([gd, 'removed!']);\n",
       "            Plotly.purge(gd);\n",
       "            observer.disconnect();\n",
       "        }}\n",
       "}});\n",
       "\n",
       "// Listen for the removal of the full notebook cells\n",
       "var notebookContainer = gd.closest('#notebook-container');\n",
       "if (notebookContainer) {{\n",
       "    x.observe(notebookContainer, {childList: true});\n",
       "}}\n",
       "\n",
       "// Listen for the clearing of the current output cell\n",
       "var outputEl = gd.closest('.output');\n",
       "if (outputEl) {{\n",
       "    x.observe(outputEl, {childList: true});\n",
       "}}\n",
       "\n",
       "                        })                };                });            </script>        </div>"
      ]
     },
     "metadata": {},
     "output_type": "display_data"
    }
   ],
   "source": [
    "import plotly\n",
    "import plotly.graph_objs as go\n",
    "from plotly.offline import iplot\n",
    "\n",
    "plotly.offline.init_notebook_mode(connected=True)\n",
    "\n",
    "df = pd.DataFrame(dataset.head(10))\n",
    "\n",
    "layout_IPF_shear_modulus = go.Layout(title= \"Mobility vs. Zero Point Vibrational Energy \", hovermode= 'closest',\n",
    "                   font = dict(family='Times New Roman',size=18),\n",
    "                   xaxis= dict(title= '$Mobility \\: \\: [cm2/(V⋅s)]$',zeroline= False, gridwidth= 2),\n",
    "                   yaxis= dict(title= '$Zero Point Vibrational Energy\\: (ZPVE) [GPa]$',zeroline= False, gridwidth= 2),\n",
    "                   height = 600,\n",
    "                   width = 1200,\n",
    "     showlegend= False              \n",
    ")\n",
    "\n",
    "#Scatter plot of collected data. Use df_oxide_all dataframe. df_oxide_all.Density will pull density column. Could change Density or IPF to Molar Volume or simply volume if you wanted.\n",
    "trace_all_shear = go.Scatter(x = abs(df.homo), y = df.lumo, mode = 'markers', text = df,\n",
    "                            marker=dict(size=12, color=(df['gap']),\n",
    "                                colorbar = dict(title={ 'text': \"gap\", \n",
    "                                                     'font': {'family':'Georgia', 'size': 18}} , \n",
    "                                              tickfont={'family':'Georgia', 'size': 16 })))#, name = 'All Queries'))\n",
    "\n",
    "data_IPF_shear = [trace_all_shear]#,trace0,trace2]\n",
    "fig_IPF_shear = go.Figure(data_IPF_shear, layout=layout_IPF_shear_modulus)\n",
    "iplot(fig_IPF_shear)\n",
    "pio.write_image(fig_IPF, \"./fig_smiles_trace_3variable.png\", scale=2, width=600, height=350)\n",
    "#pio.write_image(fig_IPF, \"gdrive/MyDrive/Colab Notebooks/data/fig_smiles_trace_3variable.png\", scale=2, width=600, height=350)\n",
    "\n",
    "from IPython.display import Image\n",
    "Image(img_bytes)\n",
    "img_bytes = fig_IPF_shear.to_image(format=\"png\", width=600, height=350, scale=2)"
   ]
  },
  {
   "cell_type": "code",
   "execution_count": 87,
   "metadata": {
    "scrolled": true
   },
   "outputs": [
    {
     "data": {
      "text/html": [
       "        <script type=\"text/javascript\">\n",
       "        window.PlotlyConfig = {MathJaxConfig: 'local'};\n",
       "        if (window.MathJax) {MathJax.Hub.Config({SVG: {font: \"STIX-Web\"}});}\n",
       "        if (typeof require !== 'undefined') {\n",
       "        require.undef(\"plotly\");\n",
       "        requirejs.config({\n",
       "            paths: {\n",
       "                'plotly': ['https://cdn.plot.ly/plotly-latest.min']\n",
       "            }\n",
       "        });\n",
       "        require(['plotly'], function(Plotly) {\n",
       "            window._Plotly = Plotly;\n",
       "        });\n",
       "        }\n",
       "        </script>\n",
       "        "
      ]
     },
     "metadata": {},
     "output_type": "display_data"
    },
    {
     "ename": "AttributeError",
     "evalue": "'DataFrame' object has no attribute 'alpha'",
     "output_type": "error",
     "traceback": [
      "\u001b[0;31m---------------------------------------------------------------------------\u001b[0m",
      "\u001b[0;31mAttributeError\u001b[0m                            Traceback (most recent call last)",
      "\u001b[0;32m<ipython-input-87-c4d449820d6a>\u001b[0m in \u001b[0;36m<module>\u001b[0;34m\u001b[0m\n\u001b[1;32m     22\u001b[0m \u001b[0;34m\u001b[0m\u001b[0m\n\u001b[1;32m     23\u001b[0m \u001b[0mdf\u001b[0m \u001b[0;34m=\u001b[0m \u001b[0mpx\u001b[0m\u001b[0;34m.\u001b[0m\u001b[0mdata\u001b[0m\u001b[0;34m.\u001b[0m\u001b[0miris\u001b[0m\u001b[0;34m(\u001b[0m\u001b[0;34m)\u001b[0m\u001b[0;34m\u001b[0m\u001b[0;34m\u001b[0m\u001b[0m\n\u001b[0;32m---> 24\u001b[0;31m \u001b[0mtrace\u001b[0m \u001b[0;34m=\u001b[0m \u001b[0mgo\u001b[0m\u001b[0;34m.\u001b[0m\u001b[0mscatter\u001b[0m\u001b[0;34m(\u001b[0m\u001b[0mdf\u001b[0m\u001b[0;34m,\u001b[0m \u001b[0mx\u001b[0m\u001b[0;34m=\u001b[0m\u001b[0mdf\u001b[0m\u001b[0;34m.\u001b[0m\u001b[0malpha\u001b[0m\u001b[0;34m,\u001b[0m \u001b[0my\u001b[0m \u001b[0;34m=\u001b[0m\u001b[0mdf\u001b[0m\u001b[0;34m.\u001b[0m\u001b[0mmu\u001b[0m\u001b[0;34m,\u001b[0m \u001b[0mmode\u001b[0m \u001b[0;34m=\u001b[0m \u001b[0;34m'markers'\u001b[0m\u001b[0;34m)\u001b[0m\u001b[0;34m\u001b[0m\u001b[0;34m\u001b[0m\u001b[0m\n\u001b[0m\u001b[1;32m     25\u001b[0m \u001b[0;34m\u001b[0m\u001b[0m\n\u001b[1;32m     26\u001b[0m \u001b[0;31m# To plot, we create a figure and implement our components in the following way:\u001b[0m\u001b[0;34m\u001b[0m\u001b[0;34m\u001b[0m\u001b[0;34m\u001b[0m\u001b[0m\n",
      "\u001b[0;32m/apps/share64/debian10/anaconda/anaconda-7/lib/python3.8/site-packages/pandas/core/generic.py\u001b[0m in \u001b[0;36m__getattr__\u001b[0;34m(self, name)\u001b[0m\n\u001b[1;32m   5463\u001b[0m             \u001b[0;32mif\u001b[0m \u001b[0mself\u001b[0m\u001b[0;34m.\u001b[0m\u001b[0m_info_axis\u001b[0m\u001b[0;34m.\u001b[0m\u001b[0m_can_hold_identifiers_and_holds_name\u001b[0m\u001b[0;34m(\u001b[0m\u001b[0mname\u001b[0m\u001b[0;34m)\u001b[0m\u001b[0;34m:\u001b[0m\u001b[0;34m\u001b[0m\u001b[0;34m\u001b[0m\u001b[0m\n\u001b[1;32m   5464\u001b[0m                 \u001b[0;32mreturn\u001b[0m \u001b[0mself\u001b[0m\u001b[0;34m[\u001b[0m\u001b[0mname\u001b[0m\u001b[0;34m]\u001b[0m\u001b[0;34m\u001b[0m\u001b[0;34m\u001b[0m\u001b[0m\n\u001b[0;32m-> 5465\u001b[0;31m             \u001b[0;32mreturn\u001b[0m \u001b[0mobject\u001b[0m\u001b[0;34m.\u001b[0m\u001b[0m__getattribute__\u001b[0m\u001b[0;34m(\u001b[0m\u001b[0mself\u001b[0m\u001b[0;34m,\u001b[0m \u001b[0mname\u001b[0m\u001b[0;34m)\u001b[0m\u001b[0;34m\u001b[0m\u001b[0;34m\u001b[0m\u001b[0m\n\u001b[0m\u001b[1;32m   5466\u001b[0m \u001b[0;34m\u001b[0m\u001b[0m\n\u001b[1;32m   5467\u001b[0m     \u001b[0;32mdef\u001b[0m \u001b[0m__setattr__\u001b[0m\u001b[0;34m(\u001b[0m\u001b[0mself\u001b[0m\u001b[0;34m,\u001b[0m \u001b[0mname\u001b[0m\u001b[0;34m:\u001b[0m \u001b[0mstr\u001b[0m\u001b[0;34m,\u001b[0m \u001b[0mvalue\u001b[0m\u001b[0;34m)\u001b[0m \u001b[0;34m->\u001b[0m \u001b[0;32mNone\u001b[0m\u001b[0;34m:\u001b[0m\u001b[0;34m\u001b[0m\u001b[0;34m\u001b[0m\u001b[0m\n",
      "\u001b[0;31mAttributeError\u001b[0m: 'DataFrame' object has no attribute 'alpha'"
     ]
    }
   ],
   "source": [
    "import plotly.express as px\n",
    "import plotly #This is the library import\n",
    "import plotly.graph_objs as go # This is the graphical object (Think \"plt\" in Matplotlib if you have used that before)\n",
    "\n",
    "from plotly.offline import iplot # These lines are necessary to run Plotly in Jupyter Notebooks, but not in a dedicated environment\n",
    "plotly.offline.init_notebook_mode(connected=True)\n",
    "\n",
    "\n",
    "# To create a plot, you need a layout and a trace\n",
    "\n",
    "# The layout gives Plotly the instructions on the background grids, tiles in the plot, \n",
    "# axes names, axes ticks, legends, labels, colors on the figure and general formatting.\n",
    "\n",
    "\n",
    "\n",
    "layout = go.Layout(title = \"Mu vs Smile String\", xaxis= dict(title= 'smiles'), yaxis= dict(title= 'mu'))\n",
    "\n",
    "\n",
    "\n",
    "# The trace contains a type of plot (In this case, Scatter, but it can be \"Bars, Lines, Pie Charts\", etc.), \n",
    "# the data we want to visualize and the way (\"Mode\") we want to represent it.\n",
    "\n",
    "df = px.data.iris()\n",
    "trace = go.scatter(df, x=df.alpha, y =df.mu, mode = 'markers')\n",
    "\n",
    "# To plot, we create a figure and implement our components in the following way:\n",
    "\n",
    "data = [trace] # We could include more than just one trace here\n",
    "\n",
    "fig= go.Figure(data, layout=layout)\n",
    "iplot(fig)"
   ]
  },
  {
   "cell_type": "code",
   "execution_count": 62,
   "metadata": {
    "scrolled": true
   },
   "outputs": [
    {
     "data": {
      "image/png": "[encoded data removed]",
      "text/plain": [
       "<Figure size 432x288 with 1 Axes>"
      ]
     },
     "metadata": {
      "needs_background": "light"
     },
     "output_type": "display_data"
    }
   ],
   "source": [
    "#sns.distplot(dataset[\"measured log solubility in mols per litre\"])\n",
    "\n",
    "#ax = sns.displot(dataset[\"mu\"], rug=True, rug_kws={\"color\": \"g\"},kde_kws={\"color\": \"k\", \"lw\": 3, \"label\": \"KDE\"},hist_kws={\"histtype\": \"step\", \"linewidth\": 3,\"alpha\": 1, \"color\": \"r\"})\n",
    "#ax=plt.savefig('./fig_mu.png', dpi=600, facecolor='w', edgecolor='w',orientation='portrait', papertype=None, format=None,transparent=False, bbox_inches=None, frameon=None, metadata=None)\n",
    "#ax=plt.savefig('gdrive/MyDrive/Colab Notebooks/data/fig_mu.png', dpi=600, facecolor='w', edgecolor='w',orientation='portrait', papertype=None, format=None,transparent=False, bbox_inches=None, frameon=None, metadata=None)\n",
    "\n",
    "#ax = sns.displot(dataset[\"alpha\"], rug=True, rug_kws={\"color\": \"g\"},kde_kws={\"color\": \"k\", \"lw\": 3, \"label\": \"KDE\"},hist_kws={\"histtype\": \"step\", \"linewidth\": 3,\"alpha\": 1, \"color\": \"r\"})\n",
    "#ax=plt.savefig('./fig_alpha.png', dpi=600, facecolor='w', edgecolor='w',orientation='portrait', papertype=None, format=None,transparent=False, bbox_inches=None, frameon=None, metadata=None)\n",
    "#ax=plt.savefig('gdrive/MyDrive/Colab Notebooks/data/fig_alpha.png', dpi=600, facecolor='w', edgecolor='w',orientation='portrait', papertype=None, format=None,transparent=False, bbox_inches=None, frameon=None, metadata=None)\n",
    "\n",
    "#ax = sns.displot(dataset[\"homo\"], rug=True, rug_kws={\"color\": \"g\"},kde_kws={\"color\": \"k\", \"lw\": 3, \"label\": \"KDE\"},hist_kws={\"histtype\": \"step\", \"linewidth\": 3,\"alpha\": 1, \"color\": \"r\"})\n",
    "#ax=plt.savefig('./fig_homo.png', dpi=600, facecolor='w', edgecolor='w',orientation='portrait', papertype=None, format=None,transparent=False, bbox_inches=None, frameon=None, metadata=None)\n",
    "#ax=plt.savefig('gdrive/MyDrive/Colab Notebooks/data/fig_homo.png', dpi=600, facecolor='w', edgecolor='w',orientation='portrait', papertype=None, format=None,transparent=False, bbox_inches=None, frameon=None, metadata=None)\n",
    "\n",
    "#ax = sns.displot(dataset[\"lumo\"], rug=True, rug_kws={\"color\": \"g\"},kde_kws={\"color\": \"k\", \"lw\": 3, \"label\": \"KDE\"},hist_kws={\"histtype\": \"step\", \"linewidth\": 3,\"alpha\": 1, \"color\": \"r\"})\n",
    "#ax=plt.savefig('./fig_lumo.png', dpi=600, facecolor='w', edgecolor='w',orientation='portrait', papertype=None, format=None,transparent=False, bbox_inches=None, frameon=None, metadata=None)\n",
    "#ax=plt.savefig('gdrive/MyDrive/Colab Notebooks/data/fig_lumo.png', dpi=600, facecolor='w', edgecolor='w',orientation='portrait', papertype=None, format=None,transparent=False, bbox_inches=None, frameon=None, metadata=None)\n",
    "\n",
    "#ax = sns.displot(dataset[\"gap\"], rug=True, rug_kws={\"color\": \"g\"},kde_kws={\"color\": \"k\", \"lw\": 3, \"label\": \"KDE\"},hist_kws={\"histtype\": \"step\", \"linewidth\": 3,\"alpha\": 1, \"color\": \"r\"})\n",
    "#ax=plt.savefig('./fig_gap.png', dpi=600, facecolor='w', edgecolor='w',orientation='portrait', papertype=None, format=None,transparent=False, bbox_inches=None, frameon=None, metadata=None)\n",
    "#ax=plt.savefig('gdrive/MyDrive/Colab Notebooks/data/fig_gap.png', dpi=600, facecolor='w', edgecolor='w',orientation='portrait', papertype=None, format=None,transparent=False, bbox_inches=None, frameon=None, metadata=None)\n",
    "\n",
    "\n",
    "#ax = sns.displot(dataset[\"zpve\"], rug=True, rug_kws={\"color\": \"g\"},kde_kws={\"color\": \"k\", \"lw\": 3, \"label\": \"KDE\"},hist_kws={\"histtype\": \"step\", \"linewidth\": 3,\"alpha\": 1, \"color\": \"r\"})\n",
    "#ax=plt.savefig('./fig_zpve.png', dpi=600, facecolor='w', edgecolor='w',orientation='portrait', papertype=None, format=None,transparent=False, bbox_inches=None, frameon=None, metadata=None)\n",
    "#ax=plt.savefig('gdrive/MyDrive/Colab Notebooks/data/fig_zpve.png', dpi=600, facecolor='w', edgecolor='w',orientation='portrait', papertype=None, format=None,transparent=False, bbox_inches=None, frameon=None, metadata=None)\n",
    "\n",
    "ax = sns.distplot(dataset[\"r2\"], rug=True, rug_kws={\"color\": \"g\"},kde_kws={\"color\": \"k\", \"lw\": 3, \"label\": \"KDE\"},hist_kws={\"histtype\": \"step\", \"linewidth\": 3,\"alpha\": 1, \"color\": \"r\"})\n",
    "ax=plt.savefig('./fig_r2.png', dpi=600, facecolor='w', edgecolor='w',orientation='landscape', papertype='a4', format=None, transparent=False, bbox_inches=None, pad_inches=None, frameon=None, metadata=None)\n",
    "#ax=plt.savefig('gdrive/MyDrive/Colab Notebooks/data/fig_r2.png', dpi=600, facecolor='w', edgecolor='w',orientation='landscape', papertype='a4', format=None, transparent=False, bbox_inches=None, pad_inches=None, frameon=None, metadata=None)\n",
    "\n",
    "#ax = sns.displot(dataset[\"cv\"], rug=True, rug_kws={\"color\": \"g\"},kde_kws={\"color\": \"k\", \"lw\": 3, \"label\": \"KDE\"},hist_kws={\"histtype\": \"step\", \"linewidth\": 3,\"alpha\": 1, \"color\": \"r\"})\n",
    "#ax=plt.savefig('./fig_cv.png', dpi=600, facecolor='w', edgecolor='w',orientation='portrait', papertype=None, format=None,transparent=False, bbox_inches=None, frameon=None, metadata=None)\n",
    "#ax=plt.savefig('gdrive/MyDrive/Colab Notebooks/data/fig_cv.png', dpi=600, facecolor='w', edgecolor='w',orientation='portrait', papertype=None, format=None,transparent=False, bbox_inches=None, frameon=None, metadata=None)\n"
   ]
  },
  {
   "cell_type": "code",
   "execution_count": 140,
   "metadata": {},
   "outputs": [
    {
     "data": {
      "image/png": "[encoded data removed]",
      "text/plain": [
       "<Figure size 432x288 with 1 Axes>"
      ]
     },
     "metadata": {
      "needs_background": "light"
     },
     "output_type": "display_data"
    }
   ],
   "source": [
    "smiles_lengths = map(len, dataset.smiles.values)\n",
    "#sns.distplot(list(smiles_lengths), bins=20, kde=False)\n",
    "ax = sns.distplot(list(smiles_lengths), bins=20, kde=True, kde_kws={\"color\": \"k\", \"label\": \"KDE\"})\n",
    "ax=plt.savefig('./fig_smiles_lengths.png', dpi=600, facecolor='w', edgecolor='w',orientation='portrait', papertype=None, format=None,transparent=False, bbox_inches=None, pad_inches=0.1,frameon=None, metadata=None)\n",
    "#ax=plt.savefig('gdrive/MyDrive/Colab Notebooks/data/fig_smiles_lengths.png', dpi=600, facecolor='w', edgecolor='w',orientation='portrait', papertype=None, format=None,transparent=False, bbox_inches=None, pad_inches=0.1,frameon=None, metadata=None)\n",
    "# ax=plt.savefig('../data/fig_smiles_lengths.png', dpi=600, facecolor='w', edgecolor='w',orientation='portrait', papertype=None, format=None,transparent=False, bbox_inches=None, pad_inches=0.1,frameon=None, metadata=None)\n"
   ]
  },
  {
   "cell_type": "code",
   "execution_count": 63,
   "metadata": {},
   "outputs": [
    {
     "data": {
      "text/plain": [
       "<seaborn.axisgrid.FacetGrid at 0x7faa0dce5df0>"
      ]
     },
     "execution_count": 63,
     "metadata": {},
     "output_type": "execute_result"
    },
    {
     "data": {
      "image/png": "[encoded data removed]",
      "text/plain": [
       "<Figure size 360x360 with 1 Axes>"
      ]
     },
     "metadata": {
      "needs_background": "light"
     },
     "output_type": "display_data"
    }
   ],
   "source": [
    "smiles_lengths = map(len, dataset.smiles.values)\n",
    "#sns.distplot(list(smiles_lengths), bins=20, kde=False)\n",
    "sns.displot(list(smiles_lengths), bins=20, kde=False)"
   ]
  },
  {
   "cell_type": "markdown",
   "metadata": {},
   "source": []
  },
  {
   "cell_type": "code",
   "execution_count": 141,
   "metadata": {},
   "outputs": [],
   "source": [
    "from typing import List, Optional\n",
    "import numpy as np\n",
    "\n",
    "def generate_charset(full_char_list:list) -> list:\n",
    "    '''\n",
    "    Assumes full_char_list is a list of characters (e.g., ['c', 'c', '1']).\n",
    "    Returns a sorted list of unique characters, with index zero as a NULL character, and a PAD character.\n",
    "    '''\n",
    "    unique_chars = set(''.join(full_char_list))\n",
    "    charset = ['NULL', 'PAD'] + sorted(unique_chars)\n",
    "    return charset\n",
    "\n",
    "def smiles_to_onehots(smiles_strings:list,\n",
    "                     unique_charset:list,\n",
    "                     max_smiles_chars:int) -> np.array:\n",
    "    one_hots = []\n",
    "    charset_length = len(unique_charset)\n",
    "\n",
    "    for smiles_string in smiles_strings:\n",
    "        one_hot_smiles = np.zeros(shape=(max_smiles_chars, charset_length))\n",
    "        for i in range(max_smiles_chars):\n",
    "            one_hot_col = [0]*charset_length\n",
    "            ind = None # Which index will we flip to be \"one-hot\"?\n",
    "            \n",
    "            if i < len(smiles_string):\n",
    "                try:\n",
    "                    ind = unique_charset.index(smiles_string[i])\n",
    "                    # one_hot_col[unique_charset.index(char)] = 1\n",
    "                except ValueError:\n",
    "                    ind = 0 # Treat as NULL if out-of-vocab  \n",
    "                    # one_hot_col[0] = 1 # Treat as NULL if out-of-vocab   \n",
    "            else:\n",
    "                ind = 1 # Add PAD as needed\n",
    "            \n",
    "            one_hot_col[ind] = 1\n",
    "            one_hot_smiles[i,:] = one_hot_col\n",
    "            \n",
    "        one_hots.append(one_hot_smiles)\n",
    "    return np.array(one_hots)"
   ]
  },
  {
   "cell_type": "code",
   "execution_count": 142,
   "metadata": {},
   "outputs": [],
   "source": [
    "charset = generate_charset(\n",
    "    dataset[\"smiles\"].values.ravel()\n",
    ")\n",
    "# get the number of unique characters\n",
    "charset_length = len(charset)\n",
    "# define max number of SMILES for model input vector\n",
    "max_smiles_chars = 40\n",
    "# dimension of input vector\n",
    "input_dim = charset_length * max_smiles_chars\n",
    "# get one-hot representation of the SMILES strings \n",
    "one_hots = smiles_to_onehots(dataset[\"smiles\"].values, charset, max_smiles_chars)\n",
    "# split input into train and test sets\n",
    "X_train = one_hots[:-100]\n",
    "X_test = one_hots[-100:]\n",
    "# split output to train and test sets\n",
    "output = dataset[\"lumo\"].values\n",
    "#output = dataset[\"homo\"].values\n",
    "#output = dataset[\"cv\"].values\n",
    "#output = dataset[\"r2\"].values\n",
    "# \"alpha\" - Isotropic polarizability (unit: Bohr^3)\n",
    "# \"gap\" - Gap between HOMO and LUMO (unit: Hartree)\n",
    "#\"mol_id\" - Molecule ID (gdb9 index) mapping to the .sdf file\n",
    "#\"A\" - Rotational constant (unit: GHz)\n",
    "#\"B\" - Rotational constant (unit: GHz)\n",
    "#\"C\" - Rotational constant (unit: GHz)\n",
    "#\"mu\" - Dipole moment (unit: D)\n",
    "#\"alpha\" - Isotropic polarizability (unit: Bohr^3)\n",
    "#\"homo\" - Highest occupied molecular orbital energy (unit: Hartree)\n",
    "#\"lumo\" - Lowest unoccupied molecular orbital energy (unit: Hartree)\n",
    "#\"gap\" - Gap between HOMO and LUMO (unit: Hartree)\n",
    "#\"r2\" - Electronic spatial extent (unit: Bohr^2)\n",
    "#\"zpve\" - Zero point vibrational energy (unit: Hartree)\n",
    "#\"u0\" - Internal energy at 0K (unit: Hartree)\n",
    "#\"u298\" - Internal energy at 298.15K (unit: Hartree)\n",
    "#\"h298\" - Enthalpy at 298.15K (unit: Hartree)\n",
    "#\"g298\" - Free energy at 298.15K (unit: Hartree)\n",
    "#\"cv\" - Heat capavity at 298.15K (unit: cal/(mol*K))\n",
    "#\"u0_atom\" - Atomization energy at 0K (unit: kcal/mol)\n",
    "#\"u298_atom\" - Atomization energy at 298.15K (unit: kcal/mol)\n",
    "#\"h298_atom\" - Atomization enthalpy at 298.15K (unit: kcal/mol)\n",
    "Y_train = output[:-100]\n",
    "Y_test = output[-100:]"
   ]
  },
  {
   "cell_type": "markdown",
   "metadata": {},
   "source": []
  },
  {
   "cell_type": "code",
   "execution_count": 144,
   "metadata": {},
   "outputs": [
    {
     "name": "stdout",
     "output_type": "stream",
     "text": [
      "CC1NC11COCC1C\n"
     ]
    },
    {
     "data": {
      "image/png": "[encoded data removed]",
      "text/plain": [
       "<Figure size 432x288 with 2 Axes>"
      ]
     },
     "metadata": {
      "needs_background": "light"
     },
     "output_type": "display_data"
    }
   ],
   "source": [
    "index = 6986\n",
    "sns.heatmap(X_train[index]) # This is a single training example -- note that it is a matrix, not a single vector!\n",
    "plt.xlabel('Character')\n",
    "plt.ylabel('Position in SMILES String')\n",
    "print(dataset.iloc[index]['smiles'])\n",
    "#ax=plt.savefig('gdrive/MyDrive/Colab Notebooks/data/fig_smiles_character.png', dpi=600, facecolor='w', edgecolor='w',orientation='portrait', papertype=None, format=None,transparent=False, bbox_inches=None, pad_inches=0.1,frameon=None, metadata=None)\n",
    "ax=plt.savefig('./fig_smiles_character.png', dpi=600, facecolor='w', edgecolor='w',orientation='portrait', papertype=None, format=None,transparent=False, bbox_inches=None, pad_inches=0.1,frameon=None, metadata=None)\n"
   ]
  },
  {
   "cell_type": "markdown",
   "metadata": {},
   "source": [
    "# <ins>Supervised CNN model for predicting mobility</ins>\n",
    "\n",
    "In this section, we will set up a convolutional neural network to predict mobility using one-hot SMILES as input. A convolutional neural network is a machine learning model that is commonly used to classify images."
   ]
  },
  {
   "cell_type": "markdown",
   "metadata": {},
   "source": [
    "### Define model structure"
   ]
  },
  {
   "cell_type": "markdown",
   "metadata": {},
   "source": [
    "First, we will create the model structure, starting with the input layer. As described above, each training example is a 40x31 matrix, which is the shape we pass to the Input layer in Keras."
   ]
  },
  {
   "cell_type": "code",
   "execution_count": 145,
   "metadata": {},
   "outputs": [],
   "source": [
    "# Define the input layer\n",
    "# NOTE: We feed in a sequence here! We're inputting up to max_smiles_chars characters, \n",
    "# and each character is an array of length charset_length\n",
    "smiles_input = Input(shape=(max_smiles_chars, charset_length), name=\"SMILES-Input\")"
   ]
  },
  {
   "cell_type": "markdown",
   "metadata": {},
   "source": [
    "Next we will define the convolution layers where each layer attempts to learn certain features of the images, such as edges and corners. The input to each layer (a matrix) is transformed via convolution operations, which are element by element multiplications of the input matrix and a filter matrix. The convolutional layer learns the filter matrix that will best identify unique features of the image. You can learn more about convolution operations and the math behind convolutional neural networks [here](https://towardsdatascience.com/gentle-dive-into-math-behind-convolutional-neural-networks-79a07dd44cf9)."
   ]
  },
  {
   "cell_type": "code",
   "execution_count": 146,
   "metadata": {},
   "outputs": [],
   "source": [
    "# Set parameters for convolutional layers \n",
    "num_conv_filters = 16\n",
    "kernel_size = 3\n",
    "\n",
    "init_weights = initializers.glorot_normal(seed=0)\n",
    "\n",
    "# Define the convolutional layers\n",
    "# Multiple convolutions in a row is a common architecture (but there are many \"right\" choices here)\n",
    "conv_1_func = Conv1D(\n",
    "    filters=num_conv_filters, # What is the \"depth\" of the convolution? How many times do you look at the same spot?\n",
    "    kernel_size=kernel_size, # How \"wide\" of a spot does each filter look at?\n",
    "    name=\"Convolution-1\",\n",
    "    activation=\"relu\", # This is a common activation function: Rectified Linear Unit (ReLU)\n",
    "    kernel_initializer=init_weights #This defines the initial values for the weights\n",
    ")\n",
    "conv_2_func = Conv1D(\n",
    "    filters=num_conv_filters, \n",
    "    kernel_size=kernel_size, \n",
    "    name=\"Convolution-2\",\n",
    "    activation=\"relu\",\n",
    "    kernel_initializer=init_weights\n",
    ")\n",
    "conv_3_func = Conv1D(\n",
    "    filters=num_conv_filters, \n",
    "    kernel_size=kernel_size, \n",
    "    name=\"Convolution-3\",\n",
    "    activation=\"relu\",\n",
    "    kernel_initializer=init_weights\n",
    ")\n",
    "conv_4_func = Conv1D(\n",
    "    filters=num_conv_filters, \n",
    "    kernel_size=kernel_size,\n",
    "    name=\"Convolution-4\",\n",
    "    activation=\"relu\",\n",
    "    kernel_initializer=init_weights\n",
    ")"
   ]
  },
  {
   "cell_type": "markdown",
   "metadata": {},
   "source": [
    "The four convolution layers defined above will attempt to learn features of the SMILES string (represented as a 40x31 matrix) that are relevant to predicting the mobility. To get a numerical prediction, we now flatten the output of the convolution and pass it to a set of regular `Dense` layers, the last layer predicting one value for the mobility."
   ]
  },
  {
   "cell_type": "code",
   "execution_count": 147,
   "metadata": {},
   "outputs": [],
   "source": [
    "# Define layer to flatten convolutions\n",
    "flatten_func = Flatten(name=\"Flattened-Convolutions\")\n",
    "\n",
    "# Define the activation function layer\n",
    "hidden_size = 32\n",
    "dense_1_func = Dense(hidden_size, activation=\"relu\", name=\"Fully-Connected\", kernel_initializer=init_weights)\n",
    "\n",
    "# Define output layer -- it's only one dimension since it is regression\n",
    "output_size = 1\n",
    "output_mobility_func = Dense(output_size, activation=\"linear\", name=\"Log-lumo\", kernel_initializer=init_weights)"
   ]
  },
  {
   "cell_type": "markdown",
   "metadata": {},
   "source": [
    "Now that we have defined all the layers, we will connect them together to make a graph:"
   ]
  },
  {
   "cell_type": "code",
   "execution_count": 148,
   "metadata": {},
   "outputs": [],
   "source": [
    "# connect the CNN graph together\n",
    "conv_1_fwd = conv_1_func(smiles_input)\n",
    "conv_2_fwd = conv_2_func(conv_1_fwd)\n",
    "conv_3_fwd = conv_3_func(conv_2_fwd)\n",
    "conv_4_fwd = conv_4_func(conv_3_fwd)\n",
    "flattened_convs = flatten_func(conv_4_fwd)\n",
    "dense_1_fwd = dense_1_func(flattened_convs)\n",
    "output_mobility_fwd = output_mobility_func(flattened_convs)"
   ]
  },
  {
   "cell_type": "markdown",
   "metadata": {},
   "source": [
    "### View model structure and metadata"
   ]
  },
  {
   "cell_type": "markdown",
   "metadata": {},
   "source": [
    "Now the model is ready to train! But first we will define the model as `mobility_model` and compile it, then view some information on the model using the [keras2ascii](https://github.com/stared/keras-sequential-ascii) tool, which visually represents the layers in our model."
   ]
  },
  {
   "cell_type": "code",
   "execution_count": 149,
   "metadata": {},
   "outputs": [],
   "source": [
    "# create model\n",
    "mobility_model = Model(\n",
    "            inputs=[smiles_input],\n",
    "            outputs=[output_mobility_fwd]\n",
    ")\n",
    "\n",
    "# compile model\n",
    "mobility_model.compile(\n",
    "    optimizer=\"adam\",\n",
    "    loss=\"mse\",\n",
    "    metrics=[\"mae\"]\n",
    ")"
   ]
  },
  {
   "cell_type": "code",
   "execution_count": 101,
   "metadata": {
    "scrolled": false
   },
   "outputs": [
    {
     "name": "stdout",
     "output_type": "stream",
     "text": [
      "           OPERATION           DATA DIMENSIONS   WEIGHTS(N)   WEIGHTS(%)\n",
      "\n"
     ]
    },
    {
     "ename": "IndexError",
     "evalue": "list index out of range",
     "output_type": "error",
     "traceback": [
      "\u001b[0;31m---------------------------------------------------------------------------\u001b[0m",
      "\u001b[0;31mIndexError\u001b[0m                                Traceback (most recent call last)",
      "\u001b[0;32m<ipython-input-101-48eb43312084>\u001b[0m in \u001b[0;36m<module>\u001b[0;34m\u001b[0m\n\u001b[1;32m      2\u001b[0m \u001b[0;32mfrom\u001b[0m \u001b[0mkeras_sequential_ascii\u001b[0m \u001b[0;32mimport\u001b[0m \u001b[0mkeras2ascii\u001b[0m\u001b[0;34m\u001b[0m\u001b[0;34m\u001b[0m\u001b[0m\n\u001b[1;32m      3\u001b[0m \u001b[0;31m# view model as a graph\u001b[0m\u001b[0;34m\u001b[0m\u001b[0;34m\u001b[0m\u001b[0;34m\u001b[0m\u001b[0m\n\u001b[0;32m----> 4\u001b[0;31m \u001b[0mkeras2ascii\u001b[0m\u001b[0;34m(\u001b[0m\u001b[0mmobility_model\u001b[0m\u001b[0;34m)\u001b[0m\u001b[0;34m\u001b[0m\u001b[0;34m\u001b[0m\u001b[0m\n\u001b[0m",
      "\u001b[0;32m~/.local/lib/python3.8/site-packages/keras_sequential_ascii/main.py\u001b[0m in \u001b[0;36msequential_model_to_ascii_printout\u001b[0;34m(model, sparser, simplify, header)\u001b[0m\n\u001b[1;32m    123\u001b[0m \u001b[0;34m\u001b[0m\u001b[0m\n\u001b[1;32m    124\u001b[0m \u001b[0;32mdef\u001b[0m \u001b[0msequential_model_to_ascii_printout\u001b[0m\u001b[0;34m(\u001b[0m\u001b[0mmodel\u001b[0m\u001b[0;34m,\u001b[0m \u001b[0msparser\u001b[0m\u001b[0;34m=\u001b[0m\u001b[0;32mFalse\u001b[0m\u001b[0;34m,\u001b[0m \u001b[0msimplify\u001b[0m\u001b[0;34m=\u001b[0m\u001b[0;32mTrue\u001b[0m\u001b[0;34m,\u001b[0m \u001b[0mheader\u001b[0m\u001b[0;34m=\u001b[0m\u001b[0;32mTrue\u001b[0m\u001b[0;34m)\u001b[0m\u001b[0;34m:\u001b[0m\u001b[0;34m\u001b[0m\u001b[0;34m\u001b[0m\u001b[0m\n\u001b[0;32m--> 125\u001b[0;31m     \u001b[0mprint_layers\u001b[0m\u001b[0;34m(\u001b[0m\u001b[0mjsonize\u001b[0m\u001b[0;34m(\u001b[0m\u001b[0mmodel\u001b[0m\u001b[0;34m)\u001b[0m\u001b[0;34m,\u001b[0m \u001b[0msparser\u001b[0m\u001b[0;34m=\u001b[0m\u001b[0msparser\u001b[0m\u001b[0;34m,\u001b[0m \u001b[0msimplify\u001b[0m\u001b[0;34m=\u001b[0m\u001b[0msimplify\u001b[0m\u001b[0;34m,\u001b[0m \u001b[0mheader\u001b[0m\u001b[0;34m=\u001b[0m\u001b[0mheader\u001b[0m\u001b[0;34m)\u001b[0m\u001b[0;34m\u001b[0m\u001b[0;34m\u001b[0m\u001b[0m\n\u001b[0m",
      "\u001b[0;32m~/.local/lib/python3.8/site-packages/keras_sequential_ascii/main.py\u001b[0m in \u001b[0;36mprint_layers\u001b[0;34m(jsonized_layers, sparser, simplify, header)\u001b[0m\n\u001b[1;32m     97\u001b[0m     print(data_template.format(\n\u001b[1;32m     98\u001b[0m             \u001b[0mactivation\u001b[0m\u001b[0;34m=\u001b[0m\u001b[0;34m\"Input\"\u001b[0m\u001b[0;34m,\u001b[0m\u001b[0;34m\u001b[0m\u001b[0;34m\u001b[0m\u001b[0m\n\u001b[0;32m---> 99\u001b[0;31m             \u001b[0mshape\u001b[0m\u001b[0;34m=\u001b[0m\u001b[0mprint_dim_tuple\u001b[0m\u001b[0;34m(\u001b[0m\u001b[0mjsonized_layers\u001b[0m\u001b[0;34m[\u001b[0m\u001b[0;36m0\u001b[0m\u001b[0;34m]\u001b[0m\u001b[0;34m[\u001b[0m\u001b[0;34m\"input_shape\"\u001b[0m\u001b[0;34m]\u001b[0m\u001b[0;34m)\u001b[0m\u001b[0;34m,\u001b[0m\u001b[0;34m\u001b[0m\u001b[0;34m\u001b[0m\u001b[0m\n\u001b[0m\u001b[1;32m    100\u001b[0m             \u001b[0;31m# length=product(jsonized_layers[0][\"output_shape\"])\u001b[0m\u001b[0;34m\u001b[0m\u001b[0;34m\u001b[0m\u001b[0;34m\u001b[0m\u001b[0m\n\u001b[1;32m    101\u001b[0m     ))\n",
      "\u001b[0;32m~/.local/lib/python3.8/site-packages/keras_sequential_ascii/main.py\u001b[0m in \u001b[0;36mprint_dim_tuple\u001b[0;34m(t)\u001b[0m\n\u001b[1;32m     83\u001b[0m         \u001b[0;32mreturn\u001b[0m \u001b[0;34m\" \"\u001b[0m\u001b[0;34m.\u001b[0m\u001b[0mjoin\u001b[0m\u001b[0;34m(\u001b[0m\u001b[0;34m[\u001b[0m\u001b[0;34m\"{:4d}\"\u001b[0m\u001b[0;34m.\u001b[0m\u001b[0mformat\u001b[0m\u001b[0;34m(\u001b[0m\u001b[0mx\u001b[0m\u001b[0;34m)\u001b[0m \u001b[0;32mfor\u001b[0m \u001b[0mx\u001b[0m \u001b[0;32min\u001b[0m \u001b[0mt\u001b[0m\u001b[0;34m]\u001b[0m\u001b[0;34m)\u001b[0m\u001b[0;34m\u001b[0m\u001b[0;34m\u001b[0m\u001b[0m\n\u001b[1;32m     84\u001b[0m     \u001b[0;32melse\u001b[0m\u001b[0;34m:\u001b[0m\u001b[0;34m\u001b[0m\u001b[0;34m\u001b[0m\u001b[0m\n\u001b[0;32m---> 85\u001b[0;31m         \u001b[0;32mreturn\u001b[0m  \u001b[0;34m\"{:9d}\"\u001b[0m\u001b[0;34m.\u001b[0m\u001b[0mformat\u001b[0m\u001b[0;34m(\u001b[0m\u001b[0mt\u001b[0m\u001b[0;34m[\u001b[0m\u001b[0;36m0\u001b[0m\u001b[0;34m]\u001b[0m\u001b[0;34m)\u001b[0m\u001b[0;34m\u001b[0m\u001b[0;34m\u001b[0m\u001b[0m\n\u001b[0m\u001b[1;32m     86\u001b[0m \u001b[0;34m\u001b[0m\u001b[0m\n\u001b[1;32m     87\u001b[0m \u001b[0;32mdef\u001b[0m \u001b[0mprint_layers\u001b[0m\u001b[0;34m(\u001b[0m\u001b[0mjsonized_layers\u001b[0m\u001b[0;34m,\u001b[0m \u001b[0msparser\u001b[0m\u001b[0;34m=\u001b[0m\u001b[0;32mFalse\u001b[0m\u001b[0;34m,\u001b[0m \u001b[0msimplify\u001b[0m\u001b[0;34m=\u001b[0m\u001b[0;32mFalse\u001b[0m\u001b[0;34m,\u001b[0m \u001b[0mheader\u001b[0m\u001b[0;34m=\u001b[0m\u001b[0;32mTrue\u001b[0m\u001b[0;34m)\u001b[0m\u001b[0;34m:\u001b[0m\u001b[0;34m\u001b[0m\u001b[0;34m\u001b[0m\u001b[0m\n",
      "\u001b[0;31mIndexError\u001b[0m: list index out of range"
     ]
    }
   ],
   "source": [
    "#!pip install keras_sequential_ascii\n",
    "from keras_sequential_ascii import keras2ascii\n",
    "# view model as a graph\n",
    "keras2ascii(mobility_model)"
   ]
  },
  {
   "cell_type": "markdown",
   "metadata": {},
   "source": [
    "### Train CNN\n",
    "\n",
    "Now we will train our CNN mobility model to the training data! During training, we will see metrics printed after each epoch such as test/train loss (both as Mean Squared Error (MSE) and Mean Absolute Error (MAE))."
   ]
  },
  {
   "cell_type": "code",
   "execution_count": 150,
   "metadata": {
    "scrolled": true
   },
   "outputs": [
    {
     "name": "stdout",
     "output_type": "stream",
     "text": [
      "Epoch 1/20\n",
      "   2/2091 [..............................] - ETA: 7:44 - loss: 0.0061 - mae: 0.0651WARNING:tensorflow:Method (on_train_batch_end) is slow compared to the batch update (0.197721). Check your callbacks.\n",
      "2091/2091 [==============================] - 22s 10ms/step - loss: 4.5108e-04 - mae: 0.0156 - val_loss: 3.6247e-04 - val_mae: 0.0140\n",
      "Epoch 2/20\n",
      "2091/2091 [==============================] - 19s 9ms/step - loss: 2.3593e-04 - mae: 0.0117 - val_loss: 2.8877e-04 - val_mae: 0.0126\n",
      "Epoch 3/20\n",
      "2091/2091 [==============================] - 18s 9ms/step - loss: 2.0722e-04 - mae: 0.0109 - val_loss: 2.3677e-04 - val_mae: 0.0112\n",
      "Epoch 4/20\n",
      "2091/2091 [==============================] - 19s 9ms/step - loss: 1.9053e-04 - mae: 0.0104 - val_loss: 2.6028e-04 - val_mae: 0.0117\n",
      "Epoch 5/20\n",
      "2091/2091 [==============================] - 19s 9ms/step - loss: 1.8057e-04 - mae: 0.0101 - val_loss: 2.3664e-04 - val_mae: 0.0111\n",
      "Epoch 6/20\n",
      "2091/2091 [==============================] - 19s 9ms/step - loss: 1.7356e-04 - mae: 0.0099 - val_loss: 2.3335e-04 - val_mae: 0.0116\n",
      "Epoch 7/20\n",
      "2091/2091 [==============================] - 19s 9ms/step - loss: 1.6913e-04 - mae: 0.0098 - val_loss: 2.2834e-04 - val_mae: 0.0112\n",
      "Epoch 8/20\n",
      "2091/2091 [==============================] - 19s 9ms/step - loss: 1.6396e-04 - mae: 0.0096 - val_loss: 2.1248e-04 - val_mae: 0.0106\n",
      "Epoch 9/20\n",
      "2091/2091 [==============================] - 19s 9ms/step - loss: 1.6046e-04 - mae: 0.0095 - val_loss: 2.2601e-04 - val_mae: 0.0109\n",
      "Epoch 10/20\n",
      "2091/2091 [==============================] - 19s 9ms/step - loss: 1.5856e-04 - mae: 0.0094 - val_loss: 2.2590e-04 - val_mae: 0.0114\n",
      "Epoch 11/20\n",
      "2091/2091 [==============================] - 20s 9ms/step - loss: 1.5524e-04 - mae: 0.0093 - val_loss: 2.1387e-04 - val_mae: 0.0105\n",
      "Epoch 12/20\n",
      "2091/2091 [==============================] - 19s 9ms/step - loss: 1.5301e-04 - mae: 0.0092 - val_loss: 2.4209e-04 - val_mae: 0.0113\n",
      "Epoch 13/20\n",
      "2091/2091 [==============================] - 19s 9ms/step - loss: 1.5095e-04 - mae: 0.0092 - val_loss: 2.1257e-04 - val_mae: 0.0107\n",
      "Epoch 14/20\n",
      "2091/2091 [==============================] - 20s 9ms/step - loss: 1.5078e-04 - mae: 0.0092 - val_loss: 2.0458e-04 - val_mae: 0.0108\n",
      "Epoch 15/20\n",
      "2091/2091 [==============================] - 19s 9ms/step - loss: 1.4901e-04 - mae: 0.0091 - val_loss: 2.0948e-04 - val_mae: 0.0107\n",
      "Epoch 16/20\n",
      "2091/2091 [==============================] - 21s 10ms/step - loss: 1.4785e-04 - mae: 0.0091 - val_loss: 1.9188e-04 - val_mae: 0.0102\n",
      "Epoch 17/20\n",
      "2091/2091 [==============================] - 21s 10ms/step - loss: 1.4533e-04 - mae: 0.0090 - val_loss: 2.0084e-04 - val_mae: 0.0099\n",
      "Epoch 18/20\n",
      "2091/2091 [==============================] - 19s 9ms/step - loss: 1.4389e-04 - mae: 0.0090 - val_loss: 2.2852e-04 - val_mae: 0.0113\n",
      "Epoch 19/20\n",
      "2091/2091 [==============================] - 21s 10ms/step - loss: 1.4408e-04 - mae: 0.0090 - val_loss: 2.2683e-04 - val_mae: 0.0107\n",
      "Epoch 20/20\n",
      "2091/2091 [==============================] - 20s 10ms/step - loss: 1.4502e-04 - mae: 0.0090 - val_loss: 2.2235e-04 - val_mae: 0.0104\n"
     ]
    }
   ],
   "source": [
    "logdir=\"mobility_logs/fit/\" + datetime.now().strftime(\"%Y%m%d-%H%M%S\")\n",
    "tensorboard_callback = keras.callbacks.TensorBoard(log_dir=logdir)\n",
    "\n",
    "history = mobility_model.fit(\n",
    "    X_train, # Inputs\n",
    "    Y_train, # Outputs\n",
    "    epochs=20, # How many times to pass over the data\n",
    "    batch_size=64, # How many data rows to compute at once\n",
    "    verbose=1,\n",
    "    validation_data=(X_test, Y_test),\n",
    "    callbacks=[tensorboard_callback] # You would usually use more splits of the data if you plan to tune hyperparams\n",
    ")"
   ]
  },
  {
   "cell_type": "code",
   "execution_count": 39,
   "metadata": {},
   "outputs": [
    {
     "data": {
      "text/plain": [
       "Reusing TensorBoard on port 6006 (pid 23152), started 0:02:34 ago. (Use '!kill 23152' to kill it.)"
      ]
     },
     "metadata": {},
     "output_type": "display_data"
    },
    {
     "data": {
      "text/html": [
       "\n",
       "      <iframe id=\"tensorboard-frame-8d1fe87b28fcf304\" width=\"100%\" height=\"800\" frameborder=\"0\">\n",
       "      </iframe>\n",
       "      <script>\n",
       "        (function() {\n",
       "          const frame = document.getElementById(\"tensorboard-frame-8d1fe87b28fcf304\");\n",
       "          const url = new URL(\"/\", window.location);\n",
       "          const port = 6006;\n",
       "          if (port) {\n",
       "            url.port = port;\n",
       "          }\n",
       "          frame.src = url;\n",
       "        })();\n",
       "      </script>\n",
       "    "
      ],
      "text/plain": [
       "<IPython.core.display.HTML object>"
      ]
     },
     "metadata": {},
     "output_type": "display_data"
    }
   ],
   "source": [
    "%tensorboard --logdir logs"
   ]
  },
  {
   "cell_type": "code",
   "execution_count": 41,
   "metadata": {},
   "outputs": [
    {
     "ename": "IndentationError",
     "evalue": "unexpected indent (<ipython-input-41-5c0f901ef1f8>, line 2)",
     "output_type": "error",
     "traceback": [
      "\u001b[0;36m  File \u001b[0;32m\"<ipython-input-41-5c0f901ef1f8>\"\u001b[0;36m, line \u001b[0;32m2\u001b[0m\n\u001b[0;31m    --logdir logs \\\u001b[0m\n\u001b[0m    ^\u001b[0m\n\u001b[0;31mIndentationError\u001b[0m\u001b[0;31m:\u001b[0m unexpected indent\n"
     ]
    }
   ],
   "source": [
    "!tensorboard dev upload \\ \n",
    "  --logdir logs \\\n",
    "  --name \"Sample op-level graph\" \\\n",
    "  --one_shot "
   ]
  },
  {
   "cell_type": "markdown",
   "metadata": {},
   "source": [
    "Let's view the learning curve for the trained model.\n",
    "\n",
    "This code will generate a plot where we show the test and train errors (MSE) as a function of epoch (one pass of all training examples through the NN).\n",
    "\n",
    "The learning curve will tell us if the model is overfitting or underfitting."
   ]
  },
  {
   "cell_type": "code",
   "execution_count": 43,
   "metadata": {},
   "outputs": [
    {
     "data": {
      "image/png": "[encoded data removed]",
      "text/plain": [
       "<Figure size 864x576 with 2 Axes>"
      ]
     },
     "metadata": {
      "needs_background": "light"
     },
     "output_type": "display_data"
    },
    {
     "name": "stdout",
     "output_type": "stream",
     "text": [
      "Loss\n",
      "\ttraining         \t (min:    0.857, max:    0.875, cur:    0.857)\n",
      "\tvalidation       \t (min:    1.654, max:    2.286, cur:    1.849)\n",
      "mae\n",
      "\ttraining         \t (min:    0.676, max:    0.682, cur:    0.676)\n",
      "\tvalidation       \t (min:    0.750, max:    0.855, cur:    0.812)\n"
     ]
    },
    {
     "data": {
      "text/plain": [
       "<tensorflow.python.keras.callbacks.History at 0x7faaa820b1f0>"
      ]
     },
     "execution_count": 43,
     "metadata": {},
     "output_type": "execute_result"
    }
   ],
   "source": [
    "!pip install livelossplot --quiet\n",
    "from livelossplot import PlotLossesKeras\n",
    "#from livelossplot import PlotLossesKeras, PlotPlossesKerasTF\n",
    "from livelossplot.inputs.keras import PlotLossesCallback\n",
    "from livelossplot.inputs.tf_keras import PlotLossesCallback\n",
    "\n",
    "plotlosses = PlotLossesKeras()\n",
    "mobility_model.fit(X_train, Y_train,\n",
    "          epochs=10,\n",
    "          validation_data=(X_test, Y_test),\n",
    "          callbacks=[plotlosses],\n",
    "          verbose=False)"
   ]
  },
  {
   "cell_type": "code",
   "execution_count": 104,
   "metadata": {},
   "outputs": [
    {
     "data": {
      "image/png": "[encoded data removed]",
      "text/plain": [
       "<Figure size 432x288 with 1 Axes>"
      ]
     },
     "metadata": {
      "needs_background": "light"
     },
     "output_type": "display_data"
    }
   ],
   "source": [
    "# plot the learning curve \n",
    "plt.plot(history.history['loss'])\n",
    "plt.plot(history.history['val_loss'])\n",
    "plt.title('Model accuracy')\n",
    "plt.ylabel('Error')\n",
    "plt.xlabel('Epoch')\n",
    "plt.xlim(0,)\n",
    "plt.legend(['Train', 'Validation',], loc='upper left')\n",
    "plt.show()"
   ]
  },
  {
   "cell_type": "markdown",
   "metadata": {},
   "source": [
    "### Use CNN to make mobility predictions\n",
    "Now that we've trained our model, we can use it to make mobility predictions for any SMILES string! We just have to convert the SMILES string to 1-hot representation, then feed it to the `mobility_model` "
   ]
  },
  {
   "cell_type": "code",
   "execution_count": 105,
   "metadata": {},
   "outputs": [
    {
     "name": "stdout",
     "output_type": "stream",
     "text": [
      "The predicted log mobility for SMILES CCCC is -0.2519909739494324\n",
      "The predicted log mobility for SMILES CCCCCCCCCCCCCCCCCCCCCC is -0.2761673927307129\n",
      "The predicted log mobility for SMILES CCO is -0.24877578020095825\n"
     ]
    }
   ],
   "source": [
    "example_smiles = [\n",
    "    'CCCC',\n",
    "    'CCCCCCCCCCCCCCCCCCCCCC',\n",
    "    'CCO'\n",
    "]\n",
    "\n",
    "for smiles in example_smiles:\n",
    "    predict_test_input = smiles_to_onehots([smiles], charset, max_smiles_chars)\n",
    "    mobility_prediction = mobility_model.predict(predict_test_input)[0][0]\n",
    "    print(f'The predicted log mobility for SMILES {smiles} is {mobility_prediction}')"
   ]
  },
  {
   "cell_type": "markdown",
   "metadata": {},
   "source": [
    "We can now make a parity plot comparing the CNN model predictions to the ground truth data"
   ]
  },
  {
   "cell_type": "code",
   "execution_count": 106,
   "metadata": {},
   "outputs": [
    {
     "data": {
      "text/plain": [
       "<matplotlib.legend.Legend at 0x7fabf18a04f0>"
      ]
     },
     "execution_count": 106,
     "metadata": {},
     "output_type": "execute_result"
    },
    {
     "data": {
      "image/png": "[encoded data removed]",
      "text/plain": [
       "<Figure size 432x288 with 1 Axes>"
      ]
     },
     "metadata": {
      "needs_background": "light"
     },
     "output_type": "display_data"
    }
   ],
   "source": [
    "preds = mobility_model.predict(X_train)\n",
    "x_y_line = np.linspace(min(Y_train.flatten()), max(Y_train.flatten()), 500)\n",
    "plt.plot(Y_train.flatten(), preds.flatten(), 'o', label='predictions')\n",
    "plt.plot(x_y_line, x_y_line, label='y=x')\n",
    "plt.xlabel(\"Log mobility (ground truth)\")\n",
    "plt.ylabel(\"Log mobility (predicted)\")\n",
    "plt.title(\"Parity plot: predictions vs ground truth data\")\n",
    "plt.legend()"
   ]
  },
  {
   "cell_type": "markdown",
   "metadata": {},
   "source": [
    "### Save model\n",
    "We can save/load this model for future use, using the `save()` and `load_model()` functions from Keras."
   ]
  },
  {
   "cell_type": "code",
   "execution_count": 107,
   "metadata": {},
   "outputs": [],
   "source": [
    "# Save the model\n",
    "mobility_model.save(\"mobility_model.hdf5\")\n",
    "\n",
    "# Load it back\n",
    "loaded_model = load_model(\"mobility_model.hdf5\")"
   ]
  },
  {
   "cell_type": "markdown",
   "metadata": {},
   "source": [
    "# <ins>VAE model for generating SMILES strings</ins>\n",
    "In this section, we will set up a variational autoencoder to encode and decode SMILES strings. An autoencoder is a model that encodes the input to the model into a set of variables (known as encoded or 'latent variables'), which are then decoded to recover the original input. A variational autoencoder is an advanced version of an autoencoder where the encoded/latent variables are learnt as probability distributions rather than discrete values. You can learn more about autoencoders and variational autoencoders [here](https://www.jeremyjordan.me/variational-autoencoders/) and [here](https://www.jeremyjordan.me/autoencoders/)."
   ]
  },
  {
   "cell_type": "markdown",
   "metadata": {},
   "source": [
    "### Define model structure"
   ]
  },
  {
   "cell_type": "markdown",
   "metadata": {},
   "source": [
    "We'll need to define some new layers for this model, but we can also reuse old ones! (You will see this when we connect the model together.)"
   ]
  },
  {
   "cell_type": "code",
   "execution_count": 113,
   "metadata": {},
   "outputs": [],
   "source": [
    "def my_mse_loss_b(b):\n",
    "     def mseb(Y_train, X_train):\n",
    "         ...\n",
    "         a = np.ones_like(y_true) #numpy array here is not recommended\n",
    "         return K.mean(K.square(y_pred - y_true)) + a\n",
    "     return mseb"
   ]
  },
  {
   "cell_type": "code",
   "execution_count": 127,
   "metadata": {},
   "outputs": [],
   "source": [
    "# hidden activation layer\n",
    "hidden_size = 16\n",
    "dense_1_func = Dense(hidden_size, activation=\"relu\", name=\"Fully-Connected-Latent\", kernel_initializer=init_weights)"
   ]
  },
  {
   "cell_type": "markdown",
   "metadata": {},
   "source": [
    "Now we'll define the layers to map to the latent space. We then define a sampling function that samples from a gaussian distribution to return the sampled latent variables."
   ]
  },
  {
   "cell_type": "code",
   "execution_count": 128,
   "metadata": {},
   "outputs": [],
   "source": [
    "# VAE sampling\n",
    "def sampling(args):\n",
    "    z_mean, z_log_var = args\n",
    "    batch = K.shape(z_mean)[0]\n",
    "    dim = K.int_shape(z_mean)[1]\n",
    "    epsilon = K.random_normal((batch, dim), mean=0.0, stddev=1.0)\n",
    "    return z_mean + K.exp(0.5 * z_log_var) * epsilon # mu + sigma*epsilon yields a shifted, rescaled gaussian, \n",
    "                                                     # if epsilon is the standard gaussian\n",
    "\n",
    "# encode to latent space\n",
    "latent_dim = 32 \n",
    "z_mean_func = Dense(latent_dim, name='z_mean')\n",
    "log_z_func = Dense(latent_dim, name='z_log_var')\n",
    "z_func = Lambda(sampling, name='z_sample')"
   ]
  },
  {
   "cell_type": "markdown",
   "metadata": {},
   "source": [
    "Now we'll define the RNN (Recurrent Neural Network) layers for decoding SMILES from latent space values. Recurrent neural networks are known to perform well for learning a time series of data, where each cell of the recurrent network can learn from the previous cells, thus learning time dependencies in the data. This RNN uses Gated Recurrent Units as cells and you can learn more about recurrent neural networks and Gated Recurrent Units [here](https://towardsdatascience.com/understanding-gru-networks-2ef37df6c9be)."
   ]
  },
  {
   "cell_type": "code",
   "execution_count": 129,
   "metadata": {},
   "outputs": [],
   "source": [
    "# this repeat vector just repeats the input `max_smiles_chars` times \n",
    "# so that we get a value for each character of the SMILES string\n",
    "repeat_1_func = RepeatVector(max_smiles_chars, name=\"Repeat-Latent-1\")\n",
    "\n",
    "# RNN decoder\n",
    "rnn_size = 32\n",
    "gru_1_func = GRU(rnn_size, name=\"RNN-decoder-1\", return_sequences=True, kernel_initializer=init_weights)\n",
    "gru_2_func = GRU(rnn_size, name=\"RNN-decoder-2\", return_sequences=True, kernel_initializer=init_weights)\n",
    "gru_3_func = GRU(rnn_size, name=\"RNN-decoder-3\", return_sequences=True, kernel_initializer=init_weights)"
   ]
  },
  {
   "cell_type": "markdown",
   "metadata": {},
   "source": [
    "Finally we'll define the output, which should map to the original SMILES input:"
   ]
  },
  {
   "cell_type": "code",
   "execution_count": 130,
   "metadata": {},
   "outputs": [],
   "source": [
    "output_func = TimeDistributed(\n",
    "    Dense(charset_length, activation=\"softmax\", name=\"SMILES-Output\", kernel_initializer=init_weights), \n",
    "    name=\"Time-Distributed\"\n",
    ")"
   ]
  },
  {
   "cell_type": "markdown",
   "metadata": {},
   "source": [
    "Now that we have defined all the layers, we will connect them together to make a graph:"
   ]
  },
  {
   "cell_type": "code",
   "execution_count": 131,
   "metadata": {},
   "outputs": [
    {
     "ename": "NotImplementedError",
     "evalue": "Cannot convert a symbolic Tensor (RNN-decoder-1_2/strided_slice:0) to a numpy array.",
     "output_type": "error",
     "traceback": [
      "\u001b[0;31m---------------------------------------------------------------------------\u001b[0m",
      "\u001b[0;31mNotImplementedError\u001b[0m                       Traceback (most recent call last)",
      "\u001b[0;32m<ipython-input-131-8cb8f635aecf>\u001b[0m in \u001b[0;36m<module>\u001b[0;34m\u001b[0m\n\u001b[1;32m     18\u001b[0m \u001b[0;31m# rnn decoder layers\u001b[0m\u001b[0;34m\u001b[0m\u001b[0;34m\u001b[0m\u001b[0;34m\u001b[0m\u001b[0m\n\u001b[1;32m     19\u001b[0m \u001b[0mrepeat_1_fwd\u001b[0m \u001b[0;34m=\u001b[0m \u001b[0mrepeat_1_func\u001b[0m\u001b[0;34m(\u001b[0m\u001b[0mz\u001b[0m\u001b[0;34m)\u001b[0m\u001b[0;34m\u001b[0m\u001b[0;34m\u001b[0m\u001b[0m\n\u001b[0;32m---> 20\u001b[0;31m \u001b[0mgru_1_fwd\u001b[0m \u001b[0;34m=\u001b[0m \u001b[0mgru_1_func\u001b[0m\u001b[0;34m(\u001b[0m\u001b[0mrepeat_1_fwd\u001b[0m\u001b[0;34m)\u001b[0m\u001b[0;34m\u001b[0m\u001b[0;34m\u001b[0m\u001b[0m\n\u001b[0m\u001b[1;32m     21\u001b[0m \u001b[0mgru_2_fwd\u001b[0m \u001b[0;34m=\u001b[0m \u001b[0mgru_2_func\u001b[0m\u001b[0;34m(\u001b[0m\u001b[0mgru_1_fwd\u001b[0m\u001b[0;34m)\u001b[0m\u001b[0;34m\u001b[0m\u001b[0;34m\u001b[0m\u001b[0m\n\u001b[1;32m     22\u001b[0m \u001b[0mgru_3_fwd\u001b[0m \u001b[0;34m=\u001b[0m \u001b[0mgru_3_func\u001b[0m\u001b[0;34m(\u001b[0m\u001b[0mgru_2_fwd\u001b[0m\u001b[0;34m)\u001b[0m\u001b[0;34m\u001b[0m\u001b[0;34m\u001b[0m\u001b[0m\n",
      "\u001b[0;32m/apps/share64/debian10/anaconda/anaconda-7/lib/python3.8/site-packages/tensorflow/python/keras/layers/recurrent.py\u001b[0m in \u001b[0;36m__call__\u001b[0;34m(self, inputs, initial_state, constants, **kwargs)\u001b[0m\n\u001b[1;32m    652\u001b[0m \u001b[0;34m\u001b[0m\u001b[0m\n\u001b[1;32m    653\u001b[0m     \u001b[0;32mif\u001b[0m \u001b[0minitial_state\u001b[0m \u001b[0;32mis\u001b[0m \u001b[0;32mNone\u001b[0m \u001b[0;32mand\u001b[0m \u001b[0mconstants\u001b[0m \u001b[0;32mis\u001b[0m \u001b[0;32mNone\u001b[0m\u001b[0;34m:\u001b[0m\u001b[0;34m\u001b[0m\u001b[0;34m\u001b[0m\u001b[0m\n\u001b[0;32m--> 654\u001b[0;31m       \u001b[0;32mreturn\u001b[0m \u001b[0msuper\u001b[0m\u001b[0;34m(\u001b[0m\u001b[0mRNN\u001b[0m\u001b[0;34m,\u001b[0m \u001b[0mself\u001b[0m\u001b[0;34m)\u001b[0m\u001b[0;34m.\u001b[0m\u001b[0m__call__\u001b[0m\u001b[0;34m(\u001b[0m\u001b[0minputs\u001b[0m\u001b[0;34m,\u001b[0m \u001b[0;34m**\u001b[0m\u001b[0mkwargs\u001b[0m\u001b[0;34m)\u001b[0m\u001b[0;34m\u001b[0m\u001b[0;34m\u001b[0m\u001b[0m\n\u001b[0m\u001b[1;32m    655\u001b[0m \u001b[0;34m\u001b[0m\u001b[0m\n\u001b[1;32m    656\u001b[0m     \u001b[0;31m# If any of `initial_state` or `constants` are specified and are Keras\u001b[0m\u001b[0;34m\u001b[0m\u001b[0;34m\u001b[0m\u001b[0;34m\u001b[0m\u001b[0m\n",
      "\u001b[0;32m/apps/share64/debian10/anaconda/anaconda-7/lib/python3.8/site-packages/tensorflow/python/keras/engine/base_layer.py\u001b[0m in \u001b[0;36m__call__\u001b[0;34m(self, *args, **kwargs)\u001b[0m\n\u001b[1;32m    920\u001b[0m                     not base_layer_utils.is_in_eager_or_tf_function()):\n\u001b[1;32m    921\u001b[0m                   \u001b[0;32mwith\u001b[0m \u001b[0mauto_control_deps\u001b[0m\u001b[0;34m.\u001b[0m\u001b[0mAutomaticControlDependencies\u001b[0m\u001b[0;34m(\u001b[0m\u001b[0;34m)\u001b[0m \u001b[0;32mas\u001b[0m \u001b[0macd\u001b[0m\u001b[0;34m:\u001b[0m\u001b[0;34m\u001b[0m\u001b[0;34m\u001b[0m\u001b[0m\n\u001b[0;32m--> 922\u001b[0;31m                     \u001b[0moutputs\u001b[0m \u001b[0;34m=\u001b[0m \u001b[0mcall_fn\u001b[0m\u001b[0;34m(\u001b[0m\u001b[0mcast_inputs\u001b[0m\u001b[0;34m,\u001b[0m \u001b[0;34m*\u001b[0m\u001b[0margs\u001b[0m\u001b[0;34m,\u001b[0m \u001b[0;34m**\u001b[0m\u001b[0mkwargs\u001b[0m\u001b[0;34m)\u001b[0m\u001b[0;34m\u001b[0m\u001b[0;34m\u001b[0m\u001b[0m\n\u001b[0m\u001b[1;32m    923\u001b[0m                     \u001b[0;31m# Wrap Tensors in `outputs` in `tf.identity` to avoid\u001b[0m\u001b[0;34m\u001b[0m\u001b[0;34m\u001b[0m\u001b[0;34m\u001b[0m\u001b[0m\n\u001b[1;32m    924\u001b[0m                     \u001b[0;31m# circular dependencies.\u001b[0m\u001b[0;34m\u001b[0m\u001b[0;34m\u001b[0m\u001b[0;34m\u001b[0m\u001b[0m\n",
      "\u001b[0;32m/apps/share64/debian10/anaconda/anaconda-7/lib/python3.8/site-packages/tensorflow/python/keras/layers/recurrent_v2.py\u001b[0m in \u001b[0;36mcall\u001b[0;34m(self, inputs, mask, training, initial_state)\u001b[0m\n\u001b[1;32m    406\u001b[0m \u001b[0;34m\u001b[0m\u001b[0m\n\u001b[1;32m    407\u001b[0m     \u001b[0;31m# GRU does not support constants. Ignore it during process.\u001b[0m\u001b[0;34m\u001b[0m\u001b[0;34m\u001b[0m\u001b[0;34m\u001b[0m\u001b[0m\n\u001b[0;32m--> 408\u001b[0;31m     \u001b[0minputs\u001b[0m\u001b[0;34m,\u001b[0m \u001b[0minitial_state\u001b[0m\u001b[0;34m,\u001b[0m \u001b[0m_\u001b[0m \u001b[0;34m=\u001b[0m \u001b[0mself\u001b[0m\u001b[0;34m.\u001b[0m\u001b[0m_process_inputs\u001b[0m\u001b[0;34m(\u001b[0m\u001b[0minputs\u001b[0m\u001b[0;34m,\u001b[0m \u001b[0minitial_state\u001b[0m\u001b[0;34m,\u001b[0m \u001b[0;32mNone\u001b[0m\u001b[0;34m)\u001b[0m\u001b[0;34m\u001b[0m\u001b[0;34m\u001b[0m\u001b[0m\n\u001b[0m\u001b[1;32m    409\u001b[0m \u001b[0;34m\u001b[0m\u001b[0m\n\u001b[1;32m    410\u001b[0m     \u001b[0;32mif\u001b[0m \u001b[0misinstance\u001b[0m\u001b[0;34m(\u001b[0m\u001b[0mmask\u001b[0m\u001b[0;34m,\u001b[0m \u001b[0mlist\u001b[0m\u001b[0;34m)\u001b[0m\u001b[0;34m:\u001b[0m\u001b[0;34m\u001b[0m\u001b[0;34m\u001b[0m\u001b[0m\n",
      "\u001b[0;32m/apps/share64/debian10/anaconda/anaconda-7/lib/python3.8/site-packages/tensorflow/python/keras/layers/recurrent.py\u001b[0m in \u001b[0;36m_process_inputs\u001b[0;34m(self, inputs, initial_state, constants)\u001b[0m\n\u001b[1;32m    846\u001b[0m         \u001b[0minitial_state\u001b[0m \u001b[0;34m=\u001b[0m \u001b[0mself\u001b[0m\u001b[0;34m.\u001b[0m\u001b[0mstates\u001b[0m\u001b[0;34m\u001b[0m\u001b[0;34m\u001b[0m\u001b[0m\n\u001b[1;32m    847\u001b[0m     \u001b[0;32melif\u001b[0m \u001b[0minitial_state\u001b[0m \u001b[0;32mis\u001b[0m \u001b[0;32mNone\u001b[0m\u001b[0;34m:\u001b[0m\u001b[0;34m\u001b[0m\u001b[0;34m\u001b[0m\u001b[0m\n\u001b[0;32m--> 848\u001b[0;31m       \u001b[0minitial_state\u001b[0m \u001b[0;34m=\u001b[0m \u001b[0mself\u001b[0m\u001b[0;34m.\u001b[0m\u001b[0mget_initial_state\u001b[0m\u001b[0;34m(\u001b[0m\u001b[0minputs\u001b[0m\u001b[0;34m)\u001b[0m\u001b[0;34m\u001b[0m\u001b[0;34m\u001b[0m\u001b[0m\n\u001b[0m\u001b[1;32m    849\u001b[0m \u001b[0;34m\u001b[0m\u001b[0m\n\u001b[1;32m    850\u001b[0m     \u001b[0;32mif\u001b[0m \u001b[0mlen\u001b[0m\u001b[0;34m(\u001b[0m\u001b[0minitial_state\u001b[0m\u001b[0;34m)\u001b[0m \u001b[0;34m!=\u001b[0m \u001b[0mlen\u001b[0m\u001b[0;34m(\u001b[0m\u001b[0mself\u001b[0m\u001b[0;34m.\u001b[0m\u001b[0mstates\u001b[0m\u001b[0;34m)\u001b[0m\u001b[0;34m:\u001b[0m\u001b[0;34m\u001b[0m\u001b[0;34m\u001b[0m\u001b[0m\n",
      "\u001b[0;32m/apps/share64/debian10/anaconda/anaconda-7/lib/python3.8/site-packages/tensorflow/python/keras/layers/recurrent.py\u001b[0m in \u001b[0;36mget_initial_state\u001b[0;34m(self, inputs)\u001b[0m\n\u001b[1;32m    634\u001b[0m     \u001b[0mdtype\u001b[0m \u001b[0;34m=\u001b[0m \u001b[0minputs\u001b[0m\u001b[0;34m.\u001b[0m\u001b[0mdtype\u001b[0m\u001b[0;34m\u001b[0m\u001b[0;34m\u001b[0m\u001b[0m\n\u001b[1;32m    635\u001b[0m     \u001b[0;32mif\u001b[0m \u001b[0mget_initial_state_fn\u001b[0m\u001b[0;34m:\u001b[0m\u001b[0;34m\u001b[0m\u001b[0;34m\u001b[0m\u001b[0m\n\u001b[0;32m--> 636\u001b[0;31m       init_state = get_initial_state_fn(\n\u001b[0m\u001b[1;32m    637\u001b[0m           inputs=None, batch_size=batch_size, dtype=dtype)\n\u001b[1;32m    638\u001b[0m     \u001b[0;32melse\u001b[0m\u001b[0;34m:\u001b[0m\u001b[0;34m\u001b[0m\u001b[0;34m\u001b[0m\u001b[0m\n",
      "\u001b[0;32m/apps/share64/debian10/anaconda/anaconda-7/lib/python3.8/site-packages/tensorflow/python/keras/layers/recurrent.py\u001b[0m in \u001b[0;36mget_initial_state\u001b[0;34m(self, inputs, batch_size, dtype)\u001b[0m\n\u001b[1;32m   1908\u001b[0m \u001b[0;34m\u001b[0m\u001b[0m\n\u001b[1;32m   1909\u001b[0m   \u001b[0;32mdef\u001b[0m \u001b[0mget_initial_state\u001b[0m\u001b[0;34m(\u001b[0m\u001b[0mself\u001b[0m\u001b[0;34m,\u001b[0m \u001b[0minputs\u001b[0m\u001b[0;34m=\u001b[0m\u001b[0;32mNone\u001b[0m\u001b[0;34m,\u001b[0m \u001b[0mbatch_size\u001b[0m\u001b[0;34m=\u001b[0m\u001b[0;32mNone\u001b[0m\u001b[0;34m,\u001b[0m \u001b[0mdtype\u001b[0m\u001b[0;34m=\u001b[0m\u001b[0;32mNone\u001b[0m\u001b[0;34m)\u001b[0m\u001b[0;34m:\u001b[0m\u001b[0;34m\u001b[0m\u001b[0;34m\u001b[0m\u001b[0m\n\u001b[0;32m-> 1910\u001b[0;31m     \u001b[0;32mreturn\u001b[0m \u001b[0m_generate_zero_filled_state_for_cell\u001b[0m\u001b[0;34m(\u001b[0m\u001b[0mself\u001b[0m\u001b[0;34m,\u001b[0m \u001b[0minputs\u001b[0m\u001b[0;34m,\u001b[0m \u001b[0mbatch_size\u001b[0m\u001b[0;34m,\u001b[0m \u001b[0mdtype\u001b[0m\u001b[0;34m)\u001b[0m\u001b[0;34m\u001b[0m\u001b[0;34m\u001b[0m\u001b[0m\n\u001b[0m\u001b[1;32m   1911\u001b[0m \u001b[0;34m\u001b[0m\u001b[0m\n\u001b[1;32m   1912\u001b[0m \u001b[0;34m\u001b[0m\u001b[0m\n",
      "\u001b[0;32m/apps/share64/debian10/anaconda/anaconda-7/lib/python3.8/site-packages/tensorflow/python/keras/layers/recurrent.py\u001b[0m in \u001b[0;36m_generate_zero_filled_state_for_cell\u001b[0;34m(cell, inputs, batch_size, dtype)\u001b[0m\n\u001b[1;32m   2924\u001b[0m     \u001b[0mbatch_size\u001b[0m \u001b[0;34m=\u001b[0m \u001b[0marray_ops\u001b[0m\u001b[0;34m.\u001b[0m\u001b[0mshape\u001b[0m\u001b[0;34m(\u001b[0m\u001b[0minputs\u001b[0m\u001b[0;34m)\u001b[0m\u001b[0;34m[\u001b[0m\u001b[0;36m0\u001b[0m\u001b[0;34m]\u001b[0m\u001b[0;34m\u001b[0m\u001b[0;34m\u001b[0m\u001b[0m\n\u001b[1;32m   2925\u001b[0m     \u001b[0mdtype\u001b[0m \u001b[0;34m=\u001b[0m \u001b[0minputs\u001b[0m\u001b[0;34m.\u001b[0m\u001b[0mdtype\u001b[0m\u001b[0;34m\u001b[0m\u001b[0;34m\u001b[0m\u001b[0m\n\u001b[0;32m-> 2926\u001b[0;31m   \u001b[0;32mreturn\u001b[0m \u001b[0m_generate_zero_filled_state\u001b[0m\u001b[0;34m(\u001b[0m\u001b[0mbatch_size\u001b[0m\u001b[0;34m,\u001b[0m \u001b[0mcell\u001b[0m\u001b[0;34m.\u001b[0m\u001b[0mstate_size\u001b[0m\u001b[0;34m,\u001b[0m \u001b[0mdtype\u001b[0m\u001b[0;34m)\u001b[0m\u001b[0;34m\u001b[0m\u001b[0;34m\u001b[0m\u001b[0m\n\u001b[0m\u001b[1;32m   2927\u001b[0m \u001b[0;34m\u001b[0m\u001b[0m\n\u001b[1;32m   2928\u001b[0m \u001b[0;34m\u001b[0m\u001b[0m\n",
      "\u001b[0;32m/apps/share64/debian10/anaconda/anaconda-7/lib/python3.8/site-packages/tensorflow/python/keras/layers/recurrent.py\u001b[0m in \u001b[0;36m_generate_zero_filled_state\u001b[0;34m(batch_size_tensor, state_size, dtype)\u001b[0m\n\u001b[1;32m   2942\u001b[0m     \u001b[0;32mreturn\u001b[0m \u001b[0mnest\u001b[0m\u001b[0;34m.\u001b[0m\u001b[0mmap_structure\u001b[0m\u001b[0;34m(\u001b[0m\u001b[0mcreate_zeros\u001b[0m\u001b[0;34m,\u001b[0m \u001b[0mstate_size\u001b[0m\u001b[0;34m)\u001b[0m\u001b[0;34m\u001b[0m\u001b[0;34m\u001b[0m\u001b[0m\n\u001b[1;32m   2943\u001b[0m   \u001b[0;32melse\u001b[0m\u001b[0;34m:\u001b[0m\u001b[0;34m\u001b[0m\u001b[0;34m\u001b[0m\u001b[0m\n\u001b[0;32m-> 2944\u001b[0;31m     \u001b[0;32mreturn\u001b[0m \u001b[0mcreate_zeros\u001b[0m\u001b[0;34m(\u001b[0m\u001b[0mstate_size\u001b[0m\u001b[0;34m)\u001b[0m\u001b[0;34m\u001b[0m\u001b[0;34m\u001b[0m\u001b[0m\n\u001b[0m\u001b[1;32m   2945\u001b[0m \u001b[0;34m\u001b[0m\u001b[0m\n\u001b[1;32m   2946\u001b[0m \u001b[0;34m\u001b[0m\u001b[0m\n",
      "\u001b[0;32m/apps/share64/debian10/anaconda/anaconda-7/lib/python3.8/site-packages/tensorflow/python/keras/layers/recurrent.py\u001b[0m in \u001b[0;36mcreate_zeros\u001b[0;34m(unnested_state_size)\u001b[0m\n\u001b[1;32m   2937\u001b[0m     \u001b[0mflat_dims\u001b[0m \u001b[0;34m=\u001b[0m \u001b[0mtensor_shape\u001b[0m\u001b[0;34m.\u001b[0m\u001b[0mas_shape\u001b[0m\u001b[0;34m(\u001b[0m\u001b[0munnested_state_size\u001b[0m\u001b[0;34m)\u001b[0m\u001b[0;34m.\u001b[0m\u001b[0mas_list\u001b[0m\u001b[0;34m(\u001b[0m\u001b[0;34m)\u001b[0m\u001b[0;34m\u001b[0m\u001b[0;34m\u001b[0m\u001b[0m\n\u001b[1;32m   2938\u001b[0m     \u001b[0minit_state_size\u001b[0m \u001b[0;34m=\u001b[0m \u001b[0;34m[\u001b[0m\u001b[0mbatch_size_tensor\u001b[0m\u001b[0;34m]\u001b[0m \u001b[0;34m+\u001b[0m \u001b[0mflat_dims\u001b[0m\u001b[0;34m\u001b[0m\u001b[0;34m\u001b[0m\u001b[0m\n\u001b[0;32m-> 2939\u001b[0;31m     \u001b[0;32mreturn\u001b[0m \u001b[0marray_ops\u001b[0m\u001b[0;34m.\u001b[0m\u001b[0mzeros\u001b[0m\u001b[0;34m(\u001b[0m\u001b[0minit_state_size\u001b[0m\u001b[0;34m,\u001b[0m \u001b[0mdtype\u001b[0m\u001b[0;34m=\u001b[0m\u001b[0mdtype\u001b[0m\u001b[0;34m)\u001b[0m\u001b[0;34m\u001b[0m\u001b[0;34m\u001b[0m\u001b[0m\n\u001b[0m\u001b[1;32m   2940\u001b[0m \u001b[0;34m\u001b[0m\u001b[0m\n\u001b[1;32m   2941\u001b[0m   \u001b[0;32mif\u001b[0m \u001b[0mnest\u001b[0m\u001b[0;34m.\u001b[0m\u001b[0mis_sequence\u001b[0m\u001b[0;34m(\u001b[0m\u001b[0mstate_size\u001b[0m\u001b[0;34m)\u001b[0m\u001b[0;34m:\u001b[0m\u001b[0;34m\u001b[0m\u001b[0;34m\u001b[0m\u001b[0m\n",
      "\u001b[0;32m/apps/share64/debian10/anaconda/anaconda-7/lib/python3.8/site-packages/tensorflow/python/ops/array_ops.py\u001b[0m in \u001b[0;36mwrapped\u001b[0;34m(*args, **kwargs)\u001b[0m\n\u001b[1;32m   2675\u001b[0m \u001b[0;34m\u001b[0m\u001b[0m\n\u001b[1;32m   2676\u001b[0m   \u001b[0;32mdef\u001b[0m \u001b[0mwrapped\u001b[0m\u001b[0;34m(\u001b[0m\u001b[0;34m*\u001b[0m\u001b[0margs\u001b[0m\u001b[0;34m,\u001b[0m \u001b[0;34m**\u001b[0m\u001b[0mkwargs\u001b[0m\u001b[0;34m)\u001b[0m\u001b[0;34m:\u001b[0m\u001b[0;34m\u001b[0m\u001b[0;34m\u001b[0m\u001b[0m\n\u001b[0;32m-> 2677\u001b[0;31m     \u001b[0mtensor\u001b[0m \u001b[0;34m=\u001b[0m \u001b[0mfun\u001b[0m\u001b[0;34m(\u001b[0m\u001b[0;34m*\u001b[0m\u001b[0margs\u001b[0m\u001b[0;34m,\u001b[0m \u001b[0;34m**\u001b[0m\u001b[0mkwargs\u001b[0m\u001b[0;34m)\u001b[0m\u001b[0;34m\u001b[0m\u001b[0;34m\u001b[0m\u001b[0m\n\u001b[0m\u001b[1;32m   2678\u001b[0m     \u001b[0mtensor\u001b[0m\u001b[0;34m.\u001b[0m\u001b[0m_is_zeros_tensor\u001b[0m \u001b[0;34m=\u001b[0m \u001b[0;32mTrue\u001b[0m\u001b[0;34m\u001b[0m\u001b[0;34m\u001b[0m\u001b[0m\n\u001b[1;32m   2679\u001b[0m     \u001b[0;32mreturn\u001b[0m \u001b[0mtensor\u001b[0m\u001b[0;34m\u001b[0m\u001b[0;34m\u001b[0m\u001b[0m\n",
      "\u001b[0;32m/apps/share64/debian10/anaconda/anaconda-7/lib/python3.8/site-packages/tensorflow/python/ops/array_ops.py\u001b[0m in \u001b[0;36mzeros\u001b[0;34m(shape, dtype, name)\u001b[0m\n\u001b[1;32m   2719\u001b[0m           \u001b[0;31m# Create a constant if it won't be very big. Otherwise create a fill\u001b[0m\u001b[0;34m\u001b[0m\u001b[0;34m\u001b[0m\u001b[0;34m\u001b[0m\u001b[0m\n\u001b[1;32m   2720\u001b[0m           \u001b[0;31m# op to prevent serialized GraphDefs from becoming too large.\u001b[0m\u001b[0;34m\u001b[0m\u001b[0;34m\u001b[0m\u001b[0;34m\u001b[0m\u001b[0m\n\u001b[0;32m-> 2721\u001b[0;31m           \u001b[0moutput\u001b[0m \u001b[0;34m=\u001b[0m \u001b[0m_constant_if_small\u001b[0m\u001b[0;34m(\u001b[0m\u001b[0mzero\u001b[0m\u001b[0;34m,\u001b[0m \u001b[0mshape\u001b[0m\u001b[0;34m,\u001b[0m \u001b[0mdtype\u001b[0m\u001b[0;34m,\u001b[0m \u001b[0mname\u001b[0m\u001b[0;34m)\u001b[0m\u001b[0;34m\u001b[0m\u001b[0;34m\u001b[0m\u001b[0m\n\u001b[0m\u001b[1;32m   2722\u001b[0m           \u001b[0;32mif\u001b[0m \u001b[0moutput\u001b[0m \u001b[0;32mis\u001b[0m \u001b[0;32mnot\u001b[0m \u001b[0;32mNone\u001b[0m\u001b[0;34m:\u001b[0m\u001b[0;34m\u001b[0m\u001b[0;34m\u001b[0m\u001b[0m\n\u001b[1;32m   2723\u001b[0m             \u001b[0;32mreturn\u001b[0m \u001b[0moutput\u001b[0m\u001b[0;34m\u001b[0m\u001b[0;34m\u001b[0m\u001b[0m\n",
      "\u001b[0;32m/apps/share64/debian10/anaconda/anaconda-7/lib/python3.8/site-packages/tensorflow/python/ops/array_ops.py\u001b[0m in \u001b[0;36m_constant_if_small\u001b[0;34m(value, shape, dtype, name)\u001b[0m\n\u001b[1;32m   2660\u001b[0m \u001b[0;32mdef\u001b[0m \u001b[0m_constant_if_small\u001b[0m\u001b[0;34m(\u001b[0m\u001b[0mvalue\u001b[0m\u001b[0;34m,\u001b[0m \u001b[0mshape\u001b[0m\u001b[0;34m,\u001b[0m \u001b[0mdtype\u001b[0m\u001b[0;34m,\u001b[0m \u001b[0mname\u001b[0m\u001b[0;34m)\u001b[0m\u001b[0;34m:\u001b[0m\u001b[0;34m\u001b[0m\u001b[0;34m\u001b[0m\u001b[0m\n\u001b[1;32m   2661\u001b[0m   \u001b[0;32mtry\u001b[0m\u001b[0;34m:\u001b[0m\u001b[0;34m\u001b[0m\u001b[0;34m\u001b[0m\u001b[0m\n\u001b[0;32m-> 2662\u001b[0;31m     \u001b[0;32mif\u001b[0m \u001b[0mnp\u001b[0m\u001b[0;34m.\u001b[0m\u001b[0mprod\u001b[0m\u001b[0;34m(\u001b[0m\u001b[0mshape\u001b[0m\u001b[0;34m)\u001b[0m \u001b[0;34m<\u001b[0m \u001b[0;36m1000\u001b[0m\u001b[0;34m:\u001b[0m\u001b[0;34m\u001b[0m\u001b[0;34m\u001b[0m\u001b[0m\n\u001b[0m\u001b[1;32m   2663\u001b[0m       \u001b[0;32mreturn\u001b[0m \u001b[0mconstant\u001b[0m\u001b[0;34m(\u001b[0m\u001b[0mvalue\u001b[0m\u001b[0;34m,\u001b[0m \u001b[0mshape\u001b[0m\u001b[0;34m=\u001b[0m\u001b[0mshape\u001b[0m\u001b[0;34m,\u001b[0m \u001b[0mdtype\u001b[0m\u001b[0;34m=\u001b[0m\u001b[0mdtype\u001b[0m\u001b[0;34m,\u001b[0m \u001b[0mname\u001b[0m\u001b[0;34m=\u001b[0m\u001b[0mname\u001b[0m\u001b[0;34m)\u001b[0m\u001b[0;34m\u001b[0m\u001b[0;34m\u001b[0m\u001b[0m\n\u001b[1;32m   2664\u001b[0m   \u001b[0;32mexcept\u001b[0m \u001b[0mTypeError\u001b[0m\u001b[0;34m:\u001b[0m\u001b[0;34m\u001b[0m\u001b[0;34m\u001b[0m\u001b[0m\n",
      "\u001b[0;32m<__array_function__ internals>\u001b[0m in \u001b[0;36mprod\u001b[0;34m(*args, **kwargs)\u001b[0m\n",
      "\u001b[0;32m/apps/share64/debian10/anaconda/anaconda-7/lib/python3.8/site-packages/numpy/core/fromnumeric.py\u001b[0m in \u001b[0;36mprod\u001b[0;34m(a, axis, dtype, out, keepdims, initial, where)\u001b[0m\n\u001b[1;32m   3028\u001b[0m     \u001b[0;36m10\u001b[0m\u001b[0;34m\u001b[0m\u001b[0;34m\u001b[0m\u001b[0m\n\u001b[1;32m   3029\u001b[0m     \"\"\"\n\u001b[0;32m-> 3030\u001b[0;31m     return _wrapreduction(a, np.multiply, 'prod', axis, dtype, out,\n\u001b[0m\u001b[1;32m   3031\u001b[0m                           keepdims=keepdims, initial=initial, where=where)\n\u001b[1;32m   3032\u001b[0m \u001b[0;34m\u001b[0m\u001b[0m\n",
      "\u001b[0;32m/apps/share64/debian10/anaconda/anaconda-7/lib/python3.8/site-packages/numpy/core/fromnumeric.py\u001b[0m in \u001b[0;36m_wrapreduction\u001b[0;34m(obj, ufunc, method, axis, dtype, out, **kwargs)\u001b[0m\n\u001b[1;32m     85\u001b[0m                 \u001b[0;32mreturn\u001b[0m \u001b[0mreduction\u001b[0m\u001b[0;34m(\u001b[0m\u001b[0maxis\u001b[0m\u001b[0;34m=\u001b[0m\u001b[0maxis\u001b[0m\u001b[0;34m,\u001b[0m \u001b[0mout\u001b[0m\u001b[0;34m=\u001b[0m\u001b[0mout\u001b[0m\u001b[0;34m,\u001b[0m \u001b[0;34m**\u001b[0m\u001b[0mpasskwargs\u001b[0m\u001b[0;34m)\u001b[0m\u001b[0;34m\u001b[0m\u001b[0;34m\u001b[0m\u001b[0m\n\u001b[1;32m     86\u001b[0m \u001b[0;34m\u001b[0m\u001b[0m\n\u001b[0;32m---> 87\u001b[0;31m     \u001b[0;32mreturn\u001b[0m \u001b[0mufunc\u001b[0m\u001b[0;34m.\u001b[0m\u001b[0mreduce\u001b[0m\u001b[0;34m(\u001b[0m\u001b[0mobj\u001b[0m\u001b[0;34m,\u001b[0m \u001b[0maxis\u001b[0m\u001b[0;34m,\u001b[0m \u001b[0mdtype\u001b[0m\u001b[0;34m,\u001b[0m \u001b[0mout\u001b[0m\u001b[0;34m,\u001b[0m \u001b[0;34m**\u001b[0m\u001b[0mpasskwargs\u001b[0m\u001b[0;34m)\u001b[0m\u001b[0;34m\u001b[0m\u001b[0;34m\u001b[0m\u001b[0m\n\u001b[0m\u001b[1;32m     88\u001b[0m \u001b[0;34m\u001b[0m\u001b[0m\n\u001b[1;32m     89\u001b[0m \u001b[0;34m\u001b[0m\u001b[0m\n",
      "\u001b[0;32m/apps/share64/debian10/anaconda/anaconda-7/lib/python3.8/site-packages/tensorflow/python/framework/ops.py\u001b[0m in \u001b[0;36m__array__\u001b[0;34m(self)\u001b[0m\n\u001b[1;32m    746\u001b[0m \u001b[0;34m\u001b[0m\u001b[0m\n\u001b[1;32m    747\u001b[0m   \u001b[0;32mdef\u001b[0m \u001b[0m__array__\u001b[0m\u001b[0;34m(\u001b[0m\u001b[0mself\u001b[0m\u001b[0;34m)\u001b[0m\u001b[0;34m:\u001b[0m\u001b[0;34m\u001b[0m\u001b[0;34m\u001b[0m\u001b[0m\n\u001b[0;32m--> 748\u001b[0;31m     raise NotImplementedError(\"Cannot convert a symbolic Tensor ({}) to a numpy\"\n\u001b[0m\u001b[1;32m    749\u001b[0m                               \" array.\".format(self.name))\n\u001b[1;32m    750\u001b[0m \u001b[0;34m\u001b[0m\u001b[0m\n",
      "\u001b[0;31mNotImplementedError\u001b[0m: Cannot convert a symbolic Tensor (RNN-decoder-1_2/strided_slice:0) to a numpy array."
     ]
    }
   ],
   "source": [
    "# connecting the VAE model as a graph\n",
    "\n",
    "# cnn encoder layers\n",
    "conv_1_fwd = conv_1_func(smiles_input)\n",
    "conv_2_fwd = conv_2_func(conv_1_fwd)\n",
    "conv_3_fwd = conv_3_func(conv_2_fwd)\n",
    "conv_4_fwd = conv_4_func(conv_3_fwd)\n",
    "\n",
    "# flattening\n",
    "flattened_convs = flatten_func(conv_4_fwd)\n",
    "dense_1_fwd = dense_1_func(flattened_convs)\n",
    "\n",
    "# latent space\n",
    "z_mean = z_mean_func(dense_1_fwd)\n",
    "z_log_var = log_z_func(dense_1_fwd)\n",
    "z = z_func([z_mean, z_log_var])\n",
    "\n",
    "# rnn decoder layers\n",
    "repeat_1_fwd = repeat_1_func(z)\n",
    "gru_1_fwd = gru_1_func(repeat_1_fwd)\n",
    "gru_2_fwd = gru_2_func(gru_1_fwd)\n",
    "gru_3_fwd = gru_3_func(gru_2_fwd)\n",
    "smiles_output = output_func(gru_3_fwd)"
   ]
  },
  {
   "cell_type": "markdown",
   "metadata": {},
   "source": [
    "### View model structure and metadata\n",
    "Now the model is ready to train! But first we will compile the VAE model, then view model metadata, again using the [keras2ascii](https://github.com/stared/keras-sequential-ascii) tool. To compile the model, we will need to define our own VAE loss function."
   ]
  },
  {
   "cell_type": "code",
   "execution_count": null,
   "metadata": {},
   "outputs": [],
   "source": [
    "# vae loss function -- reconstruction loss (cross entropy) plus KL divergence loss against a Gaussian prior\n",
    "# Intuitive meaning for this loss function: \"Reconstruct the data but stay close to a Gaussian\"\n",
    "def vae_loss(x_input, x_predicted):\n",
    "    reconstruction_loss = K.sum(binary_crossentropy(x_input, x_predicted), axis=-1)\n",
    "    reconstruction_loss *= input_dim\n",
    "    kl_loss = 1 + z_log_var - K.square(z_mean) - K.exp(z_log_var)\n",
    "    kl_loss = K.sum(kl_loss, axis=-1)\n",
    "    kl_loss *= -0.5\n",
    "    return K.mean(reconstruction_loss + kl_loss)\n",
    "\n",
    "# create model\n",
    "vae_model = Model(\n",
    "            inputs=[smiles_input],\n",
    "            outputs=[smiles_output]\n",
    ")\n",
    "\n",
    "# compile model\n",
    "vae_model.compile(\n",
    "    optimizer=\"adam\",\n",
    "    loss=vae_loss,\n",
    "    metrics=[\"accuracy\"]\n",
    ")"
   ]
  },
  {
   "cell_type": "code",
   "execution_count": null,
   "metadata": {
    "scrolled": false
   },
   "outputs": [],
   "source": [
    "# view model as a graph\n",
    "keras2ascii(vae_model)"
   ]
  },
  {
   "cell_type": "markdown",
   "metadata": {},
   "source": [
    "### Train VAE\n",
    "\n",
    "When training our VAE, we will see metrics printed after each epoch such as test/train loss and accuracy values."
   ]
  },
  {
   "cell_type": "code",
   "execution_count": null,
   "metadata": {
    "scrolled": true
   },
   "outputs": [],
   "source": [
    "# Reset model and set all layers are trainable\n",
    "vae_model.reset_states()\n",
    "for layer in vae_model.layers:\n",
    "    layer.trainable = True\n",
    "\n",
    "# fit model to training data\n",
    "history = vae_model.fit(\n",
    "    x=X_train,\n",
    "    y=X_train,\n",
    "    epochs=20,\n",
    "    validation_data=(X_test, X_test),\n",
    "    batch_size=64,\n",
    "    verbose=1\n",
    ")"
   ]
  },
  {
   "cell_type": "markdown",
   "metadata": {},
   "source": [
    "Let's view the learning curve for the trained model. \n",
    "\n",
    "This code will generate a plot where we show the test and train errors as a function of epoch (one forward pass and one backward pass of all training examples through the NN).\n",
    "\n",
    "The learning curve will tell us if the model is overfitting or underfitting. "
   ]
  },
  {
   "cell_type": "code",
   "execution_count": null,
   "metadata": {},
   "outputs": [],
   "source": [
    "# plot the learning curve \n",
    "plt.plot(history.history['loss'])\n",
    "plt.plot(history.history['val_loss'])\n",
    "plt.title('Model accuracy')\n",
    "plt.ylabel('Error')\n",
    "plt.xlabel('Epoch')\n",
    "plt.xlim(0,)\n",
    "plt.legend(['Train', 'Validation',], loc='upper left')\n",
    "plt.show()"
   ]
  },
  {
   "cell_type": "markdown",
   "metadata": {},
   "source": [
    "### Create a decoder model and use to generate SMILES from noise\n",
    "\n",
    "Now that we have trained our VAE, we can use the decoding part of the VAE to generate SMILES strings! Let's start by defining our decoder model. Note that this model doesn't need to be compiled since we are not training this model."
   ]
  },
  {
   "cell_type": "code",
   "execution_count": null,
   "metadata": {},
   "outputs": [],
   "source": [
    "# connect the decoder graph\n",
    "decoder_input = Input(shape=(latent_dim,), name=\"decoder_input\")\n",
    "decoder_repeat_1_fwd = repeat_1_func(decoder_input)\n",
    "decoder_gru_1_fwd = gru_1_func(decoder_repeat_1_fwd)\n",
    "decoder_gru_2_fwd = gru_2_func(decoder_gru_1_fwd)\n",
    "decoder_gru_3_fwd = gru_3_func(decoder_gru_2_fwd)\n",
    "decoder_smiles_output = output_func(decoder_gru_3_fwd)\n",
    "\n",
    "# define decoder model\n",
    "decoder_model = Model(\n",
    "    inputs=[decoder_input],\n",
    "    outputs=[decoder_smiles_output]\n",
    ")"
   ]
  },
  {
   "cell_type": "code",
   "execution_count": null,
   "metadata": {
    "scrolled": false
   },
   "outputs": [],
   "source": [
    "# view decoder graph. this should look like a subset of the VAE graph.\n",
    "keras2ascii(decoder_model)"
   ]
  },
  {
   "cell_type": "markdown",
   "metadata": {},
   "source": [
    "Now let's generate SMILES strings! First we will randomly sample from a unit gaussian distribution, feed the random samples into the decoder model, and take the output of the decoder model and convert it back into SMILES characters. Don't be surprised to see strange SMILES strings! We used a very small dataset, and did not train for very long."
   ]
  },
  {
   "cell_type": "code",
   "execution_count": null,
   "metadata": {},
   "outputs": [],
   "source": [
    "for x in range(10):\n",
    "    \n",
    "    # draw from a unit gaussian \n",
    "    decoder_test_input = np.random.normal(0, 1, latent_dim).reshape(1, latent_dim)\n",
    "    decoder_test_output = decoder_model.predict(decoder_test_input)\n",
    "    \n",
    "    decoded_one_hots = np.argmax(decoder_test_output, axis = 2)\n",
    "\n",
    "    SMILES = ''\n",
    "    for char_idx in decoded_one_hots[0]:\n",
    "        if charset[char_idx] in [\"PAD\", \"NULL\"]: \n",
    "            break # Stop decoding if you hit padding or an out-of-vocab character (NULL)\n",
    "        \n",
    "        SMILES = SMILES + charset[char_idx]\n",
    "\n",
    "    print(SMILES)"
   ]
  },
  {
   "cell_type": "markdown",
   "metadata": {},
   "source": [
    "### Save VAE and decoder models\n",
    "We can save/load these models for future use, again using the `save()` and `load_model()` functions from Keras."
   ]
  },
  {
   "cell_type": "code",
   "execution_count": null,
   "metadata": {
    "scrolled": true
   },
   "outputs": [],
   "source": [
    "# save and load the decoder model \n",
    "decoder_model.save(\"decoder_model.hdf5\")\n",
    "loaded_decoder_model = load_model(\"decoder_model.hdf5\")\n",
    "\n",
    "# for VAEs, we must instantiate model w/ same architecture then load weights onto this model\n",
    "vae_model.save_weights(\"vae.hdf5\")\n",
    "loaded_vae_model = vae_model.load_weights(\"vae.hdf5\")"
   ]
  }
 ],
 "metadata": {
  "kernelspec": {
   "display_name": "Python 3",
   "language": "python",
   "name": "python3"
  },
  "language_info": {
   "codemirror_mode": {
    "name": "ipython",
    "version": 3
   },
   "file_extension": ".py",
   "mimetype": "text/x-python",
   "name": "python",
   "nbconvert_exporter": "python",
   "pygments_lexer": "ipython3",
   "version": "3.8.10"
  }
 },
 "nbformat": 4,
 "nbformat_minor": 2
}
