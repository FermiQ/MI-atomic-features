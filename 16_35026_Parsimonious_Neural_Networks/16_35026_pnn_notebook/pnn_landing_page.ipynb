{
 "cells": [
  {
   "cell_type": "markdown",
   "metadata": {},
   "source": [
    "# Discovering classical equations of motion using parsimonious neural networks\n",
    "\n",
    "<i> Saaketh Desai </i> and <i> Alejandro Strachan </i>, School of Materials Engineering, Purdue University\n",
    "\n",
    "These notebooks will demonstrate the use of neural networks and genetic algorithms to discover scientific equations, in this case a discretized version of the classical equations of motion. We call the discovered neural networks as parsimonious neural networks (PNNs) as they are designed not only to reproduce the training and testing datasets, but also learn for the simplest, most interpretable equation possible directly from the data.\n",
    "\n",
    " * **Get started** Click on the links below to begin each tutorial.\n",
    "\n",
    " * **Important** To exit individual tutorials and return to this page, use File -> Close and Halt. \"Terminate Session\" (top right) will kill your entire Jupyter session.\n",
    "\n",
    "\n",
    "### [Designing a parsimonious neural network - non-linear potential:](discover_pnn.ipynb)\n",
    "- Discover the underlying equations for a particle in a non-linear external potential\n",
    "- Combine the Keras and DEAP packages to drive neural network training with genetic algorithms\n",
    "\n",
    "### [Evaluating a parsimonious neural network - non-linear potential:](eval_pnn.ipynb)\n",
    "- Evaluate a PNN model using the metrics defined while training\n",
    "- Check for conservation of energy and time reversibility\n",
    "\n",
    "### [Designing a parsimonious neural network - linear potential:](spring_mass.ipynb)\n",
    "- Train and discover the Verlet integration scheme without using genetic algorithms for this simple case\n",
    "\n",
    "### [Designing a parsimonious neural network - predict melting temperature:](discover_melting.ipynb)\n",
    "- Discover melting laws directly from data\n",
    "\n",
    "### [Evaluating a parsimonious neural network - predict melting temperature:](eval_melting.ipynb)\n",
    "- Evaluate a PNN model to predict the melting temperature"
   ]
  },
  {
   "cell_type": "code",
   "execution_count": null,
   "metadata": {},
   "outputs": [],
   "source": []
  }
 ],
 "metadata": {
  "kernelspec": {
   "display_name": "Python 3",
   "language": "python",
   "name": "python3"
  },
  "language_info": {
   "codemirror_mode": {
    "name": "ipython",
    "version": 3
   },
   "file_extension": ".py",
   "mimetype": "text/x-python",
   "name": "python",
   "nbconvert_exporter": "python",
   "pygments_lexer": "ipython3",
   "version": "3.7.7"
  }
 },
 "nbformat": 4,
 "nbformat_minor": 2
}
